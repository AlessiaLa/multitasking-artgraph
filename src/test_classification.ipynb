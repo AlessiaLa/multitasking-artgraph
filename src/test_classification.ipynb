{
 "cells": [
  {
   "cell_type": "code",
   "execution_count": 1,
   "id": "310ef886",
   "metadata": {},
   "outputs": [],
   "source": [
    "from load_dataset.artgraph import ArtGraph\n",
    "import torch_geometric.transforms as T\n",
    "import numpy as np\n",
    "import pandas as pd\n",
    "from sklearn.model_selection import train_test_split\n",
    "from sklearn.preprocessing import OneHotEncoder\n",
    "import copy\n",
    "import torch\n",
    "from torch_geometric.nn import HeteroConv, GATConv\n",
    "from torch.nn import Linear\n",
    "import torch.nn.functional as F\n",
    "from torch import nn\n",
    "import os\n",
    "import torch.optim as optim\n",
    "from torch.optim import lr_scheduler\n",
    "from tqdm import tqdm\n",
    "from torch.utils.data import DataLoader\n",
    "from model import Model, ModelClassification\n",
    "from torch.utils.data import WeightedRandomSampler\n",
    "\n",
    "import matplotlib.pyplot as plt\n",
    "%matplotlib inline"
   ]
  },
  {
   "cell_type": "code",
   "execution_count": 2,
   "id": "cbb07927",
   "metadata": {},
   "outputs": [],
   "source": [
    "from torch_geometric.seed import seed_everything\n",
    "seed_everything(1)"
   ]
  },
  {
   "cell_type": "code",
   "execution_count": 3,
   "id": "25ccb3cc",
   "metadata": {},
   "outputs": [],
   "source": [
    "from model import Model\n",
    "device = torch.device('cuda' if torch.cuda.is_available() else 'cpu')"
   ]
  },
  {
   "cell_type": "markdown",
   "id": "87d72af4",
   "metadata": {},
   "source": [
    "## UTILS"
   ]
  },
  {
   "cell_type": "code",
   "execution_count": 4,
   "id": "73e23500",
   "metadata": {},
   "outputs": [],
   "source": [
    "from utils.GraphLinkSplitter import GraphLinkSplitter\n",
    "#useful function to avoid frequent generation of the splitted dataset (expensive computational cost)\n",
    "def import_dataset(root, feat, fine_tuning, obj, device, val_size = 0.2, test_size = 0.1):\n",
    "    fine_tuning_s = 'fine-tuning' if fine_tuning else ''\n",
    "    if (not os.path.exists(root)) or (not list(filter(lambda x: x.endswith(f'{obj}_{feat}_{fine_tuning_s}.pt'),os.listdir(root)))):\n",
    "        if not os.path.exists(root):\n",
    "            os.makedirs(root)\n",
    "        artgraph = ArtGraph(root = 'artgraph2multi_task', preprocess='constant', features = feat, fine_tuning=fine_tuning)\n",
    "        data = artgraph[0]\n",
    "        data = T.ToUndirected()(data)\n",
    "        del data[(obj, 'artwork')]\n",
    "        gls = GraphLinkSplitter(on=obj, seed = 1, val_size = val_size, test_size = test_size)\n",
    "        train_data, val_data, test_data = gls.transform(data)\n",
    "        torch.save(train_data, fr'{root}/train_data_{obj}_{feat}_{fine_tuning_s}.pt')\n",
    "        torch.save(val_data, fr'{root}/val_data_{obj}_{feat}_{fine_tuning_s}.pt')\n",
    "        torch.save(test_data, fr'{root}/test_data_{obj}_{feat}_{fine_tuning_s}.pt')\n",
    "    else:\n",
    "        train_data=torch.load(fr'{root}/train_data_{obj}_{feat}_{fine_tuning_s}.pt')\n",
    "        val_data=torch.load(fr'{root}/val_data_{obj}_{feat}_{fine_tuning_s}.pt')\n",
    "        test_data=torch.load(fr'{root}/test_data_{obj}_{feat}_{fine_tuning_s}.pt')\n",
    "    return train_data.to(device), val_data.to(device), test_data.to(device)"
   ]
  },
  {
   "cell_type": "code",
   "execution_count": 5,
   "id": "a06a834a",
   "metadata": {},
   "outputs": [],
   "source": [
    "#class to manage the dataset (artwork features-style)\n",
    "class ClassificationDataSet(torch.utils.data.Dataset):\n",
    "    def __init__(self, graph, sub = 'artwork', obj = 'style'):\n",
    "        self.graph = graph\n",
    "        self.data = graph[sub, obj].edge_label_index.T[graph[sub, obj].edge_label==1]\n",
    "        self.sub = sub\n",
    "        self.obj = obj\n",
    "    \n",
    "    def __len__(self):\n",
    "        return self.data.shape[0]\n",
    "    \n",
    "    def __getitem__(self, idx):\n",
    "        return self.data[idx,0], self.graph[self.sub].x[self.data[idx,0]], self.data[idx, 1]\n",
    "    \n",
    "    def get_links(self):\n",
    "        return pd.DataFrame(self.data.cpu().numpy(), columns = [self.sub, self.obj])"
   ]
  },
  {
   "cell_type": "code",
   "execution_count": 6,
   "id": "ffcbdb79",
   "metadata": {},
   "outputs": [],
   "source": [
    "#to avoid class imbalance\n",
    "def get_sampler(links, obj):\n",
    "    unique, counts = np.unique(links[obj], return_counts = True)\n",
    "    weights = [sum(counts) / c for c in counts]\n",
    "    example_weights = [weights[e] for e in links[obj]]\n",
    "    return WeightedRandomSampler(example_weights, links[obj].shape[0], replacement=True)"
   ]
  },
  {
   "cell_type": "code",
   "execution_count": 7,
   "id": "51b4d7a9",
   "metadata": {},
   "outputs": [],
   "source": [
    "#to manage the training phase\n",
    "class EarlyStopping():\n",
    "    \"\"\"\n",
    "    Early stopping to stop the training when the loss does not improve after\n",
    "    certain epochs.\n",
    "    \"\"\"\n",
    "    def __init__(self, patience=5, min_delta=0.001):\n",
    "        \"\"\"\n",
    "        :param patience: how many epochs to wait before stopping when loss is\n",
    "               not improving\n",
    "        :param min_delta: minimum difference between new loss and old loss for\n",
    "               new loss to be considered as an improvement\n",
    "        \"\"\"\n",
    "        self.patience = patience\n",
    "        self.min_delta = min_delta\n",
    "        self.wait = 0\n",
    "        self.best_loss = None\n",
    "        self.early_stop = False\n",
    "    def __call__(self, current_loss):\n",
    "        if self.best_loss == None:\n",
    "            self.best_loss = current_loss\n",
    "        elif (current_loss - self.best_loss) < -self.min_delta:\n",
    "            self.best_loss = current_loss\n",
    "            self.wait = 0\n",
    "        else:\n",
    "            self.wait = self.wait + 1\n",
    "            print(f\"INFO: Early stopping counter {self.wait} of {self.patience}\")\n",
    "            if self.wait >= self.patience:\n",
    "                self.early_stop = True"
   ]
  },
  {
   "cell_type": "code",
   "execution_count": 8,
   "id": "07633115",
   "metadata": {},
   "outputs": [],
   "source": [
    "#training function\n",
    "#TIPS: if you need a new one, take this structure and change just the internal loop, depending on the task\n",
    "def fine_tune(model, train_loader, validation_loader, criterion, optimizer, scheduler, early_stop, num_epochs = 100,\n",
    "              update_graph = False):\n",
    "    best_model = copy.deepcopy(model)\n",
    "    best_acc = 0.0\n",
    "    best_epoch=0\n",
    "    \n",
    "    stop = False\n",
    "    for epoch in range(1, num_epochs + 1):\n",
    "        if stop:\n",
    "            break\n",
    "        print(f'Epoch {epoch}/{num_epochs}')\n",
    "        print('-'*120)\n",
    "\n",
    "        data_loader = None\n",
    "        # Each epoch has a training and validation phase\n",
    "        for phase in ['train', 'val']:\n",
    "            if phase == 'train':\n",
    "                model.train()  # Set model to training mode\n",
    "                data_loader = train_loader\n",
    "            else:\n",
    "                model.eval()   # Set model to evaluate mode\n",
    "                data_loader = copy.deepcopy(validation_loader)\n",
    "\n",
    "            running_loss = 0.0\n",
    "            running_corrects = 0\n",
    "\n",
    "            # Iterate over data.\n",
    "            for idxs, inputs, labels in tqdm(data_loader):\n",
    "                inputs = inputs.to(device)\n",
    "                labels = labels.to(device)\n",
    "\n",
    "                # zero the parameter gradients\n",
    "                optimizer.zero_grad()\n",
    "\n",
    "                # forward\n",
    "                # track history if only in train\n",
    "                with torch.set_grad_enabled(phase == 'train'):\n",
    "                    outputs = model(data_loader.dataset.graph.x_dict, data_loader.dataset.graph.edge_index_dict, inputs)\n",
    "                    _, preds = torch.max(nn.Softmax(dim = 1)(outputs), 1)\n",
    "                    loss = criterion(outputs, labels)\n",
    "\n",
    "                    # backward + optimize only if in training phase\n",
    "                    if phase == 'train':\n",
    "                        loss.backward()\n",
    "                        optimizer.step()\n",
    "\n",
    "                # statistics\n",
    "                running_loss += loss.item() * inputs.size(0)\n",
    "                running_corrects += torch.sum(preds == labels.data)\n",
    "                \n",
    "                if update_graph and phase == 'val':\n",
    "                    data_loader.dataset.graph[data_loader.dataset.sub, data_loader.dataset.obj].edge_index = \\\n",
    "                        torch.hstack([data_loader.dataset.graph[data_loader.dataset.sub, data_loader.dataset.obj]\\\n",
    "                                                                     .edge_index,\n",
    "                                                                 torch.Tensor([idxs.tolist(), preds.cpu().tolist()]).to(device)]).type(torch.long)\n",
    "                    #artwork-task node\n",
    "            epoch_loss = running_loss / (len(data_loader) * data_loader.batch_size)\n",
    "            epoch_acc = running_corrects.double() / (len(data_loader) * data_loader.batch_size)\n",
    "                \n",
    "            \n",
    "            print(f'{phase} Loss: {epoch_loss:.4f} Acc: {epoch_acc:.4f}')\n",
    "\n",
    "            # deep copy the model\n",
    "            if phase == 'val' and epoch_acc > best_acc:\n",
    "                best_acc = epoch_acc\n",
    "                best_epoch = epoch\n",
    "                best_model = copy.deepcopy(model)\n",
    "                \n",
    "                \n",
    "            if phase == 'val':\n",
    "                scheduler.step(epoch_acc.item())\n",
    "            if phase == 'val':\n",
    "                early_stop(-epoch_acc.item())\n",
    "                print('-'*120, end = '\\n\\n')\n",
    "                stop=early_stop.early_stop\n",
    "                \n",
    "                \n",
    "    print(f'Best val Acc: {best_acc:4f}')\n",
    "    print(f'Best epoch: {best_epoch:03d}')\n",
    "\n",
    "    # load best model \n",
    "    return best_model, best_acc"
   ]
  },
  {
   "cell_type": "code",
   "execution_count": 9,
   "id": "3fd12947",
   "metadata": {},
   "outputs": [],
   "source": [
    "#for metrics\n",
    "def get_topk(k, artwork, probabilities):\n",
    "    p = sorted(list(map(lambda x: (x[1], x[0], ), enumerate(probabilities))), reverse = True)\n",
    "    ans = []\n",
    "    for idx in range(k):\n",
    "        ans.append((artwork, p[idx][1], ))\n",
    "    return ans"
   ]
  },
  {
   "cell_type": "code",
   "execution_count": 10,
   "id": "223cd7d2",
   "metadata": {},
   "outputs": [],
   "source": [
    "#to perform graph update, during the testing phase\n",
    "def add_links(graph, sub, obj, artworks, outputs, topk, device = None):\n",
    "    device = torch.device('cuda' if torch.cuda.is_available() else 'cpu') if device == None else device\n",
    "    work_graph = copy.deepcopy(graph)\n",
    "    zipped = list(zip(artworks.tolist(), outputs.cpu().tolist()))\n",
    "    top_task_pairs = list(map(lambda x: get_topk(topk, x[0], x[1]), zipped))\n",
    "    top_task_pairs = torch.Tensor(top_task_pairs).type(torch.long)\n",
    "    top_task_pairs = top_task_pairs.reshape(top_task_pairs.size(0) * top_task_pairs.size(1), top_task_pairs.size(2)).T\n",
    "    work_graph[sub, obj].edge_index = torch.hstack([work_graph[sub, obj].edge_index.cpu(), top_task_pairs]).to(device)\n",
    "    return work_graph"
   ]
  },
  {
   "cell_type": "code",
   "execution_count": 11,
   "id": "b3482810",
   "metadata": {},
   "outputs": [],
   "source": [
    "#test function\n",
    "def test(model, test_loader, update_graph=True, track_history = False, topk = 1):\n",
    "    corrects = 0\n",
    "    tot_pred = None\n",
    "    tot_lab = []\n",
    "    history = []\n",
    "    for idxs, inputs, labels in tqdm(test_loader):\n",
    "        inputs = inputs.to(device)\n",
    "        labels = labels.to(device)\n",
    "        \n",
    "        with torch.no_grad():\n",
    "            outputs = model(test_loader.dataset.graph.x_dict, test_loader.dataset.graph.edge_index_dict, inputs)\n",
    "            outputs = nn.Softmax(dim = 1)(outputs)\n",
    "            if tot_pred is None:\n",
    "                tot_pred = outputs.cpu()\n",
    "            else:\n",
    "                tot_pred = torch.vstack([tot_pred, outputs.cpu()])\n",
    "            tot_lab += labels.cpu().tolist()\n",
    "        if update_graph:\n",
    "            test_loader.dataset.graph = add_links(test_loader.dataset.graph,\n",
    "                                                     test_loader.dataset.sub,\n",
    "                                                     test_loader.dataset.obj,\n",
    "                                                     idxs,\n",
    "                                                     outputs,\n",
    "                                                     topk,\n",
    "                                                    )\n",
    "        if track_history:\n",
    "            lab_pred = torch.max(outputs, dim = 1)[1]\n",
    "            history.append(((lab_pred == labels).sum() / labels.size(0)).item())\n",
    "    \n",
    "    if track_history:\n",
    "        return tot_lab, tot_pred, history\n",
    "    return tot_lab, tot_pred"
   ]
  },
  {
   "cell_type": "markdown",
   "id": "cafff1ac",
   "metadata": {},
   "source": [
    "## NORMAL LEARNING"
   ]
  },
  {
   "cell_type": "code",
   "execution_count": 12,
   "id": "4ea6a9a2",
   "metadata": {
    "scrolled": true
   },
   "outputs": [
    {
     "name": "stdout",
     "output_type": "stream",
     "text": [
      "**************************************************STYLE**************************************************\n"
     ]
    },
    {
     "name": "stderr",
     "output_type": "stream",
     "text": [
      "D:\\Anaconda\\envs\\tesi\\lib\\site-packages\\torch_geometric\\nn\\conv\\hetero_conv.py:53: UserWarning: There exist node types ({'artwork'}) whose representations do not get updated during message passing as they do not occur as destination type in any edge type. This may lead to unexpected behaviour.\n",
      "  warnings.warn(\n"
     ]
    },
    {
     "name": "stdout",
     "output_type": "stream",
     "text": [
      "Epoch 1/50\n",
      "------------------------------------------------------------------------------------------------------------------------\n"
     ]
    },
    {
     "name": "stderr",
     "output_type": "stream",
     "text": [
      "100%|████████████████████████████████████████████████████████████████████████████████| 357/357 [00:09<00:00, 37.02it/s]\n"
     ]
    },
    {
     "name": "stdout",
     "output_type": "stream",
     "text": [
      "train Loss: 2.0865 Acc: 0.3365\n"
     ]
    },
    {
     "name": "stderr",
     "output_type": "stream",
     "text": [
      "100%|████████████████████████████████████████████████████████████████████████████████| 102/102 [00:01<00:00, 87.40it/s]\n"
     ]
    },
    {
     "name": "stdout",
     "output_type": "stream",
     "text": [
      "val Loss: 1.6145 Acc: 0.4654\n",
      "------------------------------------------------------------------------------------------------------------------------\n",
      "\n",
      "Epoch 2/50\n",
      "------------------------------------------------------------------------------------------------------------------------\n"
     ]
    },
    {
     "name": "stderr",
     "output_type": "stream",
     "text": [
      "100%|████████████████████████████████████████████████████████████████████████████████| 357/357 [00:06<00:00, 56.92it/s]\n"
     ]
    },
    {
     "name": "stdout",
     "output_type": "stream",
     "text": [
      "train Loss: 1.5846 Acc: 0.4712\n"
     ]
    },
    {
     "name": "stderr",
     "output_type": "stream",
     "text": [
      "100%|████████████████████████████████████████████████████████████████████████████████| 102/102 [00:01<00:00, 87.03it/s]\n"
     ]
    },
    {
     "name": "stdout",
     "output_type": "stream",
     "text": [
      "val Loss: 1.4877 Acc: 0.5060\n",
      "------------------------------------------------------------------------------------------------------------------------\n",
      "\n",
      "Epoch 3/50\n",
      "------------------------------------------------------------------------------------------------------------------------\n"
     ]
    },
    {
     "name": "stderr",
     "output_type": "stream",
     "text": [
      "100%|████████████████████████████████████████████████████████████████████████████████| 357/357 [00:06<00:00, 56.54it/s]\n"
     ]
    },
    {
     "name": "stdout",
     "output_type": "stream",
     "text": [
      "train Loss: 1.4719 Acc: 0.5074\n"
     ]
    },
    {
     "name": "stderr",
     "output_type": "stream",
     "text": [
      "100%|████████████████████████████████████████████████████████████████████████████████| 102/102 [00:01<00:00, 91.81it/s]\n"
     ]
    },
    {
     "name": "stdout",
     "output_type": "stream",
     "text": [
      "val Loss: 1.4286 Acc: 0.5178\n",
      "------------------------------------------------------------------------------------------------------------------------\n",
      "\n",
      "Epoch 4/50\n",
      "------------------------------------------------------------------------------------------------------------------------\n"
     ]
    },
    {
     "name": "stderr",
     "output_type": "stream",
     "text": [
      "100%|████████████████████████████████████████████████████████████████████████████████| 357/357 [00:06<00:00, 56.49it/s]\n"
     ]
    },
    {
     "name": "stdout",
     "output_type": "stream",
     "text": [
      "train Loss: 1.4183 Acc: 0.5244\n"
     ]
    },
    {
     "name": "stderr",
     "output_type": "stream",
     "text": [
      "100%|████████████████████████████████████████████████████████████████████████████████| 102/102 [00:01<00:00, 88.31it/s]\n"
     ]
    },
    {
     "name": "stdout",
     "output_type": "stream",
     "text": [
      "val Loss: 1.3838 Acc: 0.5322\n",
      "------------------------------------------------------------------------------------------------------------------------\n",
      "\n",
      "Epoch 5/50\n",
      "------------------------------------------------------------------------------------------------------------------------\n"
     ]
    },
    {
     "name": "stderr",
     "output_type": "stream",
     "text": [
      "100%|████████████████████████████████████████████████████████████████████████████████| 357/357 [00:06<00:00, 56.99it/s]\n"
     ]
    },
    {
     "name": "stdout",
     "output_type": "stream",
     "text": [
      "train Loss: 1.3747 Acc: 0.5367\n"
     ]
    },
    {
     "name": "stderr",
     "output_type": "stream",
     "text": [
      "100%|████████████████████████████████████████████████████████████████████████████████| 102/102 [00:01<00:00, 86.22it/s]\n"
     ]
    },
    {
     "name": "stdout",
     "output_type": "stream",
     "text": [
      "val Loss: 1.3504 Acc: 0.5416\n",
      "------------------------------------------------------------------------------------------------------------------------\n",
      "\n",
      "Epoch 6/50\n",
      "------------------------------------------------------------------------------------------------------------------------\n"
     ]
    },
    {
     "name": "stderr",
     "output_type": "stream",
     "text": [
      "100%|████████████████████████████████████████████████████████████████████████████████| 357/357 [00:06<00:00, 56.48it/s]\n"
     ]
    },
    {
     "name": "stdout",
     "output_type": "stream",
     "text": [
      "train Loss: 1.3379 Acc: 0.5470\n"
     ]
    },
    {
     "name": "stderr",
     "output_type": "stream",
     "text": [
      "100%|████████████████████████████████████████████████████████████████████████████████| 102/102 [00:01<00:00, 90.34it/s]\n"
     ]
    },
    {
     "name": "stdout",
     "output_type": "stream",
     "text": [
      "val Loss: 1.3309 Acc: 0.5538\n",
      "------------------------------------------------------------------------------------------------------------------------\n",
      "\n",
      "Epoch 7/50\n",
      "------------------------------------------------------------------------------------------------------------------------\n"
     ]
    },
    {
     "name": "stderr",
     "output_type": "stream",
     "text": [
      "100%|████████████████████████████████████████████████████████████████████████████████| 357/357 [00:06<00:00, 56.80it/s]\n"
     ]
    },
    {
     "name": "stdout",
     "output_type": "stream",
     "text": [
      "train Loss: 1.3055 Acc: 0.5569\n"
     ]
    },
    {
     "name": "stderr",
     "output_type": "stream",
     "text": [
      "100%|████████████████████████████████████████████████████████████████████████████████| 102/102 [00:01<00:00, 90.99it/s]\n"
     ]
    },
    {
     "name": "stdout",
     "output_type": "stream",
     "text": [
      "val Loss: 1.3285 Acc: 0.5517\n",
      "INFO: Early stopping counter 1 of 7\n",
      "------------------------------------------------------------------------------------------------------------------------\n",
      "\n",
      "Epoch 8/50\n",
      "------------------------------------------------------------------------------------------------------------------------\n"
     ]
    },
    {
     "name": "stderr",
     "output_type": "stream",
     "text": [
      "100%|████████████████████████████████████████████████████████████████████████████████| 357/357 [00:06<00:00, 57.23it/s]\n"
     ]
    },
    {
     "name": "stdout",
     "output_type": "stream",
     "text": [
      "train Loss: 1.2716 Acc: 0.5683\n"
     ]
    },
    {
     "name": "stderr",
     "output_type": "stream",
     "text": [
      "100%|████████████████████████████████████████████████████████████████████████████████| 102/102 [00:01<00:00, 89.24it/s]\n"
     ]
    },
    {
     "name": "stdout",
     "output_type": "stream",
     "text": [
      "val Loss: 1.3023 Acc: 0.5610\n",
      "------------------------------------------------------------------------------------------------------------------------\n",
      "\n",
      "Epoch 9/50\n",
      "------------------------------------------------------------------------------------------------------------------------\n"
     ]
    },
    {
     "name": "stderr",
     "output_type": "stream",
     "text": [
      "100%|████████████████████████████████████████████████████████████████████████████████| 357/357 [00:06<00:00, 56.78it/s]\n"
     ]
    },
    {
     "name": "stdout",
     "output_type": "stream",
     "text": [
      "train Loss: 1.2454 Acc: 0.5771\n"
     ]
    },
    {
     "name": "stderr",
     "output_type": "stream",
     "text": [
      "100%|████████████████████████████████████████████████████████████████████████████████| 102/102 [00:01<00:00, 91.15it/s]\n"
     ]
    },
    {
     "name": "stdout",
     "output_type": "stream",
     "text": [
      "val Loss: 1.2829 Acc: 0.5708\n",
      "------------------------------------------------------------------------------------------------------------------------\n",
      "\n",
      "Epoch 10/50\n",
      "------------------------------------------------------------------------------------------------------------------------\n"
     ]
    },
    {
     "name": "stderr",
     "output_type": "stream",
     "text": [
      "100%|████████████████████████████████████████████████████████████████████████████████| 357/357 [00:06<00:00, 56.20it/s]\n"
     ]
    },
    {
     "name": "stdout",
     "output_type": "stream",
     "text": [
      "train Loss: 1.2187 Acc: 0.5848\n"
     ]
    },
    {
     "name": "stderr",
     "output_type": "stream",
     "text": [
      "100%|████████████████████████████████████████████████████████████████████████████████| 102/102 [00:01<00:00, 88.46it/s]\n"
     ]
    },
    {
     "name": "stdout",
     "output_type": "stream",
     "text": [
      "val Loss: 1.3012 Acc: 0.5645\n",
      "INFO: Early stopping counter 1 of 7\n",
      "------------------------------------------------------------------------------------------------------------------------\n",
      "\n",
      "Epoch 11/50\n",
      "------------------------------------------------------------------------------------------------------------------------\n"
     ]
    },
    {
     "name": "stderr",
     "output_type": "stream",
     "text": [
      "100%|████████████████████████████████████████████████████████████████████████████████| 357/357 [00:06<00:00, 57.05it/s]\n"
     ]
    },
    {
     "name": "stdout",
     "output_type": "stream",
     "text": [
      "train Loss: 1.1884 Acc: 0.5928\n"
     ]
    },
    {
     "name": "stderr",
     "output_type": "stream",
     "text": [
      "100%|████████████████████████████████████████████████████████████████████████████████| 102/102 [00:01<00:00, 90.50it/s]\n"
     ]
    },
    {
     "name": "stdout",
     "output_type": "stream",
     "text": [
      "val Loss: 1.2681 Acc: 0.5690\n",
      "INFO: Early stopping counter 2 of 7\n",
      "------------------------------------------------------------------------------------------------------------------------\n",
      "\n",
      "Epoch 12/50\n",
      "------------------------------------------------------------------------------------------------------------------------\n"
     ]
    },
    {
     "name": "stderr",
     "output_type": "stream",
     "text": [
      "100%|████████████████████████████████████████████████████████████████████████████████| 357/357 [00:06<00:00, 56.50it/s]\n"
     ]
    },
    {
     "name": "stdout",
     "output_type": "stream",
     "text": [
      "train Loss: 1.1658 Acc: 0.6009\n"
     ]
    },
    {
     "name": "stderr",
     "output_type": "stream",
     "text": [
      "100%|████████████████████████████████████████████████████████████████████████████████| 102/102 [00:01<00:00, 89.63it/s]\n"
     ]
    },
    {
     "name": "stdout",
     "output_type": "stream",
     "text": [
      "val Loss: 1.2705 Acc: 0.5747\n",
      "------------------------------------------------------------------------------------------------------------------------\n",
      "\n",
      "Epoch 13/50\n",
      "------------------------------------------------------------------------------------------------------------------------\n"
     ]
    },
    {
     "name": "stderr",
     "output_type": "stream",
     "text": [
      "100%|████████████████████████████████████████████████████████████████████████████████| 357/357 [00:06<00:00, 55.63it/s]\n"
     ]
    },
    {
     "name": "stdout",
     "output_type": "stream",
     "text": [
      "train Loss: 1.1381 Acc: 0.6111\n"
     ]
    },
    {
     "name": "stderr",
     "output_type": "stream",
     "text": [
      "100%|████████████████████████████████████████████████████████████████████████████████| 102/102 [00:01<00:00, 88.38it/s]\n"
     ]
    },
    {
     "name": "stdout",
     "output_type": "stream",
     "text": [
      "val Loss: 1.2582 Acc: 0.5751\n",
      "------------------------------------------------------------------------------------------------------------------------\n",
      "\n",
      "Epoch 14/50\n",
      "------------------------------------------------------------------------------------------------------------------------\n"
     ]
    },
    {
     "name": "stderr",
     "output_type": "stream",
     "text": [
      "100%|████████████████████████████████████████████████████████████████████████████████| 357/357 [00:06<00:00, 55.49it/s]\n"
     ]
    },
    {
     "name": "stdout",
     "output_type": "stream",
     "text": [
      "train Loss: 1.1157 Acc: 0.6150\n"
     ]
    },
    {
     "name": "stderr",
     "output_type": "stream",
     "text": [
      "100%|████████████████████████████████████████████████████████████████████████████████| 102/102 [00:01<00:00, 88.08it/s]\n"
     ]
    },
    {
     "name": "stdout",
     "output_type": "stream",
     "text": [
      "val Loss: 1.2159 Acc: 0.5857\n",
      "------------------------------------------------------------------------------------------------------------------------\n",
      "\n",
      "Epoch 15/50\n",
      "------------------------------------------------------------------------------------------------------------------------\n"
     ]
    },
    {
     "name": "stderr",
     "output_type": "stream",
     "text": [
      "100%|████████████████████████████████████████████████████████████████████████████████| 357/357 [00:06<00:00, 56.23it/s]\n"
     ]
    },
    {
     "name": "stdout",
     "output_type": "stream",
     "text": [
      "train Loss: 1.0890 Acc: 0.6257\n"
     ]
    },
    {
     "name": "stderr",
     "output_type": "stream",
     "text": [
      "100%|████████████████████████████████████████████████████████████████████████████████| 102/102 [00:01<00:00, 90.42it/s]\n"
     ]
    },
    {
     "name": "stdout",
     "output_type": "stream",
     "text": [
      "val Loss: 1.2296 Acc: 0.5847\n",
      "INFO: Early stopping counter 1 of 7\n",
      "------------------------------------------------------------------------------------------------------------------------\n",
      "\n",
      "Epoch 16/50\n",
      "------------------------------------------------------------------------------------------------------------------------\n"
     ]
    },
    {
     "name": "stderr",
     "output_type": "stream",
     "text": [
      "100%|████████████████████████████████████████████████████████████████████████████████| 357/357 [00:06<00:00, 55.07it/s]\n"
     ]
    },
    {
     "name": "stdout",
     "output_type": "stream",
     "text": [
      "train Loss: 1.0677 Acc: 0.6309\n"
     ]
    },
    {
     "name": "stderr",
     "output_type": "stream",
     "text": [
      "100%|████████████████████████████████████████████████████████████████████████████████| 102/102 [00:01<00:00, 86.44it/s]\n"
     ]
    },
    {
     "name": "stdout",
     "output_type": "stream",
     "text": [
      "val Loss: 1.2147 Acc: 0.5878\n",
      "------------------------------------------------------------------------------------------------------------------------\n",
      "\n",
      "Epoch 17/50\n",
      "------------------------------------------------------------------------------------------------------------------------\n"
     ]
    },
    {
     "name": "stderr",
     "output_type": "stream",
     "text": [
      "100%|████████████████████████████████████████████████████████████████████████████████| 357/357 [00:06<00:00, 55.36it/s]\n"
     ]
    },
    {
     "name": "stdout",
     "output_type": "stream",
     "text": [
      "train Loss: 1.0407 Acc: 0.6416\n"
     ]
    },
    {
     "name": "stderr",
     "output_type": "stream",
     "text": [
      "100%|████████████████████████████████████████████████████████████████████████████████| 102/102 [00:01<00:00, 87.78it/s]\n"
     ]
    },
    {
     "name": "stdout",
     "output_type": "stream",
     "text": [
      "val Loss: 1.2088 Acc: 0.5915\n",
      "------------------------------------------------------------------------------------------------------------------------\n",
      "\n",
      "Epoch 18/50\n",
      "------------------------------------------------------------------------------------------------------------------------\n"
     ]
    },
    {
     "name": "stderr",
     "output_type": "stream",
     "text": [
      "100%|████████████████████████████████████████████████████████████████████████████████| 357/357 [00:06<00:00, 55.46it/s]\n"
     ]
    },
    {
     "name": "stdout",
     "output_type": "stream",
     "text": [
      "train Loss: 1.0157 Acc: 0.6484\n"
     ]
    },
    {
     "name": "stderr",
     "output_type": "stream",
     "text": [
      "100%|████████████████████████████████████████████████████████████████████████████████| 102/102 [00:01<00:00, 89.24it/s]\n"
     ]
    },
    {
     "name": "stdout",
     "output_type": "stream",
     "text": [
      "val Loss: 1.2143 Acc: 0.5916\n",
      "------------------------------------------------------------------------------------------------------------------------\n",
      "\n",
      "Epoch 19/50\n",
      "------------------------------------------------------------------------------------------------------------------------\n"
     ]
    },
    {
     "name": "stderr",
     "output_type": "stream",
     "text": [
      "100%|████████████████████████████████████████████████████████████████████████████████| 357/357 [00:06<00:00, 56.89it/s]\n"
     ]
    },
    {
     "name": "stdout",
     "output_type": "stream",
     "text": [
      "train Loss: 0.9984 Acc: 0.6544\n"
     ]
    },
    {
     "name": "stderr",
     "output_type": "stream",
     "text": [
      "100%|████████████████████████████████████████████████████████████████████████████████| 102/102 [00:01<00:00, 86.66it/s]\n"
     ]
    },
    {
     "name": "stdout",
     "output_type": "stream",
     "text": [
      "val Loss: 1.2269 Acc: 0.5844\n",
      "INFO: Early stopping counter 1 of 7\n",
      "------------------------------------------------------------------------------------------------------------------------\n",
      "\n",
      "Epoch 20/50\n",
      "------------------------------------------------------------------------------------------------------------------------\n"
     ]
    },
    {
     "name": "stderr",
     "output_type": "stream",
     "text": [
      "100%|████████████████████████████████████████████████████████████████████████████████| 357/357 [00:06<00:00, 54.94it/s]\n"
     ]
    },
    {
     "name": "stdout",
     "output_type": "stream",
     "text": [
      "train Loss: 0.9742 Acc: 0.6624\n"
     ]
    },
    {
     "name": "stderr",
     "output_type": "stream",
     "text": [
      "100%|████████████████████████████████████████████████████████████████████████████████| 102/102 [00:01<00:00, 87.17it/s]\n"
     ]
    },
    {
     "name": "stdout",
     "output_type": "stream",
     "text": [
      "val Loss: 1.1742 Acc: 0.6060\n",
      "------------------------------------------------------------------------------------------------------------------------\n",
      "\n",
      "Epoch 21/50\n",
      "------------------------------------------------------------------------------------------------------------------------\n"
     ]
    },
    {
     "name": "stderr",
     "output_type": "stream",
     "text": [
      "100%|████████████████████████████████████████████████████████████████████████████████| 357/357 [00:06<00:00, 55.73it/s]\n"
     ]
    },
    {
     "name": "stdout",
     "output_type": "stream",
     "text": [
      "train Loss: 0.9514 Acc: 0.6695\n"
     ]
    },
    {
     "name": "stderr",
     "output_type": "stream",
     "text": [
      "100%|████████████████████████████████████████████████████████████████████████████████| 102/102 [00:01<00:00, 88.00it/s]\n"
     ]
    },
    {
     "name": "stdout",
     "output_type": "stream",
     "text": [
      "val Loss: 1.2350 Acc: 0.5846\n",
      "INFO: Early stopping counter 1 of 7\n",
      "------------------------------------------------------------------------------------------------------------------------\n",
      "\n",
      "Epoch 22/50\n",
      "------------------------------------------------------------------------------------------------------------------------\n"
     ]
    },
    {
     "name": "stderr",
     "output_type": "stream",
     "text": [
      "100%|████████████████████████████████████████████████████████████████████████████████| 357/357 [00:06<00:00, 56.03it/s]\n"
     ]
    },
    {
     "name": "stdout",
     "output_type": "stream",
     "text": [
      "train Loss: 0.9234 Acc: 0.6782\n"
     ]
    },
    {
     "name": "stderr",
     "output_type": "stream",
     "text": [
      "100%|████████████████████████████████████████████████████████████████████████████████| 102/102 [00:01<00:00, 89.94it/s]\n"
     ]
    },
    {
     "name": "stdout",
     "output_type": "stream",
     "text": [
      "val Loss: 1.1935 Acc: 0.6015\n",
      "INFO: Early stopping counter 2 of 7\n",
      "------------------------------------------------------------------------------------------------------------------------\n",
      "\n",
      "Epoch 23/50\n",
      "------------------------------------------------------------------------------------------------------------------------\n"
     ]
    },
    {
     "name": "stderr",
     "output_type": "stream",
     "text": [
      "100%|████████████████████████████████████████████████████████████████████████████████| 357/357 [00:06<00:00, 56.49it/s]\n"
     ]
    },
    {
     "name": "stdout",
     "output_type": "stream",
     "text": [
      "train Loss: 0.9068 Acc: 0.6829\n"
     ]
    },
    {
     "name": "stderr",
     "output_type": "stream",
     "text": [
      "100%|████████████████████████████████████████████████████████████████████████████████| 102/102 [00:01<00:00, 88.23it/s]\n"
     ]
    },
    {
     "name": "stdout",
     "output_type": "stream",
     "text": [
      "val Loss: 1.2008 Acc: 0.5987\n",
      "Epoch 00023: reducing learning rate of group 0 to 5.0000e-05.\n",
      "INFO: Early stopping counter 3 of 7\n",
      "------------------------------------------------------------------------------------------------------------------------\n",
      "\n",
      "Epoch 24/50\n",
      "------------------------------------------------------------------------------------------------------------------------\n"
     ]
    },
    {
     "name": "stderr",
     "output_type": "stream",
     "text": [
      "100%|████████████████████████████████████████████████████████████████████████████████| 357/357 [00:06<00:00, 55.90it/s]\n"
     ]
    },
    {
     "name": "stdout",
     "output_type": "stream",
     "text": [
      "train Loss: 0.8431 Acc: 0.7052\n"
     ]
    },
    {
     "name": "stderr",
     "output_type": "stream",
     "text": [
      "100%|████████████████████████████████████████████████████████████████████████████████| 102/102 [00:01<00:00, 89.63it/s]\n"
     ]
    },
    {
     "name": "stdout",
     "output_type": "stream",
     "text": [
      "val Loss: 1.1483 Acc: 0.6197\n",
      "------------------------------------------------------------------------------------------------------------------------\n",
      "\n",
      "Epoch 25/50\n",
      "------------------------------------------------------------------------------------------------------------------------\n"
     ]
    },
    {
     "name": "stderr",
     "output_type": "stream",
     "text": [
      "100%|████████████████████████████████████████████████████████████████████████████████| 357/357 [00:06<00:00, 56.50it/s]\n"
     ]
    },
    {
     "name": "stdout",
     "output_type": "stream",
     "text": [
      "train Loss: 0.8244 Acc: 0.7125\n"
     ]
    },
    {
     "name": "stderr",
     "output_type": "stream",
     "text": [
      "100%|████████████████████████████████████████████████████████████████████████████████| 102/102 [00:01<00:00, 88.92it/s]\n"
     ]
    },
    {
     "name": "stdout",
     "output_type": "stream",
     "text": [
      "val Loss: 1.1415 Acc: 0.6215\n",
      "------------------------------------------------------------------------------------------------------------------------\n",
      "\n",
      "Epoch 26/50\n",
      "------------------------------------------------------------------------------------------------------------------------\n"
     ]
    },
    {
     "name": "stderr",
     "output_type": "stream",
     "text": [
      "100%|████████████████████████████████████████████████████████████████████████████████| 357/357 [00:06<00:00, 56.35it/s]\n"
     ]
    },
    {
     "name": "stdout",
     "output_type": "stream",
     "text": [
      "train Loss: 0.7998 Acc: 0.7197\n"
     ]
    },
    {
     "name": "stderr",
     "output_type": "stream",
     "text": [
      "100%|████████████████████████████████████████████████████████████████████████████████| 102/102 [00:01<00:00, 85.71it/s]\n"
     ]
    },
    {
     "name": "stdout",
     "output_type": "stream",
     "text": [
      "val Loss: 1.1489 Acc: 0.6225\n",
      "------------------------------------------------------------------------------------------------------------------------\n",
      "\n",
      "Epoch 27/50\n",
      "------------------------------------------------------------------------------------------------------------------------\n"
     ]
    },
    {
     "name": "stderr",
     "output_type": "stream",
     "text": [
      "100%|████████████████████████████████████████████████████████████████████████████████| 357/357 [00:06<00:00, 56.32it/s]\n"
     ]
    },
    {
     "name": "stdout",
     "output_type": "stream",
     "text": [
      "train Loss: 0.7842 Acc: 0.7238\n"
     ]
    },
    {
     "name": "stderr",
     "output_type": "stream",
     "text": [
      "100%|████████████████████████████████████████████████████████████████████████████████| 102/102 [00:01<00:00, 89.00it/s]\n"
     ]
    },
    {
     "name": "stdout",
     "output_type": "stream",
     "text": [
      "val Loss: 1.1465 Acc: 0.6236\n",
      "------------------------------------------------------------------------------------------------------------------------\n",
      "\n",
      "Epoch 28/50\n",
      "------------------------------------------------------------------------------------------------------------------------\n"
     ]
    },
    {
     "name": "stderr",
     "output_type": "stream",
     "text": [
      "100%|████████████████████████████████████████████████████████████████████████████████| 357/357 [00:06<00:00, 54.71it/s]\n"
     ]
    },
    {
     "name": "stdout",
     "output_type": "stream",
     "text": [
      "train Loss: 0.7669 Acc: 0.7296\n"
     ]
    },
    {
     "name": "stderr",
     "output_type": "stream",
     "text": [
      "100%|████████████████████████████████████████████████████████████████████████████████| 102/102 [00:01<00:00, 89.55it/s]\n"
     ]
    },
    {
     "name": "stdout",
     "output_type": "stream",
     "text": [
      "val Loss: 1.1482 Acc: 0.6255\n",
      "------------------------------------------------------------------------------------------------------------------------\n",
      "\n",
      "Epoch 29/50\n",
      "------------------------------------------------------------------------------------------------------------------------\n"
     ]
    },
    {
     "name": "stderr",
     "output_type": "stream",
     "text": [
      "100%|████████████████████████████████████████████████████████████████████████████████| 357/357 [00:06<00:00, 55.84it/s]\n"
     ]
    },
    {
     "name": "stdout",
     "output_type": "stream",
     "text": [
      "train Loss: 0.7482 Acc: 0.7367\n"
     ]
    },
    {
     "name": "stderr",
     "output_type": "stream",
     "text": [
      "100%|████████████████████████████████████████████████████████████████████████████████| 102/102 [00:01<00:00, 87.62it/s]\n"
     ]
    },
    {
     "name": "stdout",
     "output_type": "stream",
     "text": [
      "val Loss: 1.1628 Acc: 0.6268\n",
      "------------------------------------------------------------------------------------------------------------------------\n",
      "\n",
      "Epoch 30/50\n",
      "------------------------------------------------------------------------------------------------------------------------\n"
     ]
    },
    {
     "name": "stderr",
     "output_type": "stream",
     "text": [
      "100%|████████████████████████████████████████████████████████████████████████████████| 357/357 [00:06<00:00, 56.45it/s]\n"
     ]
    },
    {
     "name": "stdout",
     "output_type": "stream",
     "text": [
      "train Loss: 0.7339 Acc: 0.7410\n"
     ]
    },
    {
     "name": "stderr",
     "output_type": "stream",
     "text": [
      "100%|████████████████████████████████████████████████████████████████████████████████| 102/102 [00:01<00:00, 87.47it/s]\n"
     ]
    },
    {
     "name": "stdout",
     "output_type": "stream",
     "text": [
      "val Loss: 1.1815 Acc: 0.6216\n",
      "INFO: Early stopping counter 1 of 7\n",
      "------------------------------------------------------------------------------------------------------------------------\n",
      "\n",
      "Epoch 31/50\n",
      "------------------------------------------------------------------------------------------------------------------------\n"
     ]
    },
    {
     "name": "stderr",
     "output_type": "stream",
     "text": [
      "100%|████████████████████████████████████████████████████████████████████████████████| 357/357 [00:06<00:00, 54.86it/s]\n"
     ]
    },
    {
     "name": "stdout",
     "output_type": "stream",
     "text": [
      "train Loss: 0.7170 Acc: 0.7442\n"
     ]
    },
    {
     "name": "stderr",
     "output_type": "stream",
     "text": [
      "100%|████████████████████████████████████████████████████████████████████████████████| 102/102 [00:01<00:00, 84.43it/s]\n"
     ]
    },
    {
     "name": "stdout",
     "output_type": "stream",
     "text": [
      "val Loss: 1.1747 Acc: 0.6232\n",
      "INFO: Early stopping counter 2 of 7\n",
      "------------------------------------------------------------------------------------------------------------------------\n",
      "\n",
      "Epoch 32/50\n",
      "------------------------------------------------------------------------------------------------------------------------\n"
     ]
    },
    {
     "name": "stderr",
     "output_type": "stream",
     "text": [
      "100%|████████████████████████████████████████████████████████████████████████████████| 357/357 [00:06<00:00, 54.77it/s]\n"
     ]
    },
    {
     "name": "stdout",
     "output_type": "stream",
     "text": [
      "train Loss: 0.7015 Acc: 0.7534\n"
     ]
    },
    {
     "name": "stderr",
     "output_type": "stream",
     "text": [
      "100%|████████████████████████████████████████████████████████████████████████████████| 102/102 [00:01<00:00, 85.35it/s]\n"
     ]
    },
    {
     "name": "stdout",
     "output_type": "stream",
     "text": [
      "val Loss: 1.1875 Acc: 0.6239\n",
      "Epoch 00032: reducing learning rate of group 0 to 2.5000e-05.\n",
      "INFO: Early stopping counter 3 of 7\n",
      "------------------------------------------------------------------------------------------------------------------------\n",
      "\n",
      "Epoch 33/50\n",
      "------------------------------------------------------------------------------------------------------------------------\n"
     ]
    },
    {
     "name": "stderr",
     "output_type": "stream",
     "text": [
      "100%|████████████████████████████████████████████████████████████████████████████████| 357/357 [00:06<00:00, 54.76it/s]\n"
     ]
    },
    {
     "name": "stdout",
     "output_type": "stream",
     "text": [
      "train Loss: 0.6727 Acc: 0.7599\n"
     ]
    },
    {
     "name": "stderr",
     "output_type": "stream",
     "text": [
      "100%|████████████████████████████████████████████████████████████████████████████████| 102/102 [00:01<00:00, 85.64it/s]\n"
     ]
    },
    {
     "name": "stdout",
     "output_type": "stream",
     "text": [
      "val Loss: 1.1676 Acc: 0.6349\n",
      "------------------------------------------------------------------------------------------------------------------------\n",
      "\n",
      "Epoch 34/50\n",
      "------------------------------------------------------------------------------------------------------------------------\n"
     ]
    },
    {
     "name": "stderr",
     "output_type": "stream",
     "text": [
      "100%|████████████████████████████████████████████████████████████████████████████████| 357/357 [00:06<00:00, 56.28it/s]\n"
     ]
    },
    {
     "name": "stdout",
     "output_type": "stream",
     "text": [
      "train Loss: 0.6609 Acc: 0.7667\n"
     ]
    },
    {
     "name": "stderr",
     "output_type": "stream",
     "text": [
      "100%|████████████████████████████████████████████████████████████████████████████████| 102/102 [00:01<00:00, 90.50it/s]\n"
     ]
    },
    {
     "name": "stdout",
     "output_type": "stream",
     "text": [
      "val Loss: 1.1689 Acc: 0.6337\n",
      "INFO: Early stopping counter 1 of 7\n",
      "------------------------------------------------------------------------------------------------------------------------\n",
      "\n",
      "Epoch 35/50\n",
      "------------------------------------------------------------------------------------------------------------------------\n"
     ]
    },
    {
     "name": "stderr",
     "output_type": "stream",
     "text": [
      "100%|████████████████████████████████████████████████████████████████████████████████| 357/357 [00:06<00:00, 54.90it/s]\n"
     ]
    },
    {
     "name": "stdout",
     "output_type": "stream",
     "text": [
      "train Loss: 0.6500 Acc: 0.7706\n"
     ]
    },
    {
     "name": "stderr",
     "output_type": "stream",
     "text": [
      "100%|████████████████████████████████████████████████████████████████████████████████| 102/102 [00:01<00:00, 85.35it/s]\n"
     ]
    },
    {
     "name": "stdout",
     "output_type": "stream",
     "text": [
      "val Loss: 1.1867 Acc: 0.6330\n",
      "INFO: Early stopping counter 2 of 7\n",
      "------------------------------------------------------------------------------------------------------------------------\n",
      "\n",
      "Epoch 36/50\n",
      "------------------------------------------------------------------------------------------------------------------------\n"
     ]
    },
    {
     "name": "stderr",
     "output_type": "stream",
     "text": [
      "100%|████████████████████████████████████████████████████████████████████████████████| 357/357 [00:06<00:00, 56.80it/s]\n"
     ]
    },
    {
     "name": "stdout",
     "output_type": "stream",
     "text": [
      "train Loss: 0.6416 Acc: 0.7719\n"
     ]
    },
    {
     "name": "stderr",
     "output_type": "stream",
     "text": [
      "100%|████████████████████████████████████████████████████████████████████████████████| 102/102 [00:01<00:00, 89.31it/s]\n"
     ]
    },
    {
     "name": "stdout",
     "output_type": "stream",
     "text": [
      "val Loss: 1.1790 Acc: 0.6304\n",
      "Epoch 00036: reducing learning rate of group 0 to 1.2500e-05.\n",
      "INFO: Early stopping counter 3 of 7\n",
      "------------------------------------------------------------------------------------------------------------------------\n",
      "\n",
      "Epoch 37/50\n",
      "------------------------------------------------------------------------------------------------------------------------\n"
     ]
    },
    {
     "name": "stderr",
     "output_type": "stream",
     "text": [
      "100%|████████████████████████████████████████████████████████████████████████████████| 357/357 [00:06<00:00, 56.92it/s]\n"
     ]
    },
    {
     "name": "stdout",
     "output_type": "stream",
     "text": [
      "train Loss: 0.6363 Acc: 0.7741\n"
     ]
    },
    {
     "name": "stderr",
     "output_type": "stream",
     "text": [
      "100%|████████████████████████████████████████████████████████████████████████████████| 102/102 [00:01<00:00, 90.91it/s]\n"
     ]
    },
    {
     "name": "stdout",
     "output_type": "stream",
     "text": [
      "val Loss: 1.1610 Acc: 0.6358\n",
      "------------------------------------------------------------------------------------------------------------------------\n",
      "\n",
      "Epoch 38/50\n",
      "------------------------------------------------------------------------------------------------------------------------\n"
     ]
    },
    {
     "name": "stderr",
     "output_type": "stream",
     "text": [
      "100%|████████████████████████████████████████████████████████████████████████████████| 357/357 [00:06<00:00, 56.39it/s]\n"
     ]
    },
    {
     "name": "stdout",
     "output_type": "stream",
     "text": [
      "train Loss: 0.6228 Acc: 0.7803\n"
     ]
    },
    {
     "name": "stderr",
     "output_type": "stream",
     "text": [
      "100%|████████████████████████████████████████████████████████████████████████████████| 102/102 [00:01<00:00, 90.10it/s]\n"
     ]
    },
    {
     "name": "stdout",
     "output_type": "stream",
     "text": [
      "val Loss: 1.1679 Acc: 0.6362\n",
      "------------------------------------------------------------------------------------------------------------------------\n",
      "\n",
      "Epoch 39/50\n",
      "------------------------------------------------------------------------------------------------------------------------\n"
     ]
    },
    {
     "name": "stderr",
     "output_type": "stream",
     "text": [
      "100%|████████████████████████████████████████████████████████████████████████████████| 357/357 [00:06<00:00, 55.23it/s]\n"
     ]
    },
    {
     "name": "stdout",
     "output_type": "stream",
     "text": [
      "train Loss: 0.6212 Acc: 0.7792\n"
     ]
    },
    {
     "name": "stderr",
     "output_type": "stream",
     "text": [
      "100%|████████████████████████████████████████████████████████████████████████████████| 102/102 [00:01<00:00, 87.32it/s]\n"
     ]
    },
    {
     "name": "stdout",
     "output_type": "stream",
     "text": [
      "val Loss: 1.1672 Acc: 0.6369\n",
      "------------------------------------------------------------------------------------------------------------------------\n",
      "\n",
      "Epoch 40/50\n",
      "------------------------------------------------------------------------------------------------------------------------\n"
     ]
    },
    {
     "name": "stderr",
     "output_type": "stream",
     "text": [
      "100%|████████████████████████████████████████████████████████████████████████████████| 357/357 [00:06<00:00, 56.18it/s]\n"
     ]
    },
    {
     "name": "stdout",
     "output_type": "stream",
     "text": [
      "train Loss: 0.6167 Acc: 0.7806\n"
     ]
    },
    {
     "name": "stderr",
     "output_type": "stream",
     "text": [
      "100%|████████████████████████████████████████████████████████████████████████████████| 102/102 [00:01<00:00, 87.17it/s]\n"
     ]
    },
    {
     "name": "stdout",
     "output_type": "stream",
     "text": [
      "val Loss: 1.1648 Acc: 0.6350\n",
      "INFO: Early stopping counter 1 of 7\n",
      "------------------------------------------------------------------------------------------------------------------------\n",
      "\n",
      "Epoch 41/50\n",
      "------------------------------------------------------------------------------------------------------------------------\n"
     ]
    },
    {
     "name": "stderr",
     "output_type": "stream",
     "text": [
      "100%|████████████████████████████████████████████████████████████████████████████████| 357/357 [00:06<00:00, 55.73it/s]\n"
     ]
    },
    {
     "name": "stdout",
     "output_type": "stream",
     "text": [
      "train Loss: 0.6146 Acc: 0.7812\n"
     ]
    },
    {
     "name": "stderr",
     "output_type": "stream",
     "text": [
      "100%|████████████████████████████████████████████████████████████████████████████████| 102/102 [00:01<00:00, 86.51it/s]\n"
     ]
    },
    {
     "name": "stdout",
     "output_type": "stream",
     "text": [
      "val Loss: 1.1716 Acc: 0.6343\n",
      "INFO: Early stopping counter 2 of 7\n",
      "------------------------------------------------------------------------------------------------------------------------\n",
      "\n",
      "Epoch 42/50\n",
      "------------------------------------------------------------------------------------------------------------------------\n"
     ]
    },
    {
     "name": "stderr",
     "output_type": "stream",
     "text": [
      "100%|████████████████████████████████████████████████████████████████████████████████| 357/357 [00:06<00:00, 55.75it/s]\n"
     ]
    },
    {
     "name": "stdout",
     "output_type": "stream",
     "text": [
      "train Loss: 0.6021 Acc: 0.7858\n"
     ]
    },
    {
     "name": "stderr",
     "output_type": "stream",
     "text": [
      "100%|████████████████████████████████████████████████████████████████████████████████| 102/102 [00:01<00:00, 88.46it/s]\n"
     ]
    },
    {
     "name": "stdout",
     "output_type": "stream",
     "text": [
      "val Loss: 1.1755 Acc: 0.6370\n",
      "------------------------------------------------------------------------------------------------------------------------\n",
      "\n",
      "Epoch 43/50\n",
      "------------------------------------------------------------------------------------------------------------------------\n"
     ]
    },
    {
     "name": "stderr",
     "output_type": "stream",
     "text": [
      "100%|████████████████████████████████████████████████████████████████████████████████| 357/357 [00:06<00:00, 56.04it/s]\n"
     ]
    },
    {
     "name": "stdout",
     "output_type": "stream",
     "text": [
      "train Loss: 0.5989 Acc: 0.7868\n"
     ]
    },
    {
     "name": "stderr",
     "output_type": "stream",
     "text": [
      "100%|████████████████████████████████████████████████████████████████████████████████| 102/102 [00:01<00:00, 86.22it/s]\n"
     ]
    },
    {
     "name": "stdout",
     "output_type": "stream",
     "text": [
      "val Loss: 1.1741 Acc: 0.6373\n",
      "------------------------------------------------------------------------------------------------------------------------\n",
      "\n",
      "Epoch 44/50\n",
      "------------------------------------------------------------------------------------------------------------------------\n"
     ]
    },
    {
     "name": "stderr",
     "output_type": "stream",
     "text": [
      "100%|████████████████████████████████████████████████████████████████████████████████| 357/357 [00:06<00:00, 55.06it/s]\n"
     ]
    },
    {
     "name": "stdout",
     "output_type": "stream",
     "text": [
      "train Loss: 0.5922 Acc: 0.7909\n"
     ]
    },
    {
     "name": "stderr",
     "output_type": "stream",
     "text": [
      "100%|████████████████████████████████████████████████████████████████████████████████| 102/102 [00:01<00:00, 87.85it/s]\n"
     ]
    },
    {
     "name": "stdout",
     "output_type": "stream",
     "text": [
      "val Loss: 1.1786 Acc: 0.6383\n",
      "------------------------------------------------------------------------------------------------------------------------\n",
      "\n",
      "Epoch 45/50\n",
      "------------------------------------------------------------------------------------------------------------------------\n"
     ]
    },
    {
     "name": "stderr",
     "output_type": "stream",
     "text": [
      "100%|████████████████████████████████████████████████████████████████████████████████| 357/357 [00:06<00:00, 55.72it/s]\n"
     ]
    },
    {
     "name": "stdout",
     "output_type": "stream",
     "text": [
      "train Loss: 0.5898 Acc: 0.7912\n"
     ]
    },
    {
     "name": "stderr",
     "output_type": "stream",
     "text": [
      "100%|████████████████████████████████████████████████████████████████████████████████| 102/102 [00:01<00:00, 88.46it/s]\n"
     ]
    },
    {
     "name": "stdout",
     "output_type": "stream",
     "text": [
      "val Loss: 1.1770 Acc: 0.6382\n",
      "INFO: Early stopping counter 1 of 7\n",
      "------------------------------------------------------------------------------------------------------------------------\n",
      "\n",
      "Epoch 46/50\n",
      "------------------------------------------------------------------------------------------------------------------------\n"
     ]
    },
    {
     "name": "stderr",
     "output_type": "stream",
     "text": [
      "100%|████████████████████████████████████████████████████████████████████████████████| 357/357 [00:06<00:00, 55.70it/s]\n"
     ]
    },
    {
     "name": "stdout",
     "output_type": "stream",
     "text": [
      "train Loss: 0.5833 Acc: 0.7937\n"
     ]
    },
    {
     "name": "stderr",
     "output_type": "stream",
     "text": [
      "100%|████████████████████████████████████████████████████████████████████████████████| 102/102 [00:01<00:00, 85.93it/s]\n"
     ]
    },
    {
     "name": "stdout",
     "output_type": "stream",
     "text": [
      "val Loss: 1.1795 Acc: 0.6377\n",
      "INFO: Early stopping counter 2 of 7\n",
      "------------------------------------------------------------------------------------------------------------------------\n",
      "\n",
      "Epoch 47/50\n",
      "------------------------------------------------------------------------------------------------------------------------\n"
     ]
    },
    {
     "name": "stderr",
     "output_type": "stream",
     "text": [
      "100%|████████████████████████████████████████████████████████████████████████████████| 357/357 [00:06<00:00, 54.10it/s]\n"
     ]
    },
    {
     "name": "stdout",
     "output_type": "stream",
     "text": [
      "train Loss: 0.5779 Acc: 0.7944\n"
     ]
    },
    {
     "name": "stderr",
     "output_type": "stream",
     "text": [
      "100%|████████████████████████████████████████████████████████████████████████████████| 102/102 [00:01<00:00, 87.10it/s]\n"
     ]
    },
    {
     "name": "stdout",
     "output_type": "stream",
     "text": [
      "val Loss: 1.1865 Acc: 0.6382\n",
      "Epoch 00047: reducing learning rate of group 0 to 6.2500e-06.\n",
      "INFO: Early stopping counter 3 of 7\n",
      "------------------------------------------------------------------------------------------------------------------------\n",
      "\n",
      "Epoch 48/50\n",
      "------------------------------------------------------------------------------------------------------------------------\n"
     ]
    },
    {
     "name": "stderr",
     "output_type": "stream",
     "text": [
      "100%|████████████████████████████████████████████████████████████████████████████████| 357/357 [00:06<00:00, 56.93it/s]\n"
     ]
    },
    {
     "name": "stdout",
     "output_type": "stream",
     "text": [
      "train Loss: 0.5785 Acc: 0.7931\n"
     ]
    },
    {
     "name": "stderr",
     "output_type": "stream",
     "text": [
      "100%|████████████████████████████████████████████████████████████████████████████████| 102/102 [00:01<00:00, 84.64it/s]\n"
     ]
    },
    {
     "name": "stdout",
     "output_type": "stream",
     "text": [
      "val Loss: 1.1699 Acc: 0.6409\n",
      "------------------------------------------------------------------------------------------------------------------------\n",
      "\n",
      "Epoch 49/50\n",
      "------------------------------------------------------------------------------------------------------------------------\n"
     ]
    },
    {
     "name": "stderr",
     "output_type": "stream",
     "text": [
      "100%|████████████████████████████████████████████████████████████████████████████████| 357/357 [00:06<00:00, 54.50it/s]\n"
     ]
    },
    {
     "name": "stdout",
     "output_type": "stream",
     "text": [
      "train Loss: 0.5706 Acc: 0.7966\n"
     ]
    },
    {
     "name": "stderr",
     "output_type": "stream",
     "text": [
      "100%|████████████████████████████████████████████████████████████████████████████████| 102/102 [00:01<00:00, 88.77it/s]\n"
     ]
    },
    {
     "name": "stdout",
     "output_type": "stream",
     "text": [
      "val Loss: 1.1712 Acc: 0.6373\n",
      "INFO: Early stopping counter 1 of 7\n",
      "------------------------------------------------------------------------------------------------------------------------\n",
      "\n",
      "Epoch 50/50\n",
      "------------------------------------------------------------------------------------------------------------------------\n"
     ]
    },
    {
     "name": "stderr",
     "output_type": "stream",
     "text": [
      "100%|████████████████████████████████████████████████████████████████████████████████| 357/357 [00:06<00:00, 55.78it/s]\n"
     ]
    },
    {
     "name": "stdout",
     "output_type": "stream",
     "text": [
      "train Loss: 0.5672 Acc: 0.8000\n"
     ]
    },
    {
     "name": "stderr",
     "output_type": "stream",
     "text": [
      "100%|████████████████████████████████████████████████████████████████████████████████| 102/102 [00:01<00:00, 82.12it/s]\n"
     ]
    },
    {
     "name": "stdout",
     "output_type": "stream",
     "text": [
      "val Loss: 1.1835 Acc: 0.6386\n",
      "INFO: Early stopping counter 2 of 7\n",
      "------------------------------------------------------------------------------------------------------------------------\n",
      "\n",
      "Best val Acc: 0.640931\n",
      "Best epoch: 048\n",
      "**************************************************GENRE**************************************************\n",
      "Epoch 1/50\n",
      "------------------------------------------------------------------------------------------------------------------------\n"
     ]
    },
    {
     "name": "stderr",
     "output_type": "stream",
     "text": [
      "100%|████████████████████████████████████████████████████████████████████████████████| 357/357 [00:06<00:00, 54.13it/s]\n"
     ]
    },
    {
     "name": "stdout",
     "output_type": "stream",
     "text": [
      "train Loss: 1.4514 Acc: 0.5688\n"
     ]
    },
    {
     "name": "stderr",
     "output_type": "stream",
     "text": [
      "100%|████████████████████████████████████████████████████████████████████████████████| 102/102 [00:01<00:00, 61.28it/s]\n"
     ]
    },
    {
     "name": "stdout",
     "output_type": "stream",
     "text": [
      "val Loss: 1.0258 Acc: 0.6777\n",
      "------------------------------------------------------------------------------------------------------------------------\n",
      "\n",
      "Epoch 2/50\n",
      "------------------------------------------------------------------------------------------------------------------------\n"
     ]
    },
    {
     "name": "stderr",
     "output_type": "stream",
     "text": [
      "100%|████████████████████████████████████████████████████████████████████████████████| 357/357 [00:05<00:00, 61.83it/s]\n"
     ]
    },
    {
     "name": "stdout",
     "output_type": "stream",
     "text": [
      "train Loss: 1.0550 Acc: 0.6691\n"
     ]
    },
    {
     "name": "stderr",
     "output_type": "stream",
     "text": [
      "100%|████████████████████████████████████████████████████████████████████████████████| 102/102 [00:01<00:00, 84.43it/s]\n"
     ]
    },
    {
     "name": "stdout",
     "output_type": "stream",
     "text": [
      "val Loss: 0.9645 Acc: 0.6931\n",
      "------------------------------------------------------------------------------------------------------------------------\n",
      "\n",
      "Epoch 3/50\n",
      "------------------------------------------------------------------------------------------------------------------------\n"
     ]
    },
    {
     "name": "stderr",
     "output_type": "stream",
     "text": [
      "100%|████████████████████████████████████████████████████████████████████████████████| 357/357 [00:05<00:00, 60.52it/s]\n"
     ]
    },
    {
     "name": "stdout",
     "output_type": "stream",
     "text": [
      "train Loss: 0.9866 Acc: 0.6836\n"
     ]
    },
    {
     "name": "stderr",
     "output_type": "stream",
     "text": [
      "100%|████████████████████████████████████████████████████████████████████████████████| 102/102 [00:01<00:00, 88.08it/s]\n"
     ]
    },
    {
     "name": "stdout",
     "output_type": "stream",
     "text": [
      "val Loss: 0.9200 Acc: 0.7038\n",
      "------------------------------------------------------------------------------------------------------------------------\n",
      "\n",
      "Epoch 4/50\n",
      "------------------------------------------------------------------------------------------------------------------------\n"
     ]
    },
    {
     "name": "stderr",
     "output_type": "stream",
     "text": [
      "100%|████████████████████████████████████████████████████████████████████████████████| 357/357 [00:05<00:00, 62.55it/s]\n"
     ]
    },
    {
     "name": "stdout",
     "output_type": "stream",
     "text": [
      "train Loss: 0.9575 Acc: 0.6925\n"
     ]
    },
    {
     "name": "stderr",
     "output_type": "stream",
     "text": [
      "100%|████████████████████████████████████████████████████████████████████████████████| 102/102 [00:01<00:00, 87.62it/s]\n"
     ]
    },
    {
     "name": "stdout",
     "output_type": "stream",
     "text": [
      "val Loss: 0.9129 Acc: 0.7061\n",
      "------------------------------------------------------------------------------------------------------------------------\n",
      "\n",
      "Epoch 5/50\n",
      "------------------------------------------------------------------------------------------------------------------------\n"
     ]
    },
    {
     "name": "stderr",
     "output_type": "stream",
     "text": [
      "100%|████████████████████████████████████████████████████████████████████████████████| 357/357 [00:05<00:00, 62.17it/s]\n"
     ]
    },
    {
     "name": "stdout",
     "output_type": "stream",
     "text": [
      "train Loss: 0.9351 Acc: 0.7000\n"
     ]
    },
    {
     "name": "stderr",
     "output_type": "stream",
     "text": [
      "100%|████████████████████████████████████████████████████████████████████████████████| 102/102 [00:01<00:00, 84.15it/s]\n"
     ]
    },
    {
     "name": "stdout",
     "output_type": "stream",
     "text": [
      "val Loss: 0.8996 Acc: 0.7095\n",
      "------------------------------------------------------------------------------------------------------------------------\n",
      "\n",
      "Epoch 6/50\n",
      "------------------------------------------------------------------------------------------------------------------------\n"
     ]
    },
    {
     "name": "stderr",
     "output_type": "stream",
     "text": [
      "100%|████████████████████████████████████████████████████████████████████████████████| 357/357 [00:05<00:00, 59.97it/s]\n"
     ]
    },
    {
     "name": "stdout",
     "output_type": "stream",
     "text": [
      "train Loss: 0.9107 Acc: 0.7038\n"
     ]
    },
    {
     "name": "stderr",
     "output_type": "stream",
     "text": [
      "100%|████████████████████████████████████████████████████████████████████████████████| 102/102 [00:01<00:00, 85.35it/s]\n"
     ]
    },
    {
     "name": "stdout",
     "output_type": "stream",
     "text": [
      "val Loss: 0.8876 Acc: 0.7135\n",
      "------------------------------------------------------------------------------------------------------------------------\n",
      "\n",
      "Epoch 7/50\n",
      "------------------------------------------------------------------------------------------------------------------------\n"
     ]
    },
    {
     "name": "stderr",
     "output_type": "stream",
     "text": [
      "100%|████████████████████████████████████████████████████████████████████████████████| 357/357 [00:05<00:00, 62.30it/s]\n"
     ]
    },
    {
     "name": "stdout",
     "output_type": "stream",
     "text": [
      "train Loss: 0.8945 Acc: 0.7091\n"
     ]
    },
    {
     "name": "stderr",
     "output_type": "stream",
     "text": [
      "100%|████████████████████████████████████████████████████████████████████████████████| 102/102 [00:01<00:00, 86.58it/s]\n"
     ]
    },
    {
     "name": "stdout",
     "output_type": "stream",
     "text": [
      "val Loss: 0.8790 Acc: 0.7147\n",
      "------------------------------------------------------------------------------------------------------------------------\n",
      "\n",
      "Epoch 8/50\n",
      "------------------------------------------------------------------------------------------------------------------------\n"
     ]
    },
    {
     "name": "stderr",
     "output_type": "stream",
     "text": [
      "100%|████████████████████████████████████████████████████████████████████████████████| 357/357 [00:05<00:00, 61.58it/s]\n"
     ]
    },
    {
     "name": "stdout",
     "output_type": "stream",
     "text": [
      "train Loss: 0.8782 Acc: 0.7141\n"
     ]
    },
    {
     "name": "stderr",
     "output_type": "stream",
     "text": [
      "100%|████████████████████████████████████████████████████████████████████████████████| 102/102 [00:01<00:00, 88.61it/s]\n"
     ]
    },
    {
     "name": "stdout",
     "output_type": "stream",
     "text": [
      "val Loss: 0.8732 Acc: 0.7166\n",
      "------------------------------------------------------------------------------------------------------------------------\n",
      "\n",
      "Epoch 9/50\n",
      "------------------------------------------------------------------------------------------------------------------------\n"
     ]
    },
    {
     "name": "stderr",
     "output_type": "stream",
     "text": [
      "100%|████████████████████████████████████████████████████████████████████████████████| 357/357 [00:05<00:00, 59.83it/s]\n"
     ]
    },
    {
     "name": "stdout",
     "output_type": "stream",
     "text": [
      "train Loss: 0.8624 Acc: 0.7184\n"
     ]
    },
    {
     "name": "stderr",
     "output_type": "stream",
     "text": [
      "100%|████████████████████████████████████████████████████████████████████████████████| 102/102 [00:01<00:00, 86.22it/s]\n"
     ]
    },
    {
     "name": "stdout",
     "output_type": "stream",
     "text": [
      "val Loss: 0.8650 Acc: 0.7188\n",
      "------------------------------------------------------------------------------------------------------------------------\n",
      "\n",
      "Epoch 10/50\n",
      "------------------------------------------------------------------------------------------------------------------------\n"
     ]
    },
    {
     "name": "stderr",
     "output_type": "stream",
     "text": [
      "100%|████████████████████████████████████████████████████████████████████████████████| 357/357 [00:05<00:00, 61.97it/s]\n"
     ]
    },
    {
     "name": "stdout",
     "output_type": "stream",
     "text": [
      "train Loss: 0.8455 Acc: 0.7211\n"
     ]
    },
    {
     "name": "stderr",
     "output_type": "stream",
     "text": [
      "100%|████████████████████████████████████████████████████████████████████████████████| 102/102 [00:01<00:00, 84.01it/s]\n"
     ]
    },
    {
     "name": "stdout",
     "output_type": "stream",
     "text": [
      "val Loss: 0.8608 Acc: 0.7171\n",
      "INFO: Early stopping counter 1 of 7\n",
      "------------------------------------------------------------------------------------------------------------------------\n",
      "\n",
      "Epoch 11/50\n",
      "------------------------------------------------------------------------------------------------------------------------\n"
     ]
    },
    {
     "name": "stderr",
     "output_type": "stream",
     "text": [
      "100%|████████████████████████████████████████████████████████████████████████████████| 357/357 [00:05<00:00, 62.17it/s]\n"
     ]
    },
    {
     "name": "stdout",
     "output_type": "stream",
     "text": [
      "train Loss: 0.8343 Acc: 0.7271\n"
     ]
    },
    {
     "name": "stderr",
     "output_type": "stream",
     "text": [
      "100%|████████████████████████████████████████████████████████████████████████████████| 102/102 [00:01<00:00, 88.77it/s]\n"
     ]
    },
    {
     "name": "stdout",
     "output_type": "stream",
     "text": [
      "val Loss: 0.8532 Acc: 0.7242\n",
      "------------------------------------------------------------------------------------------------------------------------\n",
      "\n",
      "Epoch 12/50\n",
      "------------------------------------------------------------------------------------------------------------------------\n"
     ]
    },
    {
     "name": "stderr",
     "output_type": "stream",
     "text": [
      "100%|████████████████████████████████████████████████████████████████████████████████| 357/357 [00:05<00:00, 61.10it/s]\n"
     ]
    },
    {
     "name": "stdout",
     "output_type": "stream",
     "text": [
      "train Loss: 0.8189 Acc: 0.7313\n"
     ]
    },
    {
     "name": "stderr",
     "output_type": "stream",
     "text": [
      "100%|████████████████████████████████████████████████████████████████████████████████| 102/102 [00:01<00:00, 85.85it/s]\n"
     ]
    },
    {
     "name": "stdout",
     "output_type": "stream",
     "text": [
      "val Loss: 0.8497 Acc: 0.7220\n",
      "INFO: Early stopping counter 1 of 7\n",
      "------------------------------------------------------------------------------------------------------------------------\n",
      "\n",
      "Epoch 13/50\n",
      "------------------------------------------------------------------------------------------------------------------------\n"
     ]
    },
    {
     "name": "stderr",
     "output_type": "stream",
     "text": [
      "100%|████████████████████████████████████████████████████████████████████████████████| 357/357 [00:05<00:00, 61.40it/s]\n"
     ]
    },
    {
     "name": "stdout",
     "output_type": "stream",
     "text": [
      "train Loss: 0.8069 Acc: 0.7350\n"
     ]
    },
    {
     "name": "stderr",
     "output_type": "stream",
     "text": [
      "100%|████████████████████████████████████████████████████████████████████████████████| 102/102 [00:01<00:00, 84.99it/s]\n"
     ]
    },
    {
     "name": "stdout",
     "output_type": "stream",
     "text": [
      "val Loss: 0.8430 Acc: 0.7233\n",
      "INFO: Early stopping counter 2 of 7\n",
      "------------------------------------------------------------------------------------------------------------------------\n",
      "\n",
      "Epoch 14/50\n",
      "------------------------------------------------------------------------------------------------------------------------\n"
     ]
    },
    {
     "name": "stderr",
     "output_type": "stream",
     "text": [
      "100%|████████████████████████████████████████████████████████████████████████████████| 357/357 [00:05<00:00, 61.76it/s]\n"
     ]
    },
    {
     "name": "stdout",
     "output_type": "stream",
     "text": [
      "train Loss: 0.7955 Acc: 0.7371\n"
     ]
    },
    {
     "name": "stderr",
     "output_type": "stream",
     "text": [
      "100%|████████████████████████████████████████████████████████████████████████████████| 102/102 [00:01<00:00, 84.92it/s]\n"
     ]
    },
    {
     "name": "stdout",
     "output_type": "stream",
     "text": [
      "val Loss: 0.8418 Acc: 0.7238\n",
      "Epoch 00014: reducing learning rate of group 0 to 5.0000e-05.\n",
      "INFO: Early stopping counter 3 of 7\n",
      "------------------------------------------------------------------------------------------------------------------------\n",
      "\n",
      "Epoch 15/50\n",
      "------------------------------------------------------------------------------------------------------------------------\n"
     ]
    },
    {
     "name": "stderr",
     "output_type": "stream",
     "text": [
      "100%|████████████████████████████████████████████████████████████████████████████████| 357/357 [00:05<00:00, 59.76it/s]\n"
     ]
    },
    {
     "name": "stdout",
     "output_type": "stream",
     "text": [
      "train Loss: 0.7594 Acc: 0.7499\n"
     ]
    },
    {
     "name": "stderr",
     "output_type": "stream",
     "text": [
      "100%|████████████████████████████████████████████████████████████████████████████████| 102/102 [00:01<00:00, 87.25it/s]\n"
     ]
    },
    {
     "name": "stdout",
     "output_type": "stream",
     "text": [
      "val Loss: 0.8265 Acc: 0.7303\n",
      "------------------------------------------------------------------------------------------------------------------------\n",
      "\n",
      "Epoch 16/50\n",
      "------------------------------------------------------------------------------------------------------------------------\n"
     ]
    },
    {
     "name": "stderr",
     "output_type": "stream",
     "text": [
      "100%|████████████████████████████████████████████████████████████████████████████████| 357/357 [00:05<00:00, 63.83it/s]\n"
     ]
    },
    {
     "name": "stdout",
     "output_type": "stream",
     "text": [
      "train Loss: 0.7473 Acc: 0.7506\n"
     ]
    },
    {
     "name": "stderr",
     "output_type": "stream",
     "text": [
      "100%|████████████████████████████████████████████████████████████████████████████████| 102/102 [00:01<00:00, 86.07it/s]\n"
     ]
    },
    {
     "name": "stdout",
     "output_type": "stream",
     "text": [
      "val Loss: 0.8245 Acc: 0.7317\n",
      "------------------------------------------------------------------------------------------------------------------------\n",
      "\n",
      "Epoch 17/50\n",
      "------------------------------------------------------------------------------------------------------------------------\n"
     ]
    },
    {
     "name": "stderr",
     "output_type": "stream",
     "text": [
      "100%|████████████████████████████████████████████████████████████████████████████████| 357/357 [00:05<00:00, 60.56it/s]\n"
     ]
    },
    {
     "name": "stdout",
     "output_type": "stream",
     "text": [
      "train Loss: 0.7409 Acc: 0.7531\n"
     ]
    },
    {
     "name": "stderr",
     "output_type": "stream",
     "text": [
      "100%|████████████████████████████████████████████████████████████████████████████████| 102/102 [00:01<00:00, 82.72it/s]\n"
     ]
    },
    {
     "name": "stdout",
     "output_type": "stream",
     "text": [
      "val Loss: 0.8214 Acc: 0.7328\n",
      "------------------------------------------------------------------------------------------------------------------------\n",
      "\n",
      "Epoch 18/50\n",
      "------------------------------------------------------------------------------------------------------------------------\n"
     ]
    },
    {
     "name": "stderr",
     "output_type": "stream",
     "text": [
      "100%|████████████████████████████████████████████████████████████████████████████████| 357/357 [00:05<00:00, 62.37it/s]\n"
     ]
    },
    {
     "name": "stdout",
     "output_type": "stream",
     "text": [
      "train Loss: 0.7342 Acc: 0.7566\n"
     ]
    },
    {
     "name": "stderr",
     "output_type": "stream",
     "text": [
      "100%|████████████████████████████████████████████████████████████████████████████████| 102/102 [00:01<00:00, 85.21it/s]\n"
     ]
    },
    {
     "name": "stdout",
     "output_type": "stream",
     "text": [
      "val Loss: 0.8173 Acc: 0.7322\n",
      "INFO: Early stopping counter 1 of 7\n",
      "------------------------------------------------------------------------------------------------------------------------\n",
      "\n",
      "Epoch 19/50\n",
      "------------------------------------------------------------------------------------------------------------------------\n"
     ]
    },
    {
     "name": "stderr",
     "output_type": "stream",
     "text": [
      "100%|████████████████████████████████████████████████████████████████████████████████| 357/357 [00:05<00:00, 61.83it/s]\n"
     ]
    },
    {
     "name": "stdout",
     "output_type": "stream",
     "text": [
      "train Loss: 0.7232 Acc: 0.7581\n"
     ]
    },
    {
     "name": "stderr",
     "output_type": "stream",
     "text": [
      "100%|████████████████████████████████████████████████████████████████████████████████| 102/102 [00:01<00:00, 84.85it/s]\n"
     ]
    },
    {
     "name": "stdout",
     "output_type": "stream",
     "text": [
      "val Loss: 0.8142 Acc: 0.7342\n",
      "------------------------------------------------------------------------------------------------------------------------\n",
      "\n",
      "Epoch 20/50\n",
      "------------------------------------------------------------------------------------------------------------------------\n"
     ]
    },
    {
     "name": "stderr",
     "output_type": "stream",
     "text": [
      "100%|████████████████████████████████████████████████████████████████████████████████| 357/357 [00:05<00:00, 61.24it/s]\n"
     ]
    },
    {
     "name": "stdout",
     "output_type": "stream",
     "text": [
      "train Loss: 0.7124 Acc: 0.7604\n"
     ]
    },
    {
     "name": "stderr",
     "output_type": "stream",
     "text": [
      "100%|████████████████████████████████████████████████████████████████████████████████| 102/102 [00:01<00:00, 85.14it/s]\n"
     ]
    },
    {
     "name": "stdout",
     "output_type": "stream",
     "text": [
      "val Loss: 0.8185 Acc: 0.7316\n",
      "INFO: Early stopping counter 1 of 7\n",
      "------------------------------------------------------------------------------------------------------------------------\n",
      "\n",
      "Epoch 21/50\n",
      "------------------------------------------------------------------------------------------------------------------------\n"
     ]
    },
    {
     "name": "stderr",
     "output_type": "stream",
     "text": [
      "100%|████████████████████████████████████████████████████████████████████████████████| 357/357 [00:05<00:00, 60.13it/s]\n"
     ]
    },
    {
     "name": "stdout",
     "output_type": "stream",
     "text": [
      "train Loss: 0.7015 Acc: 0.7653\n"
     ]
    },
    {
     "name": "stderr",
     "output_type": "stream",
     "text": [
      "100%|████████████████████████████████████████████████████████████████████████████████| 102/102 [00:01<00:00, 85.71it/s]\n"
     ]
    },
    {
     "name": "stdout",
     "output_type": "stream",
     "text": [
      "val Loss: 0.8136 Acc: 0.7361\n",
      "------------------------------------------------------------------------------------------------------------------------\n",
      "\n",
      "Epoch 22/50\n",
      "------------------------------------------------------------------------------------------------------------------------\n"
     ]
    },
    {
     "name": "stderr",
     "output_type": "stream",
     "text": [
      "100%|████████████████████████████████████████████████████████████████████████████████| 357/357 [00:05<00:00, 61.37it/s]\n"
     ]
    },
    {
     "name": "stdout",
     "output_type": "stream",
     "text": [
      "train Loss: 0.6955 Acc: 0.7660\n"
     ]
    },
    {
     "name": "stderr",
     "output_type": "stream",
     "text": [
      "100%|████████████████████████████████████████████████████████████████████████████████| 102/102 [00:01<00:00, 82.05it/s]\n"
     ]
    },
    {
     "name": "stdout",
     "output_type": "stream",
     "text": [
      "val Loss: 0.8143 Acc: 0.7328\n",
      "INFO: Early stopping counter 1 of 7\n",
      "------------------------------------------------------------------------------------------------------------------------\n",
      "\n",
      "Epoch 23/50\n",
      "------------------------------------------------------------------------------------------------------------------------\n"
     ]
    },
    {
     "name": "stderr",
     "output_type": "stream",
     "text": [
      "100%|████████████████████████████████████████████████████████████████████████████████| 357/357 [00:05<00:00, 60.15it/s]\n"
     ]
    },
    {
     "name": "stdout",
     "output_type": "stream",
     "text": [
      "train Loss: 0.6886 Acc: 0.7689\n"
     ]
    },
    {
     "name": "stderr",
     "output_type": "stream",
     "text": [
      "100%|████████████████████████████████████████████████████████████████████████████████| 102/102 [00:01<00:00, 84.36it/s]\n"
     ]
    },
    {
     "name": "stdout",
     "output_type": "stream",
     "text": [
      "val Loss: 0.8148 Acc: 0.7346\n",
      "INFO: Early stopping counter 2 of 7\n",
      "------------------------------------------------------------------------------------------------------------------------\n",
      "\n",
      "Epoch 24/50\n",
      "------------------------------------------------------------------------------------------------------------------------\n"
     ]
    },
    {
     "name": "stderr",
     "output_type": "stream",
     "text": [
      "100%|████████████████████████████████████████████████████████████████████████████████| 357/357 [00:06<00:00, 59.02it/s]\n"
     ]
    },
    {
     "name": "stdout",
     "output_type": "stream",
     "text": [
      "train Loss: 0.6778 Acc: 0.7719\n"
     ]
    },
    {
     "name": "stderr",
     "output_type": "stream",
     "text": [
      "100%|████████████████████████████████████████████████████████████████████████████████| 102/102 [00:01<00:00, 83.46it/s]\n"
     ]
    },
    {
     "name": "stdout",
     "output_type": "stream",
     "text": [
      "val Loss: 0.8145 Acc: 0.7332\n",
      "Epoch 00024: reducing learning rate of group 0 to 2.5000e-05.\n",
      "INFO: Early stopping counter 3 of 7\n",
      "------------------------------------------------------------------------------------------------------------------------\n",
      "\n",
      "Epoch 25/50\n",
      "------------------------------------------------------------------------------------------------------------------------\n"
     ]
    },
    {
     "name": "stderr",
     "output_type": "stream",
     "text": [
      "100%|████████████████████████████████████████████████████████████████████████████████| 357/357 [00:05<00:00, 61.46it/s]\n"
     ]
    },
    {
     "name": "stdout",
     "output_type": "stream",
     "text": [
      "train Loss: 0.6570 Acc: 0.7779\n"
     ]
    },
    {
     "name": "stderr",
     "output_type": "stream",
     "text": [
      "100%|████████████████████████████████████████████████████████████████████████████████| 102/102 [00:01<00:00, 82.18it/s]\n"
     ]
    },
    {
     "name": "stdout",
     "output_type": "stream",
     "text": [
      "val Loss: 0.8029 Acc: 0.7397\n",
      "------------------------------------------------------------------------------------------------------------------------\n",
      "\n",
      "Epoch 26/50\n",
      "------------------------------------------------------------------------------------------------------------------------\n"
     ]
    },
    {
     "name": "stderr",
     "output_type": "stream",
     "text": [
      "100%|████████████████████████████████████████████████████████████████████████████████| 357/357 [00:05<00:00, 60.22it/s]\n"
     ]
    },
    {
     "name": "stdout",
     "output_type": "stream",
     "text": [
      "train Loss: 0.6505 Acc: 0.7809\n"
     ]
    },
    {
     "name": "stderr",
     "output_type": "stream",
     "text": [
      "100%|████████████████████████████████████████████████████████████████████████████████| 102/102 [00:01<00:00, 86.44it/s]\n"
     ]
    },
    {
     "name": "stdout",
     "output_type": "stream",
     "text": [
      "val Loss: 0.8057 Acc: 0.7398\n",
      "------------------------------------------------------------------------------------------------------------------------\n",
      "\n",
      "Epoch 27/50\n",
      "------------------------------------------------------------------------------------------------------------------------\n"
     ]
    },
    {
     "name": "stderr",
     "output_type": "stream",
     "text": [
      "100%|████████████████████████████████████████████████████████████████████████████████| 357/357 [00:05<00:00, 61.33it/s]\n"
     ]
    },
    {
     "name": "stdout",
     "output_type": "stream",
     "text": [
      "train Loss: 0.6456 Acc: 0.7827\n"
     ]
    },
    {
     "name": "stderr",
     "output_type": "stream",
     "text": [
      "100%|████████████████████████████████████████████████████████████████████████████████| 102/102 [00:01<00:00, 84.22it/s]\n"
     ]
    },
    {
     "name": "stdout",
     "output_type": "stream",
     "text": [
      "val Loss: 0.8016 Acc: 0.7404\n",
      "------------------------------------------------------------------------------------------------------------------------\n",
      "\n",
      "Epoch 28/50\n",
      "------------------------------------------------------------------------------------------------------------------------\n"
     ]
    },
    {
     "name": "stderr",
     "output_type": "stream",
     "text": [
      "100%|████████████████████████████████████████████████████████████████████████████████| 357/357 [00:05<00:00, 63.41it/s]\n"
     ]
    },
    {
     "name": "stdout",
     "output_type": "stream",
     "text": [
      "train Loss: 0.6413 Acc: 0.7833\n"
     ]
    },
    {
     "name": "stderr",
     "output_type": "stream",
     "text": [
      "100%|████████████████████████████████████████████████████████████████████████████████| 102/102 [00:01<00:00, 84.36it/s]\n"
     ]
    },
    {
     "name": "stdout",
     "output_type": "stream",
     "text": [
      "val Loss: 0.8037 Acc: 0.7408\n",
      "------------------------------------------------------------------------------------------------------------------------\n",
      "\n",
      "Epoch 29/50\n",
      "------------------------------------------------------------------------------------------------------------------------\n"
     ]
    },
    {
     "name": "stderr",
     "output_type": "stream",
     "text": [
      "100%|████████████████████████████████████████████████████████████████████████████████| 357/357 [00:05<00:00, 61.53it/s]\n"
     ]
    },
    {
     "name": "stdout",
     "output_type": "stream",
     "text": [
      "train Loss: 0.6339 Acc: 0.7850\n"
     ]
    },
    {
     "name": "stderr",
     "output_type": "stream",
     "text": [
      "100%|████████████████████████████████████████████████████████████████████████████████| 102/102 [00:01<00:00, 85.14it/s]\n"
     ]
    },
    {
     "name": "stdout",
     "output_type": "stream",
     "text": [
      "val Loss: 0.8067 Acc: 0.7409\n",
      "------------------------------------------------------------------------------------------------------------------------\n",
      "\n",
      "Epoch 30/50\n",
      "------------------------------------------------------------------------------------------------------------------------\n"
     ]
    },
    {
     "name": "stderr",
     "output_type": "stream",
     "text": [
      "100%|████████████████████████████████████████████████████████████████████████████████| 357/357 [00:05<00:00, 60.90it/s]\n"
     ]
    },
    {
     "name": "stdout",
     "output_type": "stream",
     "text": [
      "train Loss: 0.6267 Acc: 0.7875\n"
     ]
    },
    {
     "name": "stderr",
     "output_type": "stream",
     "text": [
      "100%|████████████████████████████████████████████████████████████████████████████████| 102/102 [00:01<00:00, 80.62it/s]\n"
     ]
    },
    {
     "name": "stdout",
     "output_type": "stream",
     "text": [
      "val Loss: 0.8030 Acc: 0.7410\n",
      "------------------------------------------------------------------------------------------------------------------------\n",
      "\n",
      "Epoch 31/50\n",
      "------------------------------------------------------------------------------------------------------------------------\n"
     ]
    },
    {
     "name": "stderr",
     "output_type": "stream",
     "text": [
      "100%|████████████████████████████████████████████████████████████████████████████████| 357/357 [00:05<00:00, 61.31it/s]\n"
     ]
    },
    {
     "name": "stdout",
     "output_type": "stream",
     "text": [
      "train Loss: 0.6221 Acc: 0.7888\n"
     ]
    },
    {
     "name": "stderr",
     "output_type": "stream",
     "text": [
      "100%|████████████████████████████████████████████████████████████████████████████████| 102/102 [00:01<00:00, 84.99it/s]\n"
     ]
    },
    {
     "name": "stdout",
     "output_type": "stream",
     "text": [
      "val Loss: 0.8039 Acc: 0.7403\n",
      "INFO: Early stopping counter 1 of 7\n",
      "------------------------------------------------------------------------------------------------------------------------\n",
      "\n",
      "Epoch 32/50\n",
      "------------------------------------------------------------------------------------------------------------------------\n"
     ]
    },
    {
     "name": "stderr",
     "output_type": "stream",
     "text": [
      "100%|████████████████████████████████████████████████████████████████████████████████| 357/357 [00:05<00:00, 62.87it/s]\n"
     ]
    },
    {
     "name": "stdout",
     "output_type": "stream",
     "text": [
      "train Loss: 0.6179 Acc: 0.7923\n"
     ]
    },
    {
     "name": "stderr",
     "output_type": "stream",
     "text": [
      "100%|████████████████████████████████████████████████████████████████████████████████| 102/102 [00:01<00:00, 88.38it/s]\n"
     ]
    },
    {
     "name": "stdout",
     "output_type": "stream",
     "text": [
      "val Loss: 0.8066 Acc: 0.7407\n",
      "INFO: Early stopping counter 2 of 7\n",
      "------------------------------------------------------------------------------------------------------------------------\n",
      "\n",
      "Epoch 33/50\n",
      "------------------------------------------------------------------------------------------------------------------------\n"
     ]
    },
    {
     "name": "stderr",
     "output_type": "stream",
     "text": [
      "100%|████████████████████████████████████████████████████████████████████████████████| 357/357 [00:06<00:00, 59.43it/s]\n"
     ]
    },
    {
     "name": "stdout",
     "output_type": "stream",
     "text": [
      "train Loss: 0.6107 Acc: 0.7946\n"
     ]
    },
    {
     "name": "stderr",
     "output_type": "stream",
     "text": [
      "100%|████████████████████████████████████████████████████████████████████████████████| 102/102 [00:01<00:00, 84.85it/s]\n"
     ]
    },
    {
     "name": "stdout",
     "output_type": "stream",
     "text": [
      "val Loss: 0.8034 Acc: 0.7427\n",
      "------------------------------------------------------------------------------------------------------------------------\n",
      "\n",
      "Epoch 34/50\n",
      "------------------------------------------------------------------------------------------------------------------------\n"
     ]
    },
    {
     "name": "stderr",
     "output_type": "stream",
     "text": [
      "100%|████████████████████████████████████████████████████████████████████████████████| 357/357 [00:05<00:00, 63.78it/s]\n"
     ]
    },
    {
     "name": "stdout",
     "output_type": "stream",
     "text": [
      "train Loss: 0.6073 Acc: 0.7941\n"
     ]
    },
    {
     "name": "stderr",
     "output_type": "stream",
     "text": [
      "100%|████████████████████████████████████████████████████████████████████████████████| 102/102 [00:01<00:00, 85.21it/s]\n"
     ]
    },
    {
     "name": "stdout",
     "output_type": "stream",
     "text": [
      "val Loss: 0.8101 Acc: 0.7401\n",
      "INFO: Early stopping counter 1 of 7\n",
      "------------------------------------------------------------------------------------------------------------------------\n",
      "\n",
      "Epoch 35/50\n",
      "------------------------------------------------------------------------------------------------------------------------\n"
     ]
    },
    {
     "name": "stderr",
     "output_type": "stream",
     "text": [
      "100%|████████████████████████████████████████████████████████████████████████████████| 357/357 [00:05<00:00, 60.56it/s]\n"
     ]
    },
    {
     "name": "stdout",
     "output_type": "stream",
     "text": [
      "train Loss: 0.5976 Acc: 0.7977\n"
     ]
    },
    {
     "name": "stderr",
     "output_type": "stream",
     "text": [
      "100%|████████████████████████████████████████████████████████████████████████████████| 102/102 [00:01<00:00, 87.47it/s]\n"
     ]
    },
    {
     "name": "stdout",
     "output_type": "stream",
     "text": [
      "val Loss: 0.8079 Acc: 0.7410\n",
      "INFO: Early stopping counter 2 of 7\n",
      "------------------------------------------------------------------------------------------------------------------------\n",
      "\n",
      "Epoch 36/50\n",
      "------------------------------------------------------------------------------------------------------------------------\n"
     ]
    },
    {
     "name": "stderr",
     "output_type": "stream",
     "text": [
      "100%|████████████████████████████████████████████████████████████████████████████████| 357/357 [00:05<00:00, 61.70it/s]\n"
     ]
    },
    {
     "name": "stdout",
     "output_type": "stream",
     "text": [
      "train Loss: 0.5956 Acc: 0.7972\n"
     ]
    },
    {
     "name": "stderr",
     "output_type": "stream",
     "text": [
      "100%|████████████████████████████████████████████████████████████████████████████████| 102/102 [00:01<00:00, 82.92it/s]\n"
     ]
    },
    {
     "name": "stdout",
     "output_type": "stream",
     "text": [
      "val Loss: 0.8141 Acc: 0.7399\n",
      "Epoch 00036: reducing learning rate of group 0 to 1.2500e-05.\n",
      "INFO: Early stopping counter 3 of 7\n",
      "------------------------------------------------------------------------------------------------------------------------\n",
      "\n",
      "Epoch 37/50\n",
      "------------------------------------------------------------------------------------------------------------------------\n"
     ]
    },
    {
     "name": "stderr",
     "output_type": "stream",
     "text": [
      "100%|████████████████████████████████████████████████████████████████████████████████| 357/357 [00:05<00:00, 62.53it/s]\n"
     ]
    },
    {
     "name": "stdout",
     "output_type": "stream",
     "text": [
      "train Loss: 0.5890 Acc: 0.7989\n"
     ]
    },
    {
     "name": "stderr",
     "output_type": "stream",
     "text": [
      "100%|████████████████████████████████████████████████████████████████████████████████| 102/102 [00:01<00:00, 88.23it/s]\n"
     ]
    },
    {
     "name": "stdout",
     "output_type": "stream",
     "text": [
      "val Loss: 0.8067 Acc: 0.7427\n",
      "------------------------------------------------------------------------------------------------------------------------\n",
      "\n",
      "Epoch 38/50\n",
      "------------------------------------------------------------------------------------------------------------------------\n"
     ]
    },
    {
     "name": "stderr",
     "output_type": "stream",
     "text": [
      "100%|████████████████████████████████████████████████████████████████████████████████| 357/357 [00:05<00:00, 59.96it/s]\n"
     ]
    },
    {
     "name": "stdout",
     "output_type": "stream",
     "text": [
      "train Loss: 0.5840 Acc: 0.8019\n"
     ]
    },
    {
     "name": "stderr",
     "output_type": "stream",
     "text": [
      "100%|████████████████████████████████████████████████████████████████████████████████| 102/102 [00:01<00:00, 88.77it/s]\n"
     ]
    },
    {
     "name": "stdout",
     "output_type": "stream",
     "text": [
      "val Loss: 0.8088 Acc: 0.7428\n",
      "------------------------------------------------------------------------------------------------------------------------\n",
      "\n",
      "Epoch 39/50\n",
      "------------------------------------------------------------------------------------------------------------------------\n"
     ]
    },
    {
     "name": "stderr",
     "output_type": "stream",
     "text": [
      "100%|████████████████████████████████████████████████████████████████████████████████| 357/357 [00:05<00:00, 60.06it/s]\n"
     ]
    },
    {
     "name": "stdout",
     "output_type": "stream",
     "text": [
      "train Loss: 0.5758 Acc: 0.8024\n"
     ]
    },
    {
     "name": "stderr",
     "output_type": "stream",
     "text": [
      "100%|████████████████████████████████████████████████████████████████████████████████| 102/102 [00:01<00:00, 84.43it/s]\n"
     ]
    },
    {
     "name": "stdout",
     "output_type": "stream",
     "text": [
      "val Loss: 0.8101 Acc: 0.7427\n",
      "------------------------------------------------------------------------------------------------------------------------\n",
      "\n",
      "Epoch 40/50\n",
      "------------------------------------------------------------------------------------------------------------------------\n"
     ]
    },
    {
     "name": "stderr",
     "output_type": "stream",
     "text": [
      "100%|████████████████████████████████████████████████████████████████████████████████| 357/357 [00:05<00:00, 62.79it/s]\n"
     ]
    },
    {
     "name": "stdout",
     "output_type": "stream",
     "text": [
      "train Loss: 0.5754 Acc: 0.8035\n"
     ]
    },
    {
     "name": "stderr",
     "output_type": "stream",
     "text": [
      "100%|████████████████████████████████████████████████████████████████████████████████| 102/102 [00:01<00:00, 83.12it/s]\n"
     ]
    },
    {
     "name": "stdout",
     "output_type": "stream",
     "text": [
      "val Loss: 0.8112 Acc: 0.7436\n",
      "------------------------------------------------------------------------------------------------------------------------\n",
      "\n",
      "Epoch 41/50\n",
      "------------------------------------------------------------------------------------------------------------------------\n"
     ]
    },
    {
     "name": "stderr",
     "output_type": "stream",
     "text": [
      "100%|████████████████████████████████████████████████████████████████████████████████| 357/357 [00:05<00:00, 60.47it/s]\n"
     ]
    },
    {
     "name": "stdout",
     "output_type": "stream",
     "text": [
      "train Loss: 0.5721 Acc: 0.8061\n"
     ]
    },
    {
     "name": "stderr",
     "output_type": "stream",
     "text": [
      "100%|████████████████████████████████████████████████████████████████████████████████| 102/102 [00:01<00:00, 87.10it/s]\n"
     ]
    },
    {
     "name": "stdout",
     "output_type": "stream",
     "text": [
      "val Loss: 0.8106 Acc: 0.7435\n",
      "INFO: Early stopping counter 1 of 7\n",
      "------------------------------------------------------------------------------------------------------------------------\n",
      "\n",
      "Epoch 42/50\n",
      "------------------------------------------------------------------------------------------------------------------------\n"
     ]
    },
    {
     "name": "stderr",
     "output_type": "stream",
     "text": [
      "100%|████████████████████████████████████████████████████████████████████████████████| 357/357 [00:05<00:00, 61.06it/s]\n"
     ]
    },
    {
     "name": "stdout",
     "output_type": "stream",
     "text": [
      "train Loss: 0.5707 Acc: 0.8061\n"
     ]
    },
    {
     "name": "stderr",
     "output_type": "stream",
     "text": [
      "100%|████████████████████████████████████████████████████████████████████████████████| 102/102 [00:01<00:00, 83.19it/s]\n"
     ]
    },
    {
     "name": "stdout",
     "output_type": "stream",
     "text": [
      "val Loss: 0.8121 Acc: 0.7445\n",
      "------------------------------------------------------------------------------------------------------------------------\n",
      "\n",
      "Epoch 43/50\n",
      "------------------------------------------------------------------------------------------------------------------------\n"
     ]
    },
    {
     "name": "stderr",
     "output_type": "stream",
     "text": [
      "100%|████████████████████████████████████████████████████████████████████████████████| 357/357 [00:05<00:00, 62.79it/s]\n"
     ]
    },
    {
     "name": "stdout",
     "output_type": "stream",
     "text": [
      "train Loss: 0.5659 Acc: 0.8078\n"
     ]
    },
    {
     "name": "stderr",
     "output_type": "stream",
     "text": [
      "100%|████████████████████████████████████████████████████████████████████████████████| 102/102 [00:01<00:00, 84.43it/s]\n"
     ]
    },
    {
     "name": "stdout",
     "output_type": "stream",
     "text": [
      "val Loss: 0.8130 Acc: 0.7441\n",
      "INFO: Early stopping counter 1 of 7\n",
      "------------------------------------------------------------------------------------------------------------------------\n",
      "\n",
      "Epoch 44/50\n",
      "------------------------------------------------------------------------------------------------------------------------\n"
     ]
    },
    {
     "name": "stderr",
     "output_type": "stream",
     "text": [
      "100%|████████████████████████████████████████████████████████████████████████████████| 357/357 [00:05<00:00, 60.92it/s]\n"
     ]
    },
    {
     "name": "stdout",
     "output_type": "stream",
     "text": [
      "train Loss: 0.5629 Acc: 0.8079\n"
     ]
    },
    {
     "name": "stderr",
     "output_type": "stream",
     "text": [
      "100%|████████████████████████████████████████████████████████████████████████████████| 102/102 [00:01<00:00, 85.85it/s]\n"
     ]
    },
    {
     "name": "stdout",
     "output_type": "stream",
     "text": [
      "val Loss: 0.8136 Acc: 0.7446\n",
      "------------------------------------------------------------------------------------------------------------------------\n",
      "\n",
      "Epoch 45/50\n",
      "------------------------------------------------------------------------------------------------------------------------\n"
     ]
    },
    {
     "name": "stderr",
     "output_type": "stream",
     "text": [
      "100%|████████████████████████████████████████████████████████████████████████████████| 357/357 [00:05<00:00, 60.96it/s]\n"
     ]
    },
    {
     "name": "stdout",
     "output_type": "stream",
     "text": [
      "train Loss: 0.5633 Acc: 0.8092\n"
     ]
    },
    {
     "name": "stderr",
     "output_type": "stream",
     "text": [
      "100%|████████████████████████████████████████████████████████████████████████████████| 102/102 [00:01<00:00, 85.49it/s]\n"
     ]
    },
    {
     "name": "stdout",
     "output_type": "stream",
     "text": [
      "val Loss: 0.8183 Acc: 0.7437\n",
      "INFO: Early stopping counter 1 of 7\n",
      "------------------------------------------------------------------------------------------------------------------------\n",
      "\n",
      "Epoch 46/50\n",
      "------------------------------------------------------------------------------------------------------------------------\n"
     ]
    },
    {
     "name": "stderr",
     "output_type": "stream",
     "text": [
      "100%|████████████████████████████████████████████████████████████████████████████████| 357/357 [00:05<00:00, 62.15it/s]\n"
     ]
    },
    {
     "name": "stdout",
     "output_type": "stream",
     "text": [
      "train Loss: 0.5636 Acc: 0.8066\n"
     ]
    },
    {
     "name": "stderr",
     "output_type": "stream",
     "text": [
      "100%|████████████████████████████████████████████████████████████████████████████████| 102/102 [00:01<00:00, 89.39it/s]\n"
     ]
    },
    {
     "name": "stdout",
     "output_type": "stream",
     "text": [
      "val Loss: 0.8136 Acc: 0.7432\n",
      "INFO: Early stopping counter 2 of 7\n",
      "------------------------------------------------------------------------------------------------------------------------\n",
      "\n",
      "Epoch 47/50\n",
      "------------------------------------------------------------------------------------------------------------------------\n"
     ]
    },
    {
     "name": "stderr",
     "output_type": "stream",
     "text": [
      "100%|████████████████████████████████████████████████████████████████████████████████| 357/357 [00:05<00:00, 61.17it/s]\n"
     ]
    },
    {
     "name": "stdout",
     "output_type": "stream",
     "text": [
      "train Loss: 0.5571 Acc: 0.8087\n"
     ]
    },
    {
     "name": "stderr",
     "output_type": "stream",
     "text": [
      "100%|████████████████████████████████████████████████████████████████████████████████| 102/102 [00:01<00:00, 83.60it/s]\n"
     ]
    },
    {
     "name": "stdout",
     "output_type": "stream",
     "text": [
      "val Loss: 0.8167 Acc: 0.7418\n",
      "Epoch 00047: reducing learning rate of group 0 to 6.2500e-06.\n",
      "INFO: Early stopping counter 3 of 7\n",
      "------------------------------------------------------------------------------------------------------------------------\n",
      "\n",
      "Epoch 48/50\n",
      "------------------------------------------------------------------------------------------------------------------------\n"
     ]
    },
    {
     "name": "stderr",
     "output_type": "stream",
     "text": [
      "100%|████████████████████████████████████████████████████████████████████████████████| 357/357 [00:05<00:00, 61.46it/s]\n"
     ]
    },
    {
     "name": "stdout",
     "output_type": "stream",
     "text": [
      "train Loss: 0.5526 Acc: 0.8104\n"
     ]
    },
    {
     "name": "stderr",
     "output_type": "stream",
     "text": [
      "100%|████████████████████████████████████████████████████████████████████████████████| 102/102 [00:01<00:00, 84.43it/s]\n"
     ]
    },
    {
     "name": "stdout",
     "output_type": "stream",
     "text": [
      "val Loss: 0.8141 Acc: 0.7443\n",
      "INFO: Early stopping counter 4 of 7\n",
      "------------------------------------------------------------------------------------------------------------------------\n",
      "\n",
      "Epoch 49/50\n",
      "------------------------------------------------------------------------------------------------------------------------\n"
     ]
    },
    {
     "name": "stderr",
     "output_type": "stream",
     "text": [
      "100%|████████████████████████████████████████████████████████████████████████████████| 357/357 [00:05<00:00, 63.36it/s]\n"
     ]
    },
    {
     "name": "stdout",
     "output_type": "stream",
     "text": [
      "train Loss: 0.5478 Acc: 0.8139\n"
     ]
    },
    {
     "name": "stderr",
     "output_type": "stream",
     "text": [
      "100%|████████████████████████████████████████████████████████████████████████████████| 102/102 [00:01<00:00, 85.14it/s]\n"
     ]
    },
    {
     "name": "stdout",
     "output_type": "stream",
     "text": [
      "val Loss: 0.8143 Acc: 0.7453\n",
      "------------------------------------------------------------------------------------------------------------------------\n",
      "\n",
      "Epoch 50/50\n",
      "------------------------------------------------------------------------------------------------------------------------\n"
     ]
    },
    {
     "name": "stderr",
     "output_type": "stream",
     "text": [
      "100%|████████████████████████████████████████████████████████████████████████████████| 357/357 [00:05<00:00, 64.04it/s]\n"
     ]
    },
    {
     "name": "stdout",
     "output_type": "stream",
     "text": [
      "train Loss: 0.5485 Acc: 0.8138\n"
     ]
    },
    {
     "name": "stderr",
     "output_type": "stream",
     "text": [
      "100%|████████████████████████████████████████████████████████████████████████████████| 102/102 [00:01<00:00, 88.46it/s]\n"
     ]
    },
    {
     "name": "stdout",
     "output_type": "stream",
     "text": [
      "val Loss: 0.8168 Acc: 0.7462\n",
      "------------------------------------------------------------------------------------------------------------------------\n",
      "\n",
      "Best val Acc: 0.746170\n",
      "Best epoch: 050\n",
      "**************************************************EMOTION**************************************************\n",
      "Epoch 1/50\n",
      "------------------------------------------------------------------------------------------------------------------------\n"
     ]
    },
    {
     "name": "stderr",
     "output_type": "stream",
     "text": [
      "100%|████████████████████████████████████████████████████████████████████████████████| 357/357 [00:06<00:00, 54.81it/s]\n"
     ]
    },
    {
     "name": "stdout",
     "output_type": "stream",
     "text": [
      "train Loss: 1.7204 Acc: 0.3942\n"
     ]
    },
    {
     "name": "stderr",
     "output_type": "stream",
     "text": [
      "100%|████████████████████████████████████████████████████████████████████████████████| 102/102 [00:01<00:00, 83.53it/s]\n"
     ]
    },
    {
     "name": "stdout",
     "output_type": "stream",
     "text": [
      "val Loss: 1.5852 Acc: 0.4308\n",
      "------------------------------------------------------------------------------------------------------------------------\n",
      "\n",
      "Epoch 2/50\n",
      "------------------------------------------------------------------------------------------------------------------------\n"
     ]
    },
    {
     "name": "stderr",
     "output_type": "stream",
     "text": [
      "100%|████████████████████████████████████████████████████████████████████████████████| 357/357 [00:05<00:00, 64.47it/s]\n"
     ]
    },
    {
     "name": "stdout",
     "output_type": "stream",
     "text": [
      "train Loss: 1.6051 Acc: 0.4274\n"
     ]
    },
    {
     "name": "stderr",
     "output_type": "stream",
     "text": [
      "100%|████████████████████████████████████████████████████████████████████████████████| 102/102 [00:01<00:00, 87.10it/s]\n"
     ]
    },
    {
     "name": "stdout",
     "output_type": "stream",
     "text": [
      "val Loss: 1.5579 Acc: 0.4384\n",
      "------------------------------------------------------------------------------------------------------------------------\n",
      "\n",
      "Epoch 3/50\n",
      "------------------------------------------------------------------------------------------------------------------------\n"
     ]
    },
    {
     "name": "stderr",
     "output_type": "stream",
     "text": [
      "100%|████████████████████████████████████████████████████████████████████████████████| 357/357 [00:05<00:00, 61.98it/s]\n"
     ]
    },
    {
     "name": "stdout",
     "output_type": "stream",
     "text": [
      "train Loss: 1.5782 Acc: 0.4354\n"
     ]
    },
    {
     "name": "stderr",
     "output_type": "stream",
     "text": [
      "100%|████████████████████████████████████████████████████████████████████████████████| 102/102 [00:01<00:00, 86.36it/s]\n"
     ]
    },
    {
     "name": "stdout",
     "output_type": "stream",
     "text": [
      "val Loss: 1.5616 Acc: 0.4351\n",
      "INFO: Early stopping counter 1 of 7\n",
      "------------------------------------------------------------------------------------------------------------------------\n",
      "\n",
      "Epoch 4/50\n",
      "------------------------------------------------------------------------------------------------------------------------\n"
     ]
    },
    {
     "name": "stderr",
     "output_type": "stream",
     "text": [
      "100%|████████████████████████████████████████████████████████████████████████████████| 357/357 [00:05<00:00, 60.96it/s]\n"
     ]
    },
    {
     "name": "stdout",
     "output_type": "stream",
     "text": [
      "train Loss: 1.5649 Acc: 0.4406\n"
     ]
    },
    {
     "name": "stderr",
     "output_type": "stream",
     "text": [
      "100%|████████████████████████████████████████████████████████████████████████████████| 102/102 [00:01<00:00, 83.26it/s]\n"
     ]
    },
    {
     "name": "stdout",
     "output_type": "stream",
     "text": [
      "val Loss: 1.5502 Acc: 0.4364\n",
      "INFO: Early stopping counter 2 of 7\n",
      "------------------------------------------------------------------------------------------------------------------------\n",
      "\n",
      "Epoch 5/50\n",
      "------------------------------------------------------------------------------------------------------------------------\n"
     ]
    },
    {
     "name": "stderr",
     "output_type": "stream",
     "text": [
      "100%|████████████████████████████████████████████████████████████████████████████████| 357/357 [00:05<00:00, 61.64it/s]\n"
     ]
    },
    {
     "name": "stdout",
     "output_type": "stream",
     "text": [
      "train Loss: 1.5514 Acc: 0.4426\n"
     ]
    },
    {
     "name": "stderr",
     "output_type": "stream",
     "text": [
      "100%|████████████████████████████████████████████████████████████████████████████████| 102/102 [00:01<00:00, 87.10it/s]\n"
     ]
    },
    {
     "name": "stdout",
     "output_type": "stream",
     "text": [
      "val Loss: 1.5374 Acc: 0.4422\n",
      "------------------------------------------------------------------------------------------------------------------------\n",
      "\n",
      "Epoch 6/50\n",
      "------------------------------------------------------------------------------------------------------------------------\n"
     ]
    },
    {
     "name": "stderr",
     "output_type": "stream",
     "text": [
      "100%|████████████████████████████████████████████████████████████████████████████████| 357/357 [00:05<00:00, 62.10it/s]\n"
     ]
    },
    {
     "name": "stdout",
     "output_type": "stream",
     "text": [
      "train Loss: 1.5422 Acc: 0.4480\n"
     ]
    },
    {
     "name": "stderr",
     "output_type": "stream",
     "text": [
      "100%|████████████████████████████████████████████████████████████████████████████████| 102/102 [00:01<00:00, 86.36it/s]\n"
     ]
    },
    {
     "name": "stdout",
     "output_type": "stream",
     "text": [
      "val Loss: 1.5373 Acc: 0.4439\n",
      "------------------------------------------------------------------------------------------------------------------------\n",
      "\n",
      "Epoch 7/50\n",
      "------------------------------------------------------------------------------------------------------------------------\n"
     ]
    },
    {
     "name": "stderr",
     "output_type": "stream",
     "text": [
      "100%|████████████████████████████████████████████████████████████████████████████████| 357/357 [00:05<00:00, 60.90it/s]\n"
     ]
    },
    {
     "name": "stdout",
     "output_type": "stream",
     "text": [
      "train Loss: 1.5336 Acc: 0.4486\n"
     ]
    },
    {
     "name": "stderr",
     "output_type": "stream",
     "text": [
      "100%|████████████████████████████████████████████████████████████████████████████████| 102/102 [00:01<00:00, 84.29it/s]\n"
     ]
    },
    {
     "name": "stdout",
     "output_type": "stream",
     "text": [
      "val Loss: 1.5318 Acc: 0.4432\n",
      "INFO: Early stopping counter 1 of 7\n",
      "------------------------------------------------------------------------------------------------------------------------\n",
      "\n",
      "Epoch 8/50\n",
      "------------------------------------------------------------------------------------------------------------------------\n"
     ]
    },
    {
     "name": "stderr",
     "output_type": "stream",
     "text": [
      "100%|████████████████████████████████████████████████████████████████████████████████| 357/357 [00:05<00:00, 61.58it/s]\n"
     ]
    },
    {
     "name": "stdout",
     "output_type": "stream",
     "text": [
      "train Loss: 1.5237 Acc: 0.4536\n"
     ]
    },
    {
     "name": "stderr",
     "output_type": "stream",
     "text": [
      "100%|████████████████████████████████████████████████████████████████████████████████| 102/102 [00:01<00:00, 85.93it/s]\n"
     ]
    },
    {
     "name": "stdout",
     "output_type": "stream",
     "text": [
      "val Loss: 1.5305 Acc: 0.4446\n",
      "------------------------------------------------------------------------------------------------------------------------\n",
      "\n",
      "Epoch 9/50\n",
      "------------------------------------------------------------------------------------------------------------------------\n"
     ]
    },
    {
     "name": "stderr",
     "output_type": "stream",
     "text": [
      "100%|████████████████████████████████████████████████████████████████████████████████| 357/357 [00:05<00:00, 60.66it/s]\n"
     ]
    },
    {
     "name": "stdout",
     "output_type": "stream",
     "text": [
      "train Loss: 1.5164 Acc: 0.4557\n"
     ]
    },
    {
     "name": "stderr",
     "output_type": "stream",
     "text": [
      "100%|████████████████████████████████████████████████████████████████████████████████| 102/102 [00:01<00:00, 85.71it/s]\n"
     ]
    },
    {
     "name": "stdout",
     "output_type": "stream",
     "text": [
      "val Loss: 1.5360 Acc: 0.4413\n",
      "INFO: Early stopping counter 1 of 7\n",
      "------------------------------------------------------------------------------------------------------------------------\n",
      "\n",
      "Epoch 10/50\n",
      "------------------------------------------------------------------------------------------------------------------------\n"
     ]
    },
    {
     "name": "stderr",
     "output_type": "stream",
     "text": [
      "100%|████████████████████████████████████████████████████████████████████████████████| 357/357 [00:05<00:00, 61.33it/s]\n"
     ]
    },
    {
     "name": "stdout",
     "output_type": "stream",
     "text": [
      "train Loss: 1.5102 Acc: 0.4597\n"
     ]
    },
    {
     "name": "stderr",
     "output_type": "stream",
     "text": [
      "100%|████████████████████████████████████████████████████████████████████████████████| 102/102 [00:01<00:00, 84.01it/s]\n"
     ]
    },
    {
     "name": "stdout",
     "output_type": "stream",
     "text": [
      "val Loss: 1.5276 Acc: 0.4472\n",
      "------------------------------------------------------------------------------------------------------------------------\n",
      "\n",
      "Epoch 11/50\n",
      "------------------------------------------------------------------------------------------------------------------------\n"
     ]
    },
    {
     "name": "stderr",
     "output_type": "stream",
     "text": [
      "100%|████████████████████████████████████████████████████████████████████████████████| 357/357 [00:05<00:00, 62.52it/s]\n"
     ]
    },
    {
     "name": "stdout",
     "output_type": "stream",
     "text": [
      "train Loss: 1.5048 Acc: 0.4600\n"
     ]
    },
    {
     "name": "stderr",
     "output_type": "stream",
     "text": [
      "100%|████████████████████████████████████████████████████████████████████████████████| 102/102 [00:01<00:00, 89.47it/s]\n"
     ]
    },
    {
     "name": "stdout",
     "output_type": "stream",
     "text": [
      "val Loss: 1.5223 Acc: 0.4468\n",
      "INFO: Early stopping counter 1 of 7\n",
      "------------------------------------------------------------------------------------------------------------------------\n",
      "\n",
      "Epoch 12/50\n",
      "------------------------------------------------------------------------------------------------------------------------\n"
     ]
    },
    {
     "name": "stderr",
     "output_type": "stream",
     "text": [
      "100%|████████████████████████████████████████████████████████████████████████████████| 357/357 [00:05<00:00, 60.44it/s]\n"
     ]
    },
    {
     "name": "stdout",
     "output_type": "stream",
     "text": [
      "train Loss: 1.4978 Acc: 0.4604\n"
     ]
    },
    {
     "name": "stderr",
     "output_type": "stream",
     "text": [
      "100%|████████████████████████████████████████████████████████████████████████████████| 102/102 [00:01<00:00, 84.15it/s]\n"
     ]
    },
    {
     "name": "stdout",
     "output_type": "stream",
     "text": [
      "val Loss: 1.5202 Acc: 0.4497\n",
      "------------------------------------------------------------------------------------------------------------------------\n",
      "\n",
      "Epoch 13/50\n",
      "------------------------------------------------------------------------------------------------------------------------\n"
     ]
    },
    {
     "name": "stderr",
     "output_type": "stream",
     "text": [
      "100%|████████████████████████████████████████████████████████████████████████████████| 357/357 [00:05<00:00, 61.05it/s]\n"
     ]
    },
    {
     "name": "stdout",
     "output_type": "stream",
     "text": [
      "train Loss: 1.4896 Acc: 0.4658\n"
     ]
    },
    {
     "name": "stderr",
     "output_type": "stream",
     "text": [
      "100%|████████████████████████████████████████████████████████████████████████████████| 102/102 [00:01<00:00, 83.67it/s]\n"
     ]
    },
    {
     "name": "stdout",
     "output_type": "stream",
     "text": [
      "val Loss: 1.5297 Acc: 0.4509\n",
      "------------------------------------------------------------------------------------------------------------------------\n",
      "\n",
      "Epoch 14/50\n",
      "------------------------------------------------------------------------------------------------------------------------\n"
     ]
    },
    {
     "name": "stderr",
     "output_type": "stream",
     "text": [
      "100%|████████████████████████████████████████████████████████████████████████████████| 357/357 [00:05<00:00, 61.13it/s]\n"
     ]
    },
    {
     "name": "stdout",
     "output_type": "stream",
     "text": [
      "train Loss: 1.4819 Acc: 0.4686\n"
     ]
    },
    {
     "name": "stderr",
     "output_type": "stream",
     "text": [
      "100%|████████████████████████████████████████████████████████████████████████████████| 102/102 [00:01<00:00, 84.36it/s]\n"
     ]
    },
    {
     "name": "stdout",
     "output_type": "stream",
     "text": [
      "val Loss: 1.5246 Acc: 0.4491\n",
      "INFO: Early stopping counter 1 of 7\n",
      "------------------------------------------------------------------------------------------------------------------------\n",
      "\n",
      "Epoch 15/50\n",
      "------------------------------------------------------------------------------------------------------------------------\n"
     ]
    },
    {
     "name": "stderr",
     "output_type": "stream",
     "text": [
      "100%|████████████████████████████████████████████████████████████████████████████████| 357/357 [00:05<00:00, 60.01it/s]\n"
     ]
    },
    {
     "name": "stdout",
     "output_type": "stream",
     "text": [
      "train Loss: 1.4754 Acc: 0.4718\n"
     ]
    },
    {
     "name": "stderr",
     "output_type": "stream",
     "text": [
      "100%|████████████████████████████████████████████████████████████████████████████████| 102/102 [00:01<00:00, 84.99it/s]\n"
     ]
    },
    {
     "name": "stdout",
     "output_type": "stream",
     "text": [
      "val Loss: 1.5241 Acc: 0.4505\n",
      "INFO: Early stopping counter 2 of 7\n",
      "------------------------------------------------------------------------------------------------------------------------\n",
      "\n",
      "Epoch 16/50\n",
      "------------------------------------------------------------------------------------------------------------------------\n"
     ]
    },
    {
     "name": "stderr",
     "output_type": "stream",
     "text": [
      "100%|████████████████████████████████████████████████████████████████████████████████| 357/357 [00:05<00:00, 62.83it/s]\n"
     ]
    },
    {
     "name": "stdout",
     "output_type": "stream",
     "text": [
      "train Loss: 1.4695 Acc: 0.4715\n"
     ]
    },
    {
     "name": "stderr",
     "output_type": "stream",
     "text": [
      "100%|████████████████████████████████████████████████████████████████████████████████| 102/102 [00:01<00:00, 82.38it/s]\n"
     ]
    },
    {
     "name": "stdout",
     "output_type": "stream",
     "text": [
      "val Loss: 1.5263 Acc: 0.4514\n",
      "------------------------------------------------------------------------------------------------------------------------\n",
      "\n",
      "Epoch 17/50\n",
      "------------------------------------------------------------------------------------------------------------------------\n"
     ]
    },
    {
     "name": "stderr",
     "output_type": "stream",
     "text": [
      "100%|████████████████████████████████████████████████████████████████████████████████| 357/357 [00:05<00:00, 60.59it/s]\n"
     ]
    },
    {
     "name": "stdout",
     "output_type": "stream",
     "text": [
      "train Loss: 1.4590 Acc: 0.4781\n"
     ]
    },
    {
     "name": "stderr",
     "output_type": "stream",
     "text": [
      "100%|████████████████████████████████████████████████████████████████████████████████| 102/102 [00:01<00:00, 78.15it/s]\n"
     ]
    },
    {
     "name": "stdout",
     "output_type": "stream",
     "text": [
      "val Loss: 1.5262 Acc: 0.4481\n",
      "INFO: Early stopping counter 1 of 7\n",
      "------------------------------------------------------------------------------------------------------------------------\n",
      "\n",
      "Epoch 18/50\n",
      "------------------------------------------------------------------------------------------------------------------------\n"
     ]
    },
    {
     "name": "stderr",
     "output_type": "stream",
     "text": [
      "100%|████████████████████████████████████████████████████████████████████████████████| 357/357 [00:05<00:00, 60.72it/s]\n"
     ]
    },
    {
     "name": "stdout",
     "output_type": "stream",
     "text": [
      "train Loss: 1.4529 Acc: 0.4769\n"
     ]
    },
    {
     "name": "stderr",
     "output_type": "stream",
     "text": [
      "100%|████████████████████████████████████████████████████████████████████████████████| 102/102 [00:01<00:00, 83.05it/s]\n"
     ]
    },
    {
     "name": "stdout",
     "output_type": "stream",
     "text": [
      "val Loss: 1.5278 Acc: 0.4498\n",
      "INFO: Early stopping counter 2 of 7\n",
      "------------------------------------------------------------------------------------------------------------------------\n",
      "\n",
      "Epoch 19/50\n",
      "------------------------------------------------------------------------------------------------------------------------\n"
     ]
    },
    {
     "name": "stderr",
     "output_type": "stream",
     "text": [
      "100%|████████████████████████████████████████████████████████████████████████████████| 357/357 [00:05<00:00, 60.94it/s]\n"
     ]
    },
    {
     "name": "stdout",
     "output_type": "stream",
     "text": [
      "train Loss: 1.4466 Acc: 0.4787\n"
     ]
    },
    {
     "name": "stderr",
     "output_type": "stream",
     "text": [
      "100%|████████████████████████████████████████████████████████████████████████████████| 102/102 [00:01<00:00, 82.99it/s]\n"
     ]
    },
    {
     "name": "stdout",
     "output_type": "stream",
     "text": [
      "val Loss: 1.5185 Acc: 0.4531\n",
      "------------------------------------------------------------------------------------------------------------------------\n",
      "\n",
      "Epoch 20/50\n",
      "------------------------------------------------------------------------------------------------------------------------\n"
     ]
    },
    {
     "name": "stderr",
     "output_type": "stream",
     "text": [
      "100%|████████████████████████████████████████████████████████████████████████████████| 357/357 [00:05<00:00, 62.11it/s]\n"
     ]
    },
    {
     "name": "stdout",
     "output_type": "stream",
     "text": [
      "train Loss: 1.4390 Acc: 0.4826\n"
     ]
    },
    {
     "name": "stderr",
     "output_type": "stream",
     "text": [
      "100%|████████████████████████████████████████████████████████████████████████████████| 102/102 [00:01<00:00, 83.81it/s]\n"
     ]
    },
    {
     "name": "stdout",
     "output_type": "stream",
     "text": [
      "val Loss: 1.5216 Acc: 0.4507\n",
      "INFO: Early stopping counter 1 of 7\n",
      "------------------------------------------------------------------------------------------------------------------------\n",
      "\n",
      "Epoch 21/50\n",
      "------------------------------------------------------------------------------------------------------------------------\n"
     ]
    },
    {
     "name": "stderr",
     "output_type": "stream",
     "text": [
      "100%|████████████████████████████████████████████████████████████████████████████████| 357/357 [00:05<00:00, 60.74it/s]\n"
     ]
    },
    {
     "name": "stdout",
     "output_type": "stream",
     "text": [
      "train Loss: 1.4288 Acc: 0.4870\n"
     ]
    },
    {
     "name": "stderr",
     "output_type": "stream",
     "text": [
      "100%|████████████████████████████████████████████████████████████████████████████████| 102/102 [00:01<00:00, 84.78it/s]\n"
     ]
    },
    {
     "name": "stdout",
     "output_type": "stream",
     "text": [
      "val Loss: 1.5198 Acc: 0.4514\n",
      "INFO: Early stopping counter 2 of 7\n",
      "------------------------------------------------------------------------------------------------------------------------\n",
      "\n",
      "Epoch 22/50\n",
      "------------------------------------------------------------------------------------------------------------------------\n"
     ]
    },
    {
     "name": "stderr",
     "output_type": "stream",
     "text": [
      "100%|████████████████████████████████████████████████████████████████████████████████| 357/357 [00:05<00:00, 61.41it/s]\n"
     ]
    },
    {
     "name": "stdout",
     "output_type": "stream",
     "text": [
      "train Loss: 1.4208 Acc: 0.4903\n"
     ]
    },
    {
     "name": "stderr",
     "output_type": "stream",
     "text": [
      "100%|████████████████████████████████████████████████████████████████████████████████| 102/102 [00:01<00:00, 85.21it/s]\n"
     ]
    },
    {
     "name": "stdout",
     "output_type": "stream",
     "text": [
      "val Loss: 1.5255 Acc: 0.4494\n",
      "Epoch 00022: reducing learning rate of group 0 to 5.0000e-05.\n",
      "INFO: Early stopping counter 3 of 7\n",
      "------------------------------------------------------------------------------------------------------------------------\n",
      "\n",
      "Epoch 23/50\n",
      "------------------------------------------------------------------------------------------------------------------------\n"
     ]
    },
    {
     "name": "stderr",
     "output_type": "stream",
     "text": [
      "100%|████████████████████████████████████████████████████████████████████████████████| 357/357 [00:05<00:00, 61.29it/s]\n"
     ]
    },
    {
     "name": "stdout",
     "output_type": "stream",
     "text": [
      "train Loss: 1.3980 Acc: 0.4977\n"
     ]
    },
    {
     "name": "stderr",
     "output_type": "stream",
     "text": [
      "100%|████████████████████████████████████████████████████████████████████████████████| 102/102 [00:01<00:00, 85.71it/s]\n"
     ]
    },
    {
     "name": "stdout",
     "output_type": "stream",
     "text": [
      "val Loss: 1.5334 Acc: 0.4487\n",
      "INFO: Early stopping counter 4 of 7\n",
      "------------------------------------------------------------------------------------------------------------------------\n",
      "\n",
      "Epoch 24/50\n",
      "------------------------------------------------------------------------------------------------------------------------\n"
     ]
    },
    {
     "name": "stderr",
     "output_type": "stream",
     "text": [
      "100%|████████████████████████████████████████████████████████████████████████████████| 357/357 [00:05<00:00, 60.28it/s]\n"
     ]
    },
    {
     "name": "stdout",
     "output_type": "stream",
     "text": [
      "train Loss: 1.3921 Acc: 0.5007\n"
     ]
    },
    {
     "name": "stderr",
     "output_type": "stream",
     "text": [
      "100%|████████████████████████████████████████████████████████████████████████████████| 102/102 [00:01<00:00, 83.46it/s]\n"
     ]
    },
    {
     "name": "stdout",
     "output_type": "stream",
     "text": [
      "val Loss: 1.5354 Acc: 0.4465\n",
      "INFO: Early stopping counter 5 of 7\n",
      "------------------------------------------------------------------------------------------------------------------------\n",
      "\n",
      "Epoch 25/50\n",
      "------------------------------------------------------------------------------------------------------------------------\n"
     ]
    },
    {
     "name": "stderr",
     "output_type": "stream",
     "text": [
      "100%|████████████████████████████████████████████████████████████████████████████████| 357/357 [00:05<00:00, 61.24it/s]\n"
     ]
    },
    {
     "name": "stdout",
     "output_type": "stream",
     "text": [
      "train Loss: 1.3855 Acc: 0.5047\n"
     ]
    },
    {
     "name": "stderr",
     "output_type": "stream",
     "text": [
      "100%|████████████████████████████████████████████████████████████████████████████████| 102/102 [00:01<00:00, 85.85it/s]\n"
     ]
    },
    {
     "name": "stdout",
     "output_type": "stream",
     "text": [
      "val Loss: 1.5356 Acc: 0.4468\n",
      "Epoch 00025: reducing learning rate of group 0 to 2.5000e-05.\n",
      "INFO: Early stopping counter 6 of 7\n",
      "------------------------------------------------------------------------------------------------------------------------\n",
      "\n",
      "Epoch 26/50\n",
      "------------------------------------------------------------------------------------------------------------------------\n"
     ]
    },
    {
     "name": "stderr",
     "output_type": "stream",
     "text": [
      "100%|████████████████████████████████████████████████████████████████████████████████| 357/357 [00:05<00:00, 61.44it/s]\n"
     ]
    },
    {
     "name": "stdout",
     "output_type": "stream",
     "text": [
      "train Loss: 1.3731 Acc: 0.5044\n"
     ]
    },
    {
     "name": "stderr",
     "output_type": "stream",
     "text": [
      "100%|████████████████████████████████████████████████████████████████████████████████| 102/102 [00:01<00:00, 84.08it/s]"
     ]
    },
    {
     "name": "stdout",
     "output_type": "stream",
     "text": [
      "val Loss: 1.5277 Acc: 0.4491\n",
      "INFO: Early stopping counter 7 of 7\n",
      "------------------------------------------------------------------------------------------------------------------------\n",
      "\n",
      "Best val Acc: 0.453125\n",
      "Best epoch: 019\n"
     ]
    },
    {
     "name": "stderr",
     "output_type": "stream",
     "text": [
      "\n"
     ]
    }
   ],
   "source": [
    "#normal learning-> without updating the graph\n",
    "batch_size = 128\n",
    "update_graph = False\n",
    "res = {}\n",
    "if not os.path.exists('res_baseline_for_multitask/normal'):\n",
    "    os.makedirs('res_baseline_for_multitask/normal')\n",
    "for task in ('style', 'genre', 'emotion'):\n",
    "    print(f\"{'*'*50}{task.upper()}{'*'*50}\")\n",
    "    train_data, val_data, test_data = import_dataset(root = 'dataset_multi_task', feat='vit', fine_tuning=True,\n",
    "                                                                 obj=task, device=device)\n",
    "    model = ModelClassification(train_data, hidden_channels = 128,\n",
    "                           obj= task, head_num_layers = 5, gnn_activation = nn.Tanh(),\n",
    "                           head_activation = nn.LeakyReLU, shared = True, gnn_mean = False, bnorm = False,\n",
    "                           drop_rate = 0.25).to(device)\n",
    "    \n",
    "    train_dataset = ClassificationDataSet(train_data, obj = task)\n",
    "    val_dataset = ClassificationDataSet(val_data, obj = task)\n",
    "    test_dataset = ClassificationDataSet(test_data, obj = task)\n",
    "\n",
    "    \n",
    "    train_loader = DataLoader(train_dataset, batch_size=batch_size, shuffle=False, \n",
    "                                   drop_last=False)\n",
    "\n",
    "    val_loader = DataLoader(val_dataset, batch_size=batch_size, shuffle=False, \n",
    "                                   drop_last=False)\n",
    "\n",
    "    test_loader = DataLoader(test_dataset, batch_size=batch_size, shuffle=False, \n",
    "                                   drop_last=False)\n",
    "    #initialize encoders parameters\n",
    "    with torch.no_grad():\n",
    "        model.encoder(train_data.x_dict, train_data.edge_index_dict)\n",
    "    \n",
    "    \n",
    "    criterion = nn.CrossEntropyLoss()\n",
    "    optimizer = optim.Adam(model.parameters(), lr=1e-4)\n",
    "    scheduler = lr_scheduler.ReduceLROnPlateau(optimizer, 'max', min_lr = 1e-7, verbose = True, factor = .5, patience = 2,\n",
    "                                               threshold = 1e-4)\n",
    "    early_stop= EarlyStopping(patience = 7, min_delta = -1e-4)\n",
    "    best_model, best_acc=fine_tune(model, train_loader, val_loader, criterion, optimizer, scheduler, early_stop, num_epochs = 50,\n",
    "                                  update_graph = False)\n",
    "    torch.save(best_model, fr'res_baseline_for_multitask/normal/{task}.pt')\n",
    "    res[task] = best_acc.item()"
   ]
  },
  {
   "cell_type": "code",
   "execution_count": null,
   "id": "a516c2bd",
   "metadata": {},
   "outputs": [],
   "source": [
    "res"
   ]
  },
  {
   "cell_type": "code",
   "execution_count": null,
   "id": "e14f0352",
   "metadata": {},
   "outputs": [],
   "source": [
    "import json\n",
    "with open('res_classification/results.json','w') as f:\n",
    "    json.dump(res,f)"
   ]
  },
  {
   "cell_type": "markdown",
   "id": "c3e8bfcc",
   "metadata": {},
   "source": [
    "## TESTING"
   ]
  },
  {
   "cell_type": "code",
   "execution_count": 13,
   "id": "0460e083",
   "metadata": {},
   "outputs": [],
   "source": [
    "history_map = {}"
   ]
  },
  {
   "cell_type": "code",
   "execution_count": 14,
   "id": "cd69637e",
   "metadata": {},
   "outputs": [],
   "source": [
    "from sklearn.metrics import confusion_matrix\n",
    "import seaborn as sns\n",
    "#plot confusion matrix\n",
    "def plot_confusion_matrix(true, pred, task = None, strategy=None , labels = None, hop = 1):\n",
    "    conf_mat = confusion_matrix(true, pred, normalize = 'true')\n",
    "    sns.set(font_scale=1.5) # for label size\n",
    "    fig, ax = plt.subplots(figsize = (12,12))\n",
    "    \n",
    "    ax = sns.heatmap(pd.DataFrame(conf_mat), annot = False, cmap = plt.cm.Blues,\n",
    "                     xticklabels = labels,\n",
    "                     yticklabels = labels,\n",
    "                     square = True,\n",
    "                     linewidths=.50)\n",
    "    \n",
    "    plt.show()\n",
    "    if task:\n",
    "        fig.savefig(f'{task}_{strategy}.svg')"
   ]
  },
  {
   "cell_type": "code",
   "execution_count": 15,
   "id": "cc35db9a",
   "metadata": {},
   "outputs": [],
   "source": [
    "def compute_topk(true, pred, k):\n",
    "    #target data frame to compute topk\n",
    "    df = pd.DataFrame(true, columns = ['true'])\n",
    "    #useful dataframe to compute top k target for each artwork\n",
    "    temp = pd.DataFrame(pd.DataFrame(pred).apply(lambda x: x.tolist(), axis = 1), columns = ['pred'])\n",
    "    temp['temp'] = temp.pred.map(lambda x: list(range(len(x))))#for each artwork list of classes\n",
    "    temp['temp'] = temp.apply(lambda x: list(zip(x['pred'], x['temp'])), axis = 1)#zip probabilities with classes\n",
    "    temp['topk'] = temp['temp'].map(lambda x: list(sorted(x, reverse = True))[:k])#sorting\n",
    "    df['topk'] = temp.topk.map(lambda x: list(map(lambda y: y[1], x)))#taking only classes\n",
    "    \n",
    "    df['cond'] = df.apply(lambda x: x['true'] in x['topk'], axis = 1)\n",
    "    return df[df.cond].index.shape[0] / df.index.shape[0]\n",
    "    "
   ]
  },
  {
   "cell_type": "code",
   "execution_count": 16,
   "id": "fbf69aa5",
   "metadata": {},
   "outputs": [],
   "source": [
    "from matplotlib import rcParams\n",
    "rcParams.update({'figure.autolayout': True})"
   ]
  },
  {
   "cell_type": "code",
   "execution_count": 17,
   "id": "7c1cfcd7",
   "metadata": {
    "scrolled": true
   },
   "outputs": [
    {
     "name": "stderr",
     "output_type": "stream",
     "text": [
      "100%|██████████████████████████████████████████████████████████████████████████████████| 51/51 [00:01<00:00, 33.70it/s]\n"
     ]
    },
    {
     "data": {
      "image/png": "[encoded data removed]",
      "text/plain": [
       "<Figure size 864x864 with 2 Axes>"
      ]
     },
     "metadata": {},
     "output_type": "display_data"
    },
    {
     "name": "stderr",
     "output_type": "stream",
     "text": [
      "100%|██████████████████████████████████████████████████████████████████████████████████| 51/51 [00:01<00:00, 33.28it/s]\n"
     ]
    },
    {
     "data": {
      "image/png": "[encoded data removed]",
      "text/plain": [
       "<Figure size 864x864 with 2 Axes>"
      ]
     },
     "metadata": {},
     "output_type": "display_data"
    },
    {
     "name": "stderr",
     "output_type": "stream",
     "text": [
      "100%|██████████████████████████████████████████████████████████████████████████████████| 51/51 [00:01<00:00, 35.07it/s]\n"
     ]
    },
    {
     "data": {
      "image/png": "[encoded data removed]",
      "text/plain": [
       "<Figure size 864x864 with 2 Axes>"
      ]
     },
     "metadata": {},
     "output_type": "display_data"
    }
   ],
   "source": [
    "#testing without updating the graph\n",
    "from sklearn.metrics import ConfusionMatrixDisplay, f1_score\n",
    "batch_size = 128\n",
    "map_hop={'style':5,\n",
    "        'genre':3,\n",
    "        'emotion':2}\n",
    "results_df = pd.DataFrame(columns = ['Top1', 'Top2', 'Macro-F1'], index = ('style', 'genre', 'emotion'))\n",
    "for task in ('style', 'genre', 'emotion'):\n",
    "    model = torch.load(fr'res_baseline_for_multitask/normal/{task}.pt').to(device)\n",
    "    \n",
    "    task2name = pd.read_csv(f'artgraph2multi_task/mapping/{task}_entidx2name.csv', names = ['idx','name'])\n",
    "    names = task2name['name'].values\n",
    "    \n",
    "    test_data = torch.load(fr'dataset_multi_task/test_data_{task}_vit_fine-tuning.pt').to(device)\n",
    "    test_dataset = ClassificationDataSet(test_data, obj = task)\n",
    "    test_loader = test_loader = DataLoader(test_dataset, batch_size=batch_size, shuffle=True, \n",
    "                                   drop_last=False, worker_init_fn=np.random.seed(1))\n",
    "    \n",
    "    true, pred, history = test(model, test_loader, update_graph = False, track_history = True)\n",
    "    \n",
    "    if task == 'genre':\n",
    "        history_map['normal_no_update'] = history\n",
    "    pred = pred.numpy()\n",
    "    results_df['Top1'].loc[task] = compute_topk(true, pred, 1)\n",
    "    results_df['Top2'].loc[task] = compute_topk(true, pred, 2)\n",
    "    pred = torch.max(torch.Tensor(pred), 1)[1]\n",
    "    results_df['Macro-F1'].loc[task] = f1_score(true, pred, average = 'macro')\n",
    "    plot_confusion_matrix(true, pred, task = task, strategy = 'normal', labels = task2name['name'], hop = map_hop[task])\n",
    "    #ConfusionMatrixDisplay.from_predictions(true, pred, normalize = 'true', include_values = False)\n",
    "    plt.show()"
   ]
  },
  {
   "cell_type": "code",
   "execution_count": 18,
   "id": "b9b32cef",
   "metadata": {
    "scrolled": true
   },
   "outputs": [
    {
     "data": {
      "text/html": [
       "<div>\n",
       "<style scoped>\n",
       "    .dataframe tbody tr th:only-of-type {\n",
       "        vertical-align: middle;\n",
       "    }\n",
       "\n",
       "    .dataframe tbody tr th {\n",
       "        vertical-align: top;\n",
       "    }\n",
       "\n",
       "    .dataframe thead th {\n",
       "        text-align: right;\n",
       "    }\n",
       "</style>\n",
       "<table border=\"1\" class=\"dataframe\">\n",
       "  <thead>\n",
       "    <tr style=\"text-align: right;\">\n",
       "      <th></th>\n",
       "      <th>Top1</th>\n",
       "      <th>Top2</th>\n",
       "      <th>Macro-F1</th>\n",
       "    </tr>\n",
       "  </thead>\n",
       "  <tbody>\n",
       "    <tr>\n",
       "      <th>style</th>\n",
       "      <td>0.644247</td>\n",
       "      <td>0.81768</td>\n",
       "      <td>0.524777</td>\n",
       "    </tr>\n",
       "    <tr>\n",
       "      <th>genre</th>\n",
       "      <td>0.74751</td>\n",
       "      <td>0.88831</td>\n",
       "      <td>0.625955</td>\n",
       "    </tr>\n",
       "    <tr>\n",
       "      <th>emotion</th>\n",
       "      <td>0.444155</td>\n",
       "      <td>0.658495</td>\n",
       "      <td>0.255079</td>\n",
       "    </tr>\n",
       "  </tbody>\n",
       "</table>\n",
       "</div>"
      ],
      "text/plain": [
       "             Top1      Top2  Macro-F1\n",
       "style    0.644247   0.81768  0.524777\n",
       "genre     0.74751   0.88831  0.625955\n",
       "emotion  0.444155  0.658495  0.255079"
      ]
     },
     "execution_count": 18,
     "metadata": {},
     "output_type": "execute_result"
    }
   ],
   "source": [
    "results_df"
   ]
  },
  {
   "cell_type": "code",
   "execution_count": 19,
   "id": "7fb2d5db",
   "metadata": {},
   "outputs": [
    {
     "data": {
      "text/plain": [
       "HeteroData(\n",
       "  \u001b[1martwork\u001b[0m={ x=[65262, 128] },\n",
       "  \u001b[1martist\u001b[0m={ x=[2501, 1] },\n",
       "  \u001b[1mgallery\u001b[0m={ x=[1099, 1] },\n",
       "  \u001b[1mcity\u001b[0m={ x=[596, 1] },\n",
       "  \u001b[1mcountry\u001b[0m={ x=[58, 1] },\n",
       "  \u001b[1mstyle\u001b[0m={ x=[32, 1] },\n",
       "  \u001b[1mperiod\u001b[0m={ x=[186, 1] },\n",
       "  \u001b[1mgenre\u001b[0m={ x=[18, 1] },\n",
       "  \u001b[1mserie\u001b[0m={ x=[823, 1] },\n",
       "  \u001b[1mtag\u001b[0m={ x=[5424, 1] },\n",
       "  \u001b[1mmedia\u001b[0m={ x=[167, 1] },\n",
       "  \u001b[1msubject\u001b[0m={ x=[6985, 1] },\n",
       "  \u001b[1mtraining_node\u001b[0m={ x=[268, 1] },\n",
       "  \u001b[1mfield\u001b[0m={ x=[54, 1] },\n",
       "  \u001b[1mmovement\u001b[0m={ x=[243, 1] },\n",
       "  \u001b[1mpeople\u001b[0m={ x=[109, 1] },\n",
       "  \u001b[1memotion\u001b[0m={ x=[9, 1] },\n",
       "  \u001b[1m(artist, belongstofield, field)\u001b[0m={ edge_index=[2, 988] },\n",
       "  \u001b[1m(artist, belongstomovement, movement)\u001b[0m={ edge_index=[2, 1056] },\n",
       "  \u001b[1m(artist, haspatron, people)\u001b[0m={ edge_index=[2, 124] },\n",
       "  \u001b[1m(artist, hassubject, subject)\u001b[0m={ edge_index=[2, 21054] },\n",
       "  \u001b[1m(artist, relatedschool, training_node)\u001b[0m={ edge_index=[2, 498] },\n",
       "  \u001b[1m(artist, trainedby, artist)\u001b[0m={ edge_index=[2, 94] },\n",
       "  \u001b[1m(artwork, about, tag)\u001b[0m={ edge_index=[2, 158629] },\n",
       "  \u001b[1m(artwork, createdby, artist)\u001b[0m={ edge_index=[2, 45683] },\n",
       "  \u001b[1m(artwork, elicit, emotion)\u001b[0m={\n",
       "    edge_index=[2, 45683],\n",
       "    edge_label=[58743],\n",
       "    edge_label_index=[2, 58743]\n",
       "  },\n",
       "  \u001b[1m(artwork, hasgenre, genre)\u001b[0m={ edge_index=[2, 45683] },\n",
       "  \u001b[1m(artwork, hasperiod, period)\u001b[0m={ edge_index=[2, 2499] },\n",
       "  \u001b[1m(artwork, hasstyle, style)\u001b[0m={ edge_index=[2, 45683] },\n",
       "  \u001b[1m(artwork, locatedin, city)\u001b[0m={ edge_index=[2, 10255] },\n",
       "  \u001b[1m(artwork, locatedin, country)\u001b[0m={ edge_index=[2, 10232] },\n",
       "  \u001b[1m(artwork, locatedin, gallery)\u001b[0m={ edge_index=[2, 10236] },\n",
       "  \u001b[1m(artwork, madeof, media)\u001b[0m={ edge_index=[2, 41798] },\n",
       "  \u001b[1m(artwork, partof, serie)\u001b[0m={ edge_index=[2, 2920] },\n",
       "  \u001b[1m(city, incountry, country)\u001b[0m={ edge_index=[2, 608] },\n",
       "  \u001b[1m(gallery, incity, city)\u001b[0m={ edge_index=[2, 1109] },\n",
       "  \u001b[1m(gallery, incountry, country)\u001b[0m={ edge_index=[2, 1105] },\n",
       "  \u001b[1m(field, rev_belongstofield, artist)\u001b[0m={ edge_index=[2, 988] },\n",
       "  \u001b[1m(movement, rev_belongstomovement, artist)\u001b[0m={ edge_index=[2, 1056] },\n",
       "  \u001b[1m(people, rev_haspatron, artist)\u001b[0m={ edge_index=[2, 124] },\n",
       "  \u001b[1m(subject, rev_hassubject, artist)\u001b[0m={ edge_index=[2, 21054] },\n",
       "  \u001b[1m(training_node, rev_relatedschool, artist)\u001b[0m={ edge_index=[2, 498] },\n",
       "  \u001b[1m(tag, rev_about, artwork)\u001b[0m={ edge_index=[2, 158629] },\n",
       "  \u001b[1m(artist, rev_createdby, artwork)\u001b[0m={ edge_index=[2, 45683] },\n",
       "  \u001b[1m(genre, rev_hasgenre, artwork)\u001b[0m={ edge_index=[2, 45683] },\n",
       "  \u001b[1m(period, rev_hasperiod, artwork)\u001b[0m={ edge_index=[2, 2499] },\n",
       "  \u001b[1m(style, rev_hasstyle, artwork)\u001b[0m={ edge_index=[2, 45683] },\n",
       "  \u001b[1m(city, rev_locatedin, artwork)\u001b[0m={ edge_index=[2, 10255] },\n",
       "  \u001b[1m(country, rev_locatedin, artwork)\u001b[0m={ edge_index=[2, 10232] },\n",
       "  \u001b[1m(gallery, rev_locatedin, artwork)\u001b[0m={ edge_index=[2, 10236] },\n",
       "  \u001b[1m(media, rev_madeof, artwork)\u001b[0m={ edge_index=[2, 41798] },\n",
       "  \u001b[1m(serie, rev_partof, artwork)\u001b[0m={ edge_index=[2, 2920] },\n",
       "  \u001b[1m(country, rev_incountry, city)\u001b[0m={ edge_index=[2, 608] },\n",
       "  \u001b[1m(city, rev_incity, gallery)\u001b[0m={ edge_index=[2, 1109] },\n",
       "  \u001b[1m(country, rev_incountry, gallery)\u001b[0m={ edge_index=[2, 1105] },\n",
       "  \u001b[1m(emotion, to, artwork)\u001b[0m={}\n",
       ")"
      ]
     },
     "execution_count": 19,
     "metadata": {},
     "output_type": "execute_result"
    }
   ],
   "source": [
    "test_data"
   ]
  },
  {
   "cell_type": "code",
   "execution_count": null,
   "id": "421b0cee",
   "metadata": {},
   "outputs": [],
   "source": [
    "results_df.to_csv('res_classification/normal_no_update.csv')"
   ]
  },
  {
   "cell_type": "code",
   "execution_count": null,
   "id": "63d6c037",
   "metadata": {
    "scrolled": true
   },
   "outputs": [],
   "source": [
    "#testing updating the graph\n",
    "from sklearn.metrics import ConfusionMatrixDisplay, f1_score\n",
    "batch_size = 128\n",
    "map_hop={'style':5,\n",
    "        'genre':3,\n",
    "        'emotion':2}\n",
    "results_df = pd.DataFrame(columns = ['Top1', 'Top2', 'Macro-F1'], index = ('style', 'genre', 'emotion'))\n",
    "for task in ('style', 'genre', 'emotion'):\n",
    "    model = torch.load(fr'res_classification/normal/{task}.pt').to(device)\n",
    "    \n",
    "    task2name = pd.read_csv(f'artgraph2bestemotions/mapping/{task}_entidx2name.csv', names = ['idx','name'])\n",
    "    \n",
    "    test_data = torch.load(fr'dataset_full_conf/test_data_{task}_vit_fine-tuning.pt').to(device)\n",
    "    test_dataset = ClassificationDataSet(test_data, obj = task)\n",
    "    test_loader = DataLoader(test_dataset, batch_size=batch_size, shuffle=True, \n",
    "                                   drop_last=False)\n",
    "    \n",
    "    true, pred, history = test(model, test_loader, update_graph = True, track_history=True, topk = 1)\n",
    "    \n",
    "    if task == 'genre':\n",
    "        history_map['normal_update'] = history\n",
    "    pred = pred.numpy()\n",
    "    results_df['Top1'].loc[task] = compute_topk(true, pred, 1)\n",
    "    results_df['Top2'].loc[task] = compute_topk(true, pred, 2)\n",
    "    pred = torch.max(torch.Tensor(pred), 1)[1]\n",
    "    results_df['Macro-F1'].loc[task] = f1_score(true, pred, average = 'macro')\n",
    "    plot_confusion_matrix(true, pred, task = task, strategy = 'update', labels = task2name['name'], hop = map_hop[task])\n",
    "    #ConfusionMatrixDisplay.from_predictions(true, pred, normalize = 'true', include_values = False)\n",
    "    plt.show()"
   ]
  },
  {
   "cell_type": "code",
   "execution_count": null,
   "id": "8a1ee0cc",
   "metadata": {
    "scrolled": true
   },
   "outputs": [],
   "source": [
    "results_df"
   ]
  },
  {
   "cell_type": "code",
   "execution_count": null,
   "id": "8d02e4e1",
   "metadata": {},
   "outputs": [],
   "source": [
    "results_df.to_csv('res_classification/normal_update.csv')"
   ]
  }
 ],
 "metadata": {
  "kernelspec": {
   "display_name": "Python [conda env:tesi]",
   "language": "python",
   "name": "conda-env-tesi-py"
  },
  "language_info": {
   "codemirror_mode": {
    "name": "ipython",
    "version": 3
   },
   "file_extension": ".py",
   "mimetype": "text/x-python",
   "name": "python",
   "nbconvert_exporter": "python",
   "pygments_lexer": "ipython3",
   "version": "3.9.7"
  }
 },
 "nbformat": 4,
 "nbformat_minor": 5
}
