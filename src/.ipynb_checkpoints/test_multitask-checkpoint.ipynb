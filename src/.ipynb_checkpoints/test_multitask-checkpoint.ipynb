{
 "cells": [
  {
   "cell_type": "code",
   "execution_count": 4,
   "id": "db544cbc",
   "metadata": {
    "pycharm": {
     "is_executing": true
    }
   },
   "outputs": [],
   "source": [
    "from load_dataset.artgraph import ArtGraph\n",
    "from utils.MultiTaskLinkSplitter import MultiTaskLinkSplitter\n",
    "from utils.dataset import TrainingDataSet, TestDataSet\n",
    "from utils.EarlyStopping import EarlyStopping\n",
    "from multi_task_model import MultiTaskClassificationModel, NewMultiTaskClassificationModel\n",
    "from torch import nn\n",
    "from utils.training_utils import fine_tune, test as test_func, compute_topk, plot_confusion_matrix\n",
    "from torch.utils.data import DataLoader\n",
    "from torch import optim\n",
    "import torch\n",
    "import pandas as pd\n",
    "from sklearn.metrics import f1_score\n",
    "import matplotlib.pyplot as plt\n",
    "from torch.optim import lr_scheduler\n",
    "%matplotlib inline"
   ]
  },
  {
   "cell_type": "code",
   "execution_count": 5,
   "id": "bbf0cf73",
   "metadata": {},
   "outputs": [
    {
     "name": "stdout",
     "output_type": "stream",
     "text": [
      "2.0.4\n"
     ]
    }
   ],
   "source": [
    "import torch_geometric; print(torch_geometric.__version__)"
   ]
  },
  {
   "cell_type": "code",
   "execution_count": 7,
   "id": "01d501df",
   "metadata": {},
   "outputs": [],
   "source": [
    "from torch_geometric.seed import seed_everything\n",
    "seed_everything(1)"
   ]
  },
  {
   "cell_type": "code",
   "execution_count": 8,
   "id": "610546a5",
   "metadata": {},
   "outputs": [],
   "source": [
    "root = 'artgraph2bestemotions'\n",
    "data_path = 'data_full_labels.csv'\n",
    "root_dataset = 'common_dataset'"
   ]
  },
  {
   "cell_type": "code",
   "execution_count": 9,
   "id": "db59ad39",
   "metadata": {
    "scrolled": true
   },
   "outputs": [
    {
     "name": "stderr",
     "output_type": "stream",
     "text": [
      "Processing...\n",
      "Done!\n"
     ]
    },
    {
     "data": {
      "text/plain": [
       "HeteroData(\n",
       "  \u001b[1martwork\u001b[0m={ x=[116475, 128] },\n",
       "  \u001b[1martist\u001b[0m={ x=[2501, 1] },\n",
       "  \u001b[1mgallery\u001b[0m={ x=[1099, 1] },\n",
       "  \u001b[1mcity\u001b[0m={ x=[596, 1] },\n",
       "  \u001b[1mcountry\u001b[0m={ x=[58, 1] },\n",
       "  \u001b[1mstyle\u001b[0m={ x=[32, 1] },\n",
       "  \u001b[1mperiod\u001b[0m={ x=[186, 1] },\n",
       "  \u001b[1mgenre\u001b[0m={ x=[18, 1] },\n",
       "  \u001b[1mserie\u001b[0m={ x=[823, 1] },\n",
       "  \u001b[1mtag\u001b[0m={ x=[5424, 1] },\n",
       "  \u001b[1mmedia\u001b[0m={ x=[167, 1] },\n",
       "  \u001b[1msubject\u001b[0m={ x=[6985, 1] },\n",
       "  \u001b[1mtraining_node\u001b[0m={ x=[268, 1] },\n",
       "  \u001b[1mfield\u001b[0m={ x=[54, 1] },\n",
       "  \u001b[1mmovement\u001b[0m={ x=[243, 1] },\n",
       "  \u001b[1mpeople\u001b[0m={ x=[109, 1] },\n",
       "  \u001b[1memotion\u001b[0m={ x=[9, 1] },\n",
       "  \u001b[1m(artist, belongstofield, field)\u001b[0m={ edge_index=[2, 987] },\n",
       "  \u001b[1m(artist, belongstomovement, movement)\u001b[0m={ edge_index=[2, 1056] },\n",
       "  \u001b[1m(artist, haspatron, people)\u001b[0m={ edge_index=[2, 124] },\n",
       "  \u001b[1m(artist, hassubject, subject)\u001b[0m={ edge_index=[2, 21054] },\n",
       "  \u001b[1m(artist, relatedtoschool, training_node)\u001b[0m={ edge_index=[2, 498] },\n",
       "  \u001b[1m(artist, trainedby, artist)\u001b[0m={ edge_index=[2, 47] },\n",
       "  \u001b[1m(artwork, about, tag)\u001b[0m={ edge_index=[2, 342982] },\n",
       "  \u001b[1m(artwork, createdby, artist)\u001b[0m={ edge_index=[2, 116475] },\n",
       "  \u001b[1m(artwork, elicit, emotion)\u001b[0m={ edge_index=[2, 65236] },\n",
       "  \u001b[1m(artwork, hasgenre, genre)\u001b[0m={ edge_index=[2, 116475] },\n",
       "  \u001b[1m(artwork, hasperiod, period)\u001b[0m={ edge_index=[2, 5748] },\n",
       "  \u001b[1m(artwork, hasstyle, style)\u001b[0m={ edge_index=[2, 116475] },\n",
       "  \u001b[1m(artwork, locatedin, city)\u001b[0m={ edge_index=[2, 19532] },\n",
       "  \u001b[1m(artwork, locatedin, country)\u001b[0m={ edge_index=[2, 19488] },\n",
       "  \u001b[1m(artwork, locatedin, gallery)\u001b[0m={ edge_index=[2, 19504] },\n",
       "  \u001b[1m(artwork, madeof, media)\u001b[0m={ edge_index=[2, 83824] },\n",
       "  \u001b[1m(artwork, partof, serie)\u001b[0m={ edge_index=[2, 8322] },\n",
       "  \u001b[1m(city, incountry, country)\u001b[0m={ edge_index=[2, 608] },\n",
       "  \u001b[1m(gallery, incity, city)\u001b[0m={ edge_index=[2, 1109] },\n",
       "  \u001b[1m(gallery, incountry, country)\u001b[0m={ edge_index=[2, 1105] }\n",
       ")"
      ]
     },
     "execution_count": 9,
     "metadata": {},
     "output_type": "execute_result"
    }
   ],
   "source": [
    "data = ArtGraph(root = root, preprocess='constant', features = 'vit', fine_tuning = True)[0]\n",
    "data"
   ]
  },
  {
   "cell_type": "code",
   "execution_count": 10,
   "id": "4cfda96d",
   "metadata": {},
   "outputs": [],
   "source": [
    "train = torch.load(f'{root_dataset}/train_data.pt')\n",
    "val = torch.load(f'{root_dataset}/val_set.pt')\n",
    "test = torch.load(f'{root_dataset}/test_set.pt')"
   ]
  },
  {
   "cell_type": "code",
   "execution_count": 11,
   "id": "788c0bf9",
   "metadata": {},
   "outputs": [
    {
     "name": "stdout",
     "output_type": "stream",
     "text": [
      "HeteroData(\n",
      "  \u001b[1martwork\u001b[0m={ x=[116475, 128] },\n",
      "  \u001b[1martist\u001b[0m={ x=[2501, 1] },\n",
      "  \u001b[1mgallery\u001b[0m={ x=[1099, 1] },\n",
      "  \u001b[1mcity\u001b[0m={ x=[596, 1] },\n",
      "  \u001b[1mcountry\u001b[0m={ x=[58, 1] },\n",
      "  \u001b[1mstyle\u001b[0m={ x=[32, 1] },\n",
      "  \u001b[1mperiod\u001b[0m={ x=[186, 1] },\n",
      "  \u001b[1mgenre\u001b[0m={ x=[18, 1] },\n",
      "  \u001b[1mserie\u001b[0m={ x=[823, 1] },\n",
      "  \u001b[1mtag\u001b[0m={ x=[5424, 1] },\n",
      "  \u001b[1mmedia\u001b[0m={ x=[167, 1] },\n",
      "  \u001b[1msubject\u001b[0m={ x=[6985, 1] },\n",
      "  \u001b[1mtraining_node\u001b[0m={ x=[268, 1] },\n",
      "  \u001b[1mfield\u001b[0m={ x=[54, 1] },\n",
      "  \u001b[1mmovement\u001b[0m={ x=[243, 1] },\n",
      "  \u001b[1mpeople\u001b[0m={ x=[109, 1] },\n",
      "  \u001b[1memotion\u001b[0m={ x=[9, 1] },\n",
      "  \u001b[1m(artist, belongstofield, field)\u001b[0m={ edge_index=[2, 987] },\n",
      "  \u001b[1m(artist, belongstomovement, movement)\u001b[0m={ edge_index=[2, 1056] },\n",
      "  \u001b[1m(artist, haspatron, people)\u001b[0m={ edge_index=[2, 124] },\n",
      "  \u001b[1m(artist, hassubject, subject)\u001b[0m={ edge_index=[2, 21054] },\n",
      "  \u001b[1m(artist, relatedtoschool, training_node)\u001b[0m={ edge_index=[2, 498] },\n",
      "  \u001b[1m(artist, trainedby, artist)\u001b[0m={ edge_index=[2, 47] },\n",
      "  \u001b[1m(artwork, about, tag)\u001b[0m={ edge_index=[2, 181644] },\n",
      "  \u001b[1m(artwork, createdby, artist)\u001b[0m={ edge_index=[2, 52188] },\n",
      "  \u001b[1m(artwork, elicit, emotion)\u001b[0m={ edge_index=[2, 52188] },\n",
      "  \u001b[1m(artwork, hasgenre, genre)\u001b[0m={ edge_index=[2, 52188] },\n",
      "  \u001b[1m(artwork, hasperiod, period)\u001b[0m={ edge_index=[2, 2870] },\n",
      "  \u001b[1m(artwork, hasstyle, style)\u001b[0m={ edge_index=[2, 52188] },\n",
      "  \u001b[1m(artwork, locatedin, city)\u001b[0m={ edge_index=[2, 11753] },\n",
      "  \u001b[1m(artwork, locatedin, country)\u001b[0m={ edge_index=[2, 11726] },\n",
      "  \u001b[1m(artwork, locatedin, gallery)\u001b[0m={ edge_index=[2, 11736] },\n",
      "  \u001b[1m(artwork, madeof, media)\u001b[0m={ edge_index=[2, 47910] },\n",
      "  \u001b[1m(artwork, partof, serie)\u001b[0m={ edge_index=[2, 3362] },\n",
      "  \u001b[1m(city, incountry, country)\u001b[0m={ edge_index=[2, 608] },\n",
      "  \u001b[1m(gallery, incity, city)\u001b[0m={ edge_index=[2, 1109] },\n",
      "  \u001b[1m(gallery, incountry, country)\u001b[0m={ edge_index=[2, 1105] }\n",
      ")\n",
      "torch.Size([6523])\n",
      "tensor([40118, 74027,  7776,  ..., 57596, 68515,  3083])\n",
      "torch.Size([6525])\n"
     ]
    }
   ],
   "source": [
    "### PROVA\n",
    "print(train)\n",
    "print(val.shape)\n",
    "print(val)\n",
    "print(test.shape)"
   ]
  },
  {
   "cell_type": "code",
   "execution_count": 12,
   "id": "37fc85d5",
   "metadata": {},
   "outputs": [
    {
     "data": {
      "text/html": [
       "<div>\n",
       "<style scoped>\n",
       "    .dataframe tbody tr th:only-of-type {\n",
       "        vertical-align: middle;\n",
       "    }\n",
       "\n",
       "    .dataframe tbody tr th {\n",
       "        vertical-align: top;\n",
       "    }\n",
       "\n",
       "    .dataframe thead th {\n",
       "        text-align: right;\n",
       "    }\n",
       "</style>\n",
       "<table border=\"1\" class=\"dataframe\">\n",
       "  <thead>\n",
       "    <tr style=\"text-align: right;\">\n",
       "      <th></th>\n",
       "      <th>artwork</th>\n",
       "      <th>style</th>\n",
       "      <th>genre</th>\n",
       "      <th>emotion</th>\n",
       "    </tr>\n",
       "    <tr>\n",
       "      <th>artwork</th>\n",
       "      <th></th>\n",
       "      <th></th>\n",
       "      <th></th>\n",
       "      <th></th>\n",
       "    </tr>\n",
       "  </thead>\n",
       "  <tbody>\n",
       "    <tr>\n",
       "      <th>81418</th>\n",
       "      <td>81418</td>\n",
       "      <td>1</td>\n",
       "      <td>4</td>\n",
       "      <td>4</td>\n",
       "    </tr>\n",
       "    <tr>\n",
       "      <th>28493</th>\n",
       "      <td>28493</td>\n",
       "      <td>3</td>\n",
       "      <td>9</td>\n",
       "      <td>5</td>\n",
       "    </tr>\n",
       "    <tr>\n",
       "      <th>28421</th>\n",
       "      <td>28421</td>\n",
       "      <td>3</td>\n",
       "      <td>3</td>\n",
       "      <td>8</td>\n",
       "    </tr>\n",
       "    <tr>\n",
       "      <th>28393</th>\n",
       "      <td>28393</td>\n",
       "      <td>3</td>\n",
       "      <td>9</td>\n",
       "      <td>8</td>\n",
       "    </tr>\n",
       "    <tr>\n",
       "      <th>28380</th>\n",
       "      <td>28380</td>\n",
       "      <td>3</td>\n",
       "      <td>9</td>\n",
       "      <td>7</td>\n",
       "    </tr>\n",
       "    <tr>\n",
       "      <th>...</th>\n",
       "      <td>...</td>\n",
       "      <td>...</td>\n",
       "      <td>...</td>\n",
       "      <td>...</td>\n",
       "    </tr>\n",
       "    <tr>\n",
       "      <th>71300</th>\n",
       "      <td>71300</td>\n",
       "      <td>10</td>\n",
       "      <td>6</td>\n",
       "      <td>8</td>\n",
       "    </tr>\n",
       "    <tr>\n",
       "      <th>68290</th>\n",
       "      <td>68290</td>\n",
       "      <td>23</td>\n",
       "      <td>6</td>\n",
       "      <td>8</td>\n",
       "    </tr>\n",
       "    <tr>\n",
       "      <th>68567</th>\n",
       "      <td>68567</td>\n",
       "      <td>23</td>\n",
       "      <td>6</td>\n",
       "      <td>8</td>\n",
       "    </tr>\n",
       "    <tr>\n",
       "      <th>69055</th>\n",
       "      <td>69055</td>\n",
       "      <td>10</td>\n",
       "      <td>6</td>\n",
       "      <td>8</td>\n",
       "    </tr>\n",
       "    <tr>\n",
       "      <th>65386</th>\n",
       "      <td>65386</td>\n",
       "      <td>23</td>\n",
       "      <td>6</td>\n",
       "      <td>8</td>\n",
       "    </tr>\n",
       "  </tbody>\n",
       "</table>\n",
       "<p>65236 rows × 4 columns</p>\n",
       "</div>"
      ],
      "text/plain": [
       "         artwork  style  genre  emotion\n",
       "artwork                                \n",
       "81418      81418      1      4        4\n",
       "28493      28493      3      9        5\n",
       "28421      28421      3      3        8\n",
       "28393      28393      3      9        8\n",
       "28380      28380      3      9        7\n",
       "...          ...    ...    ...      ...\n",
       "71300      71300     10      6        8\n",
       "68290      68290     23      6        8\n",
       "68567      68567     23      6        8\n",
       "69055      69055     10      6        8\n",
       "65386      65386     23      6        8\n",
       "\n",
       "[65236 rows x 4 columns]"
      ]
     },
     "execution_count": 12,
     "metadata": {},
     "output_type": "execute_result"
    }
   ],
   "source": [
    "#loading data with labels\n",
    "data_labels = pd.read_csv(data_path)\n",
    "data_labels.index = data_labels.artwork\n",
    "data_labels"
   ]
  },
  {
   "cell_type": "code",
   "execution_count": 13,
   "id": "eee2ea96",
   "metadata": {},
   "outputs": [],
   "source": [
    "# PROVA\n",
    "data_prova=data_labels.loc[data_labels['artwork'].isin(val)]"
   ]
  },
  {
   "cell_type": "code",
   "execution_count": 14,
   "id": "fabb3eb1",
   "metadata": {},
   "outputs": [
    {
     "data": {
      "text/html": [
       "<div>\n",
       "<style scoped>\n",
       "    .dataframe tbody tr th:only-of-type {\n",
       "        vertical-align: middle;\n",
       "    }\n",
       "\n",
       "    .dataframe tbody tr th {\n",
       "        vertical-align: top;\n",
       "    }\n",
       "\n",
       "    .dataframe thead th {\n",
       "        text-align: right;\n",
       "    }\n",
       "</style>\n",
       "<table border=\"1\" class=\"dataframe\">\n",
       "  <thead>\n",
       "    <tr style=\"text-align: right;\">\n",
       "      <th></th>\n",
       "      <th>artwork</th>\n",
       "      <th>style</th>\n",
       "      <th>genre</th>\n",
       "      <th>emotion</th>\n",
       "    </tr>\n",
       "    <tr>\n",
       "      <th>artwork</th>\n",
       "      <th></th>\n",
       "      <th></th>\n",
       "      <th></th>\n",
       "      <th></th>\n",
       "    </tr>\n",
       "  </thead>\n",
       "  <tbody>\n",
       "  </tbody>\n",
       "</table>\n",
       "</div>"
      ],
      "text/plain": [
       "Empty DataFrame\n",
       "Columns: [artwork, style, genre, emotion]\n",
       "Index: []"
      ]
     },
     "execution_count": 14,
     "metadata": {},
     "output_type": "execute_result"
    }
   ],
   "source": [
    "# PROVA\n",
    "data_prova"
   ]
  },
  {
   "cell_type": "code",
   "execution_count": 15,
   "id": "6ffe0769",
   "metadata": {},
   "outputs": [],
   "source": [
    "train_dataset = TrainingDataSet(graph = train, data_labels = data_labels)"
   ]
  },
  {
   "cell_type": "code",
   "execution_count": 16,
   "id": "2a43fe28",
   "metadata": {},
   "outputs": [
    {
     "name": "stdout",
     "output_type": "stream",
     "text": [
      "tensor([40118, 74027,  7776,  ..., 57596, 68515,  3083])\n",
      "         artwork  style  genre  emotion\n",
      "artwork                                \n",
      "81418      81418      1      4        4\n",
      "28493      28493      3      9        5\n",
      "28421      28421      3      3        8\n",
      "28393      28393      3      9        8\n",
      "28380      28380      3      9        7\n",
      "...          ...    ...    ...      ...\n",
      "71300      71300     10      6        8\n",
      "68290      68290     23      6        8\n",
      "68567      68567     23      6        8\n",
      "69055      69055     10      6        8\n",
      "65386      65386     23      6        8\n",
      "\n",
      "[65236 rows x 4 columns]\n"
     ]
    }
   ],
   "source": [
    "val_dataset = TestDataSet(graph = train, x_test = val, data_labels = data_labels)"
   ]
  },
  {
   "cell_type": "code",
   "execution_count": 17,
   "id": "db2b54a9",
   "metadata": {},
   "outputs": [
    {
     "name": "stdout",
     "output_type": "stream",
     "text": [
      "tensor([58798, 60364,  6774,  ..., 15295, 41140, 20064])\n",
      "         artwork  style  genre  emotion\n",
      "artwork                                \n",
      "81418      81418      1      4        4\n",
      "28493      28493      3      9        5\n",
      "28421      28421      3      3        8\n",
      "28393      28393      3      9        8\n",
      "28380      28380      3      9        7\n",
      "...          ...    ...    ...      ...\n",
      "71300      71300     10      6        8\n",
      "68290      68290     23      6        8\n",
      "68567      68567     23      6        8\n",
      "69055      69055     10      6        8\n",
      "65386      65386     23      6        8\n",
      "\n",
      "[65236 rows x 4 columns]\n"
     ]
    }
   ],
   "source": [
    "test_dataset = TestDataSet(graph = train, x_test = test, data_labels = data_labels)"
   ]
  },
  {
   "cell_type": "code",
   "execution_count": 18,
   "id": "99f8a731",
   "metadata": {},
   "outputs": [
    {
     "name": "stdout",
     "output_type": "stream",
     "text": [
      "52188\n",
      "6523\n",
      "6525\n"
     ]
    }
   ],
   "source": [
    "print(len(train_dataset))\n",
    "print(len(val_dataset))\n",
    "print(len(test_dataset))"
   ]
  },
  {
   "cell_type": "code",
   "execution_count": 19,
   "id": "9d42e64a",
   "metadata": {},
   "outputs": [],
   "source": [
    "# EDA analysis \n",
    "tr_df=train_dataset.data"
   ]
  },
  {
   "cell_type": "code",
   "execution_count": 20,
   "id": "1fc8cbac",
   "metadata": {},
   "outputs": [
    {
     "data": {
      "text/html": [
       "<div>\n",
       "<style scoped>\n",
       "    .dataframe tbody tr th:only-of-type {\n",
       "        vertical-align: middle;\n",
       "    }\n",
       "\n",
       "    .dataframe tbody tr th {\n",
       "        vertical-align: top;\n",
       "    }\n",
       "\n",
       "    .dataframe thead th {\n",
       "        text-align: right;\n",
       "    }\n",
       "</style>\n",
       "<table border=\"1\" class=\"dataframe\">\n",
       "  <thead>\n",
       "    <tr style=\"text-align: right;\">\n",
       "      <th></th>\n",
       "      <th>artwork</th>\n",
       "      <th>style</th>\n",
       "      <th>genre</th>\n",
       "      <th>emotion</th>\n",
       "    </tr>\n",
       "    <tr>\n",
       "      <th>artwork</th>\n",
       "      <th></th>\n",
       "      <th></th>\n",
       "      <th></th>\n",
       "      <th></th>\n",
       "    </tr>\n",
       "  </thead>\n",
       "  <tbody>\n",
       "    <tr>\n",
       "      <th>96</th>\n",
       "      <td>96</td>\n",
       "      <td>13</td>\n",
       "      <td>9</td>\n",
       "      <td>5</td>\n",
       "    </tr>\n",
       "    <tr>\n",
       "      <th>99</th>\n",
       "      <td>99</td>\n",
       "      <td>13</td>\n",
       "      <td>12</td>\n",
       "      <td>2</td>\n",
       "    </tr>\n",
       "    <tr>\n",
       "      <th>102</th>\n",
       "      <td>102</td>\n",
       "      <td>13</td>\n",
       "      <td>9</td>\n",
       "      <td>1</td>\n",
       "    </tr>\n",
       "    <tr>\n",
       "      <th>119</th>\n",
       "      <td>119</td>\n",
       "      <td>13</td>\n",
       "      <td>12</td>\n",
       "      <td>4</td>\n",
       "    </tr>\n",
       "    <tr>\n",
       "      <th>124</th>\n",
       "      <td>124</td>\n",
       "      <td>13</td>\n",
       "      <td>15</td>\n",
       "      <td>1</td>\n",
       "    </tr>\n",
       "    <tr>\n",
       "      <th>...</th>\n",
       "      <td>...</td>\n",
       "      <td>...</td>\n",
       "      <td>...</td>\n",
       "      <td>...</td>\n",
       "    </tr>\n",
       "    <tr>\n",
       "      <th>84724</th>\n",
       "      <td>84724</td>\n",
       "      <td>14</td>\n",
       "      <td>9</td>\n",
       "      <td>4</td>\n",
       "    </tr>\n",
       "    <tr>\n",
       "      <th>84725</th>\n",
       "      <td>84725</td>\n",
       "      <td>14</td>\n",
       "      <td>9</td>\n",
       "      <td>2</td>\n",
       "    </tr>\n",
       "    <tr>\n",
       "      <th>84726</th>\n",
       "      <td>84726</td>\n",
       "      <td>14</td>\n",
       "      <td>9</td>\n",
       "      <td>2</td>\n",
       "    </tr>\n",
       "    <tr>\n",
       "      <th>84727</th>\n",
       "      <td>84727</td>\n",
       "      <td>14</td>\n",
       "      <td>9</td>\n",
       "      <td>1</td>\n",
       "    </tr>\n",
       "    <tr>\n",
       "      <th>84728</th>\n",
       "      <td>84728</td>\n",
       "      <td>14</td>\n",
       "      <td>9</td>\n",
       "      <td>8</td>\n",
       "    </tr>\n",
       "  </tbody>\n",
       "</table>\n",
       "<p>52188 rows × 4 columns</p>\n",
       "</div>"
      ],
      "text/plain": [
       "         artwork  style  genre  emotion\n",
       "artwork                                \n",
       "96            96     13      9        5\n",
       "99            99     13     12        2\n",
       "102          102     13      9        1\n",
       "119          119     13     12        4\n",
       "124          124     13     15        1\n",
       "...          ...    ...    ...      ...\n",
       "84724      84724     14      9        4\n",
       "84725      84725     14      9        2\n",
       "84726      84726     14      9        2\n",
       "84727      84727     14      9        1\n",
       "84728      84728     14      9        8\n",
       "\n",
       "[52188 rows x 4 columns]"
      ]
     },
     "execution_count": 20,
     "metadata": {},
     "output_type": "execute_result"
    }
   ],
   "source": [
    "tr_df"
   ]
  },
  {
   "cell_type": "code",
   "execution_count": 21,
   "id": "169a7c41",
   "metadata": {},
   "outputs": [],
   "source": [
    "v_df=val_dataset.data"
   ]
  },
  {
   "cell_type": "code",
   "execution_count": 22,
   "id": "1925df84",
   "metadata": {},
   "outputs": [],
   "source": [
    "te_df=test_dataset.data"
   ]
  },
  {
   "cell_type": "code",
   "execution_count": 23,
   "id": "1de79916",
   "metadata": {},
   "outputs": [],
   "source": [
    "s_labels='style_entidx2name.csv'\n",
    "g_labels='genre_entidx2name.csv'\n",
    "e_labels='emotion_entidx2name.csv'"
   ]
  },
  {
   "cell_type": "code",
   "execution_count": 24,
   "id": "beed0eeb",
   "metadata": {},
   "outputs": [],
   "source": [
    "style_labels = pd.read_csv('artgraph2bestemotions/mapping/'+ s_labels, names=['index', 'style'])\n",
    "genre_labels = pd.read_csv('artgraph2bestemotions/mapping/'+ g_labels,names=['index', 'genre'])\n",
    "emotion_labels = pd.read_csv('artgraph2bestemotions/mapping/'+ e_labels,names=['index', 'emotion'])"
   ]
  },
  {
   "cell_type": "code",
   "execution_count": 25,
   "id": "e3048fe8",
   "metadata": {},
   "outputs": [
    {
     "data": {
      "text/html": [
       "<div>\n",
       "<style scoped>\n",
       "    .dataframe tbody tr th:only-of-type {\n",
       "        vertical-align: middle;\n",
       "    }\n",
       "\n",
       "    .dataframe tbody tr th {\n",
       "        vertical-align: top;\n",
       "    }\n",
       "\n",
       "    .dataframe thead th {\n",
       "        text-align: right;\n",
       "    }\n",
       "</style>\n",
       "<table border=\"1\" class=\"dataframe\">\n",
       "  <thead>\n",
       "    <tr style=\"text-align: right;\">\n",
       "      <th></th>\n",
       "      <th>index</th>\n",
       "      <th>style</th>\n",
       "    </tr>\n",
       "  </thead>\n",
       "  <tbody>\n",
       "    <tr>\n",
       "      <th>0</th>\n",
       "      <td>0</td>\n",
       "      <td>art deco</td>\n",
       "    </tr>\n",
       "    <tr>\n",
       "      <th>1</th>\n",
       "      <td>1</td>\n",
       "      <td>art nouveau (modern)</td>\n",
       "    </tr>\n",
       "    <tr>\n",
       "      <th>2</th>\n",
       "      <td>2</td>\n",
       "      <td>baroque</td>\n",
       "    </tr>\n",
       "    <tr>\n",
       "      <th>3</th>\n",
       "      <td>3</td>\n",
       "      <td>expressionism</td>\n",
       "    </tr>\n",
       "    <tr>\n",
       "      <th>4</th>\n",
       "      <td>4</td>\n",
       "      <td>contemporary realism</td>\n",
       "    </tr>\n",
       "    <tr>\n",
       "      <th>5</th>\n",
       "      <td>5</td>\n",
       "      <td>neo-expressionism</td>\n",
       "    </tr>\n",
       "    <tr>\n",
       "      <th>6</th>\n",
       "      <td>6</td>\n",
       "      <td>magic realism</td>\n",
       "    </tr>\n",
       "    <tr>\n",
       "      <th>7</th>\n",
       "      <td>7</td>\n",
       "      <td>cubism</td>\n",
       "    </tr>\n",
       "    <tr>\n",
       "      <th>8</th>\n",
       "      <td>8</td>\n",
       "      <td>northern renaissance</td>\n",
       "    </tr>\n",
       "    <tr>\n",
       "      <th>9</th>\n",
       "      <td>9</td>\n",
       "      <td>early renaissance</td>\n",
       "    </tr>\n",
       "    <tr>\n",
       "      <th>10</th>\n",
       "      <td>10</td>\n",
       "      <td>minimalism</td>\n",
       "    </tr>\n",
       "    <tr>\n",
       "      <th>11</th>\n",
       "      <td>11</td>\n",
       "      <td>symbolism</td>\n",
       "    </tr>\n",
       "    <tr>\n",
       "      <th>12</th>\n",
       "      <td>12</td>\n",
       "      <td>art informel</td>\n",
       "    </tr>\n",
       "    <tr>\n",
       "      <th>13</th>\n",
       "      <td>13</td>\n",
       "      <td>high renaissance</td>\n",
       "    </tr>\n",
       "    <tr>\n",
       "      <th>14</th>\n",
       "      <td>14</td>\n",
       "      <td>rococo</td>\n",
       "    </tr>\n",
       "    <tr>\n",
       "      <th>15</th>\n",
       "      <td>15</td>\n",
       "      <td>lyrical abstraction</td>\n",
       "    </tr>\n",
       "    <tr>\n",
       "      <th>16</th>\n",
       "      <td>16</td>\n",
       "      <td>fauvism</td>\n",
       "    </tr>\n",
       "    <tr>\n",
       "      <th>17</th>\n",
       "      <td>17</td>\n",
       "      <td>abstract expressionism</td>\n",
       "    </tr>\n",
       "    <tr>\n",
       "      <th>18</th>\n",
       "      <td>18</td>\n",
       "      <td>neoclassicism</td>\n",
       "    </tr>\n",
       "    <tr>\n",
       "      <th>19</th>\n",
       "      <td>19</td>\n",
       "      <td>pop art</td>\n",
       "    </tr>\n",
       "    <tr>\n",
       "      <th>20</th>\n",
       "      <td>20</td>\n",
       "      <td>abstract art</td>\n",
       "    </tr>\n",
       "    <tr>\n",
       "      <th>21</th>\n",
       "      <td>21</td>\n",
       "      <td>post-impressionism</td>\n",
       "    </tr>\n",
       "    <tr>\n",
       "      <th>22</th>\n",
       "      <td>22</td>\n",
       "      <td>romanticism</td>\n",
       "    </tr>\n",
       "    <tr>\n",
       "      <th>23</th>\n",
       "      <td>23</td>\n",
       "      <td>color field painting</td>\n",
       "    </tr>\n",
       "    <tr>\n",
       "      <th>24</th>\n",
       "      <td>24</td>\n",
       "      <td>impressionism</td>\n",
       "    </tr>\n",
       "    <tr>\n",
       "      <th>25</th>\n",
       "      <td>25</td>\n",
       "      <td>realism</td>\n",
       "    </tr>\n",
       "    <tr>\n",
       "      <th>26</th>\n",
       "      <td>26</td>\n",
       "      <td>academicism</td>\n",
       "    </tr>\n",
       "    <tr>\n",
       "      <th>27</th>\n",
       "      <td>27</td>\n",
       "      <td>ukiyo-e</td>\n",
       "    </tr>\n",
       "    <tr>\n",
       "      <th>28</th>\n",
       "      <td>28</td>\n",
       "      <td>mannerism (late renaissance)</td>\n",
       "    </tr>\n",
       "    <tr>\n",
       "      <th>29</th>\n",
       "      <td>29</td>\n",
       "      <td>naïve art (primitivism)</td>\n",
       "    </tr>\n",
       "    <tr>\n",
       "      <th>30</th>\n",
       "      <td>30</td>\n",
       "      <td>surrealism</td>\n",
       "    </tr>\n",
       "    <tr>\n",
       "      <th>31</th>\n",
       "      <td>31</td>\n",
       "      <td>neo-romanticism</td>\n",
       "    </tr>\n",
       "  </tbody>\n",
       "</table>\n",
       "</div>"
      ],
      "text/plain": [
       "    index                         style\n",
       "0       0                      art deco\n",
       "1       1          art nouveau (modern)\n",
       "2       2                       baroque\n",
       "3       3                 expressionism\n",
       "4       4          contemporary realism\n",
       "5       5             neo-expressionism\n",
       "6       6                 magic realism\n",
       "7       7                        cubism\n",
       "8       8          northern renaissance\n",
       "9       9             early renaissance\n",
       "10     10                    minimalism\n",
       "11     11                     symbolism\n",
       "12     12                  art informel\n",
       "13     13              high renaissance\n",
       "14     14                        rococo\n",
       "15     15           lyrical abstraction\n",
       "16     16                       fauvism\n",
       "17     17        abstract expressionism\n",
       "18     18                 neoclassicism\n",
       "19     19                       pop art\n",
       "20     20                  abstract art\n",
       "21     21            post-impressionism\n",
       "22     22                   romanticism\n",
       "23     23          color field painting\n",
       "24     24                 impressionism\n",
       "25     25                       realism\n",
       "26     26                   academicism\n",
       "27     27                       ukiyo-e\n",
       "28     28  mannerism (late renaissance)\n",
       "29     29       naïve art (primitivism)\n",
       "30     30                    surrealism\n",
       "31     31               neo-romanticism"
      ]
     },
     "execution_count": 25,
     "metadata": {},
     "output_type": "execute_result"
    }
   ],
   "source": [
    "style_labels"
   ]
  },
  {
   "cell_type": "code",
   "execution_count": 26,
   "id": "603329e1",
   "metadata": {},
   "outputs": [
    {
     "data": {
      "text/html": [
       "<div>\n",
       "<style scoped>\n",
       "    .dataframe tbody tr th:only-of-type {\n",
       "        vertical-align: middle;\n",
       "    }\n",
       "\n",
       "    .dataframe tbody tr th {\n",
       "        vertical-align: top;\n",
       "    }\n",
       "\n",
       "    .dataframe thead th {\n",
       "        text-align: right;\n",
       "    }\n",
       "</style>\n",
       "<table border=\"1\" class=\"dataframe\">\n",
       "  <thead>\n",
       "    <tr style=\"text-align: right;\">\n",
       "      <th></th>\n",
       "      <th>index</th>\n",
       "      <th>genre</th>\n",
       "    </tr>\n",
       "  </thead>\n",
       "  <tbody>\n",
       "    <tr>\n",
       "      <th>0</th>\n",
       "      <td>0</td>\n",
       "      <td>nude painting (nu)</td>\n",
       "    </tr>\n",
       "    <tr>\n",
       "      <th>1</th>\n",
       "      <td>1</td>\n",
       "      <td>marina</td>\n",
       "    </tr>\n",
       "    <tr>\n",
       "      <th>2</th>\n",
       "      <td>2</td>\n",
       "      <td>animal painting</td>\n",
       "    </tr>\n",
       "    <tr>\n",
       "      <th>3</th>\n",
       "      <td>3</td>\n",
       "      <td>self-portrait</td>\n",
       "    </tr>\n",
       "    <tr>\n",
       "      <th>4</th>\n",
       "      <td>4</td>\n",
       "      <td>genre painting</td>\n",
       "    </tr>\n",
       "    <tr>\n",
       "      <th>5</th>\n",
       "      <td>5</td>\n",
       "      <td>symbolic painting</td>\n",
       "    </tr>\n",
       "    <tr>\n",
       "      <th>6</th>\n",
       "      <td>6</td>\n",
       "      <td>abstract</td>\n",
       "    </tr>\n",
       "    <tr>\n",
       "      <th>7</th>\n",
       "      <td>7</td>\n",
       "      <td>figurative</td>\n",
       "    </tr>\n",
       "    <tr>\n",
       "      <th>8</th>\n",
       "      <td>8</td>\n",
       "      <td>landscape</td>\n",
       "    </tr>\n",
       "    <tr>\n",
       "      <th>9</th>\n",
       "      <td>9</td>\n",
       "      <td>portrait</td>\n",
       "    </tr>\n",
       "    <tr>\n",
       "      <th>10</th>\n",
       "      <td>10</td>\n",
       "      <td>flower painting</td>\n",
       "    </tr>\n",
       "    <tr>\n",
       "      <th>11</th>\n",
       "      <td>11</td>\n",
       "      <td>design</td>\n",
       "    </tr>\n",
       "    <tr>\n",
       "      <th>12</th>\n",
       "      <td>12</td>\n",
       "      <td>religious painting</td>\n",
       "    </tr>\n",
       "    <tr>\n",
       "      <th>13</th>\n",
       "      <td>13</td>\n",
       "      <td>mythological painting</td>\n",
       "    </tr>\n",
       "    <tr>\n",
       "      <th>14</th>\n",
       "      <td>14</td>\n",
       "      <td>sketch and study</td>\n",
       "    </tr>\n",
       "    <tr>\n",
       "      <th>15</th>\n",
       "      <td>15</td>\n",
       "      <td>still life</td>\n",
       "    </tr>\n",
       "    <tr>\n",
       "      <th>16</th>\n",
       "      <td>16</td>\n",
       "      <td>illustration</td>\n",
       "    </tr>\n",
       "    <tr>\n",
       "      <th>17</th>\n",
       "      <td>17</td>\n",
       "      <td>cityscape</td>\n",
       "    </tr>\n",
       "  </tbody>\n",
       "</table>\n",
       "</div>"
      ],
      "text/plain": [
       "    index                  genre\n",
       "0       0     nude painting (nu)\n",
       "1       1                 marina\n",
       "2       2        animal painting\n",
       "3       3          self-portrait\n",
       "4       4         genre painting\n",
       "5       5      symbolic painting\n",
       "6       6               abstract\n",
       "7       7             figurative\n",
       "8       8              landscape\n",
       "9       9               portrait\n",
       "10     10        flower painting\n",
       "11     11                 design\n",
       "12     12     religious painting\n",
       "13     13  mythological painting\n",
       "14     14       sketch and study\n",
       "15     15             still life\n",
       "16     16           illustration\n",
       "17     17              cityscape"
      ]
     },
     "execution_count": 26,
     "metadata": {},
     "output_type": "execute_result"
    }
   ],
   "source": [
    "genre_labels"
   ]
  },
  {
   "cell_type": "code",
   "execution_count": 27,
   "id": "5fdb3748",
   "metadata": {},
   "outputs": [
    {
     "data": {
      "text/html": [
       "<div>\n",
       "<style scoped>\n",
       "    .dataframe tbody tr th:only-of-type {\n",
       "        vertical-align: middle;\n",
       "    }\n",
       "\n",
       "    .dataframe tbody tr th {\n",
       "        vertical-align: top;\n",
       "    }\n",
       "\n",
       "    .dataframe thead th {\n",
       "        text-align: right;\n",
       "    }\n",
       "</style>\n",
       "<table border=\"1\" class=\"dataframe\">\n",
       "  <thead>\n",
       "    <tr style=\"text-align: right;\">\n",
       "      <th></th>\n",
       "      <th>index</th>\n",
       "      <th>emotion</th>\n",
       "    </tr>\n",
       "  </thead>\n",
       "  <tbody>\n",
       "    <tr>\n",
       "      <th>0</th>\n",
       "      <td>0</td>\n",
       "      <td>anger</td>\n",
       "    </tr>\n",
       "    <tr>\n",
       "      <th>1</th>\n",
       "      <td>1</td>\n",
       "      <td>awe</td>\n",
       "    </tr>\n",
       "    <tr>\n",
       "      <th>2</th>\n",
       "      <td>2</td>\n",
       "      <td>contentment</td>\n",
       "    </tr>\n",
       "    <tr>\n",
       "      <th>3</th>\n",
       "      <td>3</td>\n",
       "      <td>excitement</td>\n",
       "    </tr>\n",
       "    <tr>\n",
       "      <th>4</th>\n",
       "      <td>4</td>\n",
       "      <td>sadness</td>\n",
       "    </tr>\n",
       "    <tr>\n",
       "      <th>5</th>\n",
       "      <td>5</td>\n",
       "      <td>amusement</td>\n",
       "    </tr>\n",
       "    <tr>\n",
       "      <th>6</th>\n",
       "      <td>6</td>\n",
       "      <td>disgust</td>\n",
       "    </tr>\n",
       "    <tr>\n",
       "      <th>7</th>\n",
       "      <td>7</td>\n",
       "      <td>fear</td>\n",
       "    </tr>\n",
       "    <tr>\n",
       "      <th>8</th>\n",
       "      <td>8</td>\n",
       "      <td>something else</td>\n",
       "    </tr>\n",
       "  </tbody>\n",
       "</table>\n",
       "</div>"
      ],
      "text/plain": [
       "   index         emotion\n",
       "0      0           anger\n",
       "1      1             awe\n",
       "2      2     contentment\n",
       "3      3      excitement\n",
       "4      4         sadness\n",
       "5      5       amusement\n",
       "6      6         disgust\n",
       "7      7            fear\n",
       "8      8  something else"
      ]
     },
     "execution_count": 27,
     "metadata": {},
     "output_type": "execute_result"
    }
   ],
   "source": [
    "emotion_labels"
   ]
  },
  {
   "cell_type": "code",
   "execution_count": 28,
   "id": "6da1cb7a",
   "metadata": {},
   "outputs": [
    {
     "data": {
      "image/png": "[encoded data removed]",
      "text/plain": [
       "<Figure size 1152x360 with 1 Axes>"
      ]
     },
     "metadata": {
      "needs_background": "light"
     },
     "output_type": "display_data"
    }
   ],
   "source": [
    "#EDA training set\n",
    "import seaborn as sns\n",
    "temp = te_df.groupby([\"emotion\"])[\"artwork\"].count()\n",
    "label_df=emotion_labels\n",
    "df = pd.DataFrame({\"emotion\": label_df['emotion'][label_df['index'].isin(temp.index)], \"artworks\": temp.values})\n",
    "df = df.sort_values([\"emotion\"], ascending=False)\n",
    "plt.figure(figsize=(16, 5))\n",
    "plt.title(\"Number of emotions for genre\")\n",
    "s = sns.barplot(x=\"emotion\", y=\"artworks\", data=df, palette=\"cubehelix\")\n",
    "s.set_xticklabels(s.get_xticklabels(), rotation=90)\n",
    "locs, labels = plt.xticks()\n",
    "plt.show()"
   ]
  },
  {
   "cell_type": "code",
   "execution_count": 29,
   "id": "e7b4d933",
   "metadata": {},
   "outputs": [
    {
     "data": {
      "text/html": [
       "<div>\n",
       "<style scoped>\n",
       "    .dataframe tbody tr th:only-of-type {\n",
       "        vertical-align: middle;\n",
       "    }\n",
       "\n",
       "    .dataframe tbody tr th {\n",
       "        vertical-align: top;\n",
       "    }\n",
       "\n",
       "    .dataframe thead th {\n",
       "        text-align: right;\n",
       "    }\n",
       "</style>\n",
       "<table border=\"1\" class=\"dataframe\">\n",
       "  <thead>\n",
       "    <tr style=\"text-align: right;\">\n",
       "      <th></th>\n",
       "      <th>artwork</th>\n",
       "      <th>style</th>\n",
       "      <th>genre</th>\n",
       "      <th>emotion</th>\n",
       "    </tr>\n",
       "  </thead>\n",
       "  <tbody>\n",
       "    <tr>\n",
       "      <th>artwork</th>\n",
       "      <td>1.000000</td>\n",
       "      <td>-0.100248</td>\n",
       "      <td>-0.113473</td>\n",
       "      <td>0.047041</td>\n",
       "    </tr>\n",
       "    <tr>\n",
       "      <th>style</th>\n",
       "      <td>-0.100248</td>\n",
       "      <td>1.000000</td>\n",
       "      <td>-0.037342</td>\n",
       "      <td>-0.117970</td>\n",
       "    </tr>\n",
       "    <tr>\n",
       "      <th>genre</th>\n",
       "      <td>-0.113473</td>\n",
       "      <td>-0.037342</td>\n",
       "      <td>1.000000</td>\n",
       "      <td>-0.036604</td>\n",
       "    </tr>\n",
       "    <tr>\n",
       "      <th>emotion</th>\n",
       "      <td>0.047041</td>\n",
       "      <td>-0.117970</td>\n",
       "      <td>-0.036604</td>\n",
       "      <td>1.000000</td>\n",
       "    </tr>\n",
       "  </tbody>\n",
       "</table>\n",
       "</div>"
      ],
      "text/plain": [
       "          artwork     style     genre   emotion\n",
       "artwork  1.000000 -0.100248 -0.113473  0.047041\n",
       "style   -0.100248  1.000000 -0.037342 -0.117970\n",
       "genre   -0.113473 -0.037342  1.000000 -0.036604\n",
       "emotion  0.047041 -0.117970 -0.036604  1.000000"
      ]
     },
     "execution_count": 29,
     "metadata": {},
     "output_type": "execute_result"
    }
   ],
   "source": [
    "tr_df.corr()"
   ]
  },
  {
   "cell_type": "code",
   "execution_count": 30,
   "id": "03ba7193",
   "metadata": {},
   "outputs": [
    {
     "data": {
      "text/html": [
       "<div>\n",
       "<style scoped>\n",
       "    .dataframe tbody tr th:only-of-type {\n",
       "        vertical-align: middle;\n",
       "    }\n",
       "\n",
       "    .dataframe tbody tr th {\n",
       "        vertical-align: top;\n",
       "    }\n",
       "\n",
       "    .dataframe thead th {\n",
       "        text-align: right;\n",
       "    }\n",
       "</style>\n",
       "<table border=\"1\" class=\"dataframe\">\n",
       "  <thead>\n",
       "    <tr style=\"text-align: right;\">\n",
       "      <th></th>\n",
       "      <th>artwork</th>\n",
       "      <th>style</th>\n",
       "      <th>genre</th>\n",
       "      <th>emotion</th>\n",
       "    </tr>\n",
       "  </thead>\n",
       "  <tbody>\n",
       "    <tr>\n",
       "      <th>artwork</th>\n",
       "      <td>1.000000</td>\n",
       "      <td>-0.092575</td>\n",
       "      <td>-0.104792</td>\n",
       "      <td>0.032064</td>\n",
       "    </tr>\n",
       "    <tr>\n",
       "      <th>style</th>\n",
       "      <td>-0.092575</td>\n",
       "      <td>1.000000</td>\n",
       "      <td>-0.042802</td>\n",
       "      <td>-0.115663</td>\n",
       "    </tr>\n",
       "    <tr>\n",
       "      <th>genre</th>\n",
       "      <td>-0.104792</td>\n",
       "      <td>-0.042802</td>\n",
       "      <td>1.000000</td>\n",
       "      <td>-0.031853</td>\n",
       "    </tr>\n",
       "    <tr>\n",
       "      <th>emotion</th>\n",
       "      <td>0.032064</td>\n",
       "      <td>-0.115663</td>\n",
       "      <td>-0.031853</td>\n",
       "      <td>1.000000</td>\n",
       "    </tr>\n",
       "  </tbody>\n",
       "</table>\n",
       "</div>"
      ],
      "text/plain": [
       "          artwork     style     genre   emotion\n",
       "artwork  1.000000 -0.092575 -0.104792  0.032064\n",
       "style   -0.092575  1.000000 -0.042802 -0.115663\n",
       "genre   -0.104792 -0.042802  1.000000 -0.031853\n",
       "emotion  0.032064 -0.115663 -0.031853  1.000000"
      ]
     },
     "execution_count": 30,
     "metadata": {},
     "output_type": "execute_result"
    }
   ],
   "source": [
    "v_df.corr()"
   ]
  },
  {
   "cell_type": "code",
   "execution_count": 31,
   "id": "6c7358ab",
   "metadata": {},
   "outputs": [
    {
     "data": {
      "text/html": [
       "<div>\n",
       "<style scoped>\n",
       "    .dataframe tbody tr th:only-of-type {\n",
       "        vertical-align: middle;\n",
       "    }\n",
       "\n",
       "    .dataframe tbody tr th {\n",
       "        vertical-align: top;\n",
       "    }\n",
       "\n",
       "    .dataframe thead th {\n",
       "        text-align: right;\n",
       "    }\n",
       "</style>\n",
       "<table border=\"1\" class=\"dataframe\">\n",
       "  <thead>\n",
       "    <tr style=\"text-align: right;\">\n",
       "      <th></th>\n",
       "      <th>artwork</th>\n",
       "      <th>style</th>\n",
       "      <th>genre</th>\n",
       "      <th>emotion</th>\n",
       "    </tr>\n",
       "  </thead>\n",
       "  <tbody>\n",
       "    <tr>\n",
       "      <th>artwork</th>\n",
       "      <td>1.000000</td>\n",
       "      <td>-0.078944</td>\n",
       "      <td>-0.110456</td>\n",
       "      <td>0.052289</td>\n",
       "    </tr>\n",
       "    <tr>\n",
       "      <th>style</th>\n",
       "      <td>-0.078944</td>\n",
       "      <td>1.000000</td>\n",
       "      <td>-0.048676</td>\n",
       "      <td>-0.145043</td>\n",
       "    </tr>\n",
       "    <tr>\n",
       "      <th>genre</th>\n",
       "      <td>-0.110456</td>\n",
       "      <td>-0.048676</td>\n",
       "      <td>1.000000</td>\n",
       "      <td>-0.055528</td>\n",
       "    </tr>\n",
       "    <tr>\n",
       "      <th>emotion</th>\n",
       "      <td>0.052289</td>\n",
       "      <td>-0.145043</td>\n",
       "      <td>-0.055528</td>\n",
       "      <td>1.000000</td>\n",
       "    </tr>\n",
       "  </tbody>\n",
       "</table>\n",
       "</div>"
      ],
      "text/plain": [
       "          artwork     style     genre   emotion\n",
       "artwork  1.000000 -0.078944 -0.110456  0.052289\n",
       "style   -0.078944  1.000000 -0.048676 -0.145043\n",
       "genre   -0.110456 -0.048676  1.000000 -0.055528\n",
       "emotion  0.052289 -0.145043 -0.055528  1.000000"
      ]
     },
     "execution_count": 31,
     "metadata": {},
     "output_type": "execute_result"
    }
   ],
   "source": [
    "te_df.corr()"
   ]
  },
  {
   "cell_type": "code",
   "execution_count": 29,
   "id": "1ffa5a7d",
   "metadata": {},
   "outputs": [
    {
     "name": "stdout",
     "output_type": "stream",
     "text": [
      "(tensor([ 13.0308, -12.0007, -26.9583,  14.9336,  16.1660,  -2.9494,   5.7810,\n",
      "         -0.7698,   3.8849,  -9.8246,  -9.3594,   0.1326,   0.3213,   0.7171,\n",
      "         -3.0149,   1.0500,   9.7578, -11.5302,   3.2309,  -8.2401,  -8.0104,\n",
      "          2.3737,  -5.8326,   4.5817,   2.2560,  -0.4150,  -7.2257,   6.3593,\n",
      "          3.1297,   9.0368,  -0.1089,   1.6999,   0.0643,   4.8557,   1.7369,\n",
      "          2.8820,  -0.4930,   3.9492,  -2.1077,   5.3206,   6.2596,   6.9810,\n",
      "         -4.6957,   4.0200,  -1.7120,   4.1701,   0.1111,  -1.6024,  -3.4216,\n",
      "         -5.4410,   1.0416,  -0.4479,  -0.6380,  -3.9669,  -5.8663,   0.6181,\n",
      "         -1.7065,  -1.6279,  -5.6199,  -0.1076,   3.0115,   0.4466,  -1.6512,\n",
      "         -0.3201,   0.3017,  -0.2759,  -4.4069,   4.1214,  -3.2938,  -3.0045,\n",
      "         -0.0606,   3.8806,  -4.4857,  -0.4037,  -0.2405,   2.7040,   7.4704,\n",
      "         -0.9448,   1.8401,  -1.4386,   2.6653,   2.7039,  -2.4744,   1.3917,\n",
      "          3.9999,  -2.5678,   1.3852,  -3.8944,  -2.9268,   0.6066,  -0.2594,\n",
      "          0.9105,  -0.9624,  -3.6558,   2.1043,   7.0047,   0.1823,   0.5024,\n",
      "         -1.1427,  -2.2875,  -1.9804,   1.8678,  -4.1108,  -1.1517,   0.8407,\n",
      "         -0.6669,  -0.7367,  -2.8387,  -0.2854,  -2.5754,  -2.6745,  -2.0562,\n",
      "          5.7995,  -1.4151,   1.8882,  -0.4256,  -1.0125,   2.3240,   0.8417,\n",
      "         -4.8902,  -0.4567,  -3.2248,  -0.9002,  -0.6473,  -5.2834,   1.9441,\n",
      "         -1.3380,   0.6031]), (9, 12, 4))\n",
      "(tensor([-6.7317e+00,  2.7221e+01,  3.1000e+01,  1.6828e+01, -1.2920e+01,\n",
      "         8.8984e+00, -3.4534e+00, -1.3002e+00, -1.5360e+00, -3.3013e-01,\n",
      "        -1.7181e+00,  6.5795e+00,  5.9366e+00, -2.0314e+00,  9.4598e+00,\n",
      "        -1.7028e+00, -1.1215e+01, -3.6019e+00, -1.2252e+01,  3.8686e+00,\n",
      "        -4.0162e+00,  8.6347e+00, -8.0247e+00, -4.5895e-01, -9.4050e+00,\n",
      "         6.0824e+00, -2.8592e+00, -4.9247e+00, -1.4963e+01, -2.1691e+00,\n",
      "         2.0702e-01, -9.3964e+00,  1.5925e+00,  1.4585e+00, -4.8108e+00,\n",
      "         1.1580e+00,  3.0812e+00, -9.3483e+00, -6.6420e+00,  4.6239e+00,\n",
      "         4.8232e+00, -2.9938e+00, -1.7689e+00, -7.4851e-01, -2.4779e+00,\n",
      "         1.9025e+00,  9.8019e-01,  1.0708e+00, -4.7640e+00,  2.7151e+00,\n",
      "        -2.3137e+00,  1.6782e-01,  2.5448e-01,  2.4494e+00,  9.2023e-01,\n",
      "         6.3545e-01, -9.3333e+00,  3.5223e+00,  3.3510e+00, -8.6118e+00,\n",
      "        -6.2619e+00, -8.1131e+00, -6.5966e+00, -9.8385e-01,  7.1905e+00,\n",
      "        -4.1015e+00,  2.5747e+00, -4.5052e+00,  4.0488e+00, -1.5168e+00,\n",
      "        -3.2411e+00, -3.3560e+00, -1.8982e+00, -8.2602e+00,  3.5177e+00,\n",
      "        -2.0617e-01, -5.6334e+00, -1.8894e+00, -8.8959e-01, -1.8398e+00,\n",
      "        -1.6106e+00, -2.6833e+00, -6.7707e+00,  2.5362e+00,  6.2342e+00,\n",
      "        -7.4764e-02, -1.0452e+00, -4.1704e-01, -6.7760e+00,  6.0534e+00,\n",
      "         3.9287e+00,  3.0689e+00,  1.7668e+00, -1.9671e+00,  8.1015e+00,\n",
      "         8.0954e-01, -1.6956e-02, -7.9065e+00,  1.7547e+00,  1.1463e+00,\n",
      "         4.0678e+00, -1.6072e+00, -3.7055e+00,  1.8093e+00,  8.1787e-01,\n",
      "        -4.0410e+00, -2.9301e+00, -6.8685e+00, -1.2643e+00,  1.4496e+00,\n",
      "        -3.5020e+00,  5.1041e+00, -3.2682e+00, -5.1507e+00,  1.0557e+00,\n",
      "         1.9359e+00,  4.2194e+00, -1.3115e+00, -3.2063e-01,  1.4435e+00,\n",
      "        -1.6830e+00,  1.1592e+00,  1.1760e+00, -1.0227e+00, -3.5266e+00,\n",
      "         3.9171e-01,  4.2164e-01,  5.1463e-01]), (17, 6, 2))\n",
      "(tensor([ 4.5212e+01, -2.4416e+01,  5.2045e+00, -1.4840e+00, -1.0894e+00,\n",
      "         7.7865e+00, -7.3173e+00, -6.5367e+00,  5.0305e-01,  1.3586e+01,\n",
      "         1.4798e+01, -3.9654e+00, -5.1891e+00,  2.5834e-01,  3.7103e+00,\n",
      "        -3.3461e-01, -1.0140e+01, -1.4794e+00,  7.7844e+00, -5.7914e+00,\n",
      "        -1.1425e+00,  2.0470e+00,  3.5977e+00, -1.6348e+00,  1.3227e+00,\n",
      "        -1.4310e+00,  1.0785e+01,  3.4965e-01, -1.1659e-01, -1.4026e+00,\n",
      "         2.1064e+00,  3.5741e+00, -3.1091e+00,  9.4066e+00, -9.3818e+00,\n",
      "        -9.2091e+00,  4.5529e+00, -1.7839e+00,  1.1444e+01, -1.6498e+00,\n",
      "        -2.8504e+00, -8.9799e+00, -6.7353e+00,  3.3128e+00, -1.7336e+00,\n",
      "         5.6763e+00, -1.7048e+00,  1.2333e+00,  5.7669e-01,  5.5711e+00,\n",
      "        -6.5788e-01, -4.8350e+00,  4.3225e+00, -3.5287e+00, -1.3454e+00,\n",
      "        -4.4099e+00,  2.4344e-01, -1.3894e+00, -8.5212e+00, -4.7910e-01,\n",
      "        -4.1040e-01, -1.6857e+00,  2.8810e+00, -2.3774e+00, -5.1998e+00,\n",
      "        -8.2622e-02,  2.6895e+00,  4.0556e+00,  2.2868e-01,  2.1194e-01,\n",
      "        -2.7620e+00, -3.2210e+00, -7.2733e-01, -8.2625e-01,  1.5428e+00,\n",
      "         8.0033e-01,  1.5900e+00,  1.8264e+00,  2.4271e+00, -4.2731e+00,\n",
      "        -1.9156e+00, -2.6027e+00, -4.1017e+00,  2.0091e+00,  9.7690e-02,\n",
      "         9.9838e-02,  2.5494e+00,  4.1579e+00,  2.7402e+00,  1.3064e+00,\n",
      "        -1.4319e+00, -3.4396e+00, -8.2199e-02,  1.1288e+00, -2.0916e+00,\n",
      "        -3.2607e+00, -2.3440e+00,  3.1935e+00, -6.6242e-01, -1.9783e+00,\n",
      "         3.2732e+00,  3.2808e-01,  2.7862e+00, -1.8606e+00,  1.9365e+00,\n",
      "        -4.2919e-02, -2.2171e-01, -4.7238e-01,  1.6630e+00,  1.2233e+00,\n",
      "         1.8250e+00,  5.0465e-01,  5.3939e-01, -3.6773e-01, -2.7520e+00,\n",
      "         3.6945e-01,  5.4379e-01, -2.7173e-01,  7.3199e-01, -1.5798e+00,\n",
      "         4.5880e+00, -2.6783e+00, -5.8701e-01, -1.9274e+00,  6.1618e+00,\n",
      "        -1.9786e+00, -2.3345e-01,  1.7515e+00]), (24, 8, 1))\n"
     ]
    }
   ],
   "source": [
    "print(train_dataset.__getitem__(5))\n",
    "print(val_dataset.__getitem__(5))\n",
    "print(test_dataset.__getitem__(5))"
   ]
  },
  {
   "cell_type": "code",
   "execution_count": null,
   "id": "a74812d5",
   "metadata": {},
   "outputs": [],
   "source": []
  },
  {
   "cell_type": "markdown",
   "id": "174a5cce",
   "metadata": {},
   "source": [
    "Test per vedere se va bene il modello pre-trained"
   ]
  },
  {
   "cell_type": "code",
   "execution_count": 32,
   "id": "7116ae35",
   "metadata": {},
   "outputs": [
    {
     "data": {
      "text/plain": [
       "ModelClassification(\n",
       "  (encoder): MultiGNNEncoder(\n",
       "    (activation): Tanh()\n",
       "    (encoders): ModuleDict(\n",
       "      (0): HeteroConv(num_relations=1)\n",
       "    )\n",
       "  )\n",
       "  (decoder): Head(\n",
       "    (head): Sequential(\n",
       "      (0): Linear(in_features=2432, out_features=1216, bias=True)\n",
       "      (1): LeakyReLU(negative_slope=0.1, inplace=True)\n",
       "      (2): Dropout(p=0.25, inplace=False)\n",
       "      (3): Linear(in_features=1216, out_features=608, bias=True)\n",
       "      (4): LeakyReLU(negative_slope=0.1, inplace=True)\n",
       "      (5): Dropout(p=0.25, inplace=False)\n",
       "      (6): Linear(in_features=608, out_features=304, bias=True)\n",
       "      (7): LeakyReLU(negative_slope=0.1, inplace=True)\n",
       "      (8): Dropout(p=0.25, inplace=False)\n",
       "      (9): Linear(in_features=304, out_features=152, bias=True)\n",
       "      (10): LeakyReLU(negative_slope=0.1, inplace=True)\n",
       "      (11): Dropout(p=0.25, inplace=False)\n",
       "      (12): Linear(in_features=152, out_features=18, bias=True)\n",
       "    )\n",
       "  )\n",
       ")"
      ]
     },
     "execution_count": 32,
     "metadata": {},
     "output_type": "execute_result"
    }
   ],
   "source": [
    "device = torch.device('cuda:0') #cuda:0\n",
    "genre_model = torch.load('genre.pt').to(device)\n",
    "genre_model"
   ]
  },
  {
   "cell_type": "code",
   "execution_count": 31,
   "id": "d1e3b6d4",
   "metadata": {},
   "outputs": [
    {
     "name": "stderr",
     "output_type": "stream",
     "text": [
      "100%|██████████| 51/51 [00:05<00:00,  9.30it/s]"
     ]
    },
    {
     "name": "stdout",
     "output_type": "stream",
     "text": [
      "Acc: 0.8140996694564819\n"
     ]
    },
    {
     "name": "stderr",
     "output_type": "stream",
     "text": [
      "\n"
     ]
    }
   ],
   "source": [
    "from tqdm import tqdm\n",
    "device = torch.device('cuda:0') #cuda:0\n",
    "train = train.to(device)\n",
    "\n",
    "test_loader = DataLoader(test_dataset, batch_size = 128, shuffle = True, drop_last = False)\n",
    "with torch.no_grad():\n",
    "    running_corrects = 0 \n",
    "    for images, (style_labels, genre_labels, emotion_labels) in tqdm(test_loader):\n",
    "        images = images.to(device, non_blocking = True)\n",
    "        genre_labels = genre_labels.to(device, non_blocking = True)\n",
    "        genre_pred = genre_model(train.x_dict, train.edge_index_dict, images)\n",
    "        running_corrects += torch.sum(torch.max(genre_pred, 1)[1] == genre_labels)\n",
    "    print(f'Acc: {running_corrects/len(test_loader.dataset)}')"
   ]
  },
  {
   "cell_type": "markdown",
   "id": "8001d9e0",
   "metadata": {},
   "source": [
    "## INSTANTIATING MODEL"
   ]
  },
  {
   "cell_type": "code",
   "execution_count": 33,
   "id": "d32e0650",
   "metadata": {
    "pycharm": {
     "is_executing": true
    }
   },
   "outputs": [],
   "source": [
    "device = torch.device('cuda:0') #cuda:0\n",
    "style_encoder = torch.load('best_model_style_single_task.pt').encoder\n",
    "genre_encoder = torch.load('best_model_genre_single_task.pt').encoder\n",
    "emotion_encoder = torch.load('best_model_emotion_single_task.pt').encoder\n",
    "model = NewMultiTaskClassificationModel(data = data, hidden_channels=None, head_num_layers=5,\n",
    "                                        encoders = (style_encoder, genre_encoder, emotion_encoder)).to(device)"
   ]
  },
  {
   "cell_type": "code",
   "execution_count": 34,
   "id": "b50b45a4",
   "metadata": {},
   "outputs": [
    {
     "data": {
      "text/plain": [
       "NewMultiTaskClassificationModel(\n",
       "  (encoder_style): MultiGNNEncoder(\n",
       "    (activation): Tanh()\n",
       "    (encoders): ModuleDict(\n",
       "      (0): HeteroConv(num_relations=1)\n",
       "    )\n",
       "  )\n",
       "  (encoder_genre): MultiGNNEncoder(\n",
       "    (activation): Tanh()\n",
       "    (encoders): ModuleDict(\n",
       "      (0): HeteroConv(num_relations=1)\n",
       "    )\n",
       "  )\n",
       "  (encoder_emotion): MultiGNNEncoder(\n",
       "    (activation): Tanh()\n",
       "    (encoders): ModuleDict(\n",
       "      (0): HeteroConv(num_relations=1)\n",
       "    )\n",
       "  )\n",
       "  (mlp): Sequential(\n",
       "    (0): Linear(in_features=7680, out_features=3840, bias=True)\n",
       "    (1): ReLU(inplace=True)\n",
       "    (2): Dropout(p=0.2, inplace=False)\n",
       "    (3): Linear(in_features=3840, out_features=1920, bias=True)\n",
       "    (4): ReLU(inplace=True)\n",
       "    (5): Dropout(p=0.2, inplace=False)\n",
       "    (6): Linear(in_features=1920, out_features=960, bias=True)\n",
       "    (7): ReLU(inplace=True)\n",
       "    (8): Dropout(p=0.2, inplace=False)\n",
       "    (9): Linear(in_features=960, out_features=480, bias=True)\n",
       "    (10): ReLU(inplace=True)\n",
       "    (11): Dropout(p=0.2, inplace=False)\n",
       "  )\n",
       "  (style_head): Linear(in_features=480, out_features=32, bias=True)\n",
       "  (genre_head): Linear(in_features=480, out_features=18, bias=True)\n",
       "  (emotion_head): Linear(in_features=480, out_features=9, bias=True)\n",
       ")"
      ]
     },
     "execution_count": 34,
     "metadata": {},
     "output_type": "execute_result"
    }
   ],
   "source": [
    "model"
   ]
  },
  {
   "cell_type": "code",
   "execution_count": 35,
   "id": "58625bde",
   "metadata": {},
   "outputs": [],
   "source": [
    "from torch_geometric.transforms import ToUndirected\n",
    "train = ToUndirected()(train).to(device)\n",
    "with torch.no_grad():\n",
    "    model.encoder_style(train.x_dict, train.edge_index_dict)\n",
    "    model.encoder_genre(train.x_dict, train.edge_index_dict)\n",
    "    model.encoder_emotion(train.x_dict, train.edge_index_dict)"
   ]
  },
  {
   "cell_type": "code",
   "execution_count": 36,
   "id": "a12a06ad",
   "metadata": {},
   "outputs": [],
   "source": [
    "embedding_style=model.encoder_style(train.x_dict , train.edge_index_dict)"
   ]
  },
  {
   "cell_type": "code",
   "execution_count": 37,
   "id": "5154dce1",
   "metadata": {},
   "outputs": [
    {
     "data": {
      "text/plain": [
       "tensor([-1.0000,  0.9435,  0.9999,  ..., -0.9994,  1.0000, -1.0000],\n",
       "       device='cuda:0', grad_fn=<TanhBackward0>)"
      ]
     },
     "execution_count": 37,
     "metadata": {},
     "output_type": "execute_result"
    }
   ],
   "source": [
    "embedding_style"
   ]
  },
  {
   "cell_type": "code",
   "execution_count": 38,
   "id": "52373b9c",
   "metadata": {},
   "outputs": [],
   "source": [
    "embedding_genre=model.encoder_genre(train.x_dict , train.edge_index_dict)"
   ]
  },
  {
   "cell_type": "code",
   "execution_count": 39,
   "id": "67e69bae",
   "metadata": {},
   "outputs": [
    {
     "data": {
      "text/plain": [
       "torch.Size([2304])"
      ]
     },
     "execution_count": 39,
     "metadata": {},
     "output_type": "execute_result"
    }
   ],
   "source": [
    "embedding_genre.shape"
   ]
  },
  {
   "cell_type": "code",
   "execution_count": 40,
   "id": "9cf63a1c",
   "metadata": {},
   "outputs": [],
   "source": [
    "embedding_emotion=model.encoder_emotion(train.x_dict , train.edge_index_dict)"
   ]
  },
  {
   "cell_type": "code",
   "execution_count": 41,
   "id": "6d436e48",
   "metadata": {},
   "outputs": [
    {
     "data": {
      "text/plain": [
       "torch.Size([1152])"
      ]
     },
     "execution_count": 41,
     "metadata": {},
     "output_type": "execute_result"
    }
   ],
   "source": [
    "embedding_emotion.shape"
   ]
  },
  {
   "cell_type": "code",
   "execution_count": 54,
   "id": "b39464d2",
   "metadata": {},
   "outputs": [
    {
     "name": "stdout",
     "output_type": "stream",
     "text": [
      "Requirement already satisfied: numpy in c:\\users\\aless\\anaconda3\\envs\\tesi\\lib\\site-packages (1.21.2)\n"
     ]
    }
   ],
   "source": [
    "!pip install numpy"
   ]
  },
  {
   "cell_type": "code",
   "execution_count": 73,
   "id": "19839285",
   "metadata": {},
   "outputs": [
    {
     "name": "stdout",
     "output_type": "stream",
     "text": [
      "(9, 128)\n",
      "['anger', 'awe', 'contentment', 'excitement', 'sadness', 'amusement', 'disgust', 'fear', 'something else']\n"
     ]
    },
    {
     "name": "stderr",
     "output_type": "stream",
     "text": [
      "C:\\Users\\aless\\anaconda3\\envs\\tesi\\lib\\site-packages\\sklearn\\utils\\validation.py:727: FutureWarning:\n",
      "\n",
      "np.matrix usage is deprecated in 1.0 and will raise a TypeError in 1.2. Please convert to a numpy array with np.asarray. For more information see: https://numpy.org/doc/stable/reference/generated/numpy.matrix.html\n",
      "\n"
     ]
    },
    {
     "data": {
      "application/vnd.plotly.v1+json": {
       "config": {
        "plotlyServerURL": "https://plot.ly"
       },
       "data": [
        {
         "hovertemplate": "color=anger<br>0=%{x}<br>1=%{y}<extra></extra>",
         "legendgroup": "anger",
         "marker": {
          "color": "#636efa",
          "symbol": "circle"
         },
         "mode": "markers",
         "name": "anger",
         "orientation": "v",
         "showlegend": true,
         "type": "scatter",
         "x": [
          6.44692930726219
         ],
         "xaxis": "x",
         "y": [
          -4.17796147988958
         ],
         "yaxis": "y"
        },
        {
         "hovertemplate": "color=awe<br>0=%{x}<br>1=%{y}<extra></extra>",
         "legendgroup": "awe",
         "marker": {
          "color": "#EF553B",
          "symbol": "circle"
         },
         "mode": "markers",
         "name": "awe",
         "orientation": "v",
         "showlegend": true,
         "type": "scatter",
         "x": [
          -3.8932107987348274
         ],
         "xaxis": "x",
         "y": [
          -2.5798794598706936
         ],
         "yaxis": "y"
        },
        {
         "hovertemplate": "color=contentment<br>0=%{x}<br>1=%{y}<extra></extra>",
         "legendgroup": "contentment",
         "marker": {
          "color": "#00cc96",
          "symbol": "circle"
         },
         "mode": "markers",
         "name": "contentment",
         "orientation": "v",
         "showlegend": true,
         "type": "scatter",
         "x": [
          3.3196311774392786
         ],
         "xaxis": "x",
         "y": [
          4.421895810466596
         ],
         "yaxis": "y"
        },
        {
         "hovertemplate": "color=excitement<br>0=%{x}<br>1=%{y}<extra></extra>",
         "legendgroup": "excitement",
         "marker": {
          "color": "#ab63fa",
          "symbol": "circle"
         },
         "mode": "markers",
         "name": "excitement",
         "orientation": "v",
         "showlegend": true,
         "type": "scatter",
         "x": [
          -5.633625296204829
         ],
         "xaxis": "x",
         "y": [
          -2.3550429475603774
         ],
         "yaxis": "y"
        },
        {
         "hovertemplate": "color=sadness<br>0=%{x}<br>1=%{y}<extra></extra>",
         "legendgroup": "sadness",
         "marker": {
          "color": "#FFA15A",
          "symbol": "circle"
         },
         "mode": "markers",
         "name": "sadness",
         "orientation": "v",
         "showlegend": true,
         "type": "scatter",
         "x": [
          4.909614817689629
         ],
         "xaxis": "x",
         "y": [
          -1.362502691779072
         ],
         "yaxis": "y"
        },
        {
         "hovertemplate": "color=amusement<br>0=%{x}<br>1=%{y}<extra></extra>",
         "legendgroup": "amusement",
         "marker": {
          "color": "#19d3f3",
          "symbol": "circle"
         },
         "mode": "markers",
         "name": "amusement",
         "orientation": "v",
         "showlegend": true,
         "type": "scatter",
         "x": [
          -1.8420079894346928
         ],
         "xaxis": "x",
         "y": [
          -4.505156197277001
         ],
         "yaxis": "y"
        },
        {
         "hovertemplate": "color=disgust<br>0=%{x}<br>1=%{y}<extra></extra>",
         "legendgroup": "disgust",
         "marker": {
          "color": "#FF6692",
          "symbol": "circle"
         },
         "mode": "markers",
         "name": "disgust",
         "orientation": "v",
         "showlegend": true,
         "type": "scatter",
         "x": [
          -1.8113414256705322
         ],
         "xaxis": "x",
         "y": [
          4.808065319390282
         ],
         "yaxis": "y"
        },
        {
         "hovertemplate": "color=fear<br>0=%{x}<br>1=%{y}<extra></extra>",
         "legendgroup": "fear",
         "marker": {
          "color": "#B6E880",
          "symbol": "circle"
         },
         "mode": "markers",
         "name": "fear",
         "orientation": "v",
         "showlegend": true,
         "type": "scatter",
         "x": [
          -0.8456352096505462
         ],
         "xaxis": "x",
         "y": [
          1.1045144237048756
         ],
         "yaxis": "y"
        },
        {
         "hovertemplate": "color=something else<br>0=%{x}<br>1=%{y}<extra></extra>",
         "legendgroup": "something else",
         "marker": {
          "color": "#FF97FF",
          "symbol": "circle"
         },
         "mode": "markers",
         "name": "something else",
         "orientation": "v",
         "showlegend": true,
         "type": "scatter",
         "x": [
          -0.6503545826956709
         ],
         "xaxis": "x",
         "y": [
          4.646067222814968
         ],
         "yaxis": "y"
        }
       ],
       "layout": {
        "legend": {
         "title": {
          "text": "color"
         },
         "tracegroupgap": 0
        },
        "margin": {
         "t": 60
        },
        "template": {
         "data": {
          "bar": [
           {
            "error_x": {
             "color": "#2a3f5f"
            },
            "error_y": {
             "color": "#2a3f5f"
            },
            "marker": {
             "line": {
              "color": "#E5ECF6",
              "width": 0.5
             },
             "pattern": {
              "fillmode": "overlay",
              "size": 10,
              "solidity": 0.2
             }
            },
            "type": "bar"
           }
          ],
          "barpolar": [
           {
            "marker": {
             "line": {
              "color": "#E5ECF6",
              "width": 0.5
             },
             "pattern": {
              "fillmode": "overlay",
              "size": 10,
              "solidity": 0.2
             }
            },
            "type": "barpolar"
           }
          ],
          "carpet": [
           {
            "aaxis": {
             "endlinecolor": "#2a3f5f",
             "gridcolor": "white",
             "linecolor": "white",
             "minorgridcolor": "white",
             "startlinecolor": "#2a3f5f"
            },
            "baxis": {
             "endlinecolor": "#2a3f5f",
             "gridcolor": "white",
             "linecolor": "white",
             "minorgridcolor": "white",
             "startlinecolor": "#2a3f5f"
            },
            "type": "carpet"
           }
          ],
          "choropleth": [
           {
            "colorbar": {
             "outlinewidth": 0,
             "ticks": ""
            },
            "type": "choropleth"
           }
          ],
          "contour": [
           {
            "colorbar": {
             "outlinewidth": 0,
             "ticks": ""
            },
            "colorscale": [
             [
              0,
              "#0d0887"
             ],
             [
              0.1111111111111111,
              "#46039f"
             ],
             [
              0.2222222222222222,
              "#7201a8"
             ],
             [
              0.3333333333333333,
              "#9c179e"
             ],
             [
              0.4444444444444444,
              "#bd3786"
             ],
             [
              0.5555555555555556,
              "#d8576b"
             ],
             [
              0.6666666666666666,
              "#ed7953"
             ],
             [
              0.7777777777777778,
              "#fb9f3a"
             ],
             [
              0.8888888888888888,
              "#fdca26"
             ],
             [
              1,
              "#f0f921"
             ]
            ],
            "type": "contour"
           }
          ],
          "contourcarpet": [
           {
            "colorbar": {
             "outlinewidth": 0,
             "ticks": ""
            },
            "type": "contourcarpet"
           }
          ],
          "heatmap": [
           {
            "colorbar": {
             "outlinewidth": 0,
             "ticks": ""
            },
            "colorscale": [
             [
              0,
              "#0d0887"
             ],
             [
              0.1111111111111111,
              "#46039f"
             ],
             [
              0.2222222222222222,
              "#7201a8"
             ],
             [
              0.3333333333333333,
              "#9c179e"
             ],
             [
              0.4444444444444444,
              "#bd3786"
             ],
             [
              0.5555555555555556,
              "#d8576b"
             ],
             [
              0.6666666666666666,
              "#ed7953"
             ],
             [
              0.7777777777777778,
              "#fb9f3a"
             ],
             [
              0.8888888888888888,
              "#fdca26"
             ],
             [
              1,
              "#f0f921"
             ]
            ],
            "type": "heatmap"
           }
          ],
          "heatmapgl": [
           {
            "colorbar": {
             "outlinewidth": 0,
             "ticks": ""
            },
            "colorscale": [
             [
              0,
              "#0d0887"
             ],
             [
              0.1111111111111111,
              "#46039f"
             ],
             [
              0.2222222222222222,
              "#7201a8"
             ],
             [
              0.3333333333333333,
              "#9c179e"
             ],
             [
              0.4444444444444444,
              "#bd3786"
             ],
             [
              0.5555555555555556,
              "#d8576b"
             ],
             [
              0.6666666666666666,
              "#ed7953"
             ],
             [
              0.7777777777777778,
              "#fb9f3a"
             ],
             [
              0.8888888888888888,
              "#fdca26"
             ],
             [
              1,
              "#f0f921"
             ]
            ],
            "type": "heatmapgl"
           }
          ],
          "histogram": [
           {
            "marker": {
             "pattern": {
              "fillmode": "overlay",
              "size": 10,
              "solidity": 0.2
             }
            },
            "type": "histogram"
           }
          ],
          "histogram2d": [
           {
            "colorbar": {
             "outlinewidth": 0,
             "ticks": ""
            },
            "colorscale": [
             [
              0,
              "#0d0887"
             ],
             [
              0.1111111111111111,
              "#46039f"
             ],
             [
              0.2222222222222222,
              "#7201a8"
             ],
             [
              0.3333333333333333,
              "#9c179e"
             ],
             [
              0.4444444444444444,
              "#bd3786"
             ],
             [
              0.5555555555555556,
              "#d8576b"
             ],
             [
              0.6666666666666666,
              "#ed7953"
             ],
             [
              0.7777777777777778,
              "#fb9f3a"
             ],
             [
              0.8888888888888888,
              "#fdca26"
             ],
             [
              1,
              "#f0f921"
             ]
            ],
            "type": "histogram2d"
           }
          ],
          "histogram2dcontour": [
           {
            "colorbar": {
             "outlinewidth": 0,
             "ticks": ""
            },
            "colorscale": [
             [
              0,
              "#0d0887"
             ],
             [
              0.1111111111111111,
              "#46039f"
             ],
             [
              0.2222222222222222,
              "#7201a8"
             ],
             [
              0.3333333333333333,
              "#9c179e"
             ],
             [
              0.4444444444444444,
              "#bd3786"
             ],
             [
              0.5555555555555556,
              "#d8576b"
             ],
             [
              0.6666666666666666,
              "#ed7953"
             ],
             [
              0.7777777777777778,
              "#fb9f3a"
             ],
             [
              0.8888888888888888,
              "#fdca26"
             ],
             [
              1,
              "#f0f921"
             ]
            ],
            "type": "histogram2dcontour"
           }
          ],
          "mesh3d": [
           {
            "colorbar": {
             "outlinewidth": 0,
             "ticks": ""
            },
            "type": "mesh3d"
           }
          ],
          "parcoords": [
           {
            "line": {
             "colorbar": {
              "outlinewidth": 0,
              "ticks": ""
             }
            },
            "type": "parcoords"
           }
          ],
          "pie": [
           {
            "automargin": true,
            "type": "pie"
           }
          ],
          "scatter": [
           {
            "fillpattern": {
             "fillmode": "overlay",
             "size": 10,
             "solidity": 0.2
            },
            "type": "scatter"
           }
          ],
          "scatter3d": [
           {
            "line": {
             "colorbar": {
              "outlinewidth": 0,
              "ticks": ""
             }
            },
            "marker": {
             "colorbar": {
              "outlinewidth": 0,
              "ticks": ""
             }
            },
            "type": "scatter3d"
           }
          ],
          "scattercarpet": [
           {
            "marker": {
             "colorbar": {
              "outlinewidth": 0,
              "ticks": ""
             }
            },
            "type": "scattercarpet"
           }
          ],
          "scattergeo": [
           {
            "marker": {
             "colorbar": {
              "outlinewidth": 0,
              "ticks": ""
             }
            },
            "type": "scattergeo"
           }
          ],
          "scattergl": [
           {
            "marker": {
             "colorbar": {
              "outlinewidth": 0,
              "ticks": ""
             }
            },
            "type": "scattergl"
           }
          ],
          "scattermapbox": [
           {
            "marker": {
             "colorbar": {
              "outlinewidth": 0,
              "ticks": ""
             }
            },
            "type": "scattermapbox"
           }
          ],
          "scatterpolar": [
           {
            "marker": {
             "colorbar": {
              "outlinewidth": 0,
              "ticks": ""
             }
            },
            "type": "scatterpolar"
           }
          ],
          "scatterpolargl": [
           {
            "marker": {
             "colorbar": {
              "outlinewidth": 0,
              "ticks": ""
             }
            },
            "type": "scatterpolargl"
           }
          ],
          "scatterternary": [
           {
            "marker": {
             "colorbar": {
              "outlinewidth": 0,
              "ticks": ""
             }
            },
            "type": "scatterternary"
           }
          ],
          "surface": [
           {
            "colorbar": {
             "outlinewidth": 0,
             "ticks": ""
            },
            "colorscale": [
             [
              0,
              "#0d0887"
             ],
             [
              0.1111111111111111,
              "#46039f"
             ],
             [
              0.2222222222222222,
              "#7201a8"
             ],
             [
              0.3333333333333333,
              "#9c179e"
             ],
             [
              0.4444444444444444,
              "#bd3786"
             ],
             [
              0.5555555555555556,
              "#d8576b"
             ],
             [
              0.6666666666666666,
              "#ed7953"
             ],
             [
              0.7777777777777778,
              "#fb9f3a"
             ],
             [
              0.8888888888888888,
              "#fdca26"
             ],
             [
              1,
              "#f0f921"
             ]
            ],
            "type": "surface"
           }
          ],
          "table": [
           {
            "cells": {
             "fill": {
              "color": "#EBF0F8"
             },
             "line": {
              "color": "white"
             }
            },
            "header": {
             "fill": {
              "color": "#C8D4E3"
             },
             "line": {
              "color": "white"
             }
            },
            "type": "table"
           }
          ]
         },
         "layout": {
          "annotationdefaults": {
           "arrowcolor": "#2a3f5f",
           "arrowhead": 0,
           "arrowwidth": 1
          },
          "autotypenumbers": "strict",
          "coloraxis": {
           "colorbar": {
            "outlinewidth": 0,
            "ticks": ""
           }
          },
          "colorscale": {
           "diverging": [
            [
             0,
             "#8e0152"
            ],
            [
             0.1,
             "#c51b7d"
            ],
            [
             0.2,
             "#de77ae"
            ],
            [
             0.3,
             "#f1b6da"
            ],
            [
             0.4,
             "#fde0ef"
            ],
            [
             0.5,
             "#f7f7f7"
            ],
            [
             0.6,
             "#e6f5d0"
            ],
            [
             0.7,
             "#b8e186"
            ],
            [
             0.8,
             "#7fbc41"
            ],
            [
             0.9,
             "#4d9221"
            ],
            [
             1,
             "#276419"
            ]
           ],
           "sequential": [
            [
             0,
             "#0d0887"
            ],
            [
             0.1111111111111111,
             "#46039f"
            ],
            [
             0.2222222222222222,
             "#7201a8"
            ],
            [
             0.3333333333333333,
             "#9c179e"
            ],
            [
             0.4444444444444444,
             "#bd3786"
            ],
            [
             0.5555555555555556,
             "#d8576b"
            ],
            [
             0.6666666666666666,
             "#ed7953"
            ],
            [
             0.7777777777777778,
             "#fb9f3a"
            ],
            [
             0.8888888888888888,
             "#fdca26"
            ],
            [
             1,
             "#f0f921"
            ]
           ],
           "sequentialminus": [
            [
             0,
             "#0d0887"
            ],
            [
             0.1111111111111111,
             "#46039f"
            ],
            [
             0.2222222222222222,
             "#7201a8"
            ],
            [
             0.3333333333333333,
             "#9c179e"
            ],
            [
             0.4444444444444444,
             "#bd3786"
            ],
            [
             0.5555555555555556,
             "#d8576b"
            ],
            [
             0.6666666666666666,
             "#ed7953"
            ],
            [
             0.7777777777777778,
             "#fb9f3a"
            ],
            [
             0.8888888888888888,
             "#fdca26"
            ],
            [
             1,
             "#f0f921"
            ]
           ]
          },
          "colorway": [
           "#636efa",
           "#EF553B",
           "#00cc96",
           "#ab63fa",
           "#FFA15A",
           "#19d3f3",
           "#FF6692",
           "#B6E880",
           "#FF97FF",
           "#FECB52"
          ],
          "font": {
           "color": "#2a3f5f"
          },
          "geo": {
           "bgcolor": "white",
           "lakecolor": "white",
           "landcolor": "#E5ECF6",
           "showlakes": true,
           "showland": true,
           "subunitcolor": "white"
          },
          "hoverlabel": {
           "align": "left"
          },
          "hovermode": "closest",
          "mapbox": {
           "style": "light"
          },
          "paper_bgcolor": "white",
          "plot_bgcolor": "#E5ECF6",
          "polar": {
           "angularaxis": {
            "gridcolor": "white",
            "linecolor": "white",
            "ticks": ""
           },
           "bgcolor": "#E5ECF6",
           "radialaxis": {
            "gridcolor": "white",
            "linecolor": "white",
            "ticks": ""
           }
          },
          "scene": {
           "xaxis": {
            "backgroundcolor": "#E5ECF6",
            "gridcolor": "white",
            "gridwidth": 2,
            "linecolor": "white",
            "showbackground": true,
            "ticks": "",
            "zerolinecolor": "white"
           },
           "yaxis": {
            "backgroundcolor": "#E5ECF6",
            "gridcolor": "white",
            "gridwidth": 2,
            "linecolor": "white",
            "showbackground": true,
            "ticks": "",
            "zerolinecolor": "white"
           },
           "zaxis": {
            "backgroundcolor": "#E5ECF6",
            "gridcolor": "white",
            "gridwidth": 2,
            "linecolor": "white",
            "showbackground": true,
            "ticks": "",
            "zerolinecolor": "white"
           }
          },
          "shapedefaults": {
           "line": {
            "color": "#2a3f5f"
           }
          },
          "ternary": {
           "aaxis": {
            "gridcolor": "white",
            "linecolor": "white",
            "ticks": ""
           },
           "baxis": {
            "gridcolor": "white",
            "linecolor": "white",
            "ticks": ""
           },
           "bgcolor": "#E5ECF6",
           "caxis": {
            "gridcolor": "white",
            "linecolor": "white",
            "ticks": ""
           }
          },
          "title": {
           "x": 0.05
          },
          "xaxis": {
           "automargin": true,
           "gridcolor": "white",
           "linecolor": "white",
           "ticks": "",
           "title": {
            "standoff": 15
           },
           "zerolinecolor": "white",
           "zerolinewidth": 2
          },
          "yaxis": {
           "automargin": true,
           "gridcolor": "white",
           "linecolor": "white",
           "ticks": "",
           "title": {
            "standoff": 15
           },
           "zerolinecolor": "white",
           "zerolinewidth": 2
          }
         }
        },
        "xaxis": {
         "anchor": "y",
         "domain": [
          0,
          1
         ],
         "title": {
          "text": "0"
         }
        },
        "yaxis": {
         "anchor": "x",
         "domain": [
          0,
          1
         ],
         "title": {
          "text": "1"
         }
        }
       }
      },
      "text/html": [
       "<div>                            <div id=\"64d5d34f-21f0-44cd-825e-d2b781232d64\" class=\"plotly-graph-div\" style=\"height:525px; width:100%;\"></div>            <script type=\"text/javascript\">                require([\"plotly\"], function(Plotly) {                    window.PLOTLYENV=window.PLOTLYENV || {};                                    if (document.getElementById(\"64d5d34f-21f0-44cd-825e-d2b781232d64\")) {                    Plotly.newPlot(                        \"64d5d34f-21f0-44cd-825e-d2b781232d64\",                        [{\"hovertemplate\":\"color=anger<br>0=%{x}<br>1=%{y}<extra></extra>\",\"legendgroup\":\"anger\",\"marker\":{\"color\":\"#636efa\",\"symbol\":\"circle\"},\"mode\":\"markers\",\"name\":\"anger\",\"orientation\":\"v\",\"showlegend\":true,\"x\":[6.44692930726219],\"xaxis\":\"x\",\"y\":[-4.17796147988958],\"yaxis\":\"y\",\"type\":\"scatter\"},{\"hovertemplate\":\"color=awe<br>0=%{x}<br>1=%{y}<extra></extra>\",\"legendgroup\":\"awe\",\"marker\":{\"color\":\"#EF553B\",\"symbol\":\"circle\"},\"mode\":\"markers\",\"name\":\"awe\",\"orientation\":\"v\",\"showlegend\":true,\"x\":[-3.8932107987348274],\"xaxis\":\"x\",\"y\":[-2.5798794598706936],\"yaxis\":\"y\",\"type\":\"scatter\"},{\"hovertemplate\":\"color=contentment<br>0=%{x}<br>1=%{y}<extra></extra>\",\"legendgroup\":\"contentment\",\"marker\":{\"color\":\"#00cc96\",\"symbol\":\"circle\"},\"mode\":\"markers\",\"name\":\"contentment\",\"orientation\":\"v\",\"showlegend\":true,\"x\":[3.3196311774392786],\"xaxis\":\"x\",\"y\":[4.421895810466596],\"yaxis\":\"y\",\"type\":\"scatter\"},{\"hovertemplate\":\"color=excitement<br>0=%{x}<br>1=%{y}<extra></extra>\",\"legendgroup\":\"excitement\",\"marker\":{\"color\":\"#ab63fa\",\"symbol\":\"circle\"},\"mode\":\"markers\",\"name\":\"excitement\",\"orientation\":\"v\",\"showlegend\":true,\"x\":[-5.633625296204829],\"xaxis\":\"x\",\"y\":[-2.3550429475603774],\"yaxis\":\"y\",\"type\":\"scatter\"},{\"hovertemplate\":\"color=sadness<br>0=%{x}<br>1=%{y}<extra></extra>\",\"legendgroup\":\"sadness\",\"marker\":{\"color\":\"#FFA15A\",\"symbol\":\"circle\"},\"mode\":\"markers\",\"name\":\"sadness\",\"orientation\":\"v\",\"showlegend\":true,\"x\":[4.909614817689629],\"xaxis\":\"x\",\"y\":[-1.362502691779072],\"yaxis\":\"y\",\"type\":\"scatter\"},{\"hovertemplate\":\"color=amusement<br>0=%{x}<br>1=%{y}<extra></extra>\",\"legendgroup\":\"amusement\",\"marker\":{\"color\":\"#19d3f3\",\"symbol\":\"circle\"},\"mode\":\"markers\",\"name\":\"amusement\",\"orientation\":\"v\",\"showlegend\":true,\"x\":[-1.8420079894346928],\"xaxis\":\"x\",\"y\":[-4.505156197277001],\"yaxis\":\"y\",\"type\":\"scatter\"},{\"hovertemplate\":\"color=disgust<br>0=%{x}<br>1=%{y}<extra></extra>\",\"legendgroup\":\"disgust\",\"marker\":{\"color\":\"#FF6692\",\"symbol\":\"circle\"},\"mode\":\"markers\",\"name\":\"disgust\",\"orientation\":\"v\",\"showlegend\":true,\"x\":[-1.8113414256705322],\"xaxis\":\"x\",\"y\":[4.808065319390282],\"yaxis\":\"y\",\"type\":\"scatter\"},{\"hovertemplate\":\"color=fear<br>0=%{x}<br>1=%{y}<extra></extra>\",\"legendgroup\":\"fear\",\"marker\":{\"color\":\"#B6E880\",\"symbol\":\"circle\"},\"mode\":\"markers\",\"name\":\"fear\",\"orientation\":\"v\",\"showlegend\":true,\"x\":[-0.8456352096505462],\"xaxis\":\"x\",\"y\":[1.1045144237048756],\"yaxis\":\"y\",\"type\":\"scatter\"},{\"hovertemplate\":\"color=something else<br>0=%{x}<br>1=%{y}<extra></extra>\",\"legendgroup\":\"something else\",\"marker\":{\"color\":\"#FF97FF\",\"symbol\":\"circle\"},\"mode\":\"markers\",\"name\":\"something else\",\"orientation\":\"v\",\"showlegend\":true,\"x\":[-0.6503545826956709],\"xaxis\":\"x\",\"y\":[4.646067222814968],\"yaxis\":\"y\",\"type\":\"scatter\"}],                        {\"template\":{\"data\":{\"histogram2dcontour\":[{\"type\":\"histogram2dcontour\",\"colorbar\":{\"outlinewidth\":0,\"ticks\":\"\"},\"colorscale\":[[0.0,\"#0d0887\"],[0.1111111111111111,\"#46039f\"],[0.2222222222222222,\"#7201a8\"],[0.3333333333333333,\"#9c179e\"],[0.4444444444444444,\"#bd3786\"],[0.5555555555555556,\"#d8576b\"],[0.6666666666666666,\"#ed7953\"],[0.7777777777777778,\"#fb9f3a\"],[0.8888888888888888,\"#fdca26\"],[1.0,\"#f0f921\"]]}],\"choropleth\":[{\"type\":\"choropleth\",\"colorbar\":{\"outlinewidth\":0,\"ticks\":\"\"}}],\"histogram2d\":[{\"type\":\"histogram2d\",\"colorbar\":{\"outlinewidth\":0,\"ticks\":\"\"},\"colorscale\":[[0.0,\"#0d0887\"],[0.1111111111111111,\"#46039f\"],[0.2222222222222222,\"#7201a8\"],[0.3333333333333333,\"#9c179e\"],[0.4444444444444444,\"#bd3786\"],[0.5555555555555556,\"#d8576b\"],[0.6666666666666666,\"#ed7953\"],[0.7777777777777778,\"#fb9f3a\"],[0.8888888888888888,\"#fdca26\"],[1.0,\"#f0f921\"]]}],\"heatmap\":[{\"type\":\"heatmap\",\"colorbar\":{\"outlinewidth\":0,\"ticks\":\"\"},\"colorscale\":[[0.0,\"#0d0887\"],[0.1111111111111111,\"#46039f\"],[0.2222222222222222,\"#7201a8\"],[0.3333333333333333,\"#9c179e\"],[0.4444444444444444,\"#bd3786\"],[0.5555555555555556,\"#d8576b\"],[0.6666666666666666,\"#ed7953\"],[0.7777777777777778,\"#fb9f3a\"],[0.8888888888888888,\"#fdca26\"],[1.0,\"#f0f921\"]]}],\"heatmapgl\":[{\"type\":\"heatmapgl\",\"colorbar\":{\"outlinewidth\":0,\"ticks\":\"\"},\"colorscale\":[[0.0,\"#0d0887\"],[0.1111111111111111,\"#46039f\"],[0.2222222222222222,\"#7201a8\"],[0.3333333333333333,\"#9c179e\"],[0.4444444444444444,\"#bd3786\"],[0.5555555555555556,\"#d8576b\"],[0.6666666666666666,\"#ed7953\"],[0.7777777777777778,\"#fb9f3a\"],[0.8888888888888888,\"#fdca26\"],[1.0,\"#f0f921\"]]}],\"contourcarpet\":[{\"type\":\"contourcarpet\",\"colorbar\":{\"outlinewidth\":0,\"ticks\":\"\"}}],\"contour\":[{\"type\":\"contour\",\"colorbar\":{\"outlinewidth\":0,\"ticks\":\"\"},\"colorscale\":[[0.0,\"#0d0887\"],[0.1111111111111111,\"#46039f\"],[0.2222222222222222,\"#7201a8\"],[0.3333333333333333,\"#9c179e\"],[0.4444444444444444,\"#bd3786\"],[0.5555555555555556,\"#d8576b\"],[0.6666666666666666,\"#ed7953\"],[0.7777777777777778,\"#fb9f3a\"],[0.8888888888888888,\"#fdca26\"],[1.0,\"#f0f921\"]]}],\"surface\":[{\"type\":\"surface\",\"colorbar\":{\"outlinewidth\":0,\"ticks\":\"\"},\"colorscale\":[[0.0,\"#0d0887\"],[0.1111111111111111,\"#46039f\"],[0.2222222222222222,\"#7201a8\"],[0.3333333333333333,\"#9c179e\"],[0.4444444444444444,\"#bd3786\"],[0.5555555555555556,\"#d8576b\"],[0.6666666666666666,\"#ed7953\"],[0.7777777777777778,\"#fb9f3a\"],[0.8888888888888888,\"#fdca26\"],[1.0,\"#f0f921\"]]}],\"mesh3d\":[{\"type\":\"mesh3d\",\"colorbar\":{\"outlinewidth\":0,\"ticks\":\"\"}}],\"scatter\":[{\"fillpattern\":{\"fillmode\":\"overlay\",\"size\":10,\"solidity\":0.2},\"type\":\"scatter\"}],\"parcoords\":[{\"type\":\"parcoords\",\"line\":{\"colorbar\":{\"outlinewidth\":0,\"ticks\":\"\"}}}],\"scatterpolargl\":[{\"type\":\"scatterpolargl\",\"marker\":{\"colorbar\":{\"outlinewidth\":0,\"ticks\":\"\"}}}],\"bar\":[{\"error_x\":{\"color\":\"#2a3f5f\"},\"error_y\":{\"color\":\"#2a3f5f\"},\"marker\":{\"line\":{\"color\":\"#E5ECF6\",\"width\":0.5},\"pattern\":{\"fillmode\":\"overlay\",\"size\":10,\"solidity\":0.2}},\"type\":\"bar\"}],\"scattergeo\":[{\"type\":\"scattergeo\",\"marker\":{\"colorbar\":{\"outlinewidth\":0,\"ticks\":\"\"}}}],\"scatterpolar\":[{\"type\":\"scatterpolar\",\"marker\":{\"colorbar\":{\"outlinewidth\":0,\"ticks\":\"\"}}}],\"histogram\":[{\"marker\":{\"pattern\":{\"fillmode\":\"overlay\",\"size\":10,\"solidity\":0.2}},\"type\":\"histogram\"}],\"scattergl\":[{\"type\":\"scattergl\",\"marker\":{\"colorbar\":{\"outlinewidth\":0,\"ticks\":\"\"}}}],\"scatter3d\":[{\"type\":\"scatter3d\",\"line\":{\"colorbar\":{\"outlinewidth\":0,\"ticks\":\"\"}},\"marker\":{\"colorbar\":{\"outlinewidth\":0,\"ticks\":\"\"}}}],\"scattermapbox\":[{\"type\":\"scattermapbox\",\"marker\":{\"colorbar\":{\"outlinewidth\":0,\"ticks\":\"\"}}}],\"scatterternary\":[{\"type\":\"scatterternary\",\"marker\":{\"colorbar\":{\"outlinewidth\":0,\"ticks\":\"\"}}}],\"scattercarpet\":[{\"type\":\"scattercarpet\",\"marker\":{\"colorbar\":{\"outlinewidth\":0,\"ticks\":\"\"}}}],\"carpet\":[{\"aaxis\":{\"endlinecolor\":\"#2a3f5f\",\"gridcolor\":\"white\",\"linecolor\":\"white\",\"minorgridcolor\":\"white\",\"startlinecolor\":\"#2a3f5f\"},\"baxis\":{\"endlinecolor\":\"#2a3f5f\",\"gridcolor\":\"white\",\"linecolor\":\"white\",\"minorgridcolor\":\"white\",\"startlinecolor\":\"#2a3f5f\"},\"type\":\"carpet\"}],\"table\":[{\"cells\":{\"fill\":{\"color\":\"#EBF0F8\"},\"line\":{\"color\":\"white\"}},\"header\":{\"fill\":{\"color\":\"#C8D4E3\"},\"line\":{\"color\":\"white\"}},\"type\":\"table\"}],\"barpolar\":[{\"marker\":{\"line\":{\"color\":\"#E5ECF6\",\"width\":0.5},\"pattern\":{\"fillmode\":\"overlay\",\"size\":10,\"solidity\":0.2}},\"type\":\"barpolar\"}],\"pie\":[{\"automargin\":true,\"type\":\"pie\"}]},\"layout\":{\"autotypenumbers\":\"strict\",\"colorway\":[\"#636efa\",\"#EF553B\",\"#00cc96\",\"#ab63fa\",\"#FFA15A\",\"#19d3f3\",\"#FF6692\",\"#B6E880\",\"#FF97FF\",\"#FECB52\"],\"font\":{\"color\":\"#2a3f5f\"},\"hovermode\":\"closest\",\"hoverlabel\":{\"align\":\"left\"},\"paper_bgcolor\":\"white\",\"plot_bgcolor\":\"#E5ECF6\",\"polar\":{\"bgcolor\":\"#E5ECF6\",\"angularaxis\":{\"gridcolor\":\"white\",\"linecolor\":\"white\",\"ticks\":\"\"},\"radialaxis\":{\"gridcolor\":\"white\",\"linecolor\":\"white\",\"ticks\":\"\"}},\"ternary\":{\"bgcolor\":\"#E5ECF6\",\"aaxis\":{\"gridcolor\":\"white\",\"linecolor\":\"white\",\"ticks\":\"\"},\"baxis\":{\"gridcolor\":\"white\",\"linecolor\":\"white\",\"ticks\":\"\"},\"caxis\":{\"gridcolor\":\"white\",\"linecolor\":\"white\",\"ticks\":\"\"}},\"coloraxis\":{\"colorbar\":{\"outlinewidth\":0,\"ticks\":\"\"}},\"colorscale\":{\"sequential\":[[0.0,\"#0d0887\"],[0.1111111111111111,\"#46039f\"],[0.2222222222222222,\"#7201a8\"],[0.3333333333333333,\"#9c179e\"],[0.4444444444444444,\"#bd3786\"],[0.5555555555555556,\"#d8576b\"],[0.6666666666666666,\"#ed7953\"],[0.7777777777777778,\"#fb9f3a\"],[0.8888888888888888,\"#fdca26\"],[1.0,\"#f0f921\"]],\"sequentialminus\":[[0.0,\"#0d0887\"],[0.1111111111111111,\"#46039f\"],[0.2222222222222222,\"#7201a8\"],[0.3333333333333333,\"#9c179e\"],[0.4444444444444444,\"#bd3786\"],[0.5555555555555556,\"#d8576b\"],[0.6666666666666666,\"#ed7953\"],[0.7777777777777778,\"#fb9f3a\"],[0.8888888888888888,\"#fdca26\"],[1.0,\"#f0f921\"]],\"diverging\":[[0,\"#8e0152\"],[0.1,\"#c51b7d\"],[0.2,\"#de77ae\"],[0.3,\"#f1b6da\"],[0.4,\"#fde0ef\"],[0.5,\"#f7f7f7\"],[0.6,\"#e6f5d0\"],[0.7,\"#b8e186\"],[0.8,\"#7fbc41\"],[0.9,\"#4d9221\"],[1,\"#276419\"]]},\"xaxis\":{\"gridcolor\":\"white\",\"linecolor\":\"white\",\"ticks\":\"\",\"title\":{\"standoff\":15},\"zerolinecolor\":\"white\",\"automargin\":true,\"zerolinewidth\":2},\"yaxis\":{\"gridcolor\":\"white\",\"linecolor\":\"white\",\"ticks\":\"\",\"title\":{\"standoff\":15},\"zerolinecolor\":\"white\",\"automargin\":true,\"zerolinewidth\":2},\"scene\":{\"xaxis\":{\"backgroundcolor\":\"#E5ECF6\",\"gridcolor\":\"white\",\"linecolor\":\"white\",\"showbackground\":true,\"ticks\":\"\",\"zerolinecolor\":\"white\",\"gridwidth\":2},\"yaxis\":{\"backgroundcolor\":\"#E5ECF6\",\"gridcolor\":\"white\",\"linecolor\":\"white\",\"showbackground\":true,\"ticks\":\"\",\"zerolinecolor\":\"white\",\"gridwidth\":2},\"zaxis\":{\"backgroundcolor\":\"#E5ECF6\",\"gridcolor\":\"white\",\"linecolor\":\"white\",\"showbackground\":true,\"ticks\":\"\",\"zerolinecolor\":\"white\",\"gridwidth\":2}},\"shapedefaults\":{\"line\":{\"color\":\"#2a3f5f\"}},\"annotationdefaults\":{\"arrowcolor\":\"#2a3f5f\",\"arrowhead\":0,\"arrowwidth\":1},\"geo\":{\"bgcolor\":\"white\",\"landcolor\":\"#E5ECF6\",\"subunitcolor\":\"white\",\"showland\":true,\"showlakes\":true,\"lakecolor\":\"white\"},\"title\":{\"x\":0.05},\"mapbox\":{\"style\":\"light\"}}},\"xaxis\":{\"anchor\":\"y\",\"domain\":[0.0,1.0],\"title\":{\"text\":\"0\"}},\"yaxis\":{\"anchor\":\"x\",\"domain\":[0.0,1.0],\"title\":{\"text\":\"1\"}},\"legend\":{\"title\":{\"text\":\"color\"},\"tracegroupgap\":0},\"margin\":{\"t\":60}},                        {\"responsive\": true}                    ).then(function(){\n",
       "                            \n",
       "var gd = document.getElementById('64d5d34f-21f0-44cd-825e-d2b781232d64');\n",
       "var x = new MutationObserver(function (mutations, observer) {{\n",
       "        var display = window.getComputedStyle(gd).display;\n",
       "        if (!display || display === 'none') {{\n",
       "            console.log([gd, 'removed!']);\n",
       "            Plotly.purge(gd);\n",
       "            observer.disconnect();\n",
       "        }}\n",
       "}});\n",
       "\n",
       "// Listen for the removal of the full notebook cells\n",
       "var notebookContainer = gd.closest('#notebook-container');\n",
       "if (notebookContainer) {{\n",
       "    x.observe(notebookContainer, {childList: true});\n",
       "}}\n",
       "\n",
       "// Listen for the clearing of the current output cell\n",
       "var outputEl = gd.closest('.output');\n",
       "if (outputEl) {{\n",
       "    x.observe(outputEl, {childList: true});\n",
       "}}\n",
       "\n",
       "                        })                };                });            </script>        </div>"
      ]
     },
     "metadata": {},
     "output_type": "display_data"
    }
   ],
   "source": [
    "# Visualize embeddings\n",
    "\n",
    "import plotly.express as px\n",
    "import numpy as np\n",
    "from sklearn.decomposition import PCA\n",
    "\n",
    "#df = px.data.iris()\n",
    "#X = df[['sepal_length', 'sepal_width', 'petal_length', 'petal_width']]\n",
    "embedding = np.array(embedding_emotion.tolist()).reshape(1152,1).T #reshape(4096,1).\n",
    "#print(embedding.shape)\n",
    "embedding_arrays = np.split(embedding[0], 128)\n",
    "#print(len(embedding_arrays))\n",
    "embedding_matrix=np.asmatrix(embedding_arrays).T\n",
    "print(embedding_matrix.shape)\n",
    "pca = PCA(n_components=2)\n",
    "components = pca.fit_transform(embedding_matrix)\n",
    "\n",
    "labelz=emotion_labels['emotion'].tolist()\n",
    "print(labelz)\n",
    "fig = px.scatter(components, x=0, y=1, color=labelz)\n",
    "fig.show()\n"
   ]
  },
  {
   "cell_type": "code",
   "execution_count": 61,
   "id": "aabb0887",
   "metadata": {},
   "outputs": [],
   "source": [
    "%matplotlib inline\n",
    "import matplotlib.pyplot as plt\n",
    "from sklearn.manifold import TSNE\n",
    "\n",
    "def visualize(h, color):\n",
    "    z = TSNE(n_components=2).fit_transform(h.detach().cpu().numpy())\n",
    "\n",
    "    plt.figure(figsize=(10,10))\n",
    "    plt.xticks([])\n",
    "    plt.yticks([])\n",
    "\n",
    "    plt.scatter(z[:, 0], z[:, 1], s=70, c=color, cmap=\"Set2\")\n",
    "    plt.show()"
   ]
  },
  {
   "cell_type": "code",
   "execution_count": 70,
   "id": "1ba53d4c",
   "metadata": {},
   "outputs": [
    {
     "ename": "AttributeError",
     "evalue": "'HeteroData' has no attribute 'style'",
     "output_type": "error",
     "traceback": [
      "\u001b[1;31m---------------------------------------------------------------------------\u001b[0m",
      "\u001b[1;31mAttributeError\u001b[0m                            Traceback (most recent call last)",
      "\u001b[1;32m~\\AppData\\Local\\Temp/ipykernel_11684/2258757113.py\u001b[0m in \u001b[0;36m<module>\u001b[1;34m\u001b[0m\n\u001b[1;32m----> 1\u001b[1;33m \u001b[0mvisualize\u001b[0m\u001b[1;33m(\u001b[0m\u001b[0membedding_style\u001b[0m\u001b[1;33m,\u001b[0m\u001b[0mcolor\u001b[0m\u001b[1;33m=\u001b[0m\u001b[0mtrain\u001b[0m\u001b[1;33m.\u001b[0m\u001b[0mstyle\u001b[0m\u001b[1;33m)\u001b[0m\u001b[1;33m\u001b[0m\u001b[1;33m\u001b[0m\u001b[0m\n\u001b[0m",
      "\u001b[1;32m~\\anaconda3\\envs\\tesi\\lib\\site-packages\\torch_geometric\\data\\hetero_data.py\u001b[0m in \u001b[0;36m__getattr__\u001b[1;34m(self, key)\u001b[0m\n\u001b[0;32m    114\u001b[0m         \u001b[1;32melif\u001b[0m \u001b[0mbool\u001b[0m\u001b[1;33m(\u001b[0m\u001b[0mre\u001b[0m\u001b[1;33m.\u001b[0m\u001b[0msearch\u001b[0m\u001b[1;33m(\u001b[0m\u001b[1;34m'_dict$'\u001b[0m\u001b[1;33m,\u001b[0m \u001b[0mkey\u001b[0m\u001b[1;33m)\u001b[0m\u001b[1;33m)\u001b[0m\u001b[1;33m:\u001b[0m\u001b[1;33m\u001b[0m\u001b[1;33m\u001b[0m\u001b[0m\n\u001b[0;32m    115\u001b[0m             \u001b[1;32mreturn\u001b[0m \u001b[0mself\u001b[0m\u001b[1;33m.\u001b[0m\u001b[0mcollect\u001b[0m\u001b[1;33m(\u001b[0m\u001b[0mkey\u001b[0m\u001b[1;33m[\u001b[0m\u001b[1;33m:\u001b[0m\u001b[1;33m-\u001b[0m\u001b[1;36m5\u001b[0m\u001b[1;33m]\u001b[0m\u001b[1;33m)\u001b[0m\u001b[1;33m\u001b[0m\u001b[1;33m\u001b[0m\u001b[0m\n\u001b[1;32m--> 116\u001b[1;33m         raise AttributeError(f\"'{self.__class__.__name__}' has no \"\n\u001b[0m\u001b[0;32m    117\u001b[0m                              f\"attribute '{key}'\")\n\u001b[0;32m    118\u001b[0m \u001b[1;33m\u001b[0m\u001b[0m\n",
      "\u001b[1;31mAttributeError\u001b[0m: 'HeteroData' has no attribute 'style'"
     ]
    }
   ],
   "source": [
    "visualize(embedding_style,color=train.style)"
   ]
  },
  {
   "cell_type": "code",
   "execution_count": 21,
   "id": "5be2bb80",
   "metadata": {
    "scrolled": true
   },
   "outputs": [
    {
     "name": "stdout",
     "output_type": "stream",
     "text": [
      "Epoch 1/50\n",
      "------------------------------------------------------------------------------------------------------------------------\n"
     ]
    },
    {
     "name": "stderr",
     "output_type": "stream",
     "text": [
      "100%|██████████| 408/408 [01:55<00:00,  3.54it/s]\n"
     ]
    },
    {
     "name": "stdout",
     "output_type": "stream",
     "text": [
      "train Loss: 1.7875 Style Acc: 0.3180\n",
      "            Genre Acc: 0.5483\n",
      "            Emotion Acc: 0.3797\n"
     ]
    },
    {
     "name": "stderr",
     "output_type": "stream",
     "text": [
      "100%|██████████| 51/51 [00:04<00:00, 10.75it/s]\n"
     ]
    },
    {
     "name": "stdout",
     "output_type": "stream",
     "text": [
      "val Loss: 1.4901 Style Acc: 0.4220\n",
      "            Genre Acc: 0.6541\n",
      "            Emotion Acc: 0.4110\n",
      "Validation loss decreased. Saving model...\n",
      "Epoch 2/50\n",
      "------------------------------------------------------------------------------------------------------------------------\n"
     ]
    },
    {
     "name": "stderr",
     "output_type": "stream",
     "text": [
      "100%|██████████| 408/408 [01:53<00:00,  3.59it/s]\n"
     ]
    },
    {
     "name": "stdout",
     "output_type": "stream",
     "text": [
      "train Loss: 1.4476 Style Acc: 0.4422\n",
      "            Genre Acc: 0.6675\n",
      "            Emotion Acc: 0.4111\n"
     ]
    },
    {
     "name": "stderr",
     "output_type": "stream",
     "text": [
      "100%|██████████| 51/51 [00:04<00:00, 10.52it/s]\n"
     ]
    },
    {
     "name": "stdout",
     "output_type": "stream",
     "text": [
      "val Loss: 1.3812 Style Acc: 0.4831\n",
      "            Genre Acc: 0.6877\n",
      "            Emotion Acc: 0.4188\n",
      "Validation loss decreased. Saving model...\n",
      "Epoch 3/50\n",
      "------------------------------------------------------------------------------------------------------------------------\n"
     ]
    },
    {
     "name": "stderr",
     "output_type": "stream",
     "text": [
      "100%|██████████| 408/408 [01:53<00:00,  3.60it/s]\n"
     ]
    },
    {
     "name": "stdout",
     "output_type": "stream",
     "text": [
      "train Loss: 1.3752 Style Acc: 0.4813\n",
      "            Genre Acc: 0.6806\n",
      "            Emotion Acc: 0.4188\n"
     ]
    },
    {
     "name": "stderr",
     "output_type": "stream",
     "text": [
      "100%|██████████| 51/51 [00:04<00:00, 10.27it/s]\n"
     ]
    },
    {
     "name": "stdout",
     "output_type": "stream",
     "text": [
      "val Loss: 1.3347 Style Acc: 0.4971\n",
      "            Genre Acc: 0.6955\n",
      "            Emotion Acc: 0.4331\n",
      "Validation loss decreased. Saving model...\n",
      "Epoch 4/50\n",
      "------------------------------------------------------------------------------------------------------------------------\n"
     ]
    },
    {
     "name": "stderr",
     "output_type": "stream",
     "text": [
      "100%|██████████| 408/408 [01:53<00:00,  3.60it/s]\n"
     ]
    },
    {
     "name": "stdout",
     "output_type": "stream",
     "text": [
      "train Loss: 1.3333 Style Acc: 0.5058\n",
      "            Genre Acc: 0.6957\n",
      "            Emotion Acc: 0.4256\n"
     ]
    },
    {
     "name": "stderr",
     "output_type": "stream",
     "text": [
      "100%|██████████| 51/51 [00:04<00:00, 10.49it/s]\n"
     ]
    },
    {
     "name": "stdout",
     "output_type": "stream",
     "text": [
      "val Loss: 1.3137 Style Acc: 0.5202\n",
      "            Genre Acc: 0.6913\n",
      "            Emotion Acc: 0.4360\n",
      "Validation loss decreased. Saving model...\n",
      "Epoch 5/50\n",
      "------------------------------------------------------------------------------------------------------------------------\n"
     ]
    },
    {
     "name": "stderr",
     "output_type": "stream",
     "text": [
      "100%|██████████| 408/408 [01:53<00:00,  3.60it/s]\n"
     ]
    },
    {
     "name": "stdout",
     "output_type": "stream",
     "text": [
      "train Loss: 1.3001 Style Acc: 0.5249\n",
      "            Genre Acc: 0.7033\n",
      "            Emotion Acc: 0.4297\n"
     ]
    },
    {
     "name": "stderr",
     "output_type": "stream",
     "text": [
      "100%|██████████| 51/51 [00:04<00:00, 10.88it/s]\n"
     ]
    },
    {
     "name": "stdout",
     "output_type": "stream",
     "text": [
      "val Loss: 1.2836 Style Acc: 0.5268\n",
      "            Genre Acc: 0.7094\n",
      "            Emotion Acc: 0.4354\n",
      "Validation loss decreased. Saving model...\n",
      "Epoch 6/50\n",
      "------------------------------------------------------------------------------------------------------------------------\n"
     ]
    },
    {
     "name": "stderr",
     "output_type": "stream",
     "text": [
      "100%|██████████| 408/408 [01:53<00:00,  3.61it/s]\n"
     ]
    },
    {
     "name": "stdout",
     "output_type": "stream",
     "text": [
      "train Loss: 1.2750 Style Acc: 0.5386\n",
      "            Genre Acc: 0.7065\n",
      "            Emotion Acc: 0.4329\n"
     ]
    },
    {
     "name": "stderr",
     "output_type": "stream",
     "text": [
      "100%|██████████| 51/51 [00:04<00:00, 10.88it/s]\n"
     ]
    },
    {
     "name": "stdout",
     "output_type": "stream",
     "text": [
      "val Loss: 1.2918 Style Acc: 0.5406\n",
      "            Genre Acc: 0.6892\n",
      "            Emotion Acc: 0.4343\n",
      "EarlyStopping counter: 1 out of 5\n",
      "Epoch 7/50\n",
      "------------------------------------------------------------------------------------------------------------------------\n"
     ]
    },
    {
     "name": "stderr",
     "output_type": "stream",
     "text": [
      "100%|██████████| 408/408 [01:53<00:00,  3.59it/s]\n"
     ]
    },
    {
     "name": "stdout",
     "output_type": "stream",
     "text": [
      "train Loss: 1.2551 Style Acc: 0.5480\n",
      "            Genre Acc: 0.7131\n",
      "            Emotion Acc: 0.4355\n"
     ]
    },
    {
     "name": "stderr",
     "output_type": "stream",
     "text": [
      "100%|██████████| 51/51 [00:04<00:00, 10.36it/s]\n"
     ]
    },
    {
     "name": "stdout",
     "output_type": "stream",
     "text": [
      "val Loss: 1.2692 Style Acc: 0.5479\n",
      "            Genre Acc: 0.7080\n",
      "            Emotion Acc: 0.4347\n",
      "Validation loss decreased. Saving model...\n",
      "Epoch 8/50\n",
      "------------------------------------------------------------------------------------------------------------------------\n"
     ]
    },
    {
     "name": "stderr",
     "output_type": "stream",
     "text": [
      "100%|██████████| 408/408 [01:53<00:00,  3.60it/s]\n"
     ]
    },
    {
     "name": "stdout",
     "output_type": "stream",
     "text": [
      "train Loss: 1.2355 Style Acc: 0.5593\n",
      "            Genre Acc: 0.7180\n",
      "            Emotion Acc: 0.4392\n"
     ]
    },
    {
     "name": "stderr",
     "output_type": "stream",
     "text": [
      "100%|██████████| 51/51 [00:04<00:00, 10.83it/s]\n"
     ]
    },
    {
     "name": "stdout",
     "output_type": "stream",
     "text": [
      "val Loss: 1.2659 Style Acc: 0.5389\n",
      "            Genre Acc: 0.7134\n",
      "            Emotion Acc: 0.4354\n",
      "Validation loss decreased. Saving model...\n",
      "Epoch 9/50\n",
      "------------------------------------------------------------------------------------------------------------------------\n"
     ]
    },
    {
     "name": "stderr",
     "output_type": "stream",
     "text": [
      "100%|██████████| 408/408 [01:53<00:00,  3.60it/s]\n"
     ]
    },
    {
     "name": "stdout",
     "output_type": "stream",
     "text": [
      "train Loss: 1.2195 Style Acc: 0.5671\n",
      "            Genre Acc: 0.7213\n",
      "            Emotion Acc: 0.4398\n"
     ]
    },
    {
     "name": "stderr",
     "output_type": "stream",
     "text": [
      "100%|██████████| 51/51 [00:04<00:00, 10.46it/s]\n"
     ]
    },
    {
     "name": "stdout",
     "output_type": "stream",
     "text": [
      "val Loss: 1.2489 Style Acc: 0.5530\n",
      "            Genre Acc: 0.7184\n",
      "            Emotion Acc: 0.4324\n",
      "Validation loss decreased. Saving model...\n",
      "Epoch 10/50\n",
      "------------------------------------------------------------------------------------------------------------------------\n"
     ]
    },
    {
     "name": "stderr",
     "output_type": "stream",
     "text": [
      "100%|██████████| 408/408 [01:53<00:00,  3.60it/s]\n"
     ]
    },
    {
     "name": "stdout",
     "output_type": "stream",
     "text": [
      "train Loss: 1.2048 Style Acc: 0.5766\n",
      "            Genre Acc: 0.7268\n",
      "            Emotion Acc: 0.4441\n"
     ]
    },
    {
     "name": "stderr",
     "output_type": "stream",
     "text": [
      "100%|██████████| 51/51 [00:04<00:00, 10.87it/s]\n"
     ]
    },
    {
     "name": "stdout",
     "output_type": "stream",
     "text": [
      "val Loss: 1.2502 Style Acc: 0.5578\n",
      "            Genre Acc: 0.7120\n",
      "            Emotion Acc: 0.4301\n",
      "EarlyStopping counter: 1 out of 5\n",
      "Epoch 11/50\n",
      "------------------------------------------------------------------------------------------------------------------------\n"
     ]
    },
    {
     "name": "stderr",
     "output_type": "stream",
     "text": [
      "100%|██████████| 408/408 [01:53<00:00,  3.61it/s]\n"
     ]
    },
    {
     "name": "stdout",
     "output_type": "stream",
     "text": [
      "train Loss: 1.1908 Style Acc: 0.5864\n",
      "            Genre Acc: 0.7288\n",
      "            Emotion Acc: 0.4440\n"
     ]
    },
    {
     "name": "stderr",
     "output_type": "stream",
     "text": [
      "100%|██████████| 51/51 [00:04<00:00, 10.82it/s]\n"
     ]
    },
    {
     "name": "stdout",
     "output_type": "stream",
     "text": [
      "val Loss: 1.2218 Style Acc: 0.5761\n",
      "            Genre Acc: 0.7180\n",
      "            Emotion Acc: 0.4357\n",
      "Validation loss decreased. Saving model...\n",
      "Epoch 12/50\n",
      "------------------------------------------------------------------------------------------------------------------------\n"
     ]
    },
    {
     "name": "stderr",
     "output_type": "stream",
     "text": [
      "100%|██████████| 408/408 [01:53<00:00,  3.60it/s]\n"
     ]
    },
    {
     "name": "stdout",
     "output_type": "stream",
     "text": [
      "train Loss: 1.1784 Style Acc: 0.5889\n",
      "            Genre Acc: 0.7345\n",
      "            Emotion Acc: 0.4442\n"
     ]
    },
    {
     "name": "stderr",
     "output_type": "stream",
     "text": [
      "100%|██████████| 51/51 [00:04<00:00, 10.28it/s]\n"
     ]
    },
    {
     "name": "stdout",
     "output_type": "stream",
     "text": [
      "val Loss: 1.2191 Style Acc: 0.5731\n",
      "            Genre Acc: 0.7232\n",
      "            Emotion Acc: 0.4363\n",
      "Validation loss decreased. Saving model...\n",
      "Epoch 13/50\n",
      "------------------------------------------------------------------------------------------------------------------------\n"
     ]
    },
    {
     "name": "stderr",
     "output_type": "stream",
     "text": [
      "100%|██████████| 408/408 [01:53<00:00,  3.60it/s]\n"
     ]
    },
    {
     "name": "stdout",
     "output_type": "stream",
     "text": [
      "train Loss: 1.1640 Style Acc: 0.5978\n",
      "            Genre Acc: 0.7379\n",
      "            Emotion Acc: 0.4480\n"
     ]
    },
    {
     "name": "stderr",
     "output_type": "stream",
     "text": [
      "100%|██████████| 51/51 [00:04<00:00, 10.87it/s]\n"
     ]
    },
    {
     "name": "stdout",
     "output_type": "stream",
     "text": [
      "val Loss: 1.2319 Style Acc: 0.5806\n",
      "            Genre Acc: 0.7232\n",
      "            Emotion Acc: 0.4360\n",
      "EarlyStopping counter: 1 out of 5\n",
      "Epoch 14/50\n",
      "------------------------------------------------------------------------------------------------------------------------\n"
     ]
    },
    {
     "name": "stderr",
     "output_type": "stream",
     "text": [
      "100%|██████████| 408/408 [01:53<00:00,  3.60it/s]\n"
     ]
    },
    {
     "name": "stdout",
     "output_type": "stream",
     "text": [
      "train Loss: 1.1512 Style Acc: 0.6040\n",
      "            Genre Acc: 0.7396\n",
      "            Emotion Acc: 0.4500\n"
     ]
    },
    {
     "name": "stderr",
     "output_type": "stream",
     "text": [
      "100%|██████████| 51/51 [00:04<00:00, 10.43it/s]\n"
     ]
    },
    {
     "name": "stdout",
     "output_type": "stream",
     "text": [
      "val Loss: 1.2007 Style Acc: 0.5813\n",
      "            Genre Acc: 0.7338\n",
      "            Emotion Acc: 0.4479\n",
      "Validation loss decreased. Saving model...\n",
      "Epoch 15/50\n",
      "------------------------------------------------------------------------------------------------------------------------\n"
     ]
    },
    {
     "name": "stderr",
     "output_type": "stream",
     "text": [
      "100%|██████████| 408/408 [01:53<00:00,  3.59it/s]\n"
     ]
    },
    {
     "name": "stdout",
     "output_type": "stream",
     "text": [
      "train Loss: 1.1363 Style Acc: 0.6125\n",
      "            Genre Acc: 0.7449\n",
      "            Emotion Acc: 0.4531\n"
     ]
    },
    {
     "name": "stderr",
     "output_type": "stream",
     "text": [
      "100%|██████████| 51/51 [00:04<00:00, 10.78it/s]\n"
     ]
    },
    {
     "name": "stdout",
     "output_type": "stream",
     "text": [
      "val Loss: 1.2003 Style Acc: 0.5884\n",
      "            Genre Acc: 0.7315\n",
      "            Emotion Acc: 0.4390\n",
      "EarlyStopping counter: 1 out of 5\n",
      "Epoch 16/50\n",
      "------------------------------------------------------------------------------------------------------------------------\n"
     ]
    },
    {
     "name": "stderr",
     "output_type": "stream",
     "text": [
      "100%|██████████| 408/408 [01:53<00:00,  3.60it/s]\n"
     ]
    },
    {
     "name": "stdout",
     "output_type": "stream",
     "text": [
      "train Loss: 1.1235 Style Acc: 0.6187\n",
      "            Genre Acc: 0.7489\n",
      "            Emotion Acc: 0.4534\n"
     ]
    },
    {
     "name": "stderr",
     "output_type": "stream",
     "text": [
      "100%|██████████| 51/51 [00:04<00:00, 10.60it/s]\n"
     ]
    },
    {
     "name": "stdout",
     "output_type": "stream",
     "text": [
      "val Loss: 1.2046 Style Acc: 0.5844\n",
      "            Genre Acc: 0.7296\n",
      "            Emotion Acc: 0.4305\n",
      "EarlyStopping counter: 2 out of 5\n",
      "Epoch 17/50\n",
      "------------------------------------------------------------------------------------------------------------------------\n"
     ]
    },
    {
     "name": "stderr",
     "output_type": "stream",
     "text": [
      "100%|██████████| 408/408 [01:53<00:00,  3.59it/s]\n"
     ]
    },
    {
     "name": "stdout",
     "output_type": "stream",
     "text": [
      "train Loss: 1.1120 Style Acc: 0.6241\n",
      "            Genre Acc: 0.7519\n",
      "            Emotion Acc: 0.4552\n"
     ]
    },
    {
     "name": "stderr",
     "output_type": "stream",
     "text": [
      "100%|██████████| 51/51 [00:04<00:00, 10.56it/s]\n"
     ]
    },
    {
     "name": "stdout",
     "output_type": "stream",
     "text": [
      "val Loss: 1.1908 Style Acc: 0.5960\n",
      "            Genre Acc: 0.7327\n",
      "            Emotion Acc: 0.4355\n",
      "Validation loss decreased. Saving model...\n",
      "Epoch 18/50\n",
      "------------------------------------------------------------------------------------------------------------------------\n"
     ]
    },
    {
     "name": "stderr",
     "output_type": "stream",
     "text": [
      "100%|██████████| 408/408 [01:53<00:00,  3.60it/s]\n"
     ]
    },
    {
     "name": "stdout",
     "output_type": "stream",
     "text": [
      "train Loss: 1.0967 Style Acc: 0.6332\n",
      "            Genre Acc: 0.7557\n",
      "            Emotion Acc: 0.4574\n"
     ]
    },
    {
     "name": "stderr",
     "output_type": "stream",
     "text": [
      "100%|██████████| 51/51 [00:04<00:00, 10.81it/s]\n"
     ]
    },
    {
     "name": "stdout",
     "output_type": "stream",
     "text": [
      "val Loss: 1.1748 Style Acc: 0.6026\n",
      "            Genre Acc: 0.7411\n",
      "            Emotion Acc: 0.4396\n",
      "Validation loss decreased. Saving model...\n",
      "Epoch 19/50\n",
      "------------------------------------------------------------------------------------------------------------------------\n"
     ]
    },
    {
     "name": "stderr",
     "output_type": "stream",
     "text": [
      "100%|██████████| 408/408 [01:53<00:00,  3.61it/s]\n"
     ]
    },
    {
     "name": "stdout",
     "output_type": "stream",
     "text": [
      "train Loss: 1.0866 Style Acc: 0.6388\n",
      "            Genre Acc: 0.7592\n",
      "            Emotion Acc: 0.4587\n"
     ]
    },
    {
     "name": "stderr",
     "output_type": "stream",
     "text": [
      "100%|██████████| 51/51 [00:04<00:00, 10.58it/s]\n"
     ]
    },
    {
     "name": "stdout",
     "output_type": "stream",
     "text": [
      "val Loss: 1.1778 Style Acc: 0.6031\n",
      "            Genre Acc: 0.7284\n",
      "            Emotion Acc: 0.4438\n",
      "EarlyStopping counter: 1 out of 5\n",
      "Epoch 20/50\n",
      "------------------------------------------------------------------------------------------------------------------------\n"
     ]
    },
    {
     "name": "stderr",
     "output_type": "stream",
     "text": [
      "100%|██████████| 408/408 [01:53<00:00,  3.61it/s]\n"
     ]
    },
    {
     "name": "stdout",
     "output_type": "stream",
     "text": [
      "train Loss: 1.0722 Style Acc: 0.6457\n",
      "            Genre Acc: 0.7634\n",
      "            Emotion Acc: 0.4614\n"
     ]
    },
    {
     "name": "stderr",
     "output_type": "stream",
     "text": [
      "100%|██████████| 51/51 [00:04<00:00, 10.78it/s]\n"
     ]
    },
    {
     "name": "stdout",
     "output_type": "stream",
     "text": [
      "val Loss: 1.1735 Style Acc: 0.6025\n",
      "            Genre Acc: 0.7376\n",
      "            Emotion Acc: 0.4407\n",
      "Validation loss decreased. Saving model...\n",
      "Epoch 21/50\n",
      "------------------------------------------------------------------------------------------------------------------------\n"
     ]
    },
    {
     "name": "stderr",
     "output_type": "stream",
     "text": [
      "100%|██████████| 408/408 [01:53<00:00,  3.60it/s]\n"
     ]
    },
    {
     "name": "stdout",
     "output_type": "stream",
     "text": [
      "train Loss: 1.0593 Style Acc: 0.6527\n",
      "            Genre Acc: 0.7681\n",
      "            Emotion Acc: 0.4624\n"
     ]
    },
    {
     "name": "stderr",
     "output_type": "stream",
     "text": [
      "100%|██████████| 51/51 [00:04<00:00, 10.49it/s]\n"
     ]
    },
    {
     "name": "stdout",
     "output_type": "stream",
     "text": [
      "val Loss: 1.1774 Style Acc: 0.5982\n",
      "            Genre Acc: 0.7322\n",
      "            Emotion Acc: 0.4383\n",
      "EarlyStopping counter: 1 out of 5\n",
      "Epoch 22/50\n",
      "------------------------------------------------------------------------------------------------------------------------\n"
     ]
    },
    {
     "name": "stderr",
     "output_type": "stream",
     "text": [
      "100%|██████████| 408/408 [01:53<00:00,  3.60it/s]\n"
     ]
    },
    {
     "name": "stdout",
     "output_type": "stream",
     "text": [
      "train Loss: 1.0459 Style Acc: 0.6591\n",
      "            Genre Acc: 0.7736\n",
      "            Emotion Acc: 0.4644\n"
     ]
    },
    {
     "name": "stderr",
     "output_type": "stream",
     "text": [
      "100%|██████████| 51/51 [00:04<00:00, 10.44it/s]\n"
     ]
    },
    {
     "name": "stdout",
     "output_type": "stream",
     "text": [
      "val Loss: 1.1897 Style Acc: 0.6008\n",
      "            Genre Acc: 0.7290\n",
      "            Emotion Acc: 0.4370\n",
      "Epoch 00022: reducing learning rate of group 0 to 5.0000e-05.\n",
      "EarlyStopping counter: 2 out of 5\n",
      "Epoch 23/50\n",
      "------------------------------------------------------------------------------------------------------------------------\n"
     ]
    },
    {
     "name": "stderr",
     "output_type": "stream",
     "text": [
      "100%|██████████| 408/408 [01:53<00:00,  3.61it/s]\n"
     ]
    },
    {
     "name": "stdout",
     "output_type": "stream",
     "text": [
      "train Loss: 1.0043 Style Acc: 0.6785\n",
      "            Genre Acc: 0.7860\n",
      "            Emotion Acc: 0.4708\n"
     ]
    },
    {
     "name": "stderr",
     "output_type": "stream",
     "text": [
      "100%|██████████| 51/51 [00:04<00:00, 10.66it/s]\n"
     ]
    },
    {
     "name": "stdout",
     "output_type": "stream",
     "text": [
      "val Loss: 1.1511 Style Acc: 0.6161\n",
      "            Genre Acc: 0.7482\n",
      "            Emotion Acc: 0.4381\n",
      "Validation loss decreased. Saving model...\n",
      "Epoch 24/50\n",
      "------------------------------------------------------------------------------------------------------------------------\n"
     ]
    },
    {
     "name": "stderr",
     "output_type": "stream",
     "text": [
      "100%|██████████| 408/408 [01:53<00:00,  3.60it/s]\n"
     ]
    },
    {
     "name": "stdout",
     "output_type": "stream",
     "text": [
      "train Loss: 0.9905 Style Acc: 0.6859\n",
      "            Genre Acc: 0.7890\n",
      "            Emotion Acc: 0.4717\n"
     ]
    },
    {
     "name": "stderr",
     "output_type": "stream",
     "text": [
      "100%|██████████| 51/51 [00:04<00:00, 10.71it/s]\n"
     ]
    },
    {
     "name": "stdout",
     "output_type": "stream",
     "text": [
      "val Loss: 1.1461 Style Acc: 0.6218\n",
      "            Genre Acc: 0.7439\n",
      "            Emotion Acc: 0.4395\n",
      "Validation loss decreased. Saving model...\n",
      "Epoch 25/50\n",
      "------------------------------------------------------------------------------------------------------------------------\n"
     ]
    },
    {
     "name": "stderr",
     "output_type": "stream",
     "text": [
      "100%|██████████| 408/408 [01:53<00:00,  3.60it/s]\n"
     ]
    },
    {
     "name": "stdout",
     "output_type": "stream",
     "text": [
      "train Loss: 0.9812 Style Acc: 0.6938\n",
      "            Genre Acc: 0.7897\n",
      "            Emotion Acc: 0.4744\n"
     ]
    },
    {
     "name": "stderr",
     "output_type": "stream",
     "text": [
      "100%|██████████| 51/51 [00:04<00:00, 10.86it/s]\n"
     ]
    },
    {
     "name": "stdout",
     "output_type": "stream",
     "text": [
      "val Loss: 1.1477 Style Acc: 0.6178\n",
      "            Genre Acc: 0.7462\n",
      "            Emotion Acc: 0.4429\n",
      "EarlyStopping counter: 1 out of 5\n",
      "Epoch 26/50\n",
      "------------------------------------------------------------------------------------------------------------------------\n"
     ]
    },
    {
     "name": "stderr",
     "output_type": "stream",
     "text": [
      "100%|██████████| 408/408 [01:53<00:00,  3.61it/s]\n"
     ]
    },
    {
     "name": "stdout",
     "output_type": "stream",
     "text": [
      "train Loss: 0.9705 Style Acc: 0.6977\n",
      "            Genre Acc: 0.7951\n",
      "            Emotion Acc: 0.4758\n"
     ]
    },
    {
     "name": "stderr",
     "output_type": "stream",
     "text": [
      "100%|██████████| 51/51 [00:04<00:00, 10.77it/s]\n"
     ]
    },
    {
     "name": "stdout",
     "output_type": "stream",
     "text": [
      "val Loss: 1.1444 Style Acc: 0.6244\n",
      "            Genre Acc: 0.7430\n",
      "            Emotion Acc: 0.4393\n",
      "Validation loss decreased. Saving model...\n",
      "Epoch 27/50\n",
      "------------------------------------------------------------------------------------------------------------------------\n"
     ]
    },
    {
     "name": "stderr",
     "output_type": "stream",
     "text": [
      "100%|██████████| 408/408 [01:53<00:00,  3.61it/s]\n"
     ]
    },
    {
     "name": "stdout",
     "output_type": "stream",
     "text": [
      "train Loss: 0.9605 Style Acc: 0.7021\n",
      "            Genre Acc: 0.7988\n",
      "            Emotion Acc: 0.4765\n"
     ]
    },
    {
     "name": "stderr",
     "output_type": "stream",
     "text": [
      "100%|██████████| 51/51 [00:04<00:00, 10.63it/s]\n"
     ]
    },
    {
     "name": "stdout",
     "output_type": "stream",
     "text": [
      "val Loss: 1.1458 Style Acc: 0.6224\n",
      "            Genre Acc: 0.7465\n",
      "            Emotion Acc: 0.4389\n",
      "EarlyStopping counter: 1 out of 5\n",
      "Epoch 28/50\n",
      "------------------------------------------------------------------------------------------------------------------------\n"
     ]
    },
    {
     "name": "stderr",
     "output_type": "stream",
     "text": [
      "100%|██████████| 408/408 [01:52<00:00,  3.61it/s]\n"
     ]
    },
    {
     "name": "stdout",
     "output_type": "stream",
     "text": [
      "train Loss: 0.9496 Style Acc: 0.7087\n",
      "            Genre Acc: 0.8034\n",
      "            Emotion Acc: 0.4779\n"
     ]
    },
    {
     "name": "stderr",
     "output_type": "stream",
     "text": [
      "100%|██████████| 51/51 [00:04<00:00, 10.79it/s]\n"
     ]
    },
    {
     "name": "stdout",
     "output_type": "stream",
     "text": [
      "val Loss: 1.1452 Style Acc: 0.6236\n",
      "            Genre Acc: 0.7426\n",
      "            Emotion Acc: 0.4455\n",
      "Epoch 00028: reducing learning rate of group 0 to 2.5000e-05.\n",
      "EarlyStopping counter: 2 out of 5\n",
      "Epoch 29/50\n",
      "------------------------------------------------------------------------------------------------------------------------\n"
     ]
    },
    {
     "name": "stderr",
     "output_type": "stream",
     "text": [
      "100%|██████████| 408/408 [01:52<00:00,  3.61it/s]\n"
     ]
    },
    {
     "name": "stdout",
     "output_type": "stream",
     "text": [
      "train Loss: 0.9262 Style Acc: 0.7197\n",
      "            Genre Acc: 0.8103\n",
      "            Emotion Acc: 0.4830\n"
     ]
    },
    {
     "name": "stderr",
     "output_type": "stream",
     "text": [
      "100%|██████████| 51/51 [00:04<00:00, 10.84it/s]\n"
     ]
    },
    {
     "name": "stdout",
     "output_type": "stream",
     "text": [
      "val Loss: 1.1382 Style Acc: 0.6297\n",
      "            Genre Acc: 0.7439\n",
      "            Emotion Acc: 0.4398\n",
      "Validation loss decreased. Saving model...\n",
      "Epoch 30/50\n",
      "------------------------------------------------------------------------------------------------------------------------\n"
     ]
    },
    {
     "name": "stderr",
     "output_type": "stream",
     "text": [
      "100%|██████████| 408/408 [01:53<00:00,  3.61it/s]\n"
     ]
    },
    {
     "name": "stdout",
     "output_type": "stream",
     "text": [
      "train Loss: 0.9172 Style Acc: 0.7260\n",
      "            Genre Acc: 0.8122\n",
      "            Emotion Acc: 0.4854\n"
     ]
    },
    {
     "name": "stderr",
     "output_type": "stream",
     "text": [
      "100%|██████████| 51/51 [00:04<00:00, 10.70it/s]\n"
     ]
    },
    {
     "name": "stdout",
     "output_type": "stream",
     "text": [
      "val Loss: 1.1417 Style Acc: 0.6307\n",
      "            Genre Acc: 0.7463\n",
      "            Emotion Acc: 0.4390\n",
      "EarlyStopping counter: 1 out of 5\n",
      "Epoch 31/50\n",
      "------------------------------------------------------------------------------------------------------------------------\n"
     ]
    },
    {
     "name": "stderr",
     "output_type": "stream",
     "text": [
      "100%|██████████| 408/408 [01:52<00:00,  3.61it/s]\n"
     ]
    },
    {
     "name": "stdout",
     "output_type": "stream",
     "text": [
      "train Loss: 0.9113 Style Acc: 0.7281\n",
      "            Genre Acc: 0.8134\n",
      "            Emotion Acc: 0.4831\n"
     ]
    },
    {
     "name": "stderr",
     "output_type": "stream",
     "text": [
      "100%|██████████| 51/51 [00:04<00:00, 10.74it/s]\n"
     ]
    },
    {
     "name": "stdout",
     "output_type": "stream",
     "text": [
      "val Loss: 1.1441 Style Acc: 0.6275\n",
      "            Genre Acc: 0.7442\n",
      "            Emotion Acc: 0.4378\n",
      "Epoch 00031: reducing learning rate of group 0 to 1.2500e-05.\n",
      "EarlyStopping counter: 2 out of 5\n",
      "Epoch 32/50\n",
      "------------------------------------------------------------------------------------------------------------------------\n"
     ]
    },
    {
     "name": "stderr",
     "output_type": "stream",
     "text": [
      "100%|██████████| 408/408 [01:53<00:00,  3.60it/s]\n"
     ]
    },
    {
     "name": "stdout",
     "output_type": "stream",
     "text": [
      "train Loss: 0.8964 Style Acc: 0.7361\n",
      "            Genre Acc: 0.8179\n",
      "            Emotion Acc: 0.4873\n"
     ]
    },
    {
     "name": "stderr",
     "output_type": "stream",
     "text": [
      "100%|██████████| 51/51 [00:04<00:00, 10.37it/s]\n"
     ]
    },
    {
     "name": "stdout",
     "output_type": "stream",
     "text": [
      "val Loss: 1.1416 Style Acc: 0.6314\n",
      "            Genre Acc: 0.7494\n",
      "            Emotion Acc: 0.4426\n",
      "EarlyStopping counter: 3 out of 5\n",
      "Epoch 33/50\n",
      "------------------------------------------------------------------------------------------------------------------------\n"
     ]
    },
    {
     "name": "stderr",
     "output_type": "stream",
     "text": [
      "100%|██████████| 408/408 [01:53<00:00,  3.60it/s]\n"
     ]
    },
    {
     "name": "stdout",
     "output_type": "stream",
     "text": [
      "train Loss: 0.8904 Style Acc: 0.7390\n",
      "            Genre Acc: 0.8186\n",
      "            Emotion Acc: 0.4897\n"
     ]
    },
    {
     "name": "stderr",
     "output_type": "stream",
     "text": [
      "100%|██████████| 51/51 [00:04<00:00, 10.82it/s]\n"
     ]
    },
    {
     "name": "stdout",
     "output_type": "stream",
     "text": [
      "val Loss: 1.1416 Style Acc: 0.6334\n",
      "            Genre Acc: 0.7495\n",
      "            Emotion Acc: 0.4410\n",
      "Epoch 00033: reducing learning rate of group 0 to 6.2500e-06.\n",
      "EarlyStopping counter: 4 out of 5\n",
      "Epoch 34/50\n",
      "------------------------------------------------------------------------------------------------------------------------\n"
     ]
    },
    {
     "name": "stderr",
     "output_type": "stream",
     "text": [
      "100%|██████████| 408/408 [01:53<00:00,  3.60it/s]\n"
     ]
    },
    {
     "name": "stdout",
     "output_type": "stream",
     "text": [
      "train Loss: 0.8826 Style Acc: 0.7440\n",
      "            Genre Acc: 0.8241\n",
      "            Emotion Acc: 0.4910\n"
     ]
    },
    {
     "name": "stderr",
     "output_type": "stream",
     "text": [
      "100%|██████████| 51/51 [00:04<00:00, 10.53it/s]"
     ]
    },
    {
     "name": "stdout",
     "output_type": "stream",
     "text": [
      "val Loss: 1.1397 Style Acc: 0.6328\n",
      "            Genre Acc: 0.7488\n",
      "            Emotion Acc: 0.4409\n",
      "EarlyStopping counter: 5 out of 5\n",
      "Best epoch: 0029\n",
      "Best loss: 1.1382\n"
     ]
    },
    {
     "name": "stderr",
     "output_type": "stream",
     "text": [
      "\n"
     ]
    }
   ],
   "source": [
    "batch_size = 128\n",
    "num_epochs = 50\n",
    "criterions = list(nn.CrossEntropyLoss() for _ in range(3))\n",
    "optimizer = optim.Adam(model.parameters(), lr=1e-4)\n",
    "early_stop= EarlyStopping(patience = 5, min_delta = 1e-3, checkpoint_path = 'best_new_multitask_model.pt')\n",
    "train_loader = DataLoader(train_dataset, batch_size = batch_size, shuffle = True, drop_last = False)\n",
    "val_loader = DataLoader(val_dataset, batch_size = batch_size, shuffle = True, drop_last = False)\n",
    "scheduler = lr_scheduler.ReduceLROnPlateau(optimizer, 'min', min_lr = 1e-7, verbose = True, factor = .5, patience = 1,\n",
    "                                               threshold = 1e-4)\n",
    "fine_tune(model, train, train_loader, val_loader, criterions, optimizer, early_stop, scheduler, num_epochs)\n"
   ]
  },
  {
   "cell_type": "code",
   "execution_count": 49,
   "id": "0c83ac2d",
   "metadata": {
    "scrolled": true
   },
   "outputs": [
    {
     "name": "stderr",
     "output_type": "stream",
     "text": [
      "100%|██████████| 51/51 [00:04<00:00, 11.47it/s]\n"
     ]
    },
    {
     "data": {
      "image/png": "[encoded data removed]",
      "text/plain": [
       "<Figure size 864x864 with 2 Axes>"
      ]
     },
     "metadata": {},
     "output_type": "display_data"
    },
    {
     "data": {
      "image/png": "[encoded data removed]",
      "text/plain": [
       "<Figure size 864x864 with 2 Axes>"
      ]
     },
     "metadata": {},
     "output_type": "display_data"
    },
    {
     "data": {
      "image/png": "[encoded data removed]",
      "text/plain": [
       "<Figure size 864x864 with 2 Axes>"
      ]
     },
     "metadata": {},
     "output_type": "display_data"
    }
   ],
   "source": [
    "model = torch.load('best_new_multitask_model.pt').to('cuda:0') #cuda:0\n",
    "test_loader = DataLoader(test_dataset, batch_size = 128, shuffle = True, drop_last = False)\n",
    "map_hop={'style':5,\n",
    "        'genre':3,\n",
    "        'emotion':2}\n",
    "results_df = pd.DataFrame(columns = ['Top1', 'Top2', 'Macro-F1'], index = ('style', 'genre', 'emotion'))\n",
    "with torch.no_grad():\n",
    "    pred, lab = test_func(model, test_loader, train)\n",
    "for task in ('style', 'genre', 'emotion'):\n",
    "    results_df['Top1'].loc[task] = compute_topk(lab[task], pred[task], k=1)\n",
    "    results_df['Top2'].loc[task] = compute_topk(lab[task], pred[task], k=2)\n",
    "    pred_lab = torch.max(torch.Tensor(pred[task]), 1)[1]\n",
    "    results_df['Macro-F1'].loc[task] = f1_score(lab[task], pred_lab, average = 'macro')#macro\n",
    "    labels = pd.read_csv(f'{root}/mapping/{task}_entidx2name.csv', names = ['idx','name'])['name'].tolist()\n",
    "    plot_confusion_matrix(lab[task], pred_lab, hop = map_hop[task], labels = labels)"
   ]
  },
  {
   "cell_type": "code",
   "execution_count": 50,
   "id": "9179d7c3",
   "metadata": {
    "scrolled": true
   },
   "outputs": [
    {
     "data": {
      "text/html": [
       "<div>\n",
       "<style scoped>\n",
       "    .dataframe tbody tr th:only-of-type {\n",
       "        vertical-align: middle;\n",
       "    }\n",
       "\n",
       "    .dataframe tbody tr th {\n",
       "        vertical-align: top;\n",
       "    }\n",
       "\n",
       "    .dataframe thead th {\n",
       "        text-align: right;\n",
       "    }\n",
       "</style>\n",
       "<table border=\"1\" class=\"dataframe\">\n",
       "  <thead>\n",
       "    <tr style=\"text-align: right;\">\n",
       "      <th></th>\n",
       "      <th>Top1</th>\n",
       "      <th>Top2</th>\n",
       "      <th>Macro-F1</th>\n",
       "    </tr>\n",
       "  </thead>\n",
       "  <tbody>\n",
       "    <tr>\n",
       "      <th>style</th>\n",
       "      <td>0.633103</td>\n",
       "      <td>0.807969</td>\n",
       "      <td>0.475288</td>\n",
       "    </tr>\n",
       "    <tr>\n",
       "      <th>genre</th>\n",
       "      <td>0.752337</td>\n",
       "      <td>0.88567</td>\n",
       "      <td>0.634538</td>\n",
       "    </tr>\n",
       "    <tr>\n",
       "      <th>emotion</th>\n",
       "      <td>0.458544</td>\n",
       "      <td>0.643525</td>\n",
       "      <td>0.275452</td>\n",
       "    </tr>\n",
       "  </tbody>\n",
       "</table>\n",
       "</div>"
      ],
      "text/plain": [
       "             Top1      Top2  Macro-F1\n",
       "style    0.633103  0.807969  0.475288\n",
       "genre    0.752337   0.88567  0.634538\n",
       "emotion  0.458544  0.643525  0.275452"
      ]
     },
     "execution_count": 50,
     "metadata": {},
     "output_type": "execute_result"
    }
   ],
   "source": [
    "results_df"
   ]
  },
  {
   "cell_type": "code",
   "execution_count": 30,
   "id": "f90d2067",
   "metadata": {},
   "outputs": [],
   "source": [
    "results_df.to_csv('results_multi_task_fine_tuning.csv')"
   ]
  },
  {
   "cell_type": "code",
   "execution_count": 25,
   "id": "fe2ab97d",
   "metadata": {},
   "outputs": [],
   "source": [
    "import torch\n",
    "torch.cuda.empty_cache()"
   ]
  },
  {
   "cell_type": "markdown",
   "id": "c3921d29",
   "metadata": {},
   "source": [
    "Nuovo test, senza encoder pre-trained"
   ]
  },
  {
   "cell_type": "code",
   "execution_count": 31,
   "id": "8477acdf",
   "metadata": {
    "scrolled": true
   },
   "outputs": [
    {
     "data": {
      "text/plain": [
       "MultiTaskClassificationModel(\n",
       "  (encoder): GraphModule(\n",
       "    (convs): ModuleList(\n",
       "      (0): ModuleDict(\n",
       "        (artist__belongstofield__field): GATConv((-1, -1), 128, heads=1)\n",
       "        (artist__belongstomovement__movement): GATConv((-1, -1), 128, heads=1)\n",
       "        (artist__haspatron__people): GATConv((-1, -1), 128, heads=1)\n",
       "        (artist__hassubject__subject): GATConv((-1, -1), 128, heads=1)\n",
       "        (artist__relatedtoschool__training_node): GATConv((-1, -1), 128, heads=1)\n",
       "        (artist__trainedby__artist): GATConv((-1, -1), 128, heads=1)\n",
       "        (artwork__about__tag): GATConv((-1, -1), 128, heads=1)\n",
       "        (artwork__createdby__artist): GATConv((-1, -1), 128, heads=1)\n",
       "        (artwork__elicit__emotion): GATConv((-1, -1), 128, heads=1)\n",
       "        (artwork__hasgenre__genre): GATConv((-1, -1), 128, heads=1)\n",
       "        (artwork__hasperiod__period): GATConv((-1, -1), 128, heads=1)\n",
       "        (artwork__hasstyle__style): GATConv((-1, -1), 128, heads=1)\n",
       "        (artwork__locatedin__city): GATConv((-1, -1), 128, heads=1)\n",
       "        (artwork__locatedin__country): GATConv((-1, -1), 128, heads=1)\n",
       "        (artwork__locatedin__gallery): GATConv((-1, -1), 128, heads=1)\n",
       "        (artwork__madeof__media): GATConv((-1, -1), 128, heads=1)\n",
       "        (artwork__partof__serie): GATConv((-1, -1), 128, heads=1)\n",
       "        (city__incountry__country): GATConv((-1, -1), 128, heads=1)\n",
       "        (gallery__incity__city): GATConv((-1, -1), 128, heads=1)\n",
       "        (gallery__incountry__country): GATConv((-1, -1), 128, heads=1)\n",
       "        (field__rev_belongstofield__artist): GATConv((-1, -1), 128, heads=1)\n",
       "        (movement__rev_belongstomovement__artist): GATConv((-1, -1), 128, heads=1)\n",
       "        (people__rev_haspatron__artist): GATConv((-1, -1), 128, heads=1)\n",
       "        (subject__rev_hassubject__artist): GATConv((-1, -1), 128, heads=1)\n",
       "        (training_node__rev_relatedtoschool__artist): GATConv((-1, -1), 128, heads=1)\n",
       "        (tag__rev_about__artwork): GATConv((-1, -1), 128, heads=1)\n",
       "        (artist__rev_createdby__artwork): GATConv((-1, -1), 128, heads=1)\n",
       "        (emotion__rev_elicit__artwork): GATConv((-1, -1), 128, heads=1)\n",
       "        (genre__rev_hasgenre__artwork): GATConv((-1, -1), 128, heads=1)\n",
       "        (period__rev_hasperiod__artwork): GATConv((-1, -1), 128, heads=1)\n",
       "        (style__rev_hasstyle__artwork): GATConv((-1, -1), 128, heads=1)\n",
       "        (city__rev_locatedin__artwork): GATConv((-1, -1), 128, heads=1)\n",
       "        (country__rev_locatedin__artwork): GATConv((-1, -1), 128, heads=1)\n",
       "        (gallery__rev_locatedin__artwork): GATConv((-1, -1), 128, heads=1)\n",
       "        (media__rev_madeof__artwork): GATConv((-1, -1), 128, heads=1)\n",
       "        (serie__rev_partof__artwork): GATConv((-1, -1), 128, heads=1)\n",
       "        (country__rev_incountry__city): GATConv((-1, -1), 128, heads=1)\n",
       "        (city__rev_incity__gallery): GATConv((-1, -1), 128, heads=1)\n",
       "        (country__rev_incountry__gallery): GATConv((-1, -1), 128, heads=1)\n",
       "        (artist__rev_rev_belongstofield__field): GATConv((-1, -1), 128, heads=1)\n",
       "        (artist__rev_rev_belongstomovement__movement): GATConv((-1, -1), 128, heads=1)\n",
       "        (artist__rev_rev_haspatron__people): GATConv((-1, -1), 128, heads=1)\n",
       "        (artist__rev_rev_hassubject__subject): GATConv((-1, -1), 128, heads=1)\n",
       "        (artist__rev_rev_relatedtoschool__training_node): GATConv((-1, -1), 128, heads=1)\n",
       "        (artwork__rev_rev_about__tag): GATConv((-1, -1), 128, heads=1)\n",
       "        (artwork__rev_rev_createdby__artist): GATConv((-1, -1), 128, heads=1)\n",
       "        (artwork__rev_rev_elicit__emotion): GATConv((-1, -1), 128, heads=1)\n",
       "        (artwork__rev_rev_hasgenre__genre): GATConv((-1, -1), 128, heads=1)\n",
       "        (artwork__rev_rev_hasperiod__period): GATConv((-1, -1), 128, heads=1)\n",
       "        (artwork__rev_rev_hasstyle__style): GATConv((-1, -1), 128, heads=1)\n",
       "        (artwork__rev_rev_locatedin__city): GATConv((-1, -1), 128, heads=1)\n",
       "        (artwork__rev_rev_locatedin__country): GATConv((-1, -1), 128, heads=1)\n",
       "        (artwork__rev_rev_locatedin__gallery): GATConv((-1, -1), 128, heads=1)\n",
       "        (artwork__rev_rev_madeof__media): GATConv((-1, -1), 128, heads=1)\n",
       "        (artwork__rev_rev_partof__serie): GATConv((-1, -1), 128, heads=1)\n",
       "        (city__rev_rev_incountry__country): GATConv((-1, -1), 128, heads=1)\n",
       "        (gallery__rev_rev_incity__city): GATConv((-1, -1), 128, heads=1)\n",
       "        (gallery__rev_rev_incountry__country): GATConv((-1, -1), 128, heads=1)\n",
       "        (field__rev_rev_rev_belongstofield__artist): GATConv((-1, -1), 128, heads=1)\n",
       "        (movement__rev_rev_rev_belongstomovement__artist): GATConv((-1, -1), 128, heads=1)\n",
       "        (people__rev_rev_rev_haspatron__artist): GATConv((-1, -1), 128, heads=1)\n",
       "        (subject__rev_rev_rev_hassubject__artist): GATConv((-1, -1), 128, heads=1)\n",
       "        (training_node__rev_rev_rev_relatedtoschool__artist): GATConv((-1, -1), 128, heads=1)\n",
       "        (tag__rev_rev_rev_about__artwork): GATConv((-1, -1), 128, heads=1)\n",
       "        (artist__rev_rev_rev_createdby__artwork): GATConv((-1, -1), 128, heads=1)\n",
       "        (emotion__rev_rev_rev_elicit__artwork): GATConv((-1, -1), 128, heads=1)\n",
       "        (genre__rev_rev_rev_hasgenre__artwork): GATConv((-1, -1), 128, heads=1)\n",
       "        (period__rev_rev_rev_hasperiod__artwork): GATConv((-1, -1), 128, heads=1)\n",
       "        (style__rev_rev_rev_hasstyle__artwork): GATConv((-1, -1), 128, heads=1)\n",
       "        (city__rev_rev_rev_locatedin__artwork): GATConv((-1, -1), 128, heads=1)\n",
       "        (country__rev_rev_rev_locatedin__artwork): GATConv((-1, -1), 128, heads=1)\n",
       "        (gallery__rev_rev_rev_locatedin__artwork): GATConv((-1, -1), 128, heads=1)\n",
       "        (media__rev_rev_rev_madeof__artwork): GATConv((-1, -1), 128, heads=1)\n",
       "        (serie__rev_rev_rev_partof__artwork): GATConv((-1, -1), 128, heads=1)\n",
       "        (country__rev_rev_rev_incountry__city): GATConv((-1, -1), 128, heads=1)\n",
       "        (city__rev_rev_rev_incity__gallery): GATConv((-1, -1), 128, heads=1)\n",
       "        (country__rev_rev_rev_incountry__gallery): GATConv((-1, -1), 128, heads=1)\n",
       "        (artist__rev_rev_rev_rev_belongstofield__field): GATConv((-1, -1), 128, heads=1)\n",
       "        (artist__rev_rev_rev_rev_belongstomovement__movement): GATConv((-1, -1), 128, heads=1)\n",
       "        (artist__rev_rev_rev_rev_haspatron__people): GATConv((-1, -1), 128, heads=1)\n",
       "        (artist__rev_rev_rev_rev_hassubject__subject): GATConv((-1, -1), 128, heads=1)\n",
       "        (artist__rev_rev_rev_rev_relatedtoschool__training_node): GATConv((-1, -1), 128, heads=1)\n",
       "        (artwork__rev_rev_rev_rev_about__tag): GATConv((-1, -1), 128, heads=1)\n",
       "        (artwork__rev_rev_rev_rev_createdby__artist): GATConv((-1, -1), 128, heads=1)\n",
       "        (artwork__rev_rev_rev_rev_elicit__emotion): GATConv((-1, -1), 128, heads=1)\n",
       "        (artwork__rev_rev_rev_rev_hasgenre__genre): GATConv((-1, -1), 128, heads=1)\n",
       "        (artwork__rev_rev_rev_rev_hasperiod__period): GATConv((-1, -1), 128, heads=1)\n",
       "        (artwork__rev_rev_rev_rev_hasstyle__style): GATConv((-1, -1), 128, heads=1)\n",
       "        (artwork__rev_rev_rev_rev_locatedin__city): GATConv((-1, -1), 128, heads=1)\n",
       "        (artwork__rev_rev_rev_rev_locatedin__country): GATConv((-1, -1), 128, heads=1)\n",
       "        (artwork__rev_rev_rev_rev_locatedin__gallery): GATConv((-1, -1), 128, heads=1)\n",
       "        (artwork__rev_rev_rev_rev_madeof__media): GATConv((-1, -1), 128, heads=1)\n",
       "        (artwork__rev_rev_rev_rev_partof__serie): GATConv((-1, -1), 128, heads=1)\n",
       "        (city__rev_rev_rev_rev_incountry__country): GATConv((-1, -1), 128, heads=1)\n",
       "        (gallery__rev_rev_rev_rev_incity__city): GATConv((-1, -1), 128, heads=1)\n",
       "        (gallery__rev_rev_rev_rev_incountry__country): GATConv((-1, -1), 128, heads=1)\n",
       "      )\n",
       "    )\n",
       "    (activation): ModuleDict(\n",
       "      (artwork): Tanh()\n",
       "      (artist): Tanh()\n",
       "      (gallery): Tanh()\n",
       "      (city): Tanh()\n",
       "      (country): Tanh()\n",
       "      (style): Tanh()\n",
       "      (period): Tanh()\n",
       "      (genre): Tanh()\n",
       "      (serie): Tanh()\n",
       "      (tag): Tanh()\n",
       "      (media): Tanh()\n",
       "      (subject): Tanh()\n",
       "      (training_node): Tanh()\n",
       "      (field): Tanh()\n",
       "      (movement): Tanh()\n",
       "      (people): Tanh()\n",
       "      (emotion): Tanh()\n",
       "    )\n",
       "  )\n",
       "  (head): MultiTaskHead(\n",
       "    (head): Sequential(\n",
       "      (0): Linear(in_features=7680, out_features=3840, bias=True)\n",
       "      (1): ReLU(inplace=True)\n",
       "      (2): Dropout(p=0.2, inplace=False)\n",
       "      (3): Linear(in_features=3840, out_features=1920, bias=True)\n",
       "      (4): ReLU(inplace=True)\n",
       "      (5): Dropout(p=0.2, inplace=False)\n",
       "      (6): Linear(in_features=1920, out_features=960, bias=True)\n",
       "      (7): ReLU(inplace=True)\n",
       "      (8): Dropout(p=0.2, inplace=False)\n",
       "      (9): Linear(in_features=960, out_features=480, bias=True)\n",
       "      (10): ReLU(inplace=True)\n",
       "      (11): Dropout(p=0.2, inplace=False)\n",
       "    )\n",
       "  )\n",
       "  (head_style): Linear(in_features=480, out_features=32, bias=True)\n",
       "  (head_genre): Linear(in_features=480, out_features=18, bias=True)\n",
       "  (head_emotion): Linear(in_features=480, out_features=9, bias=True)\n",
       ")"
      ]
     },
     "execution_count": 31,
     "metadata": {},
     "output_type": "execute_result"
    }
   ],
   "source": [
    "model = MultiTaskClassificationModel(data = train, hidden_channels = 128, head_num_layers = 5).to(device)\n",
    "model"
   ]
  },
  {
   "cell_type": "code",
   "execution_count": 32,
   "id": "f7b2fd59",
   "metadata": {},
   "outputs": [],
   "source": [
    "torch.cuda.empty_cache()"
   ]
  },
  {
   "cell_type": "code",
   "execution_count": 33,
   "id": "1fafb827",
   "metadata": {},
   "outputs": [
    {
     "ename": "RuntimeError",
     "evalue": "CUDA out of memory. Tried to allocate 58.00 MiB (GPU 0; 2.00 GiB total capacity; 1.54 GiB already allocated; 0 bytes free; 1.67 GiB reserved in total by PyTorch) If reserved memory is >> allocated memory try setting max_split_size_mb to avoid fragmentation.  See documentation for Memory Management and PYTORCH_CUDA_ALLOC_CONF",
     "output_type": "error",
     "traceback": [
      "\u001b[1;31m---------------------------------------------------------------------------\u001b[0m",
      "\u001b[1;31mRuntimeError\u001b[0m                              Traceback (most recent call last)",
      "\u001b[1;32m~\\AppData\\Local\\Temp/ipykernel_10584/3051130454.py\u001b[0m in \u001b[0;36m<module>\u001b[1;34m\u001b[0m\n\u001b[0;32m      2\u001b[0m \u001b[0mtrain\u001b[0m \u001b[1;33m=\u001b[0m \u001b[0mToUndirected\u001b[0m\u001b[1;33m(\u001b[0m\u001b[1;33m)\u001b[0m\u001b[1;33m(\u001b[0m\u001b[0mtrain\u001b[0m\u001b[1;33m)\u001b[0m\u001b[1;33m.\u001b[0m\u001b[0mto\u001b[0m\u001b[1;33m(\u001b[0m\u001b[0mdevice\u001b[0m\u001b[1;33m)\u001b[0m\u001b[1;33m\u001b[0m\u001b[1;33m\u001b[0m\u001b[0m\n\u001b[0;32m      3\u001b[0m \u001b[1;32mwith\u001b[0m \u001b[0mtorch\u001b[0m\u001b[1;33m.\u001b[0m\u001b[0mno_grad\u001b[0m\u001b[1;33m(\u001b[0m\u001b[1;33m)\u001b[0m\u001b[1;33m:\u001b[0m\u001b[1;33m\u001b[0m\u001b[1;33m\u001b[0m\u001b[0m\n\u001b[1;32m----> 4\u001b[1;33m     \u001b[0mmodel\u001b[0m\u001b[1;33m.\u001b[0m\u001b[0mencoder\u001b[0m\u001b[1;33m(\u001b[0m\u001b[0mtrain\u001b[0m\u001b[1;33m.\u001b[0m\u001b[0mx_dict\u001b[0m\u001b[1;33m,\u001b[0m \u001b[0mtrain\u001b[0m\u001b[1;33m.\u001b[0m\u001b[0medge_index_dict\u001b[0m\u001b[1;33m)\u001b[0m\u001b[1;33m\u001b[0m\u001b[1;33m\u001b[0m\u001b[0m\n\u001b[0m",
      "\u001b[1;32m~\\anaconda3\\envs\\tesi\\lib\\site-packages\\torch\\fx\\graph_module.py\u001b[0m in \u001b[0;36mwrapped_call\u001b[1;34m(self, *args, **kwargs)\u001b[0m\n\u001b[0;32m    628\u001b[0m                     print(generate_error_message(topmost_framesummary),\n\u001b[0;32m    629\u001b[0m                           file=sys.stderr)\n\u001b[1;32m--> 630\u001b[1;33m                 \u001b[1;32mraise\u001b[0m \u001b[0me\u001b[0m\u001b[1;33m.\u001b[0m\u001b[0mwith_traceback\u001b[0m\u001b[1;33m(\u001b[0m\u001b[1;32mNone\u001b[0m\u001b[1;33m)\u001b[0m\u001b[1;33m\u001b[0m\u001b[1;33m\u001b[0m\u001b[0m\n\u001b[0m\u001b[0;32m    631\u001b[0m \u001b[1;33m\u001b[0m\u001b[0m\n\u001b[0;32m    632\u001b[0m         \u001b[0mcls\u001b[0m\u001b[1;33m.\u001b[0m\u001b[0m__call__\u001b[0m \u001b[1;33m=\u001b[0m \u001b[0mwrapped_call\u001b[0m\u001b[1;33m\u001b[0m\u001b[1;33m\u001b[0m\u001b[0m\n",
      "\u001b[1;31mRuntimeError\u001b[0m: CUDA out of memory. Tried to allocate 58.00 MiB (GPU 0; 2.00 GiB total capacity; 1.54 GiB already allocated; 0 bytes free; 1.67 GiB reserved in total by PyTorch) If reserved memory is >> allocated memory try setting max_split_size_mb to avoid fragmentation.  See documentation for Memory Management and PYTORCH_CUDA_ALLOC_CONF"
     ]
    }
   ],
   "source": [
    "from torch_geometric.transforms import ToUndirected\n",
    "train = ToUndirected()(train).to(device)\n",
    "with torch.no_grad():\n",
    "    model.encoder(train.x_dict, train.edge_index_dict)"
   ]
  },
  {
   "cell_type": "code",
   "execution_count": null,
   "id": "d36358b7",
   "metadata": {},
   "outputs": [],
   "source": [
    "batch_size = 128\n",
    "num_epochs = 50\n",
    "criterions = list(nn.CrossEntropyLoss() for _ in range(3))\n",
    "optimizer = optim.Adam(model.parameters(), lr=1e-4)\n",
    "early_stop= EarlyStopping(patience = 5, min_delta = 1e-3, checkpoint_path = 'best_multitask_model.pt')\n",
    "train_loader = DataLoader(train_dataset, batch_size = batch_size, shuffle = True, drop_last = False)\n",
    "val_loader = DataLoader(val_dataset, batch_size = batch_size, shuffle = True, drop_last = False)\n",
    "scheduler = lr_scheduler.ReduceLROnPlateau(optimizer, 'min', min_lr = 1e-7, verbose = True, factor = .5, patience = 1,\n",
    "                                               threshold = 1e-4)\n",
    "fine_tune(model, train, train_loader, val_loader, criterions, optimizer, early_stop, scheduler, num_epochs)"
   ]
  },
  {
   "cell_type": "code",
   "execution_count": 14,
   "id": "96b423d9",
   "metadata": {},
   "outputs": [
    {
     "name": "stderr",
     "output_type": "stream",
     "text": [
      "  0%|          | 0/51 [00:00<?, ?it/s]\n"
     ]
    },
    {
     "ename": "RuntimeError",
     "evalue": "Expected all tensors to be on the same device, but found at least two devices, cuda:0 and cpu! (when checking argument for argument mat2 in method wrapper_mm)",
     "output_type": "error",
     "traceback": [
      "\u001b[1;31m---------------------------------------------------------------------------\u001b[0m",
      "\u001b[1;31mRuntimeError\u001b[0m                              Traceback (most recent call last)",
      "\u001b[1;32m~\\AppData\\Local\\Temp/ipykernel_10868/3199635993.py\u001b[0m in \u001b[0;36m<module>\u001b[1;34m\u001b[0m\n\u001b[0;32m      6\u001b[0m \u001b[0mresults_df\u001b[0m \u001b[1;33m=\u001b[0m \u001b[0mpd\u001b[0m\u001b[1;33m.\u001b[0m\u001b[0mDataFrame\u001b[0m\u001b[1;33m(\u001b[0m\u001b[0mcolumns\u001b[0m \u001b[1;33m=\u001b[0m \u001b[1;33m[\u001b[0m\u001b[1;34m'Top1'\u001b[0m\u001b[1;33m,\u001b[0m \u001b[1;34m'Top2'\u001b[0m\u001b[1;33m,\u001b[0m \u001b[1;34m'Macro-F1'\u001b[0m\u001b[1;33m]\u001b[0m\u001b[1;33m,\u001b[0m \u001b[0mindex\u001b[0m \u001b[1;33m=\u001b[0m \u001b[1;33m(\u001b[0m\u001b[1;34m'style'\u001b[0m\u001b[1;33m,\u001b[0m \u001b[1;34m'genre'\u001b[0m\u001b[1;33m,\u001b[0m \u001b[1;34m'emotion'\u001b[0m\u001b[1;33m)\u001b[0m\u001b[1;33m)\u001b[0m\u001b[1;33m\u001b[0m\u001b[1;33m\u001b[0m\u001b[0m\n\u001b[0;32m      7\u001b[0m \u001b[1;32mwith\u001b[0m \u001b[0mtorch\u001b[0m\u001b[1;33m.\u001b[0m\u001b[0mno_grad\u001b[0m\u001b[1;33m(\u001b[0m\u001b[1;33m)\u001b[0m\u001b[1;33m:\u001b[0m\u001b[1;33m\u001b[0m\u001b[1;33m\u001b[0m\u001b[0m\n\u001b[1;32m----> 8\u001b[1;33m     \u001b[0mpred\u001b[0m\u001b[1;33m,\u001b[0m \u001b[0mlab\u001b[0m \u001b[1;33m=\u001b[0m \u001b[0mtest_func\u001b[0m\u001b[1;33m(\u001b[0m\u001b[0mmodel\u001b[0m\u001b[1;33m,\u001b[0m \u001b[0mtest_loader\u001b[0m\u001b[1;33m,\u001b[0m \u001b[0mtrain\u001b[0m\u001b[1;33m)\u001b[0m\u001b[1;33m\u001b[0m\u001b[1;33m\u001b[0m\u001b[0m\n\u001b[0m\u001b[0;32m      9\u001b[0m \u001b[1;32mfor\u001b[0m \u001b[0mtask\u001b[0m \u001b[1;32min\u001b[0m \u001b[1;33m(\u001b[0m\u001b[1;34m'style'\u001b[0m\u001b[1;33m,\u001b[0m \u001b[1;34m'genre'\u001b[0m\u001b[1;33m,\u001b[0m \u001b[1;34m'emotion'\u001b[0m\u001b[1;33m)\u001b[0m\u001b[1;33m:\u001b[0m\u001b[1;33m\u001b[0m\u001b[1;33m\u001b[0m\u001b[0m\n\u001b[0;32m     10\u001b[0m     \u001b[0mresults_df\u001b[0m\u001b[1;33m[\u001b[0m\u001b[1;34m'Top1'\u001b[0m\u001b[1;33m]\u001b[0m\u001b[1;33m.\u001b[0m\u001b[0mloc\u001b[0m\u001b[1;33m[\u001b[0m\u001b[0mtask\u001b[0m\u001b[1;33m]\u001b[0m \u001b[1;33m=\u001b[0m \u001b[0mcompute_topk\u001b[0m\u001b[1;33m(\u001b[0m\u001b[0mlab\u001b[0m\u001b[1;33m[\u001b[0m\u001b[0mtask\u001b[0m\u001b[1;33m]\u001b[0m\u001b[1;33m,\u001b[0m \u001b[0mpred\u001b[0m\u001b[1;33m[\u001b[0m\u001b[0mtask\u001b[0m\u001b[1;33m]\u001b[0m\u001b[1;33m,\u001b[0m \u001b[0mk\u001b[0m\u001b[1;33m=\u001b[0m\u001b[1;36m1\u001b[0m\u001b[1;33m)\u001b[0m\u001b[1;33m\u001b[0m\u001b[1;33m\u001b[0m\u001b[0m\n",
      "\u001b[1;32m~\\Documents\\GitHub\\test_multitask_per_alessia\\src\\utils\\training_utils.py\u001b[0m in \u001b[0;36mtest\u001b[1;34m(model, data_loader, graph, update_graph, device)\u001b[0m\n\u001b[0;32m    171\u001b[0m         \u001b[0memotion_labels\u001b[0m \u001b[1;33m=\u001b[0m \u001b[0memotion_labels\u001b[0m\u001b[1;33m.\u001b[0m\u001b[0mto\u001b[0m\u001b[1;33m(\u001b[0m\u001b[0mdevice\u001b[0m\u001b[1;33m,\u001b[0m \u001b[0mnon_blocking\u001b[0m\u001b[1;33m=\u001b[0m\u001b[1;32mTrue\u001b[0m\u001b[1;33m)\u001b[0m\u001b[1;33m\u001b[0m\u001b[1;33m\u001b[0m\u001b[0m\n\u001b[0;32m    172\u001b[0m \u001b[1;33m\u001b[0m\u001b[0m\n\u001b[1;32m--> 173\u001b[1;33m         \u001b[0mstyle_pred\u001b[0m\u001b[1;33m,\u001b[0m \u001b[0mgenre_pred\u001b[0m\u001b[1;33m,\u001b[0m \u001b[0memotion_pred\u001b[0m \u001b[1;33m=\u001b[0m \u001b[0mmodel\u001b[0m\u001b[1;33m(\u001b[0m\u001b[0mimages\u001b[0m\u001b[1;33m,\u001b[0m \u001b[0mtest_graph\u001b[0m\u001b[1;33m.\u001b[0m\u001b[0mx_dict\u001b[0m\u001b[1;33m,\u001b[0m \u001b[0mtest_graph\u001b[0m\u001b[1;33m.\u001b[0m\u001b[0medge_index_dict\u001b[0m\u001b[1;33m)\u001b[0m\u001b[1;33m\u001b[0m\u001b[1;33m\u001b[0m\u001b[0m\n\u001b[0m\u001b[0;32m    174\u001b[0m \u001b[1;33m\u001b[0m\u001b[0m\n\u001b[0;32m    175\u001b[0m         \u001b[1;32mif\u001b[0m \u001b[0mtot_pred\u001b[0m\u001b[1;33m[\u001b[0m\u001b[1;34m'style'\u001b[0m\u001b[1;33m]\u001b[0m \u001b[1;32mis\u001b[0m \u001b[1;32mNone\u001b[0m\u001b[1;33m:\u001b[0m\u001b[1;33m\u001b[0m\u001b[1;33m\u001b[0m\u001b[0m\n",
      "\u001b[1;32m~\\anaconda3\\envs\\tesi\\lib\\site-packages\\torch\\nn\\modules\\module.py\u001b[0m in \u001b[0;36m_call_impl\u001b[1;34m(self, *input, **kwargs)\u001b[0m\n\u001b[0;32m   1108\u001b[0m         if not (self._backward_hooks or self._forward_hooks or self._forward_pre_hooks or _global_backward_hooks\n\u001b[0;32m   1109\u001b[0m                 or _global_forward_hooks or _global_forward_pre_hooks):\n\u001b[1;32m-> 1110\u001b[1;33m             \u001b[1;32mreturn\u001b[0m \u001b[0mforward_call\u001b[0m\u001b[1;33m(\u001b[0m\u001b[1;33m*\u001b[0m\u001b[0minput\u001b[0m\u001b[1;33m,\u001b[0m \u001b[1;33m**\u001b[0m\u001b[0mkwargs\u001b[0m\u001b[1;33m)\u001b[0m\u001b[1;33m\u001b[0m\u001b[1;33m\u001b[0m\u001b[0m\n\u001b[0m\u001b[0;32m   1111\u001b[0m         \u001b[1;31m# Do not call functions when jit is used\u001b[0m\u001b[1;33m\u001b[0m\u001b[1;33m\u001b[0m\u001b[0m\n\u001b[0;32m   1112\u001b[0m         \u001b[0mfull_backward_hooks\u001b[0m\u001b[1;33m,\u001b[0m \u001b[0mnon_full_backward_hooks\u001b[0m \u001b[1;33m=\u001b[0m \u001b[1;33m[\u001b[0m\u001b[1;33m]\u001b[0m\u001b[1;33m,\u001b[0m \u001b[1;33m[\u001b[0m\u001b[1;33m]\u001b[0m\u001b[1;33m\u001b[0m\u001b[1;33m\u001b[0m\u001b[0m\n",
      "\u001b[1;32m~\\Documents\\GitHub\\test_multitask_per_alessia\\src\\multi_task_model.py\u001b[0m in \u001b[0;36mforward\u001b[1;34m(self, x, x_dict, edge_index_dict)\u001b[0m\n\u001b[0;32m    109\u001b[0m \u001b[1;33m\u001b[0m\u001b[0m\n\u001b[0;32m    110\u001b[0m     \u001b[1;32mdef\u001b[0m \u001b[0mforward\u001b[0m\u001b[1;33m(\u001b[0m\u001b[0mself\u001b[0m\u001b[1;33m,\u001b[0m \u001b[0mx\u001b[0m\u001b[1;33m,\u001b[0m \u001b[0mx_dict\u001b[0m\u001b[1;33m,\u001b[0m \u001b[0medge_index_dict\u001b[0m\u001b[1;33m)\u001b[0m\u001b[1;33m:\u001b[0m\u001b[1;33m\u001b[0m\u001b[1;33m\u001b[0m\u001b[0m\n\u001b[1;32m--> 111\u001b[1;33m         \u001b[0mz_dict\u001b[0m \u001b[1;33m=\u001b[0m \u001b[0mself\u001b[0m\u001b[1;33m.\u001b[0m\u001b[0mencoder\u001b[0m\u001b[1;33m(\u001b[0m\u001b[0mx_dict\u001b[0m\u001b[1;33m,\u001b[0m \u001b[0medge_index_dict\u001b[0m\u001b[1;33m)\u001b[0m\u001b[1;33m\u001b[0m\u001b[1;33m\u001b[0m\u001b[0m\n\u001b[0m\u001b[0;32m    112\u001b[0m         \u001b[0mshared_rep\u001b[0m \u001b[1;33m=\u001b[0m \u001b[0mself\u001b[0m\u001b[1;33m.\u001b[0m\u001b[0mhead\u001b[0m\u001b[1;33m(\u001b[0m\u001b[0mx\u001b[0m\u001b[1;33m,\u001b[0m \u001b[0mz_dict\u001b[0m\u001b[1;33m)\u001b[0m\u001b[1;33m\u001b[0m\u001b[1;33m\u001b[0m\u001b[0m\n\u001b[0;32m    113\u001b[0m         \u001b[1;32mreturn\u001b[0m \u001b[1;33m[\u001b[0m\u001b[0mself\u001b[0m\u001b[1;33m.\u001b[0m\u001b[0mhead_style\u001b[0m\u001b[1;33m(\u001b[0m\u001b[0mshared_rep\u001b[0m\u001b[1;33m)\u001b[0m\u001b[1;33m,\u001b[0m \u001b[0mself\u001b[0m\u001b[1;33m.\u001b[0m\u001b[0mhead_genre\u001b[0m\u001b[1;33m(\u001b[0m\u001b[0mshared_rep\u001b[0m\u001b[1;33m)\u001b[0m\u001b[1;33m,\u001b[0m \u001b[0mself\u001b[0m\u001b[1;33m.\u001b[0m\u001b[0mhead_emotion\u001b[0m\u001b[1;33m(\u001b[0m\u001b[0mshared_rep\u001b[0m\u001b[1;33m)\u001b[0m\u001b[1;33m]\u001b[0m\u001b[1;33m\u001b[0m\u001b[1;33m\u001b[0m\u001b[0m\n",
      "\u001b[1;32m~\\anaconda3\\envs\\tesi\\lib\\site-packages\\torch\\fx\\graph_module.py\u001b[0m in \u001b[0;36mwrapped_call\u001b[1;34m(self, *args, **kwargs)\u001b[0m\n\u001b[0;32m    628\u001b[0m                     print(generate_error_message(topmost_framesummary),\n\u001b[0;32m    629\u001b[0m                           file=sys.stderr)\n\u001b[1;32m--> 630\u001b[1;33m                 \u001b[1;32mraise\u001b[0m \u001b[0me\u001b[0m\u001b[1;33m.\u001b[0m\u001b[0mwith_traceback\u001b[0m\u001b[1;33m(\u001b[0m\u001b[1;32mNone\u001b[0m\u001b[1;33m)\u001b[0m\u001b[1;33m\u001b[0m\u001b[1;33m\u001b[0m\u001b[0m\n\u001b[0m\u001b[0;32m    631\u001b[0m \u001b[1;33m\u001b[0m\u001b[0m\n\u001b[0;32m    632\u001b[0m         \u001b[0mcls\u001b[0m\u001b[1;33m.\u001b[0m\u001b[0m__call__\u001b[0m \u001b[1;33m=\u001b[0m \u001b[0mwrapped_call\u001b[0m\u001b[1;33m\u001b[0m\u001b[1;33m\u001b[0m\u001b[0m\n",
      "\u001b[1;31mRuntimeError\u001b[0m: Expected all tensors to be on the same device, but found at least two devices, cuda:0 and cpu! (when checking argument for argument mat2 in method wrapper_mm)"
     ]
    }
   ],
   "source": [
    "model = torch.load('best_multitask_model.pt').to('cuda:0')\n",
    "test_loader = DataLoader(test_dataset, batch_size = 128, shuffle = True, drop_last = False)\n",
    "map_hop={'style':5,\n",
    "        'genre':3,\n",
    "        'emotion':2}\n",
    "results_df = pd.DataFrame(columns = ['Top1', 'Top2', 'Macro-F1'], index = ('style', 'genre', 'emotion'))\n",
    "with torch.no_grad():\n",
    "    pred, lab = test_func(model, test_loader, train)\n",
    "for task in ('style', 'genre', 'emotion'):\n",
    "    results_df['Top1'].loc[task] = compute_topk(lab[task], pred[task], k=1)\n",
    "    results_df['Top2'].loc[task] = compute_topk(lab[task], pred[task], k=2)\n",
    "    pred_lab = torch.max(torch.Tensor(pred[task]), 1)[1]\n",
    "    results_df['Macro-F1'].loc[task] = f1_score(lab[task], pred_lab, average = 'macro')\n",
    "    labels = pd.read_csv(f'{root}/mapping/{task}_entidx2name.csv', names = ['idx','name'])['name'].tolist()\n",
    "    plot_confusion_matrix(lab[task], pred_lab, hop = map_hop[task], labels = labels)"
   ]
  },
  {
   "cell_type": "code",
   "execution_count": null,
   "id": "9887a61a",
   "metadata": {},
   "outputs": [],
   "source": [
    "results_df"
   ]
  },
  {
   "cell_type": "code",
   "execution_count": null,
   "id": "2642943c",
   "metadata": {},
   "outputs": [],
   "source": [
    "results_df.to_csv('resuls_multi_task_scratch.csv')"
   ]
  }
 ],
 "metadata": {
  "kernelspec": {
   "display_name": "Python 3 (ipykernel)",
   "language": "python",
   "name": "python3"
  },
  "language_info": {
   "codemirror_mode": {
    "name": "ipython",
    "version": 3
   },
   "file_extension": ".py",
   "mimetype": "text/x-python",
   "name": "python",
   "nbconvert_exporter": "python",
   "pygments_lexer": "ipython3",
   "version": "3.9.7"
  }
 },
 "nbformat": 4,
 "nbformat_minor": 5
}
