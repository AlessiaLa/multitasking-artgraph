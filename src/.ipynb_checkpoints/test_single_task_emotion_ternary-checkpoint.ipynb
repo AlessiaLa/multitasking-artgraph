{
 "cells": [
  {
   "cell_type": "code",
   "execution_count": 1,
   "id": "e4aab605",
   "metadata": {},
   "outputs": [],
   "source": [
    "from load_dataset.artgraph import ArtGraph\n",
    "from utils.MultiTaskLinkSplitter import MultiTaskLinkSplitter\n",
    "from utils.dataset import TrainingDataSet, TestDataSet, SingleTaskTestDataSet, SingleTaskTrainingDataSet\n",
    "from utils.EarlyStopping import EarlyStopping\n",
    "from multi_task_model import MultiTaskClassificationModel, NewMultiTaskClassificationModel\n",
    "from torch import nn\n",
    "from utils.training_utils import fine_tune, test as test_func, compute_topk, plot_confusion_matrix, fine_tune_single_task, test_single_task\n",
    "from torch.utils.data import DataLoader\n",
    "from torch import optim\n",
    "import torch\n",
    "import pandas as pd\n",
    "from sklearn.metrics import f1_score\n",
    "import matplotlib.pyplot as plt\n",
    "from torch.optim import lr_scheduler\n",
    "%matplotlib inline"
   ]
  },
  {
   "cell_type": "code",
   "execution_count": 2,
   "id": "ec7242c6",
   "metadata": {},
   "outputs": [],
   "source": [
    "from torch_geometric.seed import seed_everything\n",
    "seed_everything(1)"
   ]
  },
  {
   "cell_type": "code",
   "execution_count": 3,
   "id": "709a126e",
   "metadata": {},
   "outputs": [],
   "source": [
    "root = 'artgraph2bestemotions'\n",
    "data_path = 'data_full_labels.csv'"
   ]
  },
  {
   "cell_type": "code",
   "execution_count": 4,
   "id": "b360b3fb",
   "metadata": {},
   "outputs": [],
   "source": [
    "pos_neg_emotions = {8:2}\n",
    "pos_neg_emotions.update({x:0 for x in (1, 2, 3, 5)})\n",
    "pos_neg_emotions.update({x:1 for x in (0, 4, 6, 7)})"
   ]
  },
  {
   "cell_type": "code",
   "execution_count": 5,
   "id": "868c9485",
   "metadata": {},
   "outputs": [
    {
     "name": "stderr",
     "output_type": "stream",
     "text": [
      "Processing...\n",
      "Done!\n"
     ]
    },
    {
     "data": {
      "text/plain": [
       "HeteroData(\n",
       "  \u001b[1martwork\u001b[0m={ x=[116475, 128] },\n",
       "  \u001b[1martist\u001b[0m={ x=[2501, 1] },\n",
       "  \u001b[1mgallery\u001b[0m={ x=[1099, 1] },\n",
       "  \u001b[1mcity\u001b[0m={ x=[596, 1] },\n",
       "  \u001b[1mcountry\u001b[0m={ x=[58, 1] },\n",
       "  \u001b[1mstyle\u001b[0m={ x=[32, 1] },\n",
       "  \u001b[1mperiod\u001b[0m={ x=[186, 1] },\n",
       "  \u001b[1mgenre\u001b[0m={ x=[18, 1] },\n",
       "  \u001b[1mserie\u001b[0m={ x=[823, 1] },\n",
       "  \u001b[1mtag\u001b[0m={ x=[5424, 1] },\n",
       "  \u001b[1mmedia\u001b[0m={ x=[167, 1] },\n",
       "  \u001b[1msubject\u001b[0m={ x=[6985, 1] },\n",
       "  \u001b[1mtraining_node\u001b[0m={ x=[268, 1] },\n",
       "  \u001b[1mfield\u001b[0m={ x=[54, 1] },\n",
       "  \u001b[1mmovement\u001b[0m={ x=[243, 1] },\n",
       "  \u001b[1mpeople\u001b[0m={ x=[109, 1] },\n",
       "  \u001b[1memotion\u001b[0m={ x=[9, 1] },\n",
       "  \u001b[1m(artist, belongstofield, field)\u001b[0m={ edge_index=[2, 987] },\n",
       "  \u001b[1m(artist, belongstomovement, movement)\u001b[0m={ edge_index=[2, 1056] },\n",
       "  \u001b[1m(artist, haspatron, people)\u001b[0m={ edge_index=[2, 124] },\n",
       "  \u001b[1m(artist, hassubject, subject)\u001b[0m={ edge_index=[2, 21054] },\n",
       "  \u001b[1m(artist, relatedtoschool, training_node)\u001b[0m={ edge_index=[2, 498] },\n",
       "  \u001b[1m(artist, trainedby, artist)\u001b[0m={ edge_index=[2, 47] },\n",
       "  \u001b[1m(artwork, about, tag)\u001b[0m={ edge_index=[2, 342982] },\n",
       "  \u001b[1m(artwork, createdby, artist)\u001b[0m={ edge_index=[2, 116475] },\n",
       "  \u001b[1m(artwork, elicit, emotion)\u001b[0m={ edge_index=[2, 65236] },\n",
       "  \u001b[1m(artwork, hasgenre, genre)\u001b[0m={ edge_index=[2, 116475] },\n",
       "  \u001b[1m(artwork, hasperiod, period)\u001b[0m={ edge_index=[2, 5748] },\n",
       "  \u001b[1m(artwork, hasstyle, style)\u001b[0m={ edge_index=[2, 116475] },\n",
       "  \u001b[1m(artwork, locatedin, city)\u001b[0m={ edge_index=[2, 19532] },\n",
       "  \u001b[1m(artwork, locatedin, country)\u001b[0m={ edge_index=[2, 19488] },\n",
       "  \u001b[1m(artwork, locatedin, gallery)\u001b[0m={ edge_index=[2, 19504] },\n",
       "  \u001b[1m(artwork, madeof, media)\u001b[0m={ edge_index=[2, 83824] },\n",
       "  \u001b[1m(artwork, partof, serie)\u001b[0m={ edge_index=[2, 8322] },\n",
       "  \u001b[1m(city, incountry, country)\u001b[0m={ edge_index=[2, 608] },\n",
       "  \u001b[1m(gallery, incity, city)\u001b[0m={ edge_index=[2, 1109] },\n",
       "  \u001b[1m(gallery, incountry, country)\u001b[0m={ edge_index=[2, 1105] }\n",
       ")"
      ]
     },
     "execution_count": 5,
     "metadata": {},
     "output_type": "execute_result"
    }
   ],
   "source": [
    "data = ArtGraph(root = root, preprocess='constant', features = 'vit', fine_tuning = True)[0]\n",
    "data"
   ]
  },
  {
   "cell_type": "code",
   "execution_count": 6,
   "id": "8ad1e9f4",
   "metadata": {},
   "outputs": [
    {
     "data": {
      "text/plain": [
       "HeteroData(\n",
       "  \u001b[1martwork\u001b[0m={ x=[116475, 128] },\n",
       "  \u001b[1martist\u001b[0m={ x=[2501, 1] },\n",
       "  \u001b[1mgallery\u001b[0m={ x=[1099, 1] },\n",
       "  \u001b[1mcity\u001b[0m={ x=[596, 1] },\n",
       "  \u001b[1mcountry\u001b[0m={ x=[58, 1] },\n",
       "  \u001b[1mstyle\u001b[0m={ x=[32, 1] },\n",
       "  \u001b[1mperiod\u001b[0m={ x=[186, 1] },\n",
       "  \u001b[1mgenre\u001b[0m={ x=[18, 1] },\n",
       "  \u001b[1mserie\u001b[0m={ x=[823, 1] },\n",
       "  \u001b[1mtag\u001b[0m={ x=[5424, 1] },\n",
       "  \u001b[1mmedia\u001b[0m={ x=[167, 1] },\n",
       "  \u001b[1msubject\u001b[0m={ x=[6985, 1] },\n",
       "  \u001b[1mtraining_node\u001b[0m={ x=[268, 1] },\n",
       "  \u001b[1mfield\u001b[0m={ x=[54, 1] },\n",
       "  \u001b[1mmovement\u001b[0m={ x=[243, 1] },\n",
       "  \u001b[1mpeople\u001b[0m={ x=[109, 1] },\n",
       "  \u001b[1memotion\u001b[0m={ x=[3, 1] },\n",
       "  \u001b[1m(artist, belongstofield, field)\u001b[0m={ edge_index=[2, 987] },\n",
       "  \u001b[1m(artist, belongstomovement, movement)\u001b[0m={ edge_index=[2, 1056] },\n",
       "  \u001b[1m(artist, haspatron, people)\u001b[0m={ edge_index=[2, 124] },\n",
       "  \u001b[1m(artist, hassubject, subject)\u001b[0m={ edge_index=[2, 21054] },\n",
       "  \u001b[1m(artist, relatedtoschool, training_node)\u001b[0m={ edge_index=[2, 498] },\n",
       "  \u001b[1m(artist, trainedby, artist)\u001b[0m={ edge_index=[2, 47] },\n",
       "  \u001b[1m(artwork, about, tag)\u001b[0m={ edge_index=[2, 342982] },\n",
       "  \u001b[1m(artwork, createdby, artist)\u001b[0m={ edge_index=[2, 116475] },\n",
       "  \u001b[1m(artwork, elicit, emotion)\u001b[0m={ edge_index=[2, 65236] },\n",
       "  \u001b[1m(artwork, hasgenre, genre)\u001b[0m={ edge_index=[2, 116475] },\n",
       "  \u001b[1m(artwork, hasperiod, period)\u001b[0m={ edge_index=[2, 5748] },\n",
       "  \u001b[1m(artwork, hasstyle, style)\u001b[0m={ edge_index=[2, 116475] },\n",
       "  \u001b[1m(artwork, locatedin, city)\u001b[0m={ edge_index=[2, 19532] },\n",
       "  \u001b[1m(artwork, locatedin, country)\u001b[0m={ edge_index=[2, 19488] },\n",
       "  \u001b[1m(artwork, locatedin, gallery)\u001b[0m={ edge_index=[2, 19504] },\n",
       "  \u001b[1m(artwork, madeof, media)\u001b[0m={ edge_index=[2, 83824] },\n",
       "  \u001b[1m(artwork, partof, serie)\u001b[0m={ edge_index=[2, 8322] },\n",
       "  \u001b[1m(city, incountry, country)\u001b[0m={ edge_index=[2, 608] },\n",
       "  \u001b[1m(gallery, incity, city)\u001b[0m={ edge_index=[2, 1109] },\n",
       "  \u001b[1m(gallery, incountry, country)\u001b[0m={ edge_index=[2, 1105] }\n",
       ")"
      ]
     },
     "execution_count": 6,
     "metadata": {},
     "output_type": "execute_result"
    }
   ],
   "source": [
    "emotion_value = data['emotion'].x[0].item()\n",
    "data['emotion'].x = torch.full(size = (3, 1), fill_value = emotion_value)\n",
    "\n",
    "emotion_entries = data['artwork', 'emotion'].edge_index[1].tolist()\n",
    "data['artwork', 'emotion'].edge_index[1] = torch.Tensor(list(map(lambda x: pos_neg_emotions[x], emotion_entries)))\n",
    "data"
   ]
  },
  {
   "cell_type": "code",
   "execution_count": 7,
   "id": "f1075077",
   "metadata": {},
   "outputs": [
    {
     "data": {
      "text/plain": [
       "HeteroData(\n",
       "  \u001b[1martwork\u001b[0m={ x=[116475, 128] },\n",
       "  \u001b[1martist\u001b[0m={ x=[2501, 1] },\n",
       "  \u001b[1mgallery\u001b[0m={ x=[1099, 1] },\n",
       "  \u001b[1mcity\u001b[0m={ x=[596, 1] },\n",
       "  \u001b[1mcountry\u001b[0m={ x=[58, 1] },\n",
       "  \u001b[1mstyle\u001b[0m={ x=[32, 1] },\n",
       "  \u001b[1mperiod\u001b[0m={ x=[186, 1] },\n",
       "  \u001b[1mgenre\u001b[0m={ x=[18, 1] },\n",
       "  \u001b[1mserie\u001b[0m={ x=[823, 1] },\n",
       "  \u001b[1mtag\u001b[0m={ x=[5424, 1] },\n",
       "  \u001b[1mmedia\u001b[0m={ x=[167, 1] },\n",
       "  \u001b[1msubject\u001b[0m={ x=[6985, 1] },\n",
       "  \u001b[1mtraining_node\u001b[0m={ x=[268, 1] },\n",
       "  \u001b[1mfield\u001b[0m={ x=[54, 1] },\n",
       "  \u001b[1mmovement\u001b[0m={ x=[243, 1] },\n",
       "  \u001b[1mpeople\u001b[0m={ x=[109, 1] },\n",
       "  \u001b[1memotion\u001b[0m={ x=[3, 1] },\n",
       "  \u001b[1m(artist, belongstofield, field)\u001b[0m={ edge_index=[2, 987] },\n",
       "  \u001b[1m(artist, belongstomovement, movement)\u001b[0m={ edge_index=[2, 1056] },\n",
       "  \u001b[1m(artist, haspatron, people)\u001b[0m={ edge_index=[2, 124] },\n",
       "  \u001b[1m(artist, hassubject, subject)\u001b[0m={ edge_index=[2, 21054] },\n",
       "  \u001b[1m(artist, relatedtoschool, training_node)\u001b[0m={ edge_index=[2, 498] },\n",
       "  \u001b[1m(artist, trainedby, artist)\u001b[0m={ edge_index=[2, 47] },\n",
       "  \u001b[1m(artwork, about, tag)\u001b[0m={ edge_index=[2, 181644] },\n",
       "  \u001b[1m(artwork, createdby, artist)\u001b[0m={ edge_index=[2, 52188] },\n",
       "  \u001b[1m(artwork, elicit, emotion)\u001b[0m={ edge_index=[2, 52188] },\n",
       "  \u001b[1m(artwork, hasgenre, genre)\u001b[0m={ edge_index=[2, 52188] },\n",
       "  \u001b[1m(artwork, hasperiod, period)\u001b[0m={ edge_index=[2, 2870] },\n",
       "  \u001b[1m(artwork, hasstyle, style)\u001b[0m={ edge_index=[2, 52188] },\n",
       "  \u001b[1m(artwork, locatedin, city)\u001b[0m={ edge_index=[2, 11753] },\n",
       "  \u001b[1m(artwork, locatedin, country)\u001b[0m={ edge_index=[2, 11726] },\n",
       "  \u001b[1m(artwork, locatedin, gallery)\u001b[0m={ edge_index=[2, 11736] },\n",
       "  \u001b[1m(artwork, madeof, media)\u001b[0m={ edge_index=[2, 47910] },\n",
       "  \u001b[1m(artwork, partof, serie)\u001b[0m={ edge_index=[2, 3362] },\n",
       "  \u001b[1m(city, incountry, country)\u001b[0m={ edge_index=[2, 608] },\n",
       "  \u001b[1m(gallery, incity, city)\u001b[0m={ edge_index=[2, 1109] },\n",
       "  \u001b[1m(gallery, incountry, country)\u001b[0m={ edge_index=[2, 1105] }\n",
       ")"
      ]
     },
     "execution_count": 7,
     "metadata": {},
     "output_type": "execute_result"
    }
   ],
   "source": [
    "mls = MultiTaskLinkSplitter(seed = 1)\n",
    "train, val, test = mls.transform(data)\n",
    "train"
   ]
  },
  {
   "cell_type": "code",
   "execution_count": 8,
   "id": "514a4a29",
   "metadata": {},
   "outputs": [
    {
     "data": {
      "text/html": [
       "<div>\n",
       "<style scoped>\n",
       "    .dataframe tbody tr th:only-of-type {\n",
       "        vertical-align: middle;\n",
       "    }\n",
       "\n",
       "    .dataframe tbody tr th {\n",
       "        vertical-align: top;\n",
       "    }\n",
       "\n",
       "    .dataframe thead th {\n",
       "        text-align: right;\n",
       "    }\n",
       "</style>\n",
       "<table border=\"1\" class=\"dataframe\">\n",
       "  <thead>\n",
       "    <tr style=\"text-align: right;\">\n",
       "      <th></th>\n",
       "      <th>artwork</th>\n",
       "      <th>style</th>\n",
       "      <th>genre</th>\n",
       "      <th>emotion</th>\n",
       "    </tr>\n",
       "    <tr>\n",
       "      <th>artwork</th>\n",
       "      <th></th>\n",
       "      <th></th>\n",
       "      <th></th>\n",
       "      <th></th>\n",
       "    </tr>\n",
       "  </thead>\n",
       "  <tbody>\n",
       "    <tr>\n",
       "      <th>81418</th>\n",
       "      <td>81418</td>\n",
       "      <td>1</td>\n",
       "      <td>4</td>\n",
       "      <td>1</td>\n",
       "    </tr>\n",
       "    <tr>\n",
       "      <th>28493</th>\n",
       "      <td>28493</td>\n",
       "      <td>3</td>\n",
       "      <td>9</td>\n",
       "      <td>0</td>\n",
       "    </tr>\n",
       "    <tr>\n",
       "      <th>28421</th>\n",
       "      <td>28421</td>\n",
       "      <td>3</td>\n",
       "      <td>3</td>\n",
       "      <td>2</td>\n",
       "    </tr>\n",
       "    <tr>\n",
       "      <th>28393</th>\n",
       "      <td>28393</td>\n",
       "      <td>3</td>\n",
       "      <td>9</td>\n",
       "      <td>2</td>\n",
       "    </tr>\n",
       "    <tr>\n",
       "      <th>28380</th>\n",
       "      <td>28380</td>\n",
       "      <td>3</td>\n",
       "      <td>9</td>\n",
       "      <td>1</td>\n",
       "    </tr>\n",
       "    <tr>\n",
       "      <th>...</th>\n",
       "      <td>...</td>\n",
       "      <td>...</td>\n",
       "      <td>...</td>\n",
       "      <td>...</td>\n",
       "    </tr>\n",
       "    <tr>\n",
       "      <th>71300</th>\n",
       "      <td>71300</td>\n",
       "      <td>10</td>\n",
       "      <td>6</td>\n",
       "      <td>2</td>\n",
       "    </tr>\n",
       "    <tr>\n",
       "      <th>68290</th>\n",
       "      <td>68290</td>\n",
       "      <td>23</td>\n",
       "      <td>6</td>\n",
       "      <td>2</td>\n",
       "    </tr>\n",
       "    <tr>\n",
       "      <th>68567</th>\n",
       "      <td>68567</td>\n",
       "      <td>23</td>\n",
       "      <td>6</td>\n",
       "      <td>2</td>\n",
       "    </tr>\n",
       "    <tr>\n",
       "      <th>69055</th>\n",
       "      <td>69055</td>\n",
       "      <td>10</td>\n",
       "      <td>6</td>\n",
       "      <td>2</td>\n",
       "    </tr>\n",
       "    <tr>\n",
       "      <th>65386</th>\n",
       "      <td>65386</td>\n",
       "      <td>23</td>\n",
       "      <td>6</td>\n",
       "      <td>2</td>\n",
       "    </tr>\n",
       "  </tbody>\n",
       "</table>\n",
       "<p>65236 rows × 4 columns</p>\n",
       "</div>"
      ],
      "text/plain": [
       "         artwork  style  genre  emotion\n",
       "artwork                                \n",
       "81418      81418      1      4        1\n",
       "28493      28493      3      9        0\n",
       "28421      28421      3      3        2\n",
       "28393      28393      3      9        2\n",
       "28380      28380      3      9        1\n",
       "...          ...    ...    ...      ...\n",
       "71300      71300     10      6        2\n",
       "68290      68290     23      6        2\n",
       "68567      68567     23      6        2\n",
       "69055      69055     10      6        2\n",
       "65386      65386     23      6        2\n",
       "\n",
       "[65236 rows x 4 columns]"
      ]
     },
     "execution_count": 8,
     "metadata": {},
     "output_type": "execute_result"
    }
   ],
   "source": [
    "#loading data with labels\n",
    "data_labels = pd.read_csv(data_path)\n",
    "data_labels.emotion = data_labels.emotion.map(pos_neg_emotions)\n",
    "data_labels.index = data_labels.artwork\n",
    "data_labels"
   ]
  },
  {
   "cell_type": "code",
   "execution_count": 9,
   "id": "675e5ea1",
   "metadata": {},
   "outputs": [],
   "source": [
    "from torch_geometric.transforms import ToUndirected\n",
    "batch_size = 128\n",
    "num_epochs = 50\n",
    "device = torch.device('cuda:0')\n",
    "train = ToUndirected()(train).to(device)"
   ]
  },
  {
   "cell_type": "code",
   "execution_count": 10,
   "id": "cb4aea0b",
   "metadata": {},
   "outputs": [
    {
     "name": "stdout",
     "output_type": "stream",
     "text": [
      "**************************************************EMOTION**************************************************\n"
     ]
    },
    {
     "name": "stderr",
     "output_type": "stream",
     "text": [
      "D:\\Anaconda\\envs\\tesi\\lib\\site-packages\\torch_geometric\\nn\\conv\\hetero_conv.py:53: UserWarning: There exist node types ({'artwork'}) whose representations do not get updated during message passing as they do not occur as destination type in any edge type. This may lead to unexpected behaviour.\n",
      "  warnings.warn(\n"
     ]
    },
    {
     "name": "stdout",
     "output_type": "stream",
     "text": [
      "Epoch 1/50\n",
      "------------------------------------------------------------------------------------------------------------------------\n"
     ]
    },
    {
     "name": "stderr",
     "output_type": "stream",
     "text": [
      "100%|████████████████████████████████████████████████████████████████████████████████| 408/408 [00:11<00:00, 36.31it/s]\n"
     ]
    },
    {
     "name": "stdout",
     "output_type": "stream",
     "text": [
      "train Loss: 0.8945 Style Acc: 0.6005\n"
     ]
    },
    {
     "name": "stderr",
     "output_type": "stream",
     "text": [
      "100%|██████████████████████████████████████████████████████████████████████████████████| 51/51 [00:00<00:00, 70.77it/s]\n"
     ]
    },
    {
     "name": "stdout",
     "output_type": "stream",
     "text": [
      "val Loss: 0.8378 Style Acc: 0.6236\n",
      "Validation loss decreased. Saving model...\n",
      "Epoch 2/50\n",
      "------------------------------------------------------------------------------------------------------------------------\n"
     ]
    },
    {
     "name": "stderr",
     "output_type": "stream",
     "text": [
      "100%|████████████████████████████████████████████████████████████████████████████████| 408/408 [00:07<00:00, 56.50it/s]\n"
     ]
    },
    {
     "name": "stdout",
     "output_type": "stream",
     "text": [
      "train Loss: 0.8334 Style Acc: 0.6392\n"
     ]
    },
    {
     "name": "stderr",
     "output_type": "stream",
     "text": [
      "100%|██████████████████████████████████████████████████████████████████████████████████| 51/51 [00:00<00:00, 76.62it/s]\n"
     ]
    },
    {
     "name": "stdout",
     "output_type": "stream",
     "text": [
      "val Loss: 0.8190 Style Acc: 0.6443\n",
      "Validation loss decreased. Saving model...\n",
      "Epoch 3/50\n",
      "------------------------------------------------------------------------------------------------------------------------\n"
     ]
    },
    {
     "name": "stderr",
     "output_type": "stream",
     "text": [
      "100%|████████████████████████████████████████████████████████████████████████████████| 408/408 [00:07<00:00, 55.35it/s]\n"
     ]
    },
    {
     "name": "stdout",
     "output_type": "stream",
     "text": [
      "train Loss: 0.8228 Style Acc: 0.6467\n"
     ]
    },
    {
     "name": "stderr",
     "output_type": "stream",
     "text": [
      "100%|██████████████████████████████████████████████████████████████████████████████████| 51/51 [00:00<00:00, 73.74it/s]\n"
     ]
    },
    {
     "name": "stdout",
     "output_type": "stream",
     "text": [
      "val Loss: 0.8155 Style Acc: 0.6461\n",
      "Validation loss decreased. Saving model...\n",
      "Epoch 4/50\n",
      "------------------------------------------------------------------------------------------------------------------------\n"
     ]
    },
    {
     "name": "stderr",
     "output_type": "stream",
     "text": [
      "100%|████████████████████████████████████████████████████████████████████████████████| 408/408 [00:07<00:00, 57.07it/s]\n"
     ]
    },
    {
     "name": "stdout",
     "output_type": "stream",
     "text": [
      "train Loss: 0.8155 Style Acc: 0.6507\n"
     ]
    },
    {
     "name": "stderr",
     "output_type": "stream",
     "text": [
      "100%|██████████████████████████████████████████████████████████████████████████████████| 51/51 [00:00<00:00, 70.38it/s]\n"
     ]
    },
    {
     "name": "stdout",
     "output_type": "stream",
     "text": [
      "val Loss: 0.8124 Style Acc: 0.6472\n",
      "Validation loss decreased. Saving model...\n",
      "Epoch 5/50\n",
      "------------------------------------------------------------------------------------------------------------------------\n"
     ]
    },
    {
     "name": "stderr",
     "output_type": "stream",
     "text": [
      "100%|████████████████████████████████████████████████████████████████████████████████| 408/408 [00:07<00:00, 56.48it/s]\n"
     ]
    },
    {
     "name": "stdout",
     "output_type": "stream",
     "text": [
      "train Loss: 0.8105 Style Acc: 0.6542\n"
     ]
    },
    {
     "name": "stderr",
     "output_type": "stream",
     "text": [
      "100%|██████████████████████████████████████████████████████████████████████████████████| 51/51 [00:00<00:00, 82.32it/s]\n"
     ]
    },
    {
     "name": "stdout",
     "output_type": "stream",
     "text": [
      "val Loss: 0.8109 Style Acc: 0.6483\n",
      "Validation loss decreased. Saving model...\n",
      "Epoch 6/50\n",
      "------------------------------------------------------------------------------------------------------------------------\n"
     ]
    },
    {
     "name": "stderr",
     "output_type": "stream",
     "text": [
      "100%|████████████████████████████████████████████████████████████████████████████████| 408/408 [00:07<00:00, 56.60it/s]\n"
     ]
    },
    {
     "name": "stdout",
     "output_type": "stream",
     "text": [
      "train Loss: 0.8063 Style Acc: 0.6554\n"
     ]
    },
    {
     "name": "stderr",
     "output_type": "stream",
     "text": [
      "100%|██████████████████████████████████████████████████████████████████████████████████| 51/51 [00:00<00:00, 77.20it/s]\n"
     ]
    },
    {
     "name": "stdout",
     "output_type": "stream",
     "text": [
      "val Loss: 0.8097 Style Acc: 0.6512\n",
      "Validation loss decreased. Saving model...\n",
      "Epoch 7/50\n",
      "------------------------------------------------------------------------------------------------------------------------\n"
     ]
    },
    {
     "name": "stderr",
     "output_type": "stream",
     "text": [
      "100%|████████████████████████████████████████████████████████████████████████████████| 408/408 [00:07<00:00, 57.99it/s]\n"
     ]
    },
    {
     "name": "stdout",
     "output_type": "stream",
     "text": [
      "train Loss: 0.8042 Style Acc: 0.6569\n"
     ]
    },
    {
     "name": "stderr",
     "output_type": "stream",
     "text": [
      "100%|██████████████████████████████████████████████████████████████████████████████████| 51/51 [00:00<00:00, 79.74it/s]\n"
     ]
    },
    {
     "name": "stdout",
     "output_type": "stream",
     "text": [
      "val Loss: 0.8095 Style Acc: 0.6501\n",
      "EarlyStopping counter: 1 out of 5\n",
      "Epoch 8/50\n",
      "------------------------------------------------------------------------------------------------------------------------\n"
     ]
    },
    {
     "name": "stderr",
     "output_type": "stream",
     "text": [
      "100%|████████████████████████████████████████████████████████████████████████████████| 408/408 [00:07<00:00, 56.09it/s]\n"
     ]
    },
    {
     "name": "stdout",
     "output_type": "stream",
     "text": [
      "train Loss: 0.8010 Style Acc: 0.6578\n"
     ]
    },
    {
     "name": "stderr",
     "output_type": "stream",
     "text": [
      "100%|██████████████████████████████████████████████████████████████████████████████████| 51/51 [00:00<00:00, 81.01it/s]\n"
     ]
    },
    {
     "name": "stdout",
     "output_type": "stream",
     "text": [
      "val Loss: 0.8087 Style Acc: 0.6536\n",
      "EarlyStopping counter: 2 out of 5\n",
      "Epoch 9/50\n",
      "------------------------------------------------------------------------------------------------------------------------\n"
     ]
    },
    {
     "name": "stderr",
     "output_type": "stream",
     "text": [
      "100%|████████████████████████████████████████████████████████████████████████████████| 408/408 [00:07<00:00, 57.83it/s]\n"
     ]
    },
    {
     "name": "stdout",
     "output_type": "stream",
     "text": [
      "train Loss: 0.7962 Style Acc: 0.6620\n"
     ]
    },
    {
     "name": "stderr",
     "output_type": "stream",
     "text": [
      "100%|██████████████████████████████████████████████████████████████████████████████████| 51/51 [00:00<00:00, 77.79it/s]\n"
     ]
    },
    {
     "name": "stdout",
     "output_type": "stream",
     "text": [
      "val Loss: 0.8059 Style Acc: 0.6515\n",
      "Validation loss decreased. Saving model...\n",
      "Epoch 10/50\n",
      "------------------------------------------------------------------------------------------------------------------------\n"
     ]
    },
    {
     "name": "stderr",
     "output_type": "stream",
     "text": [
      "100%|████████████████████████████████████████████████████████████████████████████████| 408/408 [00:07<00:00, 57.86it/s]\n"
     ]
    },
    {
     "name": "stdout",
     "output_type": "stream",
     "text": [
      "train Loss: 0.7946 Style Acc: 0.6614\n"
     ]
    },
    {
     "name": "stderr",
     "output_type": "stream",
     "text": [
      "100%|██████████████████████████████████████████████████████████████████████████████████| 51/51 [00:00<00:00, 78.88it/s]\n"
     ]
    },
    {
     "name": "stdout",
     "output_type": "stream",
     "text": [
      "val Loss: 0.8074 Style Acc: 0.6555\n",
      "EarlyStopping counter: 1 out of 5\n",
      "Epoch 11/50\n",
      "------------------------------------------------------------------------------------------------------------------------\n"
     ]
    },
    {
     "name": "stderr",
     "output_type": "stream",
     "text": [
      "100%|████████████████████████████████████████████████████████████████████████████████| 408/408 [00:07<00:00, 56.82it/s]\n"
     ]
    },
    {
     "name": "stdout",
     "output_type": "stream",
     "text": [
      "train Loss: 0.7923 Style Acc: 0.6640\n"
     ]
    },
    {
     "name": "stderr",
     "output_type": "stream",
     "text": [
      "100%|██████████████████████████████████████████████████████████████████████████████████| 51/51 [00:00<00:00, 77.09it/s]\n"
     ]
    },
    {
     "name": "stdout",
     "output_type": "stream",
     "text": [
      "val Loss: 0.8048 Style Acc: 0.6543\n",
      "Validation loss decreased. Saving model...\n",
      "Epoch 12/50\n",
      "------------------------------------------------------------------------------------------------------------------------\n"
     ]
    },
    {
     "name": "stderr",
     "output_type": "stream",
     "text": [
      "100%|████████████████████████████████████████████████████████████████████████████████| 408/408 [00:07<00:00, 56.61it/s]\n"
     ]
    },
    {
     "name": "stdout",
     "output_type": "stream",
     "text": [
      "train Loss: 0.7885 Style Acc: 0.6648\n"
     ]
    },
    {
     "name": "stderr",
     "output_type": "stream",
     "text": [
      "100%|██████████████████████████████████████████████████████████████████████████████████| 51/51 [00:00<00:00, 80.50it/s]\n"
     ]
    },
    {
     "name": "stdout",
     "output_type": "stream",
     "text": [
      "val Loss: 0.8078 Style Acc: 0.6527\n",
      "EarlyStopping counter: 1 out of 5\n",
      "Epoch 13/50\n",
      "------------------------------------------------------------------------------------------------------------------------\n"
     ]
    },
    {
     "name": "stderr",
     "output_type": "stream",
     "text": [
      "100%|████████████████████████████████████████████████████████████████████████████████| 408/408 [00:07<00:00, 56.44it/s]\n"
     ]
    },
    {
     "name": "stdout",
     "output_type": "stream",
     "text": [
      "train Loss: 0.7856 Style Acc: 0.6657\n"
     ]
    },
    {
     "name": "stderr",
     "output_type": "stream",
     "text": [
      "100%|██████████████████████████████████████████████████████████████████████████████████| 51/51 [00:00<00:00, 73.00it/s]\n"
     ]
    },
    {
     "name": "stdout",
     "output_type": "stream",
     "text": [
      "val Loss: 0.8061 Style Acc: 0.6518\n",
      "Epoch 00013: reducing learning rate of group 0 to 5.0000e-05.\n",
      "EarlyStopping counter: 2 out of 5\n",
      "Epoch 14/50\n",
      "------------------------------------------------------------------------------------------------------------------------\n"
     ]
    },
    {
     "name": "stderr",
     "output_type": "stream",
     "text": [
      "100%|████████████████████████████████████████████████████████████████████████████████| 408/408 [00:07<00:00, 55.26it/s]\n"
     ]
    },
    {
     "name": "stdout",
     "output_type": "stream",
     "text": [
      "train Loss: 0.7806 Style Acc: 0.6673\n"
     ]
    },
    {
     "name": "stderr",
     "output_type": "stream",
     "text": [
      "100%|██████████████████████████████████████████████████████████████████████████████████| 51/51 [00:00<00:00, 72.48it/s]\n"
     ]
    },
    {
     "name": "stdout",
     "output_type": "stream",
     "text": [
      "val Loss: 0.8042 Style Acc: 0.6543\n",
      "EarlyStopping counter: 3 out of 5\n",
      "Epoch 15/50\n",
      "------------------------------------------------------------------------------------------------------------------------\n"
     ]
    },
    {
     "name": "stderr",
     "output_type": "stream",
     "text": [
      "100%|████████████████████████████████████████████████████████████████████████████████| 408/408 [00:07<00:00, 56.02it/s]\n"
     ]
    },
    {
     "name": "stdout",
     "output_type": "stream",
     "text": [
      "train Loss: 0.7775 Style Acc: 0.6701\n"
     ]
    },
    {
     "name": "stderr",
     "output_type": "stream",
     "text": [
      "100%|██████████████████████████████████████████████████████████████████████████████████| 51/51 [00:00<00:00, 75.04it/s]\n"
     ]
    },
    {
     "name": "stdout",
     "output_type": "stream",
     "text": [
      "val Loss: 0.8043 Style Acc: 0.6575\n",
      "EarlyStopping counter: 4 out of 5\n",
      "Epoch 16/50\n",
      "------------------------------------------------------------------------------------------------------------------------\n"
     ]
    },
    {
     "name": "stderr",
     "output_type": "stream",
     "text": [
      "100%|████████████████████████████████████████████████████████████████████████████████| 408/408 [00:07<00:00, 56.96it/s]\n"
     ]
    },
    {
     "name": "stdout",
     "output_type": "stream",
     "text": [
      "train Loss: 0.7760 Style Acc: 0.6706\n"
     ]
    },
    {
     "name": "stderr",
     "output_type": "stream",
     "text": [
      "100%|██████████████████████████████████████████████████████████████████████████████████| 51/51 [00:00<00:00, 80.24it/s]\n"
     ]
    },
    {
     "name": "stdout",
     "output_type": "stream",
     "text": [
      "val Loss: 0.8035 Style Acc: 0.6559\n",
      "Validation loss decreased. Saving model...\n",
      "Epoch 17/50\n",
      "------------------------------------------------------------------------------------------------------------------------\n"
     ]
    },
    {
     "name": "stderr",
     "output_type": "stream",
     "text": [
      "100%|████████████████████████████████████████████████████████████████████████████████| 408/408 [00:07<00:00, 56.05it/s]\n"
     ]
    },
    {
     "name": "stdout",
     "output_type": "stream",
     "text": [
      "train Loss: 0.7752 Style Acc: 0.6706\n"
     ]
    },
    {
     "name": "stderr",
     "output_type": "stream",
     "text": [
      "100%|██████████████████████████████████████████████████████████████████████████████████| 51/51 [00:00<00:00, 76.39it/s]\n"
     ]
    },
    {
     "name": "stdout",
     "output_type": "stream",
     "text": [
      "val Loss: 0.8045 Style Acc: 0.6556\n",
      "EarlyStopping counter: 1 out of 5\n",
      "Epoch 18/50\n",
      "------------------------------------------------------------------------------------------------------------------------\n"
     ]
    },
    {
     "name": "stderr",
     "output_type": "stream",
     "text": [
      "100%|████████████████████████████████████████████████████████████████████████████████| 408/408 [00:07<00:00, 56.03it/s]\n"
     ]
    },
    {
     "name": "stdout",
     "output_type": "stream",
     "text": [
      "train Loss: 0.7716 Style Acc: 0.6725\n"
     ]
    },
    {
     "name": "stderr",
     "output_type": "stream",
     "text": [
      "100%|██████████████████████████████████████████████████████████████████████████████████| 51/51 [00:00<00:00, 76.62it/s]\n"
     ]
    },
    {
     "name": "stdout",
     "output_type": "stream",
     "text": [
      "val Loss: 0.8052 Style Acc: 0.6521\n",
      "Epoch 00018: reducing learning rate of group 0 to 2.5000e-05.\n",
      "EarlyStopping counter: 2 out of 5\n",
      "Epoch 19/50\n",
      "------------------------------------------------------------------------------------------------------------------------\n"
     ]
    },
    {
     "name": "stderr",
     "output_type": "stream",
     "text": [
      "100%|████████████████████████████████████████████████████████████████████████████████| 408/408 [00:07<00:00, 55.76it/s]\n"
     ]
    },
    {
     "name": "stdout",
     "output_type": "stream",
     "text": [
      "train Loss: 0.7681 Style Acc: 0.6739\n"
     ]
    },
    {
     "name": "stderr",
     "output_type": "stream",
     "text": [
      "100%|██████████████████████████████████████████████████████████████████████████████████| 51/51 [00:00<00:00, 79.00it/s]\n"
     ]
    },
    {
     "name": "stdout",
     "output_type": "stream",
     "text": [
      "val Loss: 0.8043 Style Acc: 0.6570\n",
      "EarlyStopping counter: 3 out of 5\n",
      "Epoch 20/50\n",
      "------------------------------------------------------------------------------------------------------------------------\n"
     ]
    },
    {
     "name": "stderr",
     "output_type": "stream",
     "text": [
      "100%|████████████████████████████████████████████████████████████████████████████████| 408/408 [00:07<00:00, 57.51it/s]\n"
     ]
    },
    {
     "name": "stdout",
     "output_type": "stream",
     "text": [
      "train Loss: 0.7685 Style Acc: 0.6732\n"
     ]
    },
    {
     "name": "stderr",
     "output_type": "stream",
     "text": [
      "100%|██████████████████████████████████████████████████████████████████████████████████| 51/51 [00:00<00:00, 76.39it/s]\n"
     ]
    },
    {
     "name": "stdout",
     "output_type": "stream",
     "text": [
      "val Loss: 0.8044 Style Acc: 0.6579\n",
      "Epoch 00020: reducing learning rate of group 0 to 1.2500e-05.\n",
      "EarlyStopping counter: 4 out of 5\n",
      "Epoch 21/50\n",
      "------------------------------------------------------------------------------------------------------------------------\n"
     ]
    },
    {
     "name": "stderr",
     "output_type": "stream",
     "text": [
      "100%|████████████████████████████████████████████████████████████████████████████████| 408/408 [00:07<00:00, 55.94it/s]\n"
     ]
    },
    {
     "name": "stdout",
     "output_type": "stream",
     "text": [
      "train Loss: 0.7673 Style Acc: 0.6752\n"
     ]
    },
    {
     "name": "stderr",
     "output_type": "stream",
     "text": [
      "100%|██████████████████████████████████████████████████████████████████████████████████| 51/51 [00:00<00:00, 78.03it/s]"
     ]
    },
    {
     "name": "stdout",
     "output_type": "stream",
     "text": [
      "val Loss: 0.8049 Style Acc: 0.6570\n",
      "EarlyStopping counter: 5 out of 5\n",
      "Best epoch: 0016\n",
      "Best loss: 0.8035\n"
     ]
    },
    {
     "name": "stderr",
     "output_type": "stream",
     "text": [
      "\n"
     ]
    }
   ],
   "source": [
    "from model import ModelClassification\n",
    "task = 'emotion'\n",
    "print(f\"{'*'*50}{task.upper()}{'*'*50}\")\n",
    "train_dataset = SingleTaskTrainingDataSet(train, data_labels, task)\n",
    "train_loader = DataLoader(train_dataset, batch_size=batch_size, shuffle=True, drop_last=False)\n",
    "\n",
    "val_dataset = SingleTaskTestDataSet(val, data_labels, train, task)\n",
    "val_loader = DataLoader(val_dataset, batch_size=batch_size, shuffle=True, drop_last=False)\n",
    "\n",
    "\n",
    "model = ModelClassification(data = train, hidden_channels = 128, out_channels = train[task].x.shape[0],\n",
    "                           obj = task, head_num_layers = 5, gnn_activation = torch.nn.Tanh(),\n",
    "                           head_activation = torch.nn.LeakyReLU, drop_rate = 0.25,\n",
    "                           shared=True, gnn_mean =False, bnorm=False).to(device)\n",
    "\n",
    "with torch.no_grad():\n",
    "    model.encoder(train.x_dict, train.edge_index_dict)\n",
    "\n",
    "optimizer = optim.Adam(model.parameters(), lr=1e-4)\n",
    "early_stop = EarlyStopping(patience = 5, min_delta = 1e-3, checkpoint_path = f'best_model_{task}_single_task_ternary.pt')\n",
    "criterion = torch.nn.CrossEntropyLoss()\n",
    "scheduler = lr_scheduler.ReduceLROnPlateau(optimizer, 'min', min_lr = 1e-7, verbose = True, factor = .5, patience = 1,\n",
    "                                           threshold = 1e-4)\n",
    "fine_tune_single_task(model, train, train_loader, val_loader, criterion, optimizer, early_stop, scheduler,\n",
    "                     num_epochs)"
   ]
  },
  {
   "cell_type": "code",
   "execution_count": 20,
   "id": "221d56e7",
   "metadata": {},
   "outputs": [
    {
     "name": "stderr",
     "output_type": "stream",
     "text": [
      "100%|██████████████████████████████████████████████████████████████████████████████████| 51/51 [00:01<00:00, 27.53it/s]\n"
     ]
    },
    {
     "data": {
      "image/png": "[encoded data removed]",
      "text/plain": [
       "<Figure size 864x864 with 2 Axes>"
      ]
     },
     "metadata": {},
     "output_type": "display_data"
    }
   ],
   "source": [
    "batch_size = 128\n",
    "device = torch.device('cuda:0')\n",
    "results_df = pd.DataFrame(columns = ['Top1', 'Top2', 'Macro-F1'], index = ('emotion', ))\n",
    "test_dataset = SingleTaskTestDataSet(test, data_labels, train, task)\n",
    "test_loader = DataLoader(test_dataset, batch_size=batch_size, shuffle=True, drop_last=False)\n",
    "model = torch.load(f'best_model_{task}_single_task_ternary.pt').to(device)\n",
    "with torch.no_grad():\n",
    "    pred, lab = test_single_task(model, test_loader, train)\n",
    "results_df['Top1'].loc[task] = compute_topk(lab, pred, k=1)\n",
    "results_df['Top2'].loc[task] = compute_topk(lab, pred, k=2)\n",
    "pred_lab = torch.max(torch.Tensor(pred), 1)[1]\n",
    "results_df['Macro-F1'].loc[task] = f1_score(lab, pred_lab, average = 'macro')\n",
    "labels = pd.read_csv(f'{root}/mapping/{task}_entidx2name.csv', names = ['idx','name'])['name'].tolist()\n",
    "plot_confusion_matrix(lab, pred_lab, labels = ['positive', 'negative', 'something else'])"
   ]
  },
  {
   "cell_type": "code",
   "execution_count": 22,
   "id": "d3554098",
   "metadata": {},
   "outputs": [],
   "source": [
    "results_df.to_csv('results_single_task_ternary.csv')"
   ]
  },
  {
   "cell_type": "code",
   "execution_count": null,
   "id": "9920a852",
   "metadata": {},
   "outputs": [],
   "source": []
  }
 ],
 "metadata": {
  "kernelspec": {
   "display_name": "Python [conda env:tesi]",
   "language": "python",
   "name": "conda-env-tesi-py"
  },
  "language_info": {
   "codemirror_mode": {
    "name": "ipython",
    "version": 3
   },
   "file_extension": ".py",
   "mimetype": "text/x-python",
   "name": "python",
   "nbconvert_exporter": "python",
   "pygments_lexer": "ipython3",
   "version": "3.9.7"
  }
 },
 "nbformat": 4,
 "nbformat_minor": 5
}
