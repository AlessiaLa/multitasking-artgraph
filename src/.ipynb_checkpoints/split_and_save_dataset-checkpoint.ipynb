{
 "cells": [
  {
   "cell_type": "code",
   "execution_count": 1,
   "id": "1a112e7e",
   "metadata": {},
   "outputs": [],
   "source": [
    "from load_dataset.artgraph import ArtGraph\n",
    "from utils.MultiTaskLinkSplitter import MultiTaskLinkSplitter\n",
    "import torch\n",
    "from torch_geometric.seed import seed_everything\n",
    "import pickle"
   ]
  },
  {
   "cell_type": "code",
   "execution_count": 2,
   "id": "2dc31777",
   "metadata": {},
   "outputs": [],
   "source": [
    "root = 'artgraph2bestemotions'"
   ]
  },
  {
   "cell_type": "code",
   "execution_count": 3,
   "id": "6ab74af1",
   "metadata": {},
   "outputs": [
    {
     "name": "stderr",
     "output_type": "stream",
     "text": [
      "Processing...\n",
      "Done!\n"
     ]
    },
    {
     "data": {
      "text/plain": [
       "HeteroData(\n",
       "  \u001b[1martwork\u001b[0m={ x=[116475, 128] },\n",
       "  \u001b[1martist\u001b[0m={ x=[2501, 1] },\n",
       "  \u001b[1mgallery\u001b[0m={ x=[1099, 1] },\n",
       "  \u001b[1mcity\u001b[0m={ x=[596, 1] },\n",
       "  \u001b[1mcountry\u001b[0m={ x=[58, 1] },\n",
       "  \u001b[1mstyle\u001b[0m={ x=[32, 1] },\n",
       "  \u001b[1mperiod\u001b[0m={ x=[186, 1] },\n",
       "  \u001b[1mgenre\u001b[0m={ x=[18, 1] },\n",
       "  \u001b[1mserie\u001b[0m={ x=[823, 1] },\n",
       "  \u001b[1mtag\u001b[0m={ x=[5424, 1] },\n",
       "  \u001b[1mmedia\u001b[0m={ x=[167, 1] },\n",
       "  \u001b[1msubject\u001b[0m={ x=[6985, 1] },\n",
       "  \u001b[1mtraining_node\u001b[0m={ x=[268, 1] },\n",
       "  \u001b[1mfield\u001b[0m={ x=[54, 1] },\n",
       "  \u001b[1mmovement\u001b[0m={ x=[243, 1] },\n",
       "  \u001b[1mpeople\u001b[0m={ x=[109, 1] },\n",
       "  \u001b[1memotion\u001b[0m={ x=[9, 1] },\n",
       "  \u001b[1m(artist, belongstofield, field)\u001b[0m={ edge_index=[2, 987] },\n",
       "  \u001b[1m(artist, belongstomovement, movement)\u001b[0m={ edge_index=[2, 1056] },\n",
       "  \u001b[1m(artist, haspatron, people)\u001b[0m={ edge_index=[2, 124] },\n",
       "  \u001b[1m(artist, hassubject, subject)\u001b[0m={ edge_index=[2, 21054] },\n",
       "  \u001b[1m(artist, relatedtoschool, training_node)\u001b[0m={ edge_index=[2, 498] },\n",
       "  \u001b[1m(artist, trainedby, artist)\u001b[0m={ edge_index=[2, 47] },\n",
       "  \u001b[1m(artwork, about, tag)\u001b[0m={ edge_index=[2, 342982] },\n",
       "  \u001b[1m(artwork, createdby, artist)\u001b[0m={ edge_index=[2, 116475] },\n",
       "  \u001b[1m(artwork, elicit, emotion)\u001b[0m={ edge_index=[2, 65236] },\n",
       "  \u001b[1m(artwork, hasgenre, genre)\u001b[0m={ edge_index=[2, 116475] },\n",
       "  \u001b[1m(artwork, hasperiod, period)\u001b[0m={ edge_index=[2, 5748] },\n",
       "  \u001b[1m(artwork, hasstyle, style)\u001b[0m={ edge_index=[2, 116475] },\n",
       "  \u001b[1m(artwork, locatedin, city)\u001b[0m={ edge_index=[2, 19532] },\n",
       "  \u001b[1m(artwork, locatedin, country)\u001b[0m={ edge_index=[2, 19488] },\n",
       "  \u001b[1m(artwork, locatedin, gallery)\u001b[0m={ edge_index=[2, 19504] },\n",
       "  \u001b[1m(artwork, madeof, media)\u001b[0m={ edge_index=[2, 83824] },\n",
       "  \u001b[1m(artwork, partof, serie)\u001b[0m={ edge_index=[2, 8322] },\n",
       "  \u001b[1m(city, incountry, country)\u001b[0m={ edge_index=[2, 608] },\n",
       "  \u001b[1m(gallery, incity, city)\u001b[0m={ edge_index=[2, 1109] },\n",
       "  \u001b[1m(gallery, incountry, country)\u001b[0m={ edge_index=[2, 1105] }\n",
       ")"
      ]
     },
     "execution_count": 3,
     "metadata": {},
     "output_type": "execute_result"
    }
   ],
   "source": [
    "data = ArtGraph(root = root, preprocess = 'constant')[0]\n",
    "data"
   ]
  },
  {
   "cell_type": "code",
   "execution_count": 4,
   "id": "25f61a55",
   "metadata": {
    "scrolled": true
   },
   "outputs": [
    {
     "data": {
      "text/plain": [
       "HeteroData(\n",
       "  \u001b[1martwork\u001b[0m={ x=[116475, 128] },\n",
       "  \u001b[1martist\u001b[0m={ x=[2501, 1] },\n",
       "  \u001b[1mgallery\u001b[0m={ x=[1099, 1] },\n",
       "  \u001b[1mcity\u001b[0m={ x=[596, 1] },\n",
       "  \u001b[1mcountry\u001b[0m={ x=[58, 1] },\n",
       "  \u001b[1mstyle\u001b[0m={ x=[32, 1] },\n",
       "  \u001b[1mperiod\u001b[0m={ x=[186, 1] },\n",
       "  \u001b[1mgenre\u001b[0m={ x=[18, 1] },\n",
       "  \u001b[1mserie\u001b[0m={ x=[823, 1] },\n",
       "  \u001b[1mtag\u001b[0m={ x=[5424, 1] },\n",
       "  \u001b[1mmedia\u001b[0m={ x=[167, 1] },\n",
       "  \u001b[1msubject\u001b[0m={ x=[6985, 1] },\n",
       "  \u001b[1mtraining_node\u001b[0m={ x=[268, 1] },\n",
       "  \u001b[1mfield\u001b[0m={ x=[54, 1] },\n",
       "  \u001b[1mmovement\u001b[0m={ x=[243, 1] },\n",
       "  \u001b[1mpeople\u001b[0m={ x=[109, 1] },\n",
       "  \u001b[1memotion\u001b[0m={ x=[9, 1] },\n",
       "  \u001b[1m(artist, belongstofield, field)\u001b[0m={ edge_index=[2, 987] },\n",
       "  \u001b[1m(artist, belongstomovement, movement)\u001b[0m={ edge_index=[2, 1056] },\n",
       "  \u001b[1m(artist, haspatron, people)\u001b[0m={ edge_index=[2, 124] },\n",
       "  \u001b[1m(artist, hassubject, subject)\u001b[0m={ edge_index=[2, 21054] },\n",
       "  \u001b[1m(artist, relatedtoschool, training_node)\u001b[0m={ edge_index=[2, 498] },\n",
       "  \u001b[1m(artist, trainedby, artist)\u001b[0m={ edge_index=[2, 47] },\n",
       "  \u001b[1m(artwork, about, tag)\u001b[0m={ edge_index=[2, 181644] },\n",
       "  \u001b[1m(artwork, createdby, artist)\u001b[0m={ edge_index=[2, 52188] },\n",
       "  \u001b[1m(artwork, elicit, emotion)\u001b[0m={ edge_index=[2, 52188] },\n",
       "  \u001b[1m(artwork, hasgenre, genre)\u001b[0m={ edge_index=[2, 52188] },\n",
       "  \u001b[1m(artwork, hasperiod, period)\u001b[0m={ edge_index=[2, 2870] },\n",
       "  \u001b[1m(artwork, hasstyle, style)\u001b[0m={ edge_index=[2, 52188] },\n",
       "  \u001b[1m(artwork, locatedin, city)\u001b[0m={ edge_index=[2, 11753] },\n",
       "  \u001b[1m(artwork, locatedin, country)\u001b[0m={ edge_index=[2, 11726] },\n",
       "  \u001b[1m(artwork, locatedin, gallery)\u001b[0m={ edge_index=[2, 11736] },\n",
       "  \u001b[1m(artwork, madeof, media)\u001b[0m={ edge_index=[2, 47910] },\n",
       "  \u001b[1m(artwork, partof, serie)\u001b[0m={ edge_index=[2, 3362] },\n",
       "  \u001b[1m(city, incountry, country)\u001b[0m={ edge_index=[2, 608] },\n",
       "  \u001b[1m(gallery, incity, city)\u001b[0m={ edge_index=[2, 1109] },\n",
       "  \u001b[1m(gallery, incountry, country)\u001b[0m={ edge_index=[2, 1105] }\n",
       ")"
      ]
     },
     "execution_count": 4,
     "metadata": {},
     "output_type": "execute_result"
    }
   ],
   "source": [
    "mls = MultiTaskLinkSplitter(seed=1)\n",
    "train_data, val, test = mls.transform(data)\n",
    "train_data"
   ]
  },
  {
   "cell_type": "code",
   "execution_count": 5,
   "id": "7b9ce9d2",
   "metadata": {},
   "outputs": [
    {
     "data": {
      "text/plain": [
       "array([40118, 74027,  7776, ..., 57596, 68515,  3083], dtype=int64)"
      ]
     },
     "execution_count": 5,
     "metadata": {},
     "output_type": "execute_result"
    }
   ],
   "source": [
    "val"
   ]
  },
  {
   "cell_type": "code",
   "execution_count": 6,
   "id": "8a9400ff",
   "metadata": {},
   "outputs": [
    {
     "data": {
      "text/plain": [
       "array([58798, 60364,  6774, ..., 15295, 41140, 20064], dtype=int64)"
      ]
     },
     "execution_count": 6,
     "metadata": {},
     "output_type": "execute_result"
    }
   ],
   "source": [
    "test"
   ]
  },
  {
   "cell_type": "code",
   "execution_count": 7,
   "id": "74d0c51e",
   "metadata": {},
   "outputs": [],
   "source": [
    "torch.save(train_data, 'train_data.pt')\n",
    "torch.save(torch.from_numpy(val), 'val_set.pt')\n",
    "torch.save(torch.from_numpy(test), 'test_set.pt')"
   ]
  },
  {
   "cell_type": "code",
   "execution_count": null,
   "id": "8a3ad78f",
   "metadata": {},
   "outputs": [],
   "source": []
  }
 ],
 "metadata": {
  "kernelspec": {
   "display_name": "Python 3 (ipykernel)",
   "language": "python",
   "name": "python3"
  },
  "language_info": {
   "codemirror_mode": {
    "name": "ipython",
    "version": 3
   },
   "file_extension": ".py",
   "mimetype": "text/x-python",
   "name": "python",
   "nbconvert_exporter": "python",
   "pygments_lexer": "ipython3",
   "version": "3.9.7"
  }
 },
 "nbformat": 4,
 "nbformat_minor": 5
}
