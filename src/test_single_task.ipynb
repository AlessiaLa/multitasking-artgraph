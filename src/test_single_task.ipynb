{
 "cells": [
  {
   "cell_type": "code",
   "execution_count": null,
   "id": "8f25a722",
   "metadata": {},
   "outputs": [],
   "source": [
    "from load_dataset.artgraph import ArtGraph\n",
    "from utils.MultiTaskLinkSplitter import MultiTaskLinkSplitter\n",
    "from utils.dataset import TrainingDataSet, TestDataSet, SingleTaskTestDataSet, SingleTaskTrainingDataSet\n",
    "from utils.EarlyStopping import EarlyStopping\n",
    "from multi_task_model import MultiTaskClassificationModel, NewMultiTaskClassificationModel\n",
    "from torch import nn\n",
    "from utils.training_utils import fine_tune, test as test_func, compute_topk, plot_confusion_matrix, fine_tune_single_task, test_single_task\n",
    "from torch.utils.data import DataLoader\n",
    "from torch import optim\n",
    "import torch\n",
    "import pandas as pd\n",
    "from sklearn.metrics import f1_score\n",
    "import matplotlib.pyplot as plt\n",
    "from torch.optim import lr_scheduler\n",
    "%matplotlib inline"
   ]
  },
  {
   "cell_type": "code",
   "execution_count": null,
   "id": "5a580a9e",
   "metadata": {},
   "outputs": [],
   "source": [
    "from torch_geometric.seed import seed_everything\n",
    "seed_everything(1)"
   ]
  },
  {
   "cell_type": "code",
   "execution_count": null,
   "id": "ea5727e8",
   "metadata": {},
   "outputs": [],
   "source": [
    "root = 'artgraph2bestemotions'\n",
    "data_path = 'data_full_labels.csv'"
   ]
  },
  {
   "cell_type": "code",
   "execution_count": null,
   "id": "feadc56d",
   "metadata": {},
   "outputs": [],
   "source": [
    "data = ArtGraph(root = root, preprocess='constant', features = 'vit', fine_tuning = True)[0]\n",
    "data"
   ]
  },
  {
   "cell_type": "code",
   "execution_count": null,
   "id": "9c3cb123",
   "metadata": {},
   "outputs": [],
   "source": [
    "mls = MultiTaskLinkSplitter(seed = 1)\n",
    "train, val, test = mls.transform(data)\n",
    "train"
   ]
  },
  {
   "cell_type": "code",
   "execution_count": null,
   "id": "0343ffc0",
   "metadata": {},
   "outputs": [],
   "source": [
    "#loading data with labels\n",
    "data_labels = pd.read_csv(data_path)\n",
    "data_labels.index = data_labels.artwork\n",
    "data_labels"
   ]
  },
  {
   "cell_type": "code",
   "execution_count": null,
   "id": "e600f13c",
   "metadata": {},
   "outputs": [],
   "source": [
    "from torch_geometric.transforms import ToUndirected\n",
    "batch_size = 128\n",
    "num_epochs = 50\n",
    "device = torch.device('cuda:0')\n",
    "train = ToUndirected()(train).to(device)"
   ]
  },
  {
   "cell_type": "code",
   "execution_count": null,
   "id": "dd081eb0",
   "metadata": {},
   "outputs": [],
   "source": [
    "from model import ModelClassification\n",
    "for task in ('style', 'genre', 'emotion'):\n",
    "    print(f\"{'*'*50}{task.upper()}{'*'*50}\")\n",
    "    train_dataset = SingleTaskTrainingDataSet(train, data_labels, task)\n",
    "    train_loader = DataLoader(train_dataset, batch_size=batch_size, shuffle=True, drop_last=False)\n",
    "    \n",
    "    val_dataset = SingleTaskTestDataSet(val, data_labels, train, task)\n",
    "    val_loader = DataLoader(val_dataset, batch_size=batch_size, shuffle=True, drop_last=False)\n",
    "    \n",
    "    \n",
    "    model = ModelClassification(data = train, hidden_channels = 128, out_channels = train[task].x.shape[0],\n",
    "                               obj = task, head_num_layers = 5, gnn_activation = torch.nn.Tanh(),\n",
    "                               head_activation = torch.nn.LeakyReLU, drop_rate = 0.25,\n",
    "                               shared=True, gnn_mean =False, bnorm=False).to(device)\n",
    "    \n",
    "    with torch.no_grad():\n",
    "        model.encoder(train.x_dict, train.edge_index_dict)\n",
    "    \n",
    "    optimizer = optim.Adam(model.parameters(), lr=1e-4)\n",
    "    early_stop = EarlyStopping(patience = 5, min_delta = 1e-3, checkpoint_path = f'best_model_{task}_single_task.pt')\n",
    "    criterion = torch.nn.CrossEntropyLoss()\n",
    "    scheduler = lr_scheduler.ReduceLROnPlateau(optimizer, 'min', min_lr = 1e-7, verbose = True, factor = .5, patience = 1,\n",
    "                                               threshold = 1e-4)\n",
    "    fine_tune_single_task(model, train, train_loader, val_loader, criterion, optimizer, early_stop, scheduler,\n",
    "                         num_epochs)"
   ]
  },
  {
   "cell_type": "code",
   "execution_count": null,
   "id": "096fdbcc",
   "metadata": {},
   "outputs": [],
   "source": [
    "batch_size = 128\n",
    "device = torch.device('cuda:0')\n",
    "map_hop={'style':5,\n",
    "        'genre':3,\n",
    "        'emotion':2}\n",
    "results_df = pd.DataFrame(columns = ['Top1', 'Top2', 'Macro-F1'], index = ('style', 'genre', 'emotion'))\n",
    "for task in ('style', 'genre', 'emotion'):\n",
    "    test_dataset = SingleTaskTestDataSet(test, data_labels, train, task)\n",
    "    test_loader = DataLoader(test_dataset, batch_size=batch_size, shuffle=True, drop_last=False)\n",
    "    model = torch.load(f'best_model_{task}_single_task.pt').to(device)\n",
    "    with torch.no_grad():\n",
    "        pred, lab = test_single_task(model, test_loader, train)\n",
    "    results_df['Top1'].loc[task] = compute_topk(lab, pred, k=1)\n",
    "    results_df['Top2'].loc[task] = compute_topk(lab, pred, k=2)\n",
    "    pred_lab = torch.max(torch.Tensor(pred), 1)[1]\n",
    "    results_df['Macro-F1'].loc[task] = f1_score(lab, pred_lab, average = 'macro')\n",
    "    labels = pd.read_csv(f'{root}/mapping/{task}_entidx2name.csv', names = ['idx','name'])['name'].tolist()\n",
    "    plot_confusion_matrix(lab, pred_lab, hop = map_hop[task], labels = labels)"
   ]
  },
  {
   "cell_type": "code",
   "execution_count": null,
   "id": "fa1ff6f3",
   "metadata": {},
   "outputs": [],
   "source": [
    "results_df"
   ]
  },
  {
   "cell_type": "code",
   "execution_count": null,
   "id": "de535495",
   "metadata": {},
   "outputs": [],
   "source": []
  }
 ],
 "metadata": {
  "kernelspec": {
   "display_name": "Python [conda env:tesi]",
   "language": "python",
   "name": "conda-env-tesi-py"
  },
  "language_info": {
   "codemirror_mode": {
    "name": "ipython",
    "version": 3
   },
   "file_extension": ".py",
   "mimetype": "text/x-python",
   "name": "python",
   "nbconvert_exporter": "python",
   "pygments_lexer": "ipython3",
   "version": "3.9.7"
  }
 },
 "nbformat": 4,
 "nbformat_minor": 5
}
