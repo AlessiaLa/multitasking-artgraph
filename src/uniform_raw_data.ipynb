{
 "cells": [
  {
   "cell_type": "code",
   "execution_count": 1,
   "id": "b95efe8d",
   "metadata": {},
   "outputs": [],
   "source": [
    "import pandas as pd\n",
    "import os"
   ]
  },
  {
   "cell_type": "code",
   "execution_count": 2,
   "id": "42012908",
   "metadata": {},
   "outputs": [],
   "source": [
    "root = 'artgraph2multi_task/raw/relations'"
   ]
  },
  {
   "cell_type": "code",
   "execution_count": 3,
   "id": "f038c35f",
   "metadata": {},
   "outputs": [
    {
     "data": {
      "text/plain": [
       "{'field': 'belongstofield',\n",
       " 'movement': 'belongstomovement',\n",
       " 'genre': 'hasgenre',\n",
       " 'period': 'hasperiod',\n",
       " 'style': 'hasstyle',\n",
       " 'subject': 'hassubject',\n",
       " 'patrons': 'haspatron',\n",
       " 'teacher': 'trainedby',\n",
       " 'training': 'relatedschool',\n",
       " 'author': 'createdby',\n",
       " 'completedin': 'locatedin',\n",
       " 'media': 'madeof',\n",
       " 'serie': 'partof',\n",
       " 'country': 'incountry',\n",
       " 'city': 'incity'}"
      ]
     },
     "execution_count": 3,
     "metadata": {},
     "output_type": "execute_result"
    }
   ],
   "source": [
    "maps_dir = {}\n",
    "#belongsto\n",
    "maps_dir.update({ x: f'belongsto{x}' for x in ['field', 'movement']})\n",
    "#has\n",
    "maps_dir.update({x: f'has{x}' for x in ['genre', 'period', 'style', 'subject']})\n",
    "#complete change\n",
    "maps_dir.update({'patrons': 'haspatron',\n",
    "                'teacher': 'trainedby',\n",
    "                'training': 'relatedschool',\n",
    "                'author': 'createdby',\n",
    "                'completedin': 'locatedin',\n",
    "                'media': 'madeof',\n",
    "                'serie': 'partof',\n",
    "                'country': 'incountry',\n",
    "                'city': 'incity'})\n",
    "maps_dir"
   ]
  },
  {
   "cell_type": "code",
   "execution_count": 4,
   "id": "d923389f",
   "metadata": {},
   "outputs": [
    {
     "data": {
      "text/plain": [
       "'a__b'"
      ]
     },
     "execution_count": 4,
     "metadata": {},
     "output_type": "execute_result"
    }
   ],
   "source": [
    "'__'.join(['a','b'])"
   ]
  },
  {
   "cell_type": "code",
   "execution_count": 5,
   "id": "459b49ea",
   "metadata": {},
   "outputs": [
    {
     "name": "stdout",
     "output_type": "stream",
     "text": [
      "artist field field\n",
      "artist movement movement\n",
      "artist patrons people\n",
      "artist subject subject\n",
      "artist teacher artist\n",
      "artist training training\n",
      "artwork about tag\n",
      "artwork author artist\n",
      "artwork completedin city\n",
      "artwork completedin country\n",
      "artwork elicit emotion\n",
      "artwork genre genre\n",
      "artwork locatedin gallery\n",
      "artwork media media\n",
      "artwork period period\n",
      "artwork serie serie\n",
      "artwork style style\n",
      "city country country\n",
      "gallery city city\n",
      "gallery country country\n",
      "['artist___belongstofield___field', 'artist___belongstomovement___movement', 'artist___haspatron___people', 'artist___hassubject___subject', 'artist___relatedschool___training', 'artist___trainedby___artist', 'artwork___about___tag', 'artwork___createdby___artist', 'artwork___elicit___emotion', 'artwork___hasgenre___genre', 'artwork___hasperiod___period', 'artwork___hasstyle___style', 'artwork___locatedin___city', 'artwork___locatedin___country', 'artwork___locatedin___gallery', 'artwork___madeof___media', 'artwork___partof___serie', 'city___incountry___country', 'gallery___incity___city', 'gallery___incountry___country']\n"
     ]
    }
   ],
   "source": [
    "for rel in os.listdir(root):\n",
    "    s, r, o = rel.split('___')\n",
    "    print(s, r, o)\n",
    "    try:\n",
    "        os.rename(f'{root}/{rel}',f'{root}/{\"___\".join([s, maps_dir[r], o])}')\n",
    "    except:\n",
    "        pass\n",
    "print(list(os.listdir(root)))"
   ]
  },
  {
   "cell_type": "code",
   "execution_count": null,
   "id": "ef6e3897",
   "metadata": {},
   "outputs": [],
   "source": []
  }
 ],
 "metadata": {
  "kernelspec": {
   "display_name": "Python [conda env:tesi]",
   "language": "python",
   "name": "conda-env-tesi-py"
  },
  "language_info": {
   "codemirror_mode": {
    "name": "ipython",
    "version": 3
   },
   "file_extension": ".py",
   "mimetype": "text/x-python",
   "name": "python",
   "nbconvert_exporter": "python",
   "pygments_lexer": "ipython3",
   "version": "3.9.7"
  }
 },
 "nbformat": 4,
 "nbformat_minor": 5
}
