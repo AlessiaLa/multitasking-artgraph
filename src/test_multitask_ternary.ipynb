{
 "cells": [
  {
   "cell_type": "code",
   "execution_count": 1,
   "id": "dc41a097",
   "metadata": {
    "pycharm": {
     "is_executing": true
    }
   },
   "outputs": [],
   "source": [
    "from load_dataset.artgraph import ArtGraph\n",
    "from utils.MultiTaskLinkSplitter import MultiTaskLinkSplitter\n",
    "from utils.dataset import TrainingDataSet, TestDataSet\n",
    "from utils.EarlyStopping import EarlyStopping\n",
    "from multi_task_model import MultiTaskClassificationModel, NewMultiTaskClassificationModel\n",
    "from torch import nn\n",
    "from utils.training_utils import fine_tune, test as test_func, compute_topk, plot_confusion_matrix\n",
    "from torch.utils.data import DataLoader\n",
    "from torch import optim\n",
    "import torch\n",
    "import pandas as pd\n",
    "from sklearn.metrics import f1_score\n",
    "import matplotlib.pyplot as plt\n",
    "from torch.optim import lr_scheduler\n",
    "%matplotlib inline"
   ]
  },
  {
   "cell_type": "code",
   "execution_count": 2,
   "id": "9b33e4a1",
   "metadata": {},
   "outputs": [],
   "source": [
    "from torch_geometric.seed import seed_everything\n",
    "seed_everything(1)"
   ]
  },
  {
   "cell_type": "code",
   "execution_count": 3,
   "id": "199374ab",
   "metadata": {},
   "outputs": [],
   "source": [
    "root = 'artgraph2bestemotions'\n",
    "data_path = 'data_full_labels.csv'\n",
    "root_dataset = 'common_dataset'"
   ]
  },
  {
   "cell_type": "code",
   "execution_count": 4,
   "id": "6096ec7b",
   "metadata": {},
   "outputs": [],
   "source": [
    "pos_neg_emotions = {8:2}\n",
    "pos_neg_emotions.update({x:0 for x in (1, 2, 3, 5)})\n",
    "pos_neg_emotions.update({x:1 for x in (0, 4, 6, 7)})"
   ]
  },
  {
   "cell_type": "code",
   "execution_count": 5,
   "id": "dfb89154",
   "metadata": {
    "scrolled": true
   },
   "outputs": [
    {
     "name": "stderr",
     "output_type": "stream",
     "text": [
      "Processing...\n",
      "Done!\n"
     ]
    },
    {
     "data": {
      "text/plain": [
       "HeteroData(\n",
       "  \u001b[1martwork\u001b[0m={ x=[116475, 128] },\n",
       "  \u001b[1martist\u001b[0m={ x=[2501, 1] },\n",
       "  \u001b[1mgallery\u001b[0m={ x=[1099, 1] },\n",
       "  \u001b[1mcity\u001b[0m={ x=[596, 1] },\n",
       "  \u001b[1mcountry\u001b[0m={ x=[58, 1] },\n",
       "  \u001b[1mstyle\u001b[0m={ x=[32, 1] },\n",
       "  \u001b[1mperiod\u001b[0m={ x=[186, 1] },\n",
       "  \u001b[1mgenre\u001b[0m={ x=[18, 1] },\n",
       "  \u001b[1mserie\u001b[0m={ x=[823, 1] },\n",
       "  \u001b[1mtag\u001b[0m={ x=[5424, 1] },\n",
       "  \u001b[1mmedia\u001b[0m={ x=[167, 1] },\n",
       "  \u001b[1msubject\u001b[0m={ x=[6985, 1] },\n",
       "  \u001b[1mtraining_node\u001b[0m={ x=[268, 1] },\n",
       "  \u001b[1mfield\u001b[0m={ x=[54, 1] },\n",
       "  \u001b[1mmovement\u001b[0m={ x=[243, 1] },\n",
       "  \u001b[1mpeople\u001b[0m={ x=[109, 1] },\n",
       "  \u001b[1memotion\u001b[0m={ x=[9, 1] },\n",
       "  \u001b[1m(artist, belongstofield, field)\u001b[0m={ edge_index=[2, 987] },\n",
       "  \u001b[1m(artist, belongstomovement, movement)\u001b[0m={ edge_index=[2, 1056] },\n",
       "  \u001b[1m(artist, haspatron, people)\u001b[0m={ edge_index=[2, 124] },\n",
       "  \u001b[1m(artist, hassubject, subject)\u001b[0m={ edge_index=[2, 21054] },\n",
       "  \u001b[1m(artist, relatedtoschool, training_node)\u001b[0m={ edge_index=[2, 498] },\n",
       "  \u001b[1m(artist, trainedby, artist)\u001b[0m={ edge_index=[2, 47] },\n",
       "  \u001b[1m(artwork, about, tag)\u001b[0m={ edge_index=[2, 342982] },\n",
       "  \u001b[1m(artwork, createdby, artist)\u001b[0m={ edge_index=[2, 116475] },\n",
       "  \u001b[1m(artwork, elicit, emotion)\u001b[0m={ edge_index=[2, 65236] },\n",
       "  \u001b[1m(artwork, hasgenre, genre)\u001b[0m={ edge_index=[2, 116475] },\n",
       "  \u001b[1m(artwork, hasperiod, period)\u001b[0m={ edge_index=[2, 5748] },\n",
       "  \u001b[1m(artwork, hasstyle, style)\u001b[0m={ edge_index=[2, 116475] },\n",
       "  \u001b[1m(artwork, locatedin, city)\u001b[0m={ edge_index=[2, 19532] },\n",
       "  \u001b[1m(artwork, locatedin, country)\u001b[0m={ edge_index=[2, 19488] },\n",
       "  \u001b[1m(artwork, locatedin, gallery)\u001b[0m={ edge_index=[2, 19504] },\n",
       "  \u001b[1m(artwork, madeof, media)\u001b[0m={ edge_index=[2, 83824] },\n",
       "  \u001b[1m(artwork, partof, serie)\u001b[0m={ edge_index=[2, 8322] },\n",
       "  \u001b[1m(city, incountry, country)\u001b[0m={ edge_index=[2, 608] },\n",
       "  \u001b[1m(gallery, incity, city)\u001b[0m={ edge_index=[2, 1109] },\n",
       "  \u001b[1m(gallery, incountry, country)\u001b[0m={ edge_index=[2, 1105] }\n",
       ")"
      ]
     },
     "execution_count": 5,
     "metadata": {},
     "output_type": "execute_result"
    }
   ],
   "source": [
    "data = ArtGraph(root = root, preprocess='constant', features = 'vit', fine_tuning = True)[0]\n",
    "data"
   ]
  },
  {
   "cell_type": "code",
   "execution_count": 6,
   "id": "1fccbb4d",
   "metadata": {},
   "outputs": [
    {
     "data": {
      "text/plain": [
       "HeteroData(\n",
       "  \u001b[1martwork\u001b[0m={ x=[116475, 128] },\n",
       "  \u001b[1martist\u001b[0m={ x=[2501, 1] },\n",
       "  \u001b[1mgallery\u001b[0m={ x=[1099, 1] },\n",
       "  \u001b[1mcity\u001b[0m={ x=[596, 1] },\n",
       "  \u001b[1mcountry\u001b[0m={ x=[58, 1] },\n",
       "  \u001b[1mstyle\u001b[0m={ x=[32, 1] },\n",
       "  \u001b[1mperiod\u001b[0m={ x=[186, 1] },\n",
       "  \u001b[1mgenre\u001b[0m={ x=[18, 1] },\n",
       "  \u001b[1mserie\u001b[0m={ x=[823, 1] },\n",
       "  \u001b[1mtag\u001b[0m={ x=[5424, 1] },\n",
       "  \u001b[1mmedia\u001b[0m={ x=[167, 1] },\n",
       "  \u001b[1msubject\u001b[0m={ x=[6985, 1] },\n",
       "  \u001b[1mtraining_node\u001b[0m={ x=[268, 1] },\n",
       "  \u001b[1mfield\u001b[0m={ x=[54, 1] },\n",
       "  \u001b[1mmovement\u001b[0m={ x=[243, 1] },\n",
       "  \u001b[1mpeople\u001b[0m={ x=[109, 1] },\n",
       "  \u001b[1memotion\u001b[0m={ x=[3, 1] },\n",
       "  \u001b[1m(artist, belongstofield, field)\u001b[0m={ edge_index=[2, 987] },\n",
       "  \u001b[1m(artist, belongstomovement, movement)\u001b[0m={ edge_index=[2, 1056] },\n",
       "  \u001b[1m(artist, haspatron, people)\u001b[0m={ edge_index=[2, 124] },\n",
       "  \u001b[1m(artist, hassubject, subject)\u001b[0m={ edge_index=[2, 21054] },\n",
       "  \u001b[1m(artist, relatedtoschool, training_node)\u001b[0m={ edge_index=[2, 498] },\n",
       "  \u001b[1m(artist, trainedby, artist)\u001b[0m={ edge_index=[2, 47] },\n",
       "  \u001b[1m(artwork, about, tag)\u001b[0m={ edge_index=[2, 342982] },\n",
       "  \u001b[1m(artwork, createdby, artist)\u001b[0m={ edge_index=[2, 116475] },\n",
       "  \u001b[1m(artwork, elicit, emotion)\u001b[0m={ edge_index=[2, 65236] },\n",
       "  \u001b[1m(artwork, hasgenre, genre)\u001b[0m={ edge_index=[2, 116475] },\n",
       "  \u001b[1m(artwork, hasperiod, period)\u001b[0m={ edge_index=[2, 5748] },\n",
       "  \u001b[1m(artwork, hasstyle, style)\u001b[0m={ edge_index=[2, 116475] },\n",
       "  \u001b[1m(artwork, locatedin, city)\u001b[0m={ edge_index=[2, 19532] },\n",
       "  \u001b[1m(artwork, locatedin, country)\u001b[0m={ edge_index=[2, 19488] },\n",
       "  \u001b[1m(artwork, locatedin, gallery)\u001b[0m={ edge_index=[2, 19504] },\n",
       "  \u001b[1m(artwork, madeof, media)\u001b[0m={ edge_index=[2, 83824] },\n",
       "  \u001b[1m(artwork, partof, serie)\u001b[0m={ edge_index=[2, 8322] },\n",
       "  \u001b[1m(city, incountry, country)\u001b[0m={ edge_index=[2, 608] },\n",
       "  \u001b[1m(gallery, incity, city)\u001b[0m={ edge_index=[2, 1109] },\n",
       "  \u001b[1m(gallery, incountry, country)\u001b[0m={ edge_index=[2, 1105] }\n",
       ")"
      ]
     },
     "execution_count": 6,
     "metadata": {},
     "output_type": "execute_result"
    }
   ],
   "source": [
    "emotion_value = data['emotion'].x[0].item()\n",
    "data['emotion'].x = torch.full(size = (3, 1), fill_value = emotion_value)\n",
    "\n",
    "emotion_entries = data['artwork', 'emotion'].edge_index[1].tolist()\n",
    "data['artwork', 'emotion'].edge_index[1] = torch.Tensor(list(map(lambda x: pos_neg_emotions[x], emotion_entries)))\n",
    "data"
   ]
  },
  {
   "cell_type": "markdown",
   "id": "ae41cc85",
   "metadata": {},
   "source": [
    "mls = MultiTaskLinkSplitter(seed = 1)\n",
    "train, val, test = mls.transform(data)\n",
    "train"
   ]
  },
  {
   "cell_type": "code",
   "execution_count": 7,
   "id": "e245e859",
   "metadata": {},
   "outputs": [],
   "source": [
    "train = torch.load(f'{root_dataset}/train_data.pt')\n",
    "val = torch.load(f'{root_dataset}/val_set.pt')\n",
    "test = torch.load(f'{root_dataset}/test_set.pt')"
   ]
  },
  {
   "cell_type": "code",
   "execution_count": 8,
   "id": "6d421323",
   "metadata": {},
   "outputs": [],
   "source": [
    "train['emotion'].x = torch.full(size = (3, 1), fill_value = emotion_value)\n",
    "\n",
    "emotion_entries = train['artwork', 'emotion'].edge_index[1].tolist()\n",
    "train['artwork', 'emotion'].edge_index[1] = torch.Tensor(list(map(lambda x: pos_neg_emotions[x], emotion_entries)))\n"
   ]
  },
  {
   "cell_type": "code",
   "execution_count": 9,
   "id": "94c87684",
   "metadata": {},
   "outputs": [
    {
     "data": {
      "text/html": [
       "<div>\n",
       "<style scoped>\n",
       "    .dataframe tbody tr th:only-of-type {\n",
       "        vertical-align: middle;\n",
       "    }\n",
       "\n",
       "    .dataframe tbody tr th {\n",
       "        vertical-align: top;\n",
       "    }\n",
       "\n",
       "    .dataframe thead th {\n",
       "        text-align: right;\n",
       "    }\n",
       "</style>\n",
       "<table border=\"1\" class=\"dataframe\">\n",
       "  <thead>\n",
       "    <tr style=\"text-align: right;\">\n",
       "      <th></th>\n",
       "      <th>artwork</th>\n",
       "      <th>style</th>\n",
       "      <th>genre</th>\n",
       "      <th>emotion</th>\n",
       "    </tr>\n",
       "    <tr>\n",
       "      <th>artwork</th>\n",
       "      <th></th>\n",
       "      <th></th>\n",
       "      <th></th>\n",
       "      <th></th>\n",
       "    </tr>\n",
       "  </thead>\n",
       "  <tbody>\n",
       "    <tr>\n",
       "      <th>81418</th>\n",
       "      <td>81418</td>\n",
       "      <td>1</td>\n",
       "      <td>4</td>\n",
       "      <td>1</td>\n",
       "    </tr>\n",
       "    <tr>\n",
       "      <th>28493</th>\n",
       "      <td>28493</td>\n",
       "      <td>3</td>\n",
       "      <td>9</td>\n",
       "      <td>0</td>\n",
       "    </tr>\n",
       "    <tr>\n",
       "      <th>28421</th>\n",
       "      <td>28421</td>\n",
       "      <td>3</td>\n",
       "      <td>3</td>\n",
       "      <td>2</td>\n",
       "    </tr>\n",
       "    <tr>\n",
       "      <th>28393</th>\n",
       "      <td>28393</td>\n",
       "      <td>3</td>\n",
       "      <td>9</td>\n",
       "      <td>2</td>\n",
       "    </tr>\n",
       "    <tr>\n",
       "      <th>28380</th>\n",
       "      <td>28380</td>\n",
       "      <td>3</td>\n",
       "      <td>9</td>\n",
       "      <td>1</td>\n",
       "    </tr>\n",
       "    <tr>\n",
       "      <th>...</th>\n",
       "      <td>...</td>\n",
       "      <td>...</td>\n",
       "      <td>...</td>\n",
       "      <td>...</td>\n",
       "    </tr>\n",
       "    <tr>\n",
       "      <th>71300</th>\n",
       "      <td>71300</td>\n",
       "      <td>10</td>\n",
       "      <td>6</td>\n",
       "      <td>2</td>\n",
       "    </tr>\n",
       "    <tr>\n",
       "      <th>68290</th>\n",
       "      <td>68290</td>\n",
       "      <td>23</td>\n",
       "      <td>6</td>\n",
       "      <td>2</td>\n",
       "    </tr>\n",
       "    <tr>\n",
       "      <th>68567</th>\n",
       "      <td>68567</td>\n",
       "      <td>23</td>\n",
       "      <td>6</td>\n",
       "      <td>2</td>\n",
       "    </tr>\n",
       "    <tr>\n",
       "      <th>69055</th>\n",
       "      <td>69055</td>\n",
       "      <td>10</td>\n",
       "      <td>6</td>\n",
       "      <td>2</td>\n",
       "    </tr>\n",
       "    <tr>\n",
       "      <th>65386</th>\n",
       "      <td>65386</td>\n",
       "      <td>23</td>\n",
       "      <td>6</td>\n",
       "      <td>2</td>\n",
       "    </tr>\n",
       "  </tbody>\n",
       "</table>\n",
       "<p>65236 rows × 4 columns</p>\n",
       "</div>"
      ],
      "text/plain": [
       "         artwork  style  genre  emotion\n",
       "artwork                                \n",
       "81418      81418      1      4        1\n",
       "28493      28493      3      9        0\n",
       "28421      28421      3      3        2\n",
       "28393      28393      3      9        2\n",
       "28380      28380      3      9        1\n",
       "...          ...    ...    ...      ...\n",
       "71300      71300     10      6        2\n",
       "68290      68290     23      6        2\n",
       "68567      68567     23      6        2\n",
       "69055      69055     10      6        2\n",
       "65386      65386     23      6        2\n",
       "\n",
       "[65236 rows x 4 columns]"
      ]
     },
     "execution_count": 9,
     "metadata": {},
     "output_type": "execute_result"
    }
   ],
   "source": [
    "#loading data with labels\n",
    "data_labels = pd.read_csv(data_path)\n",
    "data_labels.emotion = data_labels.emotion.map(pos_neg_emotions)\n",
    "data_labels.index = data_labels.artwork\n",
    "data_labels"
   ]
  },
  {
   "cell_type": "code",
   "execution_count": 10,
   "id": "04f72b15",
   "metadata": {},
   "outputs": [],
   "source": [
    "train_dataset = TrainingDataSet(graph = train, data_labels = data_labels)"
   ]
  },
  {
   "cell_type": "code",
   "execution_count": 11,
   "id": "75171ea5",
   "metadata": {},
   "outputs": [],
   "source": [
    "val_dataset = TestDataSet(graph = train, x_test = val, data_labels = data_labels)"
   ]
  },
  {
   "cell_type": "code",
   "execution_count": 12,
   "id": "bc2b13a3",
   "metadata": {},
   "outputs": [],
   "source": [
    "test_dataset = TestDataSet(graph = train, x_test = test, data_labels = data_labels)"
   ]
  },
  {
   "cell_type": "markdown",
   "id": "0e4c3486",
   "metadata": {},
   "source": [
    "Test per vedere se va bene il modello pre-trained"
   ]
  },
  {
   "cell_type": "code",
   "execution_count": 13,
   "id": "f4daff97",
   "metadata": {},
   "outputs": [
    {
     "data": {
      "text/plain": [
       "ModelClassification(\n",
       "  (encoder): MultiGNNEncoder(\n",
       "    (activation): Tanh()\n",
       "    (encoders): ModuleDict(\n",
       "      (0): HeteroConv(num_relations=1)\n",
       "    )\n",
       "  )\n",
       "  (decoder): Head(\n",
       "    (head): Sequential(\n",
       "      (0): Linear(in_features=2432, out_features=1216, bias=True)\n",
       "      (1): LeakyReLU(negative_slope=0.1, inplace=True)\n",
       "      (2): Dropout(p=0.25, inplace=False)\n",
       "      (3): Linear(in_features=1216, out_features=608, bias=True)\n",
       "      (4): LeakyReLU(negative_slope=0.1, inplace=True)\n",
       "      (5): Dropout(p=0.25, inplace=False)\n",
       "      (6): Linear(in_features=608, out_features=304, bias=True)\n",
       "      (7): LeakyReLU(negative_slope=0.1, inplace=True)\n",
       "      (8): Dropout(p=0.25, inplace=False)\n",
       "      (9): Linear(in_features=304, out_features=152, bias=True)\n",
       "      (10): LeakyReLU(negative_slope=0.1, inplace=True)\n",
       "      (11): Dropout(p=0.25, inplace=False)\n",
       "      (12): Linear(in_features=152, out_features=18, bias=True)\n",
       "    )\n",
       "  )\n",
       ")"
      ]
     },
     "execution_count": 13,
     "metadata": {},
     "output_type": "execute_result"
    }
   ],
   "source": [
    "device = torch.device('cuda:0')\n",
    "genre_model = torch.load('genre.pt').to(device)\n",
    "genre_model"
   ]
  },
  {
   "cell_type": "code",
   "execution_count": 14,
   "id": "8e1daad0",
   "metadata": {},
   "outputs": [
    {
     "name": "stderr",
     "output_type": "stream",
     "text": [
      "100%|██████████████████████████████████████████████████████████████████████████████████| 51/51 [00:04<00:00, 12.36it/s]"
     ]
    },
    {
     "name": "stdout",
     "output_type": "stream",
     "text": [
      "Acc: 0.8140996694564819\n"
     ]
    },
    {
     "name": "stderr",
     "output_type": "stream",
     "text": [
      "\n"
     ]
    }
   ],
   "source": [
    "from tqdm import tqdm\n",
    "device = torch.device('cuda:0')\n",
    "train = train.to(device)\n",
    "\n",
    "test_loader = DataLoader(test_dataset, batch_size = 128, shuffle = True, drop_last = False)\n",
    "with torch.no_grad():\n",
    "    running_corrects = 0 \n",
    "    for images, (style_labels, genre_labels, emotion_labels) in tqdm(test_loader):\n",
    "        images = images.to(device, non_blocking = True)\n",
    "        genre_labels = genre_labels.to(device, non_blocking = True)\n",
    "        genre_pred = genre_model(train.x_dict, train.edge_index_dict, images)\n",
    "        running_corrects += torch.sum(torch.max(genre_pred, 1)[1] == genre_labels)\n",
    "    print(f'Acc: {running_corrects/len(test_loader.dataset)}')"
   ]
  },
  {
   "cell_type": "markdown",
   "id": "814dc9f4",
   "metadata": {},
   "source": [
    "## INSTANTIATING MODEL"
   ]
  },
  {
   "cell_type": "code",
   "execution_count": 15,
   "id": "effab14b",
   "metadata": {
    "pycharm": {
     "is_executing": true
    }
   },
   "outputs": [],
   "source": [
    "device = torch.device('cuda:0')\n",
    "style_encoder = torch.load('best_model_style_single_task.pt').encoder\n",
    "genre_encoder = torch.load('best_model_genre_single_task.pt').encoder\n",
    "emotion_encoder = torch.load('best_model_emotion_single_task_ternary.pt').encoder\n",
    "model = NewMultiTaskClassificationModel(data = data, hidden_channels=None, head_num_layers=5,\n",
    "                                        encoders = (style_encoder, genre_encoder, emotion_encoder)).to(device)\n",
    "#model = MyModel(models = [style_encoder, genre_encoder, emotion_encoder]).to(device)"
   ]
  },
  {
   "cell_type": "code",
   "execution_count": 16,
   "id": "dd66b50b",
   "metadata": {},
   "outputs": [
    {
     "data": {
      "text/plain": [
       "NewMultiTaskClassificationModel(\n",
       "  (encoder_style): MultiGNNEncoder(\n",
       "    (activation): Tanh()\n",
       "    (encoders): ModuleDict(\n",
       "      (0): HeteroConv(num_relations=1)\n",
       "    )\n",
       "  )\n",
       "  (encoder_genre): MultiGNNEncoder(\n",
       "    (activation): Tanh()\n",
       "    (encoders): ModuleDict(\n",
       "      (0): HeteroConv(num_relations=1)\n",
       "    )\n",
       "  )\n",
       "  (encoder_emotion): MultiGNNEncoder(\n",
       "    (activation): Tanh()\n",
       "    (encoders): ModuleDict(\n",
       "      (0): HeteroConv(num_relations=1)\n",
       "    )\n",
       "  )\n",
       "  (mlp): Sequential(\n",
       "    (0): Linear(in_features=6912, out_features=3456, bias=True)\n",
       "    (1): ReLU(inplace=True)\n",
       "    (2): Dropout(p=0.2, inplace=False)\n",
       "    (3): Linear(in_features=3456, out_features=1728, bias=True)\n",
       "    (4): ReLU(inplace=True)\n",
       "    (5): Dropout(p=0.2, inplace=False)\n",
       "    (6): Linear(in_features=1728, out_features=864, bias=True)\n",
       "    (7): ReLU(inplace=True)\n",
       "    (8): Dropout(p=0.2, inplace=False)\n",
       "    (9): Linear(in_features=864, out_features=432, bias=True)\n",
       "    (10): ReLU(inplace=True)\n",
       "    (11): Dropout(p=0.2, inplace=False)\n",
       "  )\n",
       "  (style_head): Linear(in_features=432, out_features=32, bias=True)\n",
       "  (genre_head): Linear(in_features=432, out_features=18, bias=True)\n",
       "  (emotion_head): Linear(in_features=432, out_features=3, bias=True)\n",
       ")"
      ]
     },
     "execution_count": 16,
     "metadata": {},
     "output_type": "execute_result"
    }
   ],
   "source": [
    "model"
   ]
  },
  {
   "cell_type": "markdown",
   "id": "4b9037af",
   "metadata": {},
   "source": [
    "for p in model.encoder_style.parameters():\n",
    "    p.requires_grad = False\n",
    "for p in model.encoder_genre.parameters():\n",
    "    p.requires_grad = False\n",
    "for p in model.encoder_emotion.parameters():\n",
    "    p.requires_grad = False"
   ]
  },
  {
   "cell_type": "code",
   "execution_count": 17,
   "id": "87e9cee2",
   "metadata": {},
   "outputs": [],
   "source": [
    "from torch_geometric.transforms import ToUndirected\n",
    "train = ToUndirected()(train).to(device)\n",
    "with torch.no_grad():\n",
    "    model.encoder_style(train.x_dict, train.edge_index_dict)\n",
    "    model.encoder_genre(train.x_dict, train.edge_index_dict)\n",
    "    model.encoder_emotion(train.x_dict, train.edge_index_dict)"
   ]
  },
  {
   "cell_type": "code",
   "execution_count": 18,
   "id": "f3d77f96",
   "metadata": {
    "scrolled": true
   },
   "outputs": [
    {
     "name": "stdout",
     "output_type": "stream",
     "text": [
      "Epoch 1/50\n",
      "------------------------------------------------------------------------------------------------------------------------\n"
     ]
    },
    {
     "name": "stderr",
     "output_type": "stream",
     "text": [
      "100%|████████████████████████████████████████████████████████████████████████████████| 408/408 [00:19<00:00, 20.57it/s]\n"
     ]
    },
    {
     "name": "stdout",
     "output_type": "stream",
     "text": [
      "train Loss: 1.4973 Style Acc: 0.3225\n",
      "            Genre Acc: 0.5532\n",
      "            Emotion Acc: 0.6061\n"
     ]
    },
    {
     "name": "stderr",
     "output_type": "stream",
     "text": [
      "100%|██████████████████████████████████████████████████████████████████████████████████| 51/51 [00:00<00:00, 57.84it/s]\n"
     ]
    },
    {
     "name": "stdout",
     "output_type": "stream",
     "text": [
      "val Loss: 1.2183 Style Acc: 0.4349\n",
      "            Genre Acc: 0.6651\n",
      "            Emotion Acc: 0.6362\n",
      "Validation loss decreased. Saving model...\n",
      "Epoch 2/50\n",
      "------------------------------------------------------------------------------------------------------------------------\n"
     ]
    },
    {
     "name": "stderr",
     "output_type": "stream",
     "text": [
      "100%|████████████████████████████████████████████████████████████████████████████████| 408/408 [00:14<00:00, 28.16it/s]\n"
     ]
    },
    {
     "name": "stdout",
     "output_type": "stream",
     "text": [
      "train Loss: 1.1790 Style Acc: 0.4439\n",
      "            Genre Acc: 0.6685\n",
      "            Emotion Acc: 0.6308\n"
     ]
    },
    {
     "name": "stderr",
     "output_type": "stream",
     "text": [
      "100%|██████████████████████████████████████████████████████████████████████████████████| 51/51 [00:00<00:00, 58.84it/s]\n"
     ]
    },
    {
     "name": "stdout",
     "output_type": "stream",
     "text": [
      "val Loss: 1.1661 Style Acc: 0.4444\n",
      "            Genre Acc: 0.6835\n",
      "            Emotion Acc: 0.6382\n",
      "Validation loss decreased. Saving model...\n",
      "Epoch 3/50\n",
      "------------------------------------------------------------------------------------------------------------------------\n"
     ]
    },
    {
     "name": "stderr",
     "output_type": "stream",
     "text": [
      "100%|████████████████████████████████████████████████████████████████████████████████| 408/408 [00:14<00:00, 28.68it/s]\n"
     ]
    },
    {
     "name": "stdout",
     "output_type": "stream",
     "text": [
      "train Loss: 1.1142 Style Acc: 0.4861\n",
      "            Genre Acc: 0.6832\n",
      "            Emotion Acc: 0.6404\n"
     ]
    },
    {
     "name": "stderr",
     "output_type": "stream",
     "text": [
      "100%|██████████████████████████████████████████████████████████████████████████████████| 51/51 [00:00<00:00, 59.66it/s]\n"
     ]
    },
    {
     "name": "stdout",
     "output_type": "stream",
     "text": [
      "val Loss: 1.0906 Style Acc: 0.5032\n",
      "            Genre Acc: 0.6855\n",
      "            Emotion Acc: 0.6415\n",
      "Validation loss decreased. Saving model...\n",
      "Epoch 4/50\n",
      "------------------------------------------------------------------------------------------------------------------------\n"
     ]
    },
    {
     "name": "stderr",
     "output_type": "stream",
     "text": [
      "100%|████████████████████████████████████████████████████████████████████████████████| 408/408 [00:14<00:00, 28.63it/s]\n"
     ]
    },
    {
     "name": "stdout",
     "output_type": "stream",
     "text": [
      "train Loss: 1.0755 Style Acc: 0.5039\n",
      "            Genre Acc: 0.6933\n",
      "            Emotion Acc: 0.6416\n"
     ]
    },
    {
     "name": "stderr",
     "output_type": "stream",
     "text": [
      "100%|██████████████████████████████████████████████████████████████████████████████████| 51/51 [00:00<00:00, 56.49it/s]\n"
     ]
    },
    {
     "name": "stdout",
     "output_type": "stream",
     "text": [
      "val Loss: 1.0979 Style Acc: 0.4956\n",
      "            Genre Acc: 0.6935\n",
      "            Emotion Acc: 0.6409\n",
      "EarlyStopping counter: 1 out of 5\n",
      "Epoch 5/50\n",
      "------------------------------------------------------------------------------------------------------------------------\n"
     ]
    },
    {
     "name": "stderr",
     "output_type": "stream",
     "text": [
      "100%|████████████████████████████████████████████████████████████████████████████████| 408/408 [00:14<00:00, 28.39it/s]\n"
     ]
    },
    {
     "name": "stdout",
     "output_type": "stream",
     "text": [
      "train Loss: 1.0471 Style Acc: 0.5243\n",
      "            Genre Acc: 0.6988\n",
      "            Emotion Acc: 0.6449\n"
     ]
    },
    {
     "name": "stderr",
     "output_type": "stream",
     "text": [
      "100%|██████████████████████████████████████████████████████████████████████████████████| 51/51 [00:00<00:00, 57.64it/s]\n"
     ]
    },
    {
     "name": "stdout",
     "output_type": "stream",
     "text": [
      "val Loss: 1.0334 Style Acc: 0.5222\n",
      "            Genre Acc: 0.7083\n",
      "            Emotion Acc: 0.6464\n",
      "Validation loss decreased. Saving model...\n",
      "Epoch 6/50\n",
      "------------------------------------------------------------------------------------------------------------------------\n"
     ]
    },
    {
     "name": "stderr",
     "output_type": "stream",
     "text": [
      "100%|████████████████████████████████████████████████████████████████████████████████| 408/408 [00:14<00:00, 28.36it/s]\n"
     ]
    },
    {
     "name": "stdout",
     "output_type": "stream",
     "text": [
      "train Loss: 1.0251 Style Acc: 0.5363\n",
      "            Genre Acc: 0.7048\n",
      "            Emotion Acc: 0.6470\n"
     ]
    },
    {
     "name": "stderr",
     "output_type": "stream",
     "text": [
      "100%|██████████████████████████████████████████████████████████████████████████████████| 51/51 [00:00<00:00, 56.74it/s]\n"
     ]
    },
    {
     "name": "stdout",
     "output_type": "stream",
     "text": [
      "val Loss: 1.0610 Style Acc: 0.5185\n",
      "            Genre Acc: 0.6991\n",
      "            Emotion Acc: 0.6507\n",
      "EarlyStopping counter: 1 out of 5\n",
      "Epoch 7/50\n",
      "------------------------------------------------------------------------------------------------------------------------\n"
     ]
    },
    {
     "name": "stderr",
     "output_type": "stream",
     "text": [
      "100%|████████████████████████████████████████████████████████████████████████████████| 408/408 [00:14<00:00, 27.87it/s]\n"
     ]
    },
    {
     "name": "stdout",
     "output_type": "stream",
     "text": [
      "train Loss: 1.0077 Style Acc: 0.5463\n",
      "            Genre Acc: 0.7115\n",
      "            Emotion Acc: 0.6504\n"
     ]
    },
    {
     "name": "stderr",
     "output_type": "stream",
     "text": [
      "100%|██████████████████████████████████████████████████████████████████████████████████| 51/51 [00:00<00:00, 54.61it/s]\n"
     ]
    },
    {
     "name": "stdout",
     "output_type": "stream",
     "text": [
      "val Loss: 1.0367 Style Acc: 0.5322\n",
      "            Genre Acc: 0.7070\n",
      "            Emotion Acc: 0.6340\n",
      "Epoch 00007: reducing learning rate of group 0 to 5.0000e-05.\n",
      "EarlyStopping counter: 2 out of 5\n",
      "Epoch 8/50\n",
      "------------------------------------------------------------------------------------------------------------------------\n"
     ]
    },
    {
     "name": "stderr",
     "output_type": "stream",
     "text": [
      "100%|████████████████████████████████████████████████████████████████████████████████| 408/408 [00:14<00:00, 27.60it/s]\n"
     ]
    },
    {
     "name": "stdout",
     "output_type": "stream",
     "text": [
      "train Loss: 0.9693 Style Acc: 0.5686\n",
      "            Genre Acc: 0.7219\n",
      "            Emotion Acc: 0.6534\n"
     ]
    },
    {
     "name": "stderr",
     "output_type": "stream",
     "text": [
      "100%|██████████████████████████████████████████████████████████████████████████████████| 51/51 [00:00<00:00, 51.73it/s]\n"
     ]
    },
    {
     "name": "stdout",
     "output_type": "stream",
     "text": [
      "val Loss: 0.9810 Style Acc: 0.5637\n",
      "            Genre Acc: 0.7210\n",
      "            Emotion Acc: 0.6576\n",
      "Validation loss decreased. Saving model...\n",
      "Epoch 9/50\n",
      "------------------------------------------------------------------------------------------------------------------------\n"
     ]
    },
    {
     "name": "stderr",
     "output_type": "stream",
     "text": [
      "100%|████████████████████████████████████████████████████████████████████████████████| 408/408 [00:14<00:00, 27.88it/s]\n"
     ]
    },
    {
     "name": "stdout",
     "output_type": "stream",
     "text": [
      "train Loss: 0.9555 Style Acc: 0.5741\n",
      "            Genre Acc: 0.7266\n",
      "            Emotion Acc: 0.6550\n"
     ]
    },
    {
     "name": "stderr",
     "output_type": "stream",
     "text": [
      "100%|██████████████████████████████████████████████████████████████████████████████████| 51/51 [00:00<00:00, 56.30it/s]\n"
     ]
    },
    {
     "name": "stdout",
     "output_type": "stream",
     "text": [
      "val Loss: 0.9860 Style Acc: 0.5627\n",
      "            Genre Acc: 0.7192\n",
      "            Emotion Acc: 0.6564\n",
      "EarlyStopping counter: 1 out of 5\n",
      "Epoch 10/50\n",
      "------------------------------------------------------------------------------------------------------------------------\n"
     ]
    },
    {
     "name": "stderr",
     "output_type": "stream",
     "text": [
      "100%|████████████████████████████████████████████████████████████████████████████████| 408/408 [00:14<00:00, 28.26it/s]\n"
     ]
    },
    {
     "name": "stdout",
     "output_type": "stream",
     "text": [
      "train Loss: 0.9462 Style Acc: 0.5806\n",
      "            Genre Acc: 0.7287\n",
      "            Emotion Acc: 0.6571\n"
     ]
    },
    {
     "name": "stderr",
     "output_type": "stream",
     "text": [
      "100%|██████████████████████████████████████████████████████████████████████████████████| 51/51 [00:00<00:00, 56.87it/s]\n"
     ]
    },
    {
     "name": "stdout",
     "output_type": "stream",
     "text": [
      "val Loss: 0.9733 Style Acc: 0.5604\n",
      "            Genre Acc: 0.7232\n",
      "            Emotion Acc: 0.6497\n",
      "Validation loss decreased. Saving model...\n",
      "Epoch 11/50\n",
      "------------------------------------------------------------------------------------------------------------------------\n"
     ]
    },
    {
     "name": "stderr",
     "output_type": "stream",
     "text": [
      "100%|████████████████████████████████████████████████████████████████████████████████| 408/408 [00:14<00:00, 28.25it/s]\n"
     ]
    },
    {
     "name": "stdout",
     "output_type": "stream",
     "text": [
      "train Loss: 0.9361 Style Acc: 0.5871\n",
      "            Genre Acc: 0.7329\n",
      "            Emotion Acc: 0.6573\n"
     ]
    },
    {
     "name": "stderr",
     "output_type": "stream",
     "text": [
      "100%|██████████████████████████████████████████████████████████████████████████████████| 51/51 [00:00<00:00, 56.24it/s]\n"
     ]
    },
    {
     "name": "stdout",
     "output_type": "stream",
     "text": [
      "val Loss: 0.9603 Style Acc: 0.5789\n",
      "            Genre Acc: 0.7217\n",
      "            Emotion Acc: 0.6562\n",
      "Validation loss decreased. Saving model...\n",
      "Epoch 12/50\n",
      "------------------------------------------------------------------------------------------------------------------------\n"
     ]
    },
    {
     "name": "stderr",
     "output_type": "stream",
     "text": [
      "100%|████████████████████████████████████████████████████████████████████████████████| 408/408 [00:14<00:00, 28.33it/s]\n"
     ]
    },
    {
     "name": "stdout",
     "output_type": "stream",
     "text": [
      "train Loss: 0.9275 Style Acc: 0.5910\n",
      "            Genre Acc: 0.7345\n",
      "            Emotion Acc: 0.6585\n"
     ]
    },
    {
     "name": "stderr",
     "output_type": "stream",
     "text": [
      "100%|██████████████████████████████████████████████████████████████████████████████████| 51/51 [00:00<00:00, 56.18it/s]\n"
     ]
    },
    {
     "name": "stdout",
     "output_type": "stream",
     "text": [
      "val Loss: 0.9606 Style Acc: 0.5755\n",
      "            Genre Acc: 0.7276\n",
      "            Emotion Acc: 0.6550\n",
      "EarlyStopping counter: 1 out of 5\n",
      "Epoch 13/50\n",
      "------------------------------------------------------------------------------------------------------------------------\n"
     ]
    },
    {
     "name": "stderr",
     "output_type": "stream",
     "text": [
      "100%|████████████████████████████████████████████████████████████████████████████████| 408/408 [00:14<00:00, 28.04it/s]\n"
     ]
    },
    {
     "name": "stdout",
     "output_type": "stream",
     "text": [
      "train Loss: 0.9208 Style Acc: 0.5957\n",
      "            Genre Acc: 0.7361\n",
      "            Emotion Acc: 0.6592\n"
     ]
    },
    {
     "name": "stderr",
     "output_type": "stream",
     "text": [
      "100%|██████████████████████████████████████████████████████████████████████████████████| 51/51 [00:00<00:00, 56.68it/s]\n"
     ]
    },
    {
     "name": "stdout",
     "output_type": "stream",
     "text": [
      "val Loss: 0.9596 Style Acc: 0.5786\n",
      "            Genre Acc: 0.7227\n",
      "            Emotion Acc: 0.6558\n",
      "EarlyStopping counter: 2 out of 5\n",
      "Epoch 14/50\n",
      "------------------------------------------------------------------------------------------------------------------------\n"
     ]
    },
    {
     "name": "stderr",
     "output_type": "stream",
     "text": [
      "100%|████████████████████████████████████████████████████████████████████████████████| 408/408 [00:14<00:00, 27.97it/s]\n"
     ]
    },
    {
     "name": "stdout",
     "output_type": "stream",
     "text": [
      "train Loss: 0.9126 Style Acc: 0.6004\n",
      "            Genre Acc: 0.7394\n",
      "            Emotion Acc: 0.6573\n"
     ]
    },
    {
     "name": "stderr",
     "output_type": "stream",
     "text": [
      "100%|██████████████████████████████████████████████████████████████████████████████████| 51/51 [00:00<00:00, 55.09it/s]\n"
     ]
    },
    {
     "name": "stdout",
     "output_type": "stream",
     "text": [
      "val Loss: 0.9514 Style Acc: 0.5820\n",
      "            Genre Acc: 0.7266\n",
      "            Emotion Acc: 0.6592\n",
      "Validation loss decreased. Saving model...\n",
      "Epoch 15/50\n",
      "------------------------------------------------------------------------------------------------------------------------\n"
     ]
    },
    {
     "name": "stderr",
     "output_type": "stream",
     "text": [
      "100%|████████████████████████████████████████████████████████████████████████████████| 408/408 [00:14<00:00, 27.88it/s]\n"
     ]
    },
    {
     "name": "stdout",
     "output_type": "stream",
     "text": [
      "train Loss: 0.9029 Style Acc: 0.6056\n",
      "            Genre Acc: 0.7408\n",
      "            Emotion Acc: 0.6594\n"
     ]
    },
    {
     "name": "stderr",
     "output_type": "stream",
     "text": [
      "100%|██████████████████████████████████████████████████████████████████████████████████| 51/51 [00:00<00:00, 53.41it/s]\n"
     ]
    },
    {
     "name": "stdout",
     "output_type": "stream",
     "text": [
      "val Loss: 0.9428 Style Acc: 0.5902\n",
      "            Genre Acc: 0.7324\n",
      "            Emotion Acc: 0.6587\n",
      "Validation loss decreased. Saving model...\n",
      "Epoch 16/50\n",
      "------------------------------------------------------------------------------------------------------------------------\n"
     ]
    },
    {
     "name": "stderr",
     "output_type": "stream",
     "text": [
      "100%|████████████████████████████████████████████████████████████████████████████████| 408/408 [00:14<00:00, 27.92it/s]\n"
     ]
    },
    {
     "name": "stdout",
     "output_type": "stream",
     "text": [
      "train Loss: 0.8941 Style Acc: 0.6113\n",
      "            Genre Acc: 0.7434\n",
      "            Emotion Acc: 0.6605\n"
     ]
    },
    {
     "name": "stderr",
     "output_type": "stream",
     "text": [
      "100%|██████████████████████████████████████████████████████████████████████████████████| 51/51 [00:00<00:00, 57.06it/s]\n"
     ]
    },
    {
     "name": "stdout",
     "output_type": "stream",
     "text": [
      "val Loss: 0.9502 Style Acc: 0.5933\n",
      "            Genre Acc: 0.7290\n",
      "            Emotion Acc: 0.6540\n",
      "EarlyStopping counter: 1 out of 5\n",
      "Epoch 17/50\n",
      "------------------------------------------------------------------------------------------------------------------------\n"
     ]
    },
    {
     "name": "stderr",
     "output_type": "stream",
     "text": [
      "100%|████████████████████████████████████████████████████████████████████████████████| 408/408 [00:14<00:00, 27.97it/s]\n"
     ]
    },
    {
     "name": "stdout",
     "output_type": "stream",
     "text": [
      "train Loss: 0.8869 Style Acc: 0.6160\n",
      "            Genre Acc: 0.7464\n",
      "            Emotion Acc: 0.6624\n"
     ]
    },
    {
     "name": "stderr",
     "output_type": "stream",
     "text": [
      "100%|██████████████████████████████████████████████████████████████████████████████████| 51/51 [00:00<00:00, 55.14it/s]\n"
     ]
    },
    {
     "name": "stdout",
     "output_type": "stream",
     "text": [
      "val Loss: 0.9439 Style Acc: 0.5873\n",
      "            Genre Acc: 0.7304\n",
      "            Emotion Acc: 0.6540\n",
      "Epoch 00017: reducing learning rate of group 0 to 2.5000e-05.\n",
      "EarlyStopping counter: 2 out of 5\n",
      "Epoch 18/50\n",
      "------------------------------------------------------------------------------------------------------------------------\n"
     ]
    },
    {
     "name": "stderr",
     "output_type": "stream",
     "text": [
      "100%|████████████████████████████████████████████████████████████████████████████████| 408/408 [00:14<00:00, 28.41it/s]\n"
     ]
    },
    {
     "name": "stdout",
     "output_type": "stream",
     "text": [
      "train Loss: 0.8646 Style Acc: 0.6282\n",
      "            Genre Acc: 0.7556\n",
      "            Emotion Acc: 0.6630\n"
     ]
    },
    {
     "name": "stderr",
     "output_type": "stream",
     "text": [
      "100%|██████████████████████████████████████████████████████████████████████████████████| 51/51 [00:00<00:00, 58.63it/s]\n"
     ]
    },
    {
     "name": "stdout",
     "output_type": "stream",
     "text": [
      "val Loss: 0.9289 Style Acc: 0.6002\n",
      "            Genre Acc: 0.7348\n",
      "            Emotion Acc: 0.6595\n",
      "Validation loss decreased. Saving model...\n",
      "Epoch 19/50\n",
      "------------------------------------------------------------------------------------------------------------------------\n"
     ]
    },
    {
     "name": "stderr",
     "output_type": "stream",
     "text": [
      "100%|████████████████████████████████████████████████████████████████████████████████| 408/408 [00:14<00:00, 28.62it/s]\n"
     ]
    },
    {
     "name": "stdout",
     "output_type": "stream",
     "text": [
      "train Loss: 0.8574 Style Acc: 0.6329\n",
      "            Genre Acc: 0.7575\n",
      "            Emotion Acc: 0.6644\n"
     ]
    },
    {
     "name": "stderr",
     "output_type": "stream",
     "text": [
      "100%|██████████████████████████████████████████████████████████████████████████████████| 51/51 [00:00<00:00, 58.10it/s]\n"
     ]
    },
    {
     "name": "stdout",
     "output_type": "stream",
     "text": [
      "val Loss: 0.9252 Style Acc: 0.5982\n",
      "            Genre Acc: 0.7365\n",
      "            Emotion Acc: 0.6558\n",
      "Validation loss decreased. Saving model...\n",
      "Epoch 20/50\n",
      "------------------------------------------------------------------------------------------------------------------------\n"
     ]
    },
    {
     "name": "stderr",
     "output_type": "stream",
     "text": [
      "100%|████████████████████████████████████████████████████████████████████████████████| 408/408 [00:14<00:00, 28.34it/s]\n"
     ]
    },
    {
     "name": "stdout",
     "output_type": "stream",
     "text": [
      "train Loss: 0.8523 Style Acc: 0.6362\n",
      "            Genre Acc: 0.7583\n",
      "            Emotion Acc: 0.6654\n"
     ]
    },
    {
     "name": "stderr",
     "output_type": "stream",
     "text": [
      "100%|██████████████████████████████████████████████████████████████████████████████████| 51/51 [00:00<00:00, 56.87it/s]\n"
     ]
    },
    {
     "name": "stdout",
     "output_type": "stream",
     "text": [
      "val Loss: 0.9247 Style Acc: 0.6017\n",
      "            Genre Acc: 0.7381\n",
      "            Emotion Acc: 0.6581\n",
      "EarlyStopping counter: 1 out of 5\n",
      "Epoch 21/50\n",
      "------------------------------------------------------------------------------------------------------------------------\n"
     ]
    },
    {
     "name": "stderr",
     "output_type": "stream",
     "text": [
      "100%|████████████████████████████████████████████████████████████████████████████████| 408/408 [00:14<00:00, 28.16it/s]\n"
     ]
    },
    {
     "name": "stdout",
     "output_type": "stream",
     "text": [
      "train Loss: 0.8467 Style Acc: 0.6384\n",
      "            Genre Acc: 0.7605\n",
      "            Emotion Acc: 0.6669\n"
     ]
    },
    {
     "name": "stderr",
     "output_type": "stream",
     "text": [
      "100%|██████████████████████████████████████████████████████████████████████████████████| 51/51 [00:00<00:00, 55.44it/s]\n"
     ]
    },
    {
     "name": "stdout",
     "output_type": "stream",
     "text": [
      "val Loss: 0.9178 Style Acc: 0.6039\n",
      "            Genre Acc: 0.7396\n",
      "            Emotion Acc: 0.6573\n",
      "Validation loss decreased. Saving model...\n",
      "Epoch 22/50\n",
      "------------------------------------------------------------------------------------------------------------------------\n"
     ]
    },
    {
     "name": "stderr",
     "output_type": "stream",
     "text": [
      "100%|████████████████████████████████████████████████████████████████████████████████| 408/408 [00:14<00:00, 27.94it/s]\n"
     ]
    },
    {
     "name": "stdout",
     "output_type": "stream",
     "text": [
      "train Loss: 0.8410 Style Acc: 0.6423\n",
      "            Genre Acc: 0.7622\n",
      "            Emotion Acc: 0.6658\n"
     ]
    },
    {
     "name": "stderr",
     "output_type": "stream",
     "text": [
      "100%|██████████████████████████████████████████████████████████████████████████████████| 51/51 [00:00<00:00, 53.13it/s]\n"
     ]
    },
    {
     "name": "stdout",
     "output_type": "stream",
     "text": [
      "val Loss: 0.9207 Style Acc: 0.6008\n",
      "            Genre Acc: 0.7358\n",
      "            Emotion Acc: 0.6624\n",
      "EarlyStopping counter: 1 out of 5\n",
      "Epoch 23/50\n",
      "------------------------------------------------------------------------------------------------------------------------\n"
     ]
    },
    {
     "name": "stderr",
     "output_type": "stream",
     "text": [
      "100%|████████████████████████████████████████████████████████████████████████████████| 408/408 [00:14<00:00, 27.66it/s]\n"
     ]
    },
    {
     "name": "stdout",
     "output_type": "stream",
     "text": [
      "train Loss: 0.8371 Style Acc: 0.6442\n",
      "            Genre Acc: 0.7618\n",
      "            Emotion Acc: 0.6670\n"
     ]
    },
    {
     "name": "stderr",
     "output_type": "stream",
     "text": [
      "100%|██████████████████████████████████████████████████████████████████████████████████| 51/51 [00:00<00:00, 56.36it/s]\n"
     ]
    },
    {
     "name": "stdout",
     "output_type": "stream",
     "text": [
      "val Loss: 0.9153 Style Acc: 0.6071\n",
      "            Genre Acc: 0.7376\n",
      "            Emotion Acc: 0.6601\n",
      "Validation loss decreased. Saving model...\n",
      "Epoch 24/50\n",
      "------------------------------------------------------------------------------------------------------------------------\n"
     ]
    },
    {
     "name": "stderr",
     "output_type": "stream",
     "text": [
      "100%|████████████████████████████████████████████████████████████████████████████████| 408/408 [00:14<00:00, 27.61it/s]\n"
     ]
    },
    {
     "name": "stdout",
     "output_type": "stream",
     "text": [
      "train Loss: 0.8311 Style Acc: 0.6481\n",
      "            Genre Acc: 0.7648\n",
      "            Emotion Acc: 0.6668\n"
     ]
    },
    {
     "name": "stderr",
     "output_type": "stream",
     "text": [
      "100%|██████████████████████████████████████████████████████████████████████████████████| 51/51 [00:00<00:00, 54.55it/s]\n"
     ]
    },
    {
     "name": "stdout",
     "output_type": "stream",
     "text": [
      "val Loss: 0.9139 Style Acc: 0.6065\n",
      "            Genre Acc: 0.7397\n",
      "            Emotion Acc: 0.6593\n",
      "Validation loss decreased. Saving model...\n",
      "Epoch 25/50\n",
      "------------------------------------------------------------------------------------------------------------------------\n"
     ]
    },
    {
     "name": "stderr",
     "output_type": "stream",
     "text": [
      "100%|████████████████████████████████████████████████████████████████████████████████| 408/408 [00:14<00:00, 28.16it/s]\n"
     ]
    },
    {
     "name": "stdout",
     "output_type": "stream",
     "text": [
      "train Loss: 0.8267 Style Acc: 0.6468\n",
      "            Genre Acc: 0.7672\n",
      "            Emotion Acc: 0.6677\n"
     ]
    },
    {
     "name": "stderr",
     "output_type": "stream",
     "text": [
      "100%|██████████████████████████████████████████████████████████████████████████████████| 51/51 [00:00<00:00, 56.05it/s]\n"
     ]
    },
    {
     "name": "stdout",
     "output_type": "stream",
     "text": [
      "val Loss: 0.9149 Style Acc: 0.6069\n",
      "            Genre Acc: 0.7400\n",
      "            Emotion Acc: 0.6575\n",
      "EarlyStopping counter: 1 out of 5\n",
      "Epoch 26/50\n",
      "------------------------------------------------------------------------------------------------------------------------\n"
     ]
    },
    {
     "name": "stderr",
     "output_type": "stream",
     "text": [
      "100%|████████████████████████████████████████████████████████████████████████████████| 408/408 [00:14<00:00, 28.44it/s]\n"
     ]
    },
    {
     "name": "stdout",
     "output_type": "stream",
     "text": [
      "train Loss: 0.8200 Style Acc: 0.6547\n",
      "            Genre Acc: 0.7686\n",
      "            Emotion Acc: 0.6695\n"
     ]
    },
    {
     "name": "stderr",
     "output_type": "stream",
     "text": [
      "100%|██████████████████████████████████████████████████████████████████████████████████| 51/51 [00:00<00:00, 58.50it/s]\n"
     ]
    },
    {
     "name": "stdout",
     "output_type": "stream",
     "text": [
      "val Loss: 0.9111 Style Acc: 0.6068\n",
      "            Genre Acc: 0.7388\n",
      "            Emotion Acc: 0.6607\n",
      "Validation loss decreased. Saving model...\n",
      "Epoch 27/50\n",
      "------------------------------------------------------------------------------------------------------------------------\n"
     ]
    },
    {
     "name": "stderr",
     "output_type": "stream",
     "text": [
      "100%|████████████████████████████████████████████████████████████████████████████████| 408/408 [00:14<00:00, 28.69it/s]\n"
     ]
    },
    {
     "name": "stdout",
     "output_type": "stream",
     "text": [
      "train Loss: 0.8141 Style Acc: 0.6585\n",
      "            Genre Acc: 0.7697\n",
      "            Emotion Acc: 0.6700\n"
     ]
    },
    {
     "name": "stderr",
     "output_type": "stream",
     "text": [
      "100%|██████████████████████████████████████████████████████████████████████████████████| 51/51 [00:00<00:00, 59.04it/s]\n"
     ]
    },
    {
     "name": "stdout",
     "output_type": "stream",
     "text": [
      "val Loss: 0.9105 Style Acc: 0.6077\n",
      "            Genre Acc: 0.7376\n",
      "            Emotion Acc: 0.6558\n",
      "EarlyStopping counter: 1 out of 5\n",
      "Epoch 28/50\n",
      "------------------------------------------------------------------------------------------------------------------------\n"
     ]
    },
    {
     "name": "stderr",
     "output_type": "stream",
     "text": [
      "100%|████████████████████████████████████████████████████████████████████████████████| 408/408 [00:14<00:00, 28.06it/s]\n"
     ]
    },
    {
     "name": "stdout",
     "output_type": "stream",
     "text": [
      "train Loss: 0.8110 Style Acc: 0.6610\n",
      "            Genre Acc: 0.7719\n",
      "            Emotion Acc: 0.6681\n"
     ]
    },
    {
     "name": "stderr",
     "output_type": "stream",
     "text": [
      "100%|██████████████████████████████████████████████████████████████████████████████████| 51/51 [00:00<00:00, 55.20it/s]\n"
     ]
    },
    {
     "name": "stdout",
     "output_type": "stream",
     "text": [
      "val Loss: 0.9143 Style Acc: 0.6039\n",
      "            Genre Acc: 0.7368\n",
      "            Emotion Acc: 0.6564\n",
      "EarlyStopping counter: 2 out of 5\n",
      "Epoch 29/50\n",
      "------------------------------------------------------------------------------------------------------------------------\n"
     ]
    },
    {
     "name": "stderr",
     "output_type": "stream",
     "text": [
      "100%|████████████████████████████████████████████████████████████████████████████████| 408/408 [00:14<00:00, 28.05it/s]\n"
     ]
    },
    {
     "name": "stdout",
     "output_type": "stream",
     "text": [
      "train Loss: 0.8056 Style Acc: 0.6625\n",
      "            Genre Acc: 0.7737\n",
      "            Emotion Acc: 0.6692\n"
     ]
    },
    {
     "name": "stderr",
     "output_type": "stream",
     "text": [
      "100%|██████████████████████████████████████████████████████████████████████████████████| 51/51 [00:00<00:00, 55.32it/s]\n"
     ]
    },
    {
     "name": "stdout",
     "output_type": "stream",
     "text": [
      "val Loss: 0.9129 Style Acc: 0.6141\n",
      "            Genre Acc: 0.7396\n",
      "            Emotion Acc: 0.6607\n",
      "Epoch 00029: reducing learning rate of group 0 to 1.2500e-05.\n",
      "EarlyStopping counter: 3 out of 5\n",
      "Epoch 30/50\n",
      "------------------------------------------------------------------------------------------------------------------------\n"
     ]
    },
    {
     "name": "stderr",
     "output_type": "stream",
     "text": [
      "100%|████████████████████████████████████████████████████████████████████████████████| 408/408 [00:14<00:00, 27.65it/s]\n"
     ]
    },
    {
     "name": "stdout",
     "output_type": "stream",
     "text": [
      "train Loss: 0.7927 Style Acc: 0.6699\n",
      "            Genre Acc: 0.7790\n",
      "            Emotion Acc: 0.6709\n"
     ]
    },
    {
     "name": "stderr",
     "output_type": "stream",
     "text": [
      "100%|██████████████████████████████████████████████████████████████████████████████████| 51/51 [00:00<00:00, 52.31it/s]\n"
     ]
    },
    {
     "name": "stdout",
     "output_type": "stream",
     "text": [
      "val Loss: 0.9015 Style Acc: 0.6163\n",
      "            Genre Acc: 0.7428\n",
      "            Emotion Acc: 0.6587\n",
      "Validation loss decreased. Saving model...\n",
      "Epoch 31/50\n",
      "------------------------------------------------------------------------------------------------------------------------\n"
     ]
    },
    {
     "name": "stderr",
     "output_type": "stream",
     "text": [
      "100%|████████████████████████████████████████████████████████████████████████████████| 408/408 [00:14<00:00, 27.88it/s]\n"
     ]
    },
    {
     "name": "stdout",
     "output_type": "stream",
     "text": [
      "train Loss: 0.7874 Style Acc: 0.6744\n",
      "            Genre Acc: 0.7792\n",
      "            Emotion Acc: 0.6719\n"
     ]
    },
    {
     "name": "stderr",
     "output_type": "stream",
     "text": [
      "100%|██████████████████████████████████████████████████████████████████████████████████| 51/51 [00:00<00:00, 55.09it/s]\n"
     ]
    },
    {
     "name": "stdout",
     "output_type": "stream",
     "text": [
      "val Loss: 0.9036 Style Acc: 0.6132\n",
      "            Genre Acc: 0.7416\n",
      "            Emotion Acc: 0.6590\n",
      "EarlyStopping counter: 1 out of 5\n",
      "Epoch 32/50\n",
      "------------------------------------------------------------------------------------------------------------------------\n"
     ]
    },
    {
     "name": "stderr",
     "output_type": "stream",
     "text": [
      "100%|████████████████████████████████████████████████████████████████████████████████| 408/408 [00:14<00:00, 27.68it/s]\n"
     ]
    },
    {
     "name": "stdout",
     "output_type": "stream",
     "text": [
      "train Loss: 0.7834 Style Acc: 0.6746\n",
      "            Genre Acc: 0.7818\n",
      "            Emotion Acc: 0.6727\n"
     ]
    },
    {
     "name": "stderr",
     "output_type": "stream",
     "text": [
      "100%|██████████████████████████████████████████████████████████████████████████████████| 51/51 [00:00<00:00, 51.26it/s]\n"
     ]
    },
    {
     "name": "stdout",
     "output_type": "stream",
     "text": [
      "val Loss: 0.8996 Style Acc: 0.6167\n",
      "            Genre Acc: 0.7423\n",
      "            Emotion Acc: 0.6601\n",
      "Validation loss decreased. Saving model...\n",
      "Epoch 33/50\n",
      "------------------------------------------------------------------------------------------------------------------------\n"
     ]
    },
    {
     "name": "stderr",
     "output_type": "stream",
     "text": [
      "100%|████████████████████████████████████████████████████████████████████████████████| 408/408 [00:14<00:00, 28.13it/s]\n"
     ]
    },
    {
     "name": "stdout",
     "output_type": "stream",
     "text": [
      "train Loss: 0.7816 Style Acc: 0.6757\n",
      "            Genre Acc: 0.7830\n",
      "            Emotion Acc: 0.6729\n"
     ]
    },
    {
     "name": "stderr",
     "output_type": "stream",
     "text": [
      "100%|██████████████████████████████████████████████████████████████████████████████████| 51/51 [00:00<00:00, 56.74it/s]\n"
     ]
    },
    {
     "name": "stdout",
     "output_type": "stream",
     "text": [
      "val Loss: 0.9005 Style Acc: 0.6169\n",
      "            Genre Acc: 0.7416\n",
      "            Emotion Acc: 0.6589\n",
      "EarlyStopping counter: 1 out of 5\n",
      "Epoch 34/50\n",
      "------------------------------------------------------------------------------------------------------------------------\n"
     ]
    },
    {
     "name": "stderr",
     "output_type": "stream",
     "text": [
      "100%|████████████████████████████████████████████████████████████████████████████████| 408/408 [00:14<00:00, 28.31it/s]\n"
     ]
    },
    {
     "name": "stdout",
     "output_type": "stream",
     "text": [
      "train Loss: 0.7778 Style Acc: 0.6799\n",
      "            Genre Acc: 0.7840\n",
      "            Emotion Acc: 0.6714\n"
     ]
    },
    {
     "name": "stderr",
     "output_type": "stream",
     "text": [
      "100%|██████████████████████████████████████████████████████████████████████████████████| 51/51 [00:00<00:00, 56.49it/s]\n"
     ]
    },
    {
     "name": "stdout",
     "output_type": "stream",
     "text": [
      "val Loss: 0.9001 Style Acc: 0.6149\n",
      "            Genre Acc: 0.7407\n",
      "            Emotion Acc: 0.6585\n",
      "Epoch 00034: reducing learning rate of group 0 to 6.2500e-06.\n",
      "EarlyStopping counter: 2 out of 5\n",
      "Epoch 35/50\n",
      "------------------------------------------------------------------------------------------------------------------------\n"
     ]
    },
    {
     "name": "stderr",
     "output_type": "stream",
     "text": [
      "100%|████████████████████████████████████████████████████████████████████████████████| 408/408 [00:14<00:00, 28.10it/s]\n"
     ]
    },
    {
     "name": "stdout",
     "output_type": "stream",
     "text": [
      "train Loss: 0.7702 Style Acc: 0.6846\n",
      "            Genre Acc: 0.7853\n",
      "            Emotion Acc: 0.6740\n"
     ]
    },
    {
     "name": "stderr",
     "output_type": "stream",
     "text": [
      "100%|██████████████████████████████████████████████████████████████████████████████████| 51/51 [00:00<00:00, 57.51it/s]\n"
     ]
    },
    {
     "name": "stdout",
     "output_type": "stream",
     "text": [
      "val Loss: 0.8991 Style Acc: 0.6155\n",
      "            Genre Acc: 0.7433\n",
      "            Emotion Acc: 0.6581\n",
      "EarlyStopping counter: 3 out of 5\n",
      "Epoch 36/50\n",
      "------------------------------------------------------------------------------------------------------------------------\n"
     ]
    },
    {
     "name": "stderr",
     "output_type": "stream",
     "text": [
      "100%|████████████████████████████████████████████████████████████████████████████████| 408/408 [00:14<00:00, 28.09it/s]\n"
     ]
    },
    {
     "name": "stdout",
     "output_type": "stream",
     "text": [
      "train Loss: 0.7686 Style Acc: 0.6845\n",
      "            Genre Acc: 0.7846\n",
      "            Emotion Acc: 0.6729\n"
     ]
    },
    {
     "name": "stderr",
     "output_type": "stream",
     "text": [
      "100%|██████████████████████████████████████████████████████████████████████████████████| 51/51 [00:00<00:00, 56.49it/s]\n"
     ]
    },
    {
     "name": "stdout",
     "output_type": "stream",
     "text": [
      "val Loss: 0.8971 Style Acc: 0.6189\n",
      "            Genre Acc: 0.7426\n",
      "            Emotion Acc: 0.6612\n",
      "Validation loss decreased. Saving model...\n",
      "Epoch 37/50\n",
      "------------------------------------------------------------------------------------------------------------------------\n"
     ]
    },
    {
     "name": "stderr",
     "output_type": "stream",
     "text": [
      "100%|████████████████████████████████████████████████████████████████████████████████| 408/408 [00:14<00:00, 28.12it/s]\n"
     ]
    },
    {
     "name": "stdout",
     "output_type": "stream",
     "text": [
      "train Loss: 0.7668 Style Acc: 0.6859\n",
      "            Genre Acc: 0.7874\n",
      "            Emotion Acc: 0.6729\n"
     ]
    },
    {
     "name": "stderr",
     "output_type": "stream",
     "text": [
      "100%|██████████████████████████████████████████████████████████████████████████████████| 51/51 [00:00<00:00, 52.21it/s]\n"
     ]
    },
    {
     "name": "stdout",
     "output_type": "stream",
     "text": [
      "val Loss: 0.8973 Style Acc: 0.6160\n",
      "            Genre Acc: 0.7436\n",
      "            Emotion Acc: 0.6585\n",
      "EarlyStopping counter: 1 out of 5\n",
      "Epoch 38/50\n",
      "------------------------------------------------------------------------------------------------------------------------\n"
     ]
    },
    {
     "name": "stderr",
     "output_type": "stream",
     "text": [
      "100%|████████████████████████████████████████████████████████████████████████████████| 408/408 [00:14<00:00, 27.68it/s]\n"
     ]
    },
    {
     "name": "stdout",
     "output_type": "stream",
     "text": [
      "train Loss: 0.7660 Style Acc: 0.6866\n",
      "            Genre Acc: 0.7877\n",
      "            Emotion Acc: 0.6720\n"
     ]
    },
    {
     "name": "stderr",
     "output_type": "stream",
     "text": [
      "100%|██████████████████████████████████████████████████████████████████████████████████| 51/51 [00:00<00:00, 53.64it/s]\n"
     ]
    },
    {
     "name": "stdout",
     "output_type": "stream",
     "text": [
      "val Loss: 0.8966 Style Acc: 0.6195\n",
      "            Genre Acc: 0.7419\n",
      "            Emotion Acc: 0.6608\n",
      "EarlyStopping counter: 2 out of 5\n",
      "Epoch 39/50\n",
      "------------------------------------------------------------------------------------------------------------------------\n"
     ]
    },
    {
     "name": "stderr",
     "output_type": "stream",
     "text": [
      "100%|████████████████████████████████████████████████████████████████████████████████| 408/408 [00:14<00:00, 27.87it/s]\n"
     ]
    },
    {
     "name": "stdout",
     "output_type": "stream",
     "text": [
      "train Loss: 0.7641 Style Acc: 0.6869\n",
      "            Genre Acc: 0.7889\n",
      "            Emotion Acc: 0.6732\n"
     ]
    },
    {
     "name": "stderr",
     "output_type": "stream",
     "text": [
      "100%|██████████████████████████████████████████████████████████████████████████████████| 51/51 [00:00<00:00, 54.09it/s]\n"
     ]
    },
    {
     "name": "stdout",
     "output_type": "stream",
     "text": [
      "val Loss: 0.8959 Style Acc: 0.6178\n",
      "            Genre Acc: 0.7419\n",
      "            Emotion Acc: 0.6607\n",
      "Validation loss decreased. Saving model...\n",
      "Epoch 40/50\n",
      "------------------------------------------------------------------------------------------------------------------------\n"
     ]
    },
    {
     "name": "stderr",
     "output_type": "stream",
     "text": [
      "100%|████████████████████████████████████████████████████████████████████████████████| 408/408 [00:14<00:00, 27.30it/s]\n"
     ]
    },
    {
     "name": "stdout",
     "output_type": "stream",
     "text": [
      "train Loss: 0.7606 Style Acc: 0.6886\n",
      "            Genre Acc: 0.7891\n",
      "            Emotion Acc: 0.6760\n"
     ]
    },
    {
     "name": "stderr",
     "output_type": "stream",
     "text": [
      "100%|██████████████████████████████████████████████████████████████████████████████████| 51/51 [00:00<00:00, 56.30it/s]\n"
     ]
    },
    {
     "name": "stdout",
     "output_type": "stream",
     "text": [
      "val Loss: 0.8970 Style Acc: 0.6172\n",
      "            Genre Acc: 0.7420\n",
      "            Emotion Acc: 0.6605\n",
      "EarlyStopping counter: 1 out of 5\n",
      "Epoch 41/50\n",
      "------------------------------------------------------------------------------------------------------------------------\n"
     ]
    },
    {
     "name": "stderr",
     "output_type": "stream",
     "text": [
      "100%|████████████████████████████████████████████████████████████████████████████████| 408/408 [00:14<00:00, 28.11it/s]\n"
     ]
    },
    {
     "name": "stdout",
     "output_type": "stream",
     "text": [
      "train Loss: 0.7597 Style Acc: 0.6906\n",
      "            Genre Acc: 0.7894\n",
      "            Emotion Acc: 0.6743\n"
     ]
    },
    {
     "name": "stderr",
     "output_type": "stream",
     "text": [
      "100%|██████████████████████████████████████████████████████████████████████████████████| 51/51 [00:00<00:00, 54.32it/s]\n"
     ]
    },
    {
     "name": "stdout",
     "output_type": "stream",
     "text": [
      "val Loss: 0.8977 Style Acc: 0.6181\n",
      "            Genre Acc: 0.7440\n",
      "            Emotion Acc: 0.6612\n",
      "Epoch 00041: reducing learning rate of group 0 to 3.1250e-06.\n",
      "EarlyStopping counter: 2 out of 5\n",
      "Epoch 42/50\n",
      "------------------------------------------------------------------------------------------------------------------------\n"
     ]
    },
    {
     "name": "stderr",
     "output_type": "stream",
     "text": [
      "100%|████████████████████████████████████████████████████████████████████████████████| 408/408 [00:14<00:00, 28.09it/s]\n"
     ]
    },
    {
     "name": "stdout",
     "output_type": "stream",
     "text": [
      "train Loss: 0.7558 Style Acc: 0.6919\n",
      "            Genre Acc: 0.7911\n",
      "            Emotion Acc: 0.6746\n"
     ]
    },
    {
     "name": "stderr",
     "output_type": "stream",
     "text": [
      "100%|██████████████████████████████████████████████████████████████████████████████████| 51/51 [00:00<00:00, 58.03it/s]\n"
     ]
    },
    {
     "name": "stdout",
     "output_type": "stream",
     "text": [
      "val Loss: 0.8947 Style Acc: 0.6199\n",
      "            Genre Acc: 0.7420\n",
      "            Emotion Acc: 0.6618\n",
      "Validation loss decreased. Saving model...\n",
      "Epoch 43/50\n",
      "------------------------------------------------------------------------------------------------------------------------\n"
     ]
    },
    {
     "name": "stderr",
     "output_type": "stream",
     "text": [
      "100%|████████████████████████████████████████████████████████████████████████████████| 408/408 [00:14<00:00, 27.99it/s]\n"
     ]
    },
    {
     "name": "stdout",
     "output_type": "stream",
     "text": [
      "train Loss: 0.7542 Style Acc: 0.6921\n",
      "            Genre Acc: 0.7909\n",
      "            Emotion Acc: 0.6747\n"
     ]
    },
    {
     "name": "stderr",
     "output_type": "stream",
     "text": [
      "100%|██████████████████████████████████████████████████████████████████████████████████| 51/51 [00:00<00:00, 56.49it/s]\n"
     ]
    },
    {
     "name": "stdout",
     "output_type": "stream",
     "text": [
      "val Loss: 0.8954 Style Acc: 0.6195\n",
      "            Genre Acc: 0.7434\n",
      "            Emotion Acc: 0.6612\n",
      "EarlyStopping counter: 1 out of 5\n",
      "Epoch 44/50\n",
      "------------------------------------------------------------------------------------------------------------------------\n"
     ]
    },
    {
     "name": "stderr",
     "output_type": "stream",
     "text": [
      "100%|████████████████████████████████████████████████████████████████████████████████| 408/408 [00:14<00:00, 28.15it/s]\n"
     ]
    },
    {
     "name": "stdout",
     "output_type": "stream",
     "text": [
      "train Loss: 0.7538 Style Acc: 0.6937\n",
      "            Genre Acc: 0.7917\n",
      "            Emotion Acc: 0.6759\n"
     ]
    },
    {
     "name": "stderr",
     "output_type": "stream",
     "text": [
      "100%|██████████████████████████████████████████████████████████████████████████████████| 51/51 [00:00<00:00, 55.32it/s]\n"
     ]
    },
    {
     "name": "stdout",
     "output_type": "stream",
     "text": [
      "val Loss: 0.8949 Style Acc: 0.6219\n",
      "            Genre Acc: 0.7428\n",
      "            Emotion Acc: 0.6610\n",
      "Epoch 00044: reducing learning rate of group 0 to 1.5625e-06.\n",
      "EarlyStopping counter: 2 out of 5\n",
      "Epoch 45/50\n",
      "------------------------------------------------------------------------------------------------------------------------\n"
     ]
    },
    {
     "name": "stderr",
     "output_type": "stream",
     "text": [
      "100%|████████████████████████████████████████████████████████████████████████████████| 408/408 [00:14<00:00, 27.88it/s]\n"
     ]
    },
    {
     "name": "stdout",
     "output_type": "stream",
     "text": [
      "train Loss: 0.7523 Style Acc: 0.6950\n",
      "            Genre Acc: 0.7914\n",
      "            Emotion Acc: 0.6752\n"
     ]
    },
    {
     "name": "stderr",
     "output_type": "stream",
     "text": [
      "100%|██████████████████████████████████████████████████████████████████████████████████| 51/51 [00:00<00:00, 53.47it/s]\n"
     ]
    },
    {
     "name": "stdout",
     "output_type": "stream",
     "text": [
      "val Loss: 0.8947 Style Acc: 0.6190\n",
      "            Genre Acc: 0.7443\n",
      "            Emotion Acc: 0.6608\n",
      "EarlyStopping counter: 3 out of 5\n",
      "Epoch 46/50\n",
      "------------------------------------------------------------------------------------------------------------------------\n"
     ]
    },
    {
     "name": "stderr",
     "output_type": "stream",
     "text": [
      "100%|████████████████████████████████████████████████████████████████████████████████| 408/408 [00:14<00:00, 27.66it/s]\n"
     ]
    },
    {
     "name": "stdout",
     "output_type": "stream",
     "text": [
      "train Loss: 0.7520 Style Acc: 0.6952\n",
      "            Genre Acc: 0.7924\n",
      "            Emotion Acc: 0.6746\n"
     ]
    },
    {
     "name": "stderr",
     "output_type": "stream",
     "text": [
      "100%|██████████████████████████████████████████████████████████████████████████████████| 51/51 [00:00<00:00, 54.91it/s]\n"
     ]
    },
    {
     "name": "stdout",
     "output_type": "stream",
     "text": [
      "val Loss: 0.8944 Style Acc: 0.6207\n",
      "            Genre Acc: 0.7456\n",
      "            Emotion Acc: 0.6608\n",
      "EarlyStopping counter: 4 out of 5\n",
      "Epoch 47/50\n",
      "------------------------------------------------------------------------------------------------------------------------\n"
     ]
    },
    {
     "name": "stderr",
     "output_type": "stream",
     "text": [
      "100%|████████████████████████████████████████████████████████████████████████████████| 408/408 [00:14<00:00, 27.65it/s]\n"
     ]
    },
    {
     "name": "stdout",
     "output_type": "stream",
     "text": [
      "train Loss: 0.7496 Style Acc: 0.6960\n",
      "            Genre Acc: 0.7934\n",
      "            Emotion Acc: 0.6745\n"
     ]
    },
    {
     "name": "stderr",
     "output_type": "stream",
     "text": [
      "100%|██████████████████████████████████████████████████████████████████████████████████| 51/51 [00:00<00:00, 57.19it/s]"
     ]
    },
    {
     "name": "stdout",
     "output_type": "stream",
     "text": [
      "val Loss: 0.8942 Style Acc: 0.6189\n",
      "            Genre Acc: 0.7448\n",
      "            Emotion Acc: 0.6602\n",
      "EarlyStopping counter: 5 out of 5\n",
      "Best epoch: 0047\n",
      "Best loss: 0.8942\n"
     ]
    },
    {
     "name": "stderr",
     "output_type": "stream",
     "text": [
      "\n"
     ]
    }
   ],
   "source": [
    "batch_size = 128\n",
    "num_epochs = 50\n",
    "criterions = list(nn.CrossEntropyLoss() for _ in range(3))\n",
    "optimizer = optim.Adam(model.parameters(), lr=1e-4)\n",
    "early_stop= EarlyStopping(patience = 5, min_delta = 1e-3, checkpoint_path = 'best_new_multitask_model_ternary.pt')\n",
    "train_loader = DataLoader(train_dataset, batch_size = batch_size, shuffle = True, drop_last = False)\n",
    "val_loader = DataLoader(val_dataset, batch_size = batch_size, shuffle = True, drop_last = False)\n",
    "scheduler = lr_scheduler.ReduceLROnPlateau(optimizer, 'min', min_lr = 1e-7, verbose = True, factor = .5, patience = 1,\n",
    "                                               threshold = 1e-4)\n",
    "fine_tune(model, train, train_loader, val_loader, criterions, optimizer, early_stop, scheduler, num_epochs)\n"
   ]
  },
  {
   "cell_type": "code",
   "execution_count": 19,
   "id": "5d43fd64",
   "metadata": {
    "scrolled": true
   },
   "outputs": [
    {
     "name": "stderr",
     "output_type": "stream",
     "text": [
      "100%|██████████████████████████████████████████████████████████████████████████████████| 51/51 [00:00<00:00, 53.69it/s]\n"
     ]
    },
    {
     "data": {
      "image/png": "[encoded data removed]",
      "text/plain": [
       "<Figure size 864x864 with 2 Axes>"
      ]
     },
     "metadata": {},
     "output_type": "display_data"
    },
    {
     "data": {
      "image/png": "[encoded data removed]",
      "text/plain": [
       "<Figure size 864x864 with 2 Axes>"
      ]
     },
     "metadata": {},
     "output_type": "display_data"
    },
    {
     "data": {
      "image/png": "[encoded data removed]",
      "text/plain": [
       "<Figure size 864x864 with 2 Axes>"
      ]
     },
     "metadata": {},
     "output_type": "display_data"
    }
   ],
   "source": [
    "model = torch.load('best_new_multitask_model_ternary.pt').to('cuda:0')\n",
    "map_hop={'style':5,\n",
    "        'genre':3,\n",
    "        'emotion':1}\n",
    "results_df = pd.DataFrame(columns = ['Top1', 'Top2', 'Macro-F1'], index = ('style', 'genre', 'emotion'))\n",
    "with torch.no_grad():\n",
    "    pred, lab = test_func(model, test_loader, train)\n",
    "for task in ('style', 'genre', 'emotion'):\n",
    "    results_df['Top1'].loc[task] = compute_topk(lab[task], pred[task], k=1)\n",
    "    results_df['Top2'].loc[task] = compute_topk(lab[task], pred[task], k=2)\n",
    "    pred_lab = torch.max(torch.Tensor(pred[task]), 1)[1]\n",
    "    results_df['Macro-F1'].loc[task] = f1_score(lab[task], pred_lab, average = 'macro')\n",
    "    if task == 'emotion':\n",
    "        labels = ['positive', 'negative', 'emotion']\n",
    "    else:\n",
    "        labels = pd.read_csv(f'{root}/mapping/{task}_entidx2name.csv', names = ['idx','name'])['name'].tolist()\n",
    "    plot_confusion_matrix(lab[task], pred_lab, hop = map_hop[task], labels = labels)"
   ]
  },
  {
   "cell_type": "code",
   "execution_count": 20,
   "id": "a35fb395",
   "metadata": {
    "scrolled": true
   },
   "outputs": [
    {
     "data": {
      "text/html": [
       "<div>\n",
       "<style scoped>\n",
       "    .dataframe tbody tr th:only-of-type {\n",
       "        vertical-align: middle;\n",
       "    }\n",
       "\n",
       "    .dataframe tbody tr th {\n",
       "        vertical-align: top;\n",
       "    }\n",
       "\n",
       "    .dataframe thead th {\n",
       "        text-align: right;\n",
       "    }\n",
       "</style>\n",
       "<table border=\"1\" class=\"dataframe\">\n",
       "  <thead>\n",
       "    <tr style=\"text-align: right;\">\n",
       "      <th></th>\n",
       "      <th>Top1</th>\n",
       "      <th>Top2</th>\n",
       "      <th>Macro-F1</th>\n",
       "    </tr>\n",
       "  </thead>\n",
       "  <tbody>\n",
       "    <tr>\n",
       "      <th>style</th>\n",
       "      <td>0.6259</td>\n",
       "      <td>0.800766</td>\n",
       "      <td>0.465789</td>\n",
       "    </tr>\n",
       "    <tr>\n",
       "      <th>genre</th>\n",
       "      <td>0.75249</td>\n",
       "      <td>0.88705</td>\n",
       "      <td>0.630574</td>\n",
       "    </tr>\n",
       "    <tr>\n",
       "      <th>emotion</th>\n",
       "      <td>0.6659</td>\n",
       "      <td>0.881686</td>\n",
       "      <td>0.498561</td>\n",
       "    </tr>\n",
       "  </tbody>\n",
       "</table>\n",
       "</div>"
      ],
      "text/plain": [
       "            Top1      Top2  Macro-F1\n",
       "style     0.6259  0.800766  0.465789\n",
       "genre    0.75249   0.88705  0.630574\n",
       "emotion   0.6659  0.881686  0.498561"
      ]
     },
     "execution_count": 20,
     "metadata": {},
     "output_type": "execute_result"
    }
   ],
   "source": [
    "results_df"
   ]
  },
  {
   "cell_type": "code",
   "execution_count": 21,
   "id": "9cf908be",
   "metadata": {},
   "outputs": [],
   "source": [
    "results_df.to_csv('resuls_multi_task_ternary_fine_tuning.csv')"
   ]
  },
  {
   "cell_type": "markdown",
   "id": "862dec60",
   "metadata": {},
   "source": [
    "Test addestrando gli encoder da $0$"
   ]
  },
  {
   "cell_type": "code",
   "execution_count": 22,
   "id": "c8c165b9",
   "metadata": {
    "scrolled": true
   },
   "outputs": [
    {
     "data": {
      "text/plain": [
       "MultiTaskClassificationModel(\n",
       "  (encoder): GraphModule(\n",
       "    (convs): ModuleList(\n",
       "      (0): ModuleDict(\n",
       "        (artist__belongstofield__field): GATConv((-1, -1), 128, heads=1)\n",
       "        (artist__belongstomovement__movement): GATConv((-1, -1), 128, heads=1)\n",
       "        (artist__haspatron__people): GATConv((-1, -1), 128, heads=1)\n",
       "        (artist__hassubject__subject): GATConv((-1, -1), 128, heads=1)\n",
       "        (artist__relatedtoschool__training_node): GATConv((-1, -1), 128, heads=1)\n",
       "        (artist__trainedby__artist): GATConv((-1, -1), 128, heads=1)\n",
       "        (artwork__about__tag): GATConv((-1, -1), 128, heads=1)\n",
       "        (artwork__createdby__artist): GATConv((-1, -1), 128, heads=1)\n",
       "        (artwork__elicit__emotion): GATConv((-1, -1), 128, heads=1)\n",
       "        (artwork__hasgenre__genre): GATConv((-1, -1), 128, heads=1)\n",
       "        (artwork__hasperiod__period): GATConv((-1, -1), 128, heads=1)\n",
       "        (artwork__hasstyle__style): GATConv((-1, -1), 128, heads=1)\n",
       "        (artwork__locatedin__city): GATConv((-1, -1), 128, heads=1)\n",
       "        (artwork__locatedin__country): GATConv((-1, -1), 128, heads=1)\n",
       "        (artwork__locatedin__gallery): GATConv((-1, -1), 128, heads=1)\n",
       "        (artwork__madeof__media): GATConv((-1, -1), 128, heads=1)\n",
       "        (artwork__partof__serie): GATConv((-1, -1), 128, heads=1)\n",
       "        (city__incountry__country): GATConv((-1, -1), 128, heads=1)\n",
       "        (gallery__incity__city): GATConv((-1, -1), 128, heads=1)\n",
       "        (gallery__incountry__country): GATConv((-1, -1), 128, heads=1)\n",
       "        (field__rev_belongstofield__artist): GATConv((-1, -1), 128, heads=1)\n",
       "        (movement__rev_belongstomovement__artist): GATConv((-1, -1), 128, heads=1)\n",
       "        (people__rev_haspatron__artist): GATConv((-1, -1), 128, heads=1)\n",
       "        (subject__rev_hassubject__artist): GATConv((-1, -1), 128, heads=1)\n",
       "        (training_node__rev_relatedtoschool__artist): GATConv((-1, -1), 128, heads=1)\n",
       "        (tag__rev_about__artwork): GATConv((-1, -1), 128, heads=1)\n",
       "        (artist__rev_createdby__artwork): GATConv((-1, -1), 128, heads=1)\n",
       "        (emotion__rev_elicit__artwork): GATConv((-1, -1), 128, heads=1)\n",
       "        (genre__rev_hasgenre__artwork): GATConv((-1, -1), 128, heads=1)\n",
       "        (period__rev_hasperiod__artwork): GATConv((-1, -1), 128, heads=1)\n",
       "        (style__rev_hasstyle__artwork): GATConv((-1, -1), 128, heads=1)\n",
       "        (city__rev_locatedin__artwork): GATConv((-1, -1), 128, heads=1)\n",
       "        (country__rev_locatedin__artwork): GATConv((-1, -1), 128, heads=1)\n",
       "        (gallery__rev_locatedin__artwork): GATConv((-1, -1), 128, heads=1)\n",
       "        (media__rev_madeof__artwork): GATConv((-1, -1), 128, heads=1)\n",
       "        (serie__rev_partof__artwork): GATConv((-1, -1), 128, heads=1)\n",
       "        (country__rev_incountry__city): GATConv((-1, -1), 128, heads=1)\n",
       "        (city__rev_incity__gallery): GATConv((-1, -1), 128, heads=1)\n",
       "        (country__rev_incountry__gallery): GATConv((-1, -1), 128, heads=1)\n",
       "        (artist__rev_rev_belongstofield__field): GATConv((-1, -1), 128, heads=1)\n",
       "        (artist__rev_rev_belongstomovement__movement): GATConv((-1, -1), 128, heads=1)\n",
       "        (artist__rev_rev_haspatron__people): GATConv((-1, -1), 128, heads=1)\n",
       "        (artist__rev_rev_hassubject__subject): GATConv((-1, -1), 128, heads=1)\n",
       "        (artist__rev_rev_relatedtoschool__training_node): GATConv((-1, -1), 128, heads=1)\n",
       "        (artwork__rev_rev_about__tag): GATConv((-1, -1), 128, heads=1)\n",
       "        (artwork__rev_rev_createdby__artist): GATConv((-1, -1), 128, heads=1)\n",
       "        (artwork__rev_rev_elicit__emotion): GATConv((-1, -1), 128, heads=1)\n",
       "        (artwork__rev_rev_hasgenre__genre): GATConv((-1, -1), 128, heads=1)\n",
       "        (artwork__rev_rev_hasperiod__period): GATConv((-1, -1), 128, heads=1)\n",
       "        (artwork__rev_rev_hasstyle__style): GATConv((-1, -1), 128, heads=1)\n",
       "        (artwork__rev_rev_locatedin__city): GATConv((-1, -1), 128, heads=1)\n",
       "        (artwork__rev_rev_locatedin__country): GATConv((-1, -1), 128, heads=1)\n",
       "        (artwork__rev_rev_locatedin__gallery): GATConv((-1, -1), 128, heads=1)\n",
       "        (artwork__rev_rev_madeof__media): GATConv((-1, -1), 128, heads=1)\n",
       "        (artwork__rev_rev_partof__serie): GATConv((-1, -1), 128, heads=1)\n",
       "        (city__rev_rev_incountry__country): GATConv((-1, -1), 128, heads=1)\n",
       "        (gallery__rev_rev_incity__city): GATConv((-1, -1), 128, heads=1)\n",
       "        (gallery__rev_rev_incountry__country): GATConv((-1, -1), 128, heads=1)\n",
       "      )\n",
       "    )\n",
       "    (activation): ModuleDict(\n",
       "      (artwork): Tanh()\n",
       "      (artist): Tanh()\n",
       "      (gallery): Tanh()\n",
       "      (city): Tanh()\n",
       "      (country): Tanh()\n",
       "      (style): Tanh()\n",
       "      (period): Tanh()\n",
       "      (genre): Tanh()\n",
       "      (serie): Tanh()\n",
       "      (tag): Tanh()\n",
       "      (media): Tanh()\n",
       "      (subject): Tanh()\n",
       "      (training_node): Tanh()\n",
       "      (field): Tanh()\n",
       "      (movement): Tanh()\n",
       "      (people): Tanh()\n",
       "      (emotion): Tanh()\n",
       "    )\n",
       "  )\n",
       "  (head): MultiTaskHead(\n",
       "    (head): Sequential(\n",
       "      (0): Linear(in_features=6912, out_features=3456, bias=True)\n",
       "      (1): ReLU(inplace=True)\n",
       "      (2): Dropout(p=0.2, inplace=False)\n",
       "      (3): Linear(in_features=3456, out_features=1728, bias=True)\n",
       "      (4): ReLU(inplace=True)\n",
       "      (5): Dropout(p=0.2, inplace=False)\n",
       "      (6): Linear(in_features=1728, out_features=864, bias=True)\n",
       "      (7): ReLU(inplace=True)\n",
       "      (8): Dropout(p=0.2, inplace=False)\n",
       "      (9): Linear(in_features=864, out_features=432, bias=True)\n",
       "      (10): ReLU(inplace=True)\n",
       "      (11): Dropout(p=0.2, inplace=False)\n",
       "    )\n",
       "  )\n",
       "  (head_style): Linear(in_features=432, out_features=32, bias=True)\n",
       "  (head_genre): Linear(in_features=432, out_features=18, bias=True)\n",
       "  (head_emotion): Linear(in_features=432, out_features=3, bias=True)\n",
       ")"
      ]
     },
     "execution_count": 22,
     "metadata": {},
     "output_type": "execute_result"
    }
   ],
   "source": [
    "model = MultiTaskClassificationModel(data = train, hidden_channels = 128, head_num_layers = 5).to(device)\n",
    "model"
   ]
  },
  {
   "cell_type": "code",
   "execution_count": 23,
   "id": "bb65d202",
   "metadata": {},
   "outputs": [],
   "source": [
    "from torch_geometric.transforms import ToUndirected\n",
    "train = ToUndirected()(train).to(device)\n",
    "with torch.no_grad():\n",
    "    model.encoder(train.x_dict, train.edge_index_dict)"
   ]
  },
  {
   "cell_type": "code",
   "execution_count": 24,
   "id": "0cb4c928",
   "metadata": {
    "scrolled": true
   },
   "outputs": [
    {
     "name": "stdout",
     "output_type": "stream",
     "text": [
      "Epoch 1/50\n",
      "------------------------------------------------------------------------------------------------------------------------\n"
     ]
    },
    {
     "name": "stderr",
     "output_type": "stream",
     "text": [
      "100%|████████████████████████████████████████████████████████████████████████████████| 408/408 [00:56<00:00,  7.26it/s]\n"
     ]
    },
    {
     "name": "stdout",
     "output_type": "stream",
     "text": [
      "train Loss: 1.5269 Style Acc: 0.3051\n",
      "            Genre Acc: 0.5400\n",
      "            Emotion Acc: 0.6050\n"
     ]
    },
    {
     "name": "stderr",
     "output_type": "stream",
     "text": [
      "100%|██████████████████████████████████████████████████████████████████████████████████| 51/51 [00:05<00:00,  8.98it/s]\n"
     ]
    },
    {
     "name": "stdout",
     "output_type": "stream",
     "text": [
      "val Loss: 1.2351 Style Acc: 0.4245\n",
      "            Genre Acc: 0.6478\n",
      "            Emotion Acc: 0.6111\n",
      "Validation loss decreased. Saving model...\n",
      "Epoch 2/50\n",
      "------------------------------------------------------------------------------------------------------------------------\n"
     ]
    },
    {
     "name": "stderr",
     "output_type": "stream",
     "text": [
      "100%|████████████████████████████████████████████████████████████████████████████████| 408/408 [00:55<00:00,  7.31it/s]\n"
     ]
    },
    {
     "name": "stdout",
     "output_type": "stream",
     "text": [
      "train Loss: 1.2002 Style Acc: 0.4373\n",
      "            Genre Acc: 0.6588\n",
      "            Emotion Acc: 0.6294\n"
     ]
    },
    {
     "name": "stderr",
     "output_type": "stream",
     "text": [
      "100%|██████████████████████████████████████████████████████████████████████████████████| 51/51 [00:05<00:00,  9.29it/s]\n"
     ]
    },
    {
     "name": "stdout",
     "output_type": "stream",
     "text": [
      "val Loss: 1.1440 Style Acc: 0.4638\n",
      "            Genre Acc: 0.6900\n",
      "            Emotion Acc: 0.6245\n",
      "Validation loss decreased. Saving model...\n",
      "Epoch 3/50\n",
      "------------------------------------------------------------------------------------------------------------------------\n"
     ]
    },
    {
     "name": "stderr",
     "output_type": "stream",
     "text": [
      "100%|████████████████████████████████████████████████████████████████████████████████| 408/408 [00:55<00:00,  7.38it/s]\n"
     ]
    },
    {
     "name": "stdout",
     "output_type": "stream",
     "text": [
      "train Loss: 1.1235 Style Acc: 0.4762\n",
      "            Genre Acc: 0.6811\n",
      "            Emotion Acc: 0.6368\n"
     ]
    },
    {
     "name": "stderr",
     "output_type": "stream",
     "text": [
      "100%|██████████████████████████████████████████████████████████████████████████████████| 51/51 [00:05<00:00,  8.99it/s]\n"
     ]
    },
    {
     "name": "stdout",
     "output_type": "stream",
     "text": [
      "val Loss: 1.0790 Style Acc: 0.5087\n",
      "            Genre Acc: 0.6982\n",
      "            Emotion Acc: 0.6498\n",
      "Validation loss decreased. Saving model...\n",
      "Epoch 4/50\n",
      "------------------------------------------------------------------------------------------------------------------------\n"
     ]
    },
    {
     "name": "stderr",
     "output_type": "stream",
     "text": [
      "100%|████████████████████████████████████████████████████████████████████████████████| 408/408 [00:55<00:00,  7.30it/s]\n"
     ]
    },
    {
     "name": "stdout",
     "output_type": "stream",
     "text": [
      "train Loss: 1.0891 Style Acc: 0.4974\n",
      "            Genre Acc: 0.6876\n",
      "            Emotion Acc: 0.6415\n"
     ]
    },
    {
     "name": "stderr",
     "output_type": "stream",
     "text": [
      "100%|██████████████████████████████████████████████████████████████████████████████████| 51/51 [00:05<00:00,  9.31it/s]\n"
     ]
    },
    {
     "name": "stdout",
     "output_type": "stream",
     "text": [
      "val Loss: 1.0707 Style Acc: 0.4982\n",
      "            Genre Acc: 0.6994\n",
      "            Emotion Acc: 0.6468\n",
      "Validation loss decreased. Saving model...\n",
      "Epoch 5/50\n",
      "------------------------------------------------------------------------------------------------------------------------\n"
     ]
    },
    {
     "name": "stderr",
     "output_type": "stream",
     "text": [
      "100%|████████████████████████████████████████████████████████████████████████████████| 408/408 [00:55<00:00,  7.38it/s]\n"
     ]
    },
    {
     "name": "stdout",
     "output_type": "stream",
     "text": [
      "train Loss: 1.0611 Style Acc: 0.5137\n",
      "            Genre Acc: 0.6972\n",
      "            Emotion Acc: 0.6445\n"
     ]
    },
    {
     "name": "stderr",
     "output_type": "stream",
     "text": [
      "100%|██████████████████████████████████████████████████████████████████████████████████| 51/51 [00:05<00:00,  8.98it/s]\n"
     ]
    },
    {
     "name": "stdout",
     "output_type": "stream",
     "text": [
      "val Loss: 1.0550 Style Acc: 0.5230\n",
      "            Genre Acc: 0.6944\n",
      "            Emotion Acc: 0.6356\n",
      "Validation loss decreased. Saving model...\n",
      "Epoch 6/50\n",
      "------------------------------------------------------------------------------------------------------------------------\n"
     ]
    },
    {
     "name": "stderr",
     "output_type": "stream",
     "text": [
      "100%|████████████████████████████████████████████████████████████████████████████████| 408/408 [00:55<00:00,  7.29it/s]\n"
     ]
    },
    {
     "name": "stdout",
     "output_type": "stream",
     "text": [
      "train Loss: 1.0402 Style Acc: 0.5252\n",
      "            Genre Acc: 0.7016\n",
      "            Emotion Acc: 0.6463\n"
     ]
    },
    {
     "name": "stderr",
     "output_type": "stream",
     "text": [
      "100%|██████████████████████████████████████████████████████████████████████████████████| 51/51 [00:05<00:00,  9.27it/s]\n"
     ]
    },
    {
     "name": "stdout",
     "output_type": "stream",
     "text": [
      "val Loss: 1.0202 Style Acc: 0.5362\n",
      "            Genre Acc: 0.7119\n",
      "            Emotion Acc: 0.6431\n",
      "Validation loss decreased. Saving model...\n",
      "Epoch 7/50\n",
      "------------------------------------------------------------------------------------------------------------------------\n"
     ]
    },
    {
     "name": "stderr",
     "output_type": "stream",
     "text": [
      "100%|████████████████████████████████████████████████████████████████████████████████| 408/408 [00:55<00:00,  7.36it/s]\n"
     ]
    },
    {
     "name": "stdout",
     "output_type": "stream",
     "text": [
      "train Loss: 1.0254 Style Acc: 0.5375\n",
      "            Genre Acc: 0.7038\n",
      "            Emotion Acc: 0.6472\n"
     ]
    },
    {
     "name": "stderr",
     "output_type": "stream",
     "text": [
      "100%|██████████████████████████████████████████████████████████████████████████████████| 51/51 [00:05<00:00,  9.06it/s]\n"
     ]
    },
    {
     "name": "stdout",
     "output_type": "stream",
     "text": [
      "val Loss: 1.0333 Style Acc: 0.5308\n",
      "            Genre Acc: 0.7036\n",
      "            Emotion Acc: 0.6498\n",
      "EarlyStopping counter: 1 out of 5\n",
      "Epoch 8/50\n",
      "------------------------------------------------------------------------------------------------------------------------\n"
     ]
    },
    {
     "name": "stderr",
     "output_type": "stream",
     "text": [
      "100%|████████████████████████████████████████████████████████████████████████████████| 408/408 [00:55<00:00,  7.33it/s]\n"
     ]
    },
    {
     "name": "stdout",
     "output_type": "stream",
     "text": [
      "train Loss: 1.0089 Style Acc: 0.5409\n",
      "            Genre Acc: 0.7113\n",
      "            Emotion Acc: 0.6497\n"
     ]
    },
    {
     "name": "stderr",
     "output_type": "stream",
     "text": [
      "100%|██████████████████████████████████████████████████████████████████████████████████| 51/51 [00:05<00:00,  9.29it/s]\n"
     ]
    },
    {
     "name": "stdout",
     "output_type": "stream",
     "text": [
      "val Loss: 1.0317 Style Acc: 0.5455\n",
      "            Genre Acc: 0.6967\n",
      "            Emotion Acc: 0.6438\n",
      "Epoch 00008: reducing learning rate of group 0 to 5.0000e-05.\n",
      "EarlyStopping counter: 2 out of 5\n",
      "Epoch 9/50\n",
      "------------------------------------------------------------------------------------------------------------------------\n"
     ]
    },
    {
     "name": "stderr",
     "output_type": "stream",
     "text": [
      "100%|████████████████████████████████████████████████████████████████████████████████| 408/408 [00:55<00:00,  7.35it/s]\n"
     ]
    },
    {
     "name": "stdout",
     "output_type": "stream",
     "text": [
      "train Loss: 0.9722 Style Acc: 0.5658\n",
      "            Genre Acc: 0.7211\n",
      "            Emotion Acc: 0.6544\n"
     ]
    },
    {
     "name": "stderr",
     "output_type": "stream",
     "text": [
      "100%|██████████████████████████████████████████████████████████████████████████████████| 51/51 [00:05<00:00,  9.14it/s]\n"
     ]
    },
    {
     "name": "stdout",
     "output_type": "stream",
     "text": [
      "val Loss: 0.9757 Style Acc: 0.5611\n",
      "            Genre Acc: 0.7201\n",
      "            Emotion Acc: 0.6524\n",
      "Validation loss decreased. Saving model...\n",
      "Epoch 10/50\n",
      "------------------------------------------------------------------------------------------------------------------------\n"
     ]
    },
    {
     "name": "stderr",
     "output_type": "stream",
     "text": [
      "100%|████████████████████████████████████████████████████████████████████████████████| 408/408 [00:55<00:00,  7.35it/s]\n"
     ]
    },
    {
     "name": "stdout",
     "output_type": "stream",
     "text": [
      "train Loss: 0.9595 Style Acc: 0.5736\n",
      "            Genre Acc: 0.7239\n",
      "            Emotion Acc: 0.6568\n"
     ]
    },
    {
     "name": "stderr",
     "output_type": "stream",
     "text": [
      "100%|██████████████████████████████████████████████████████████████████████████████████| 51/51 [00:05<00:00,  9.27it/s]\n"
     ]
    },
    {
     "name": "stdout",
     "output_type": "stream",
     "text": [
      "val Loss: 0.9764 Style Acc: 0.5711\n",
      "            Genre Acc: 0.7183\n",
      "            Emotion Acc: 0.6526\n",
      "EarlyStopping counter: 1 out of 5\n",
      "Epoch 11/50\n",
      "------------------------------------------------------------------------------------------------------------------------\n"
     ]
    },
    {
     "name": "stderr",
     "output_type": "stream",
     "text": [
      "100%|████████████████████████████████████████████████████████████████████████████████| 408/408 [00:55<00:00,  7.35it/s]\n"
     ]
    },
    {
     "name": "stdout",
     "output_type": "stream",
     "text": [
      "train Loss: 0.9519 Style Acc: 0.5766\n",
      "            Genre Acc: 0.7271\n",
      "            Emotion Acc: 0.6565\n"
     ]
    },
    {
     "name": "stderr",
     "output_type": "stream",
     "text": [
      "100%|██████████████████████████████████████████████████████████████████████████████████| 51/51 [00:05<00:00,  9.08it/s]\n"
     ]
    },
    {
     "name": "stdout",
     "output_type": "stream",
     "text": [
      "val Loss: 0.9647 Style Acc: 0.5748\n",
      "            Genre Acc: 0.7258\n",
      "            Emotion Acc: 0.6558\n",
      "Validation loss decreased. Saving model...\n",
      "Epoch 12/50\n",
      "------------------------------------------------------------------------------------------------------------------------\n"
     ]
    },
    {
     "name": "stderr",
     "output_type": "stream",
     "text": [
      "100%|████████████████████████████████████████████████████████████████████████████████| 408/408 [00:55<00:00,  7.34it/s]\n"
     ]
    },
    {
     "name": "stdout",
     "output_type": "stream",
     "text": [
      "train Loss: 0.9446 Style Acc: 0.5826\n",
      "            Genre Acc: 0.7294\n",
      "            Emotion Acc: 0.6559\n"
     ]
    },
    {
     "name": "stderr",
     "output_type": "stream",
     "text": [
      "100%|██████████████████████████████████████████████████████████████████████████████████| 51/51 [00:05<00:00,  9.30it/s]\n"
     ]
    },
    {
     "name": "stdout",
     "output_type": "stream",
     "text": [
      "val Loss: 0.9651 Style Acc: 0.5729\n",
      "            Genre Acc: 0.7247\n",
      "            Emotion Acc: 0.6538\n",
      "EarlyStopping counter: 1 out of 5\n",
      "Epoch 13/50\n",
      "------------------------------------------------------------------------------------------------------------------------\n"
     ]
    },
    {
     "name": "stderr",
     "output_type": "stream",
     "text": [
      "100%|████████████████████████████████████████████████████████████████████████████████| 408/408 [00:55<00:00,  7.35it/s]\n"
     ]
    },
    {
     "name": "stdout",
     "output_type": "stream",
     "text": [
      "train Loss: 0.9375 Style Acc: 0.5838\n",
      "            Genre Acc: 0.7301\n",
      "            Emotion Acc: 0.6575\n"
     ]
    },
    {
     "name": "stderr",
     "output_type": "stream",
     "text": [
      "100%|██████████████████████████████████████████████████████████████████████████████████| 51/51 [00:05<00:00,  8.73it/s]\n"
     ]
    },
    {
     "name": "stdout",
     "output_type": "stream",
     "text": [
      "val Loss: 0.9590 Style Acc: 0.5711\n",
      "            Genre Acc: 0.7218\n",
      "            Emotion Acc: 0.6546\n",
      "Validation loss decreased. Saving model...\n",
      "Epoch 14/50\n",
      "------------------------------------------------------------------------------------------------------------------------\n"
     ]
    },
    {
     "name": "stderr",
     "output_type": "stream",
     "text": [
      "100%|████████████████████████████████████████████████████████████████████████████████| 408/408 [00:55<00:00,  7.33it/s]\n"
     ]
    },
    {
     "name": "stdout",
     "output_type": "stream",
     "text": [
      "train Loss: 0.9289 Style Acc: 0.5908\n",
      "            Genre Acc: 0.7341\n",
      "            Emotion Acc: 0.6581\n"
     ]
    },
    {
     "name": "stderr",
     "output_type": "stream",
     "text": [
      "100%|██████████████████████████████████████████████████████████████████████████████████| 51/51 [00:05<00:00,  9.28it/s]\n"
     ]
    },
    {
     "name": "stdout",
     "output_type": "stream",
     "text": [
      "val Loss: 0.9535 Style Acc: 0.5771\n",
      "            Genre Acc: 0.7284\n",
      "            Emotion Acc: 0.6553\n",
      "Validation loss decreased. Saving model...\n",
      "Epoch 15/50\n",
      "------------------------------------------------------------------------------------------------------------------------\n"
     ]
    },
    {
     "name": "stderr",
     "output_type": "stream",
     "text": [
      "100%|████████████████████████████████████████████████████████████████████████████████| 408/408 [00:55<00:00,  7.34it/s]\n"
     ]
    },
    {
     "name": "stdout",
     "output_type": "stream",
     "text": [
      "train Loss: 0.9219 Style Acc: 0.5939\n",
      "            Genre Acc: 0.7336\n",
      "            Emotion Acc: 0.6591\n"
     ]
    },
    {
     "name": "stderr",
     "output_type": "stream",
     "text": [
      "100%|██████████████████████████████████████████████████████████████████████████████████| 51/51 [00:05<00:00,  8.87it/s]\n"
     ]
    },
    {
     "name": "stdout",
     "output_type": "stream",
     "text": [
      "val Loss: 0.9538 Style Acc: 0.5794\n",
      "            Genre Acc: 0.7250\n",
      "            Emotion Acc: 0.6562\n",
      "EarlyStopping counter: 1 out of 5\n",
      "Epoch 16/50\n",
      "------------------------------------------------------------------------------------------------------------------------\n"
     ]
    },
    {
     "name": "stderr",
     "output_type": "stream",
     "text": [
      "100%|████████████████████████████████████████████████████████████████████████████████| 408/408 [00:55<00:00,  7.33it/s]\n"
     ]
    },
    {
     "name": "stdout",
     "output_type": "stream",
     "text": [
      "train Loss: 0.9146 Style Acc: 0.5995\n",
      "            Genre Acc: 0.7378\n",
      "            Emotion Acc: 0.6599\n"
     ]
    },
    {
     "name": "stderr",
     "output_type": "stream",
     "text": [
      "100%|██████████████████████████████████████████████████████████████████████████████████| 51/51 [00:05<00:00,  9.22it/s]\n"
     ]
    },
    {
     "name": "stdout",
     "output_type": "stream",
     "text": [
      "val Loss: 0.9488 Style Acc: 0.5743\n",
      "            Genre Acc: 0.7299\n",
      "            Emotion Acc: 0.6541\n",
      "Validation loss decreased. Saving model...\n",
      "Epoch 17/50\n",
      "------------------------------------------------------------------------------------------------------------------------\n"
     ]
    },
    {
     "name": "stderr",
     "output_type": "stream",
     "text": [
      "100%|████████████████████████████████████████████████████████████████████████████████| 408/408 [00:55<00:00,  7.29it/s]\n"
     ]
    },
    {
     "name": "stdout",
     "output_type": "stream",
     "text": [
      "train Loss: 0.9065 Style Acc: 0.6021\n",
      "            Genre Acc: 0.7412\n",
      "            Emotion Acc: 0.6583\n"
     ]
    },
    {
     "name": "stderr",
     "output_type": "stream",
     "text": [
      "100%|██████████████████████████████████████████████████████████████████████████████████| 51/51 [00:05<00:00,  9.18it/s]\n"
     ]
    },
    {
     "name": "stdout",
     "output_type": "stream",
     "text": [
      "val Loss: 0.9489 Style Acc: 0.5769\n",
      "            Genre Acc: 0.7295\n",
      "            Emotion Acc: 0.6556\n",
      "EarlyStopping counter: 1 out of 5\n",
      "Epoch 18/50\n",
      "------------------------------------------------------------------------------------------------------------------------\n"
     ]
    },
    {
     "name": "stderr",
     "output_type": "stream",
     "text": [
      "100%|████████████████████████████████████████████████████████████████████████████████| 408/408 [00:55<00:00,  7.37it/s]\n"
     ]
    },
    {
     "name": "stdout",
     "output_type": "stream",
     "text": [
      "train Loss: 0.8997 Style Acc: 0.6073\n",
      "            Genre Acc: 0.7431\n",
      "            Emotion Acc: 0.6611\n"
     ]
    },
    {
     "name": "stderr",
     "output_type": "stream",
     "text": [
      "100%|██████████████████████████████████████████████████████████████████████████████████| 51/51 [00:05<00:00,  9.22it/s]\n"
     ]
    },
    {
     "name": "stdout",
     "output_type": "stream",
     "text": [
      "val Loss: 0.9390 Style Acc: 0.5892\n",
      "            Genre Acc: 0.7322\n",
      "            Emotion Acc: 0.6544\n",
      "Validation loss decreased. Saving model...\n",
      "Epoch 19/50\n",
      "------------------------------------------------------------------------------------------------------------------------\n"
     ]
    },
    {
     "name": "stderr",
     "output_type": "stream",
     "text": [
      "100%|████████████████████████████████████████████████████████████████████████████████| 408/408 [00:55<00:00,  7.32it/s]\n"
     ]
    },
    {
     "name": "stdout",
     "output_type": "stream",
     "text": [
      "train Loss: 0.8923 Style Acc: 0.6123\n",
      "            Genre Acc: 0.7447\n",
      "            Emotion Acc: 0.6608\n"
     ]
    },
    {
     "name": "stderr",
     "output_type": "stream",
     "text": [
      "100%|██████████████████████████████████████████████████████████████████████████████████| 51/51 [00:05<00:00,  9.07it/s]\n"
     ]
    },
    {
     "name": "stdout",
     "output_type": "stream",
     "text": [
      "val Loss: 0.9409 Style Acc: 0.5947\n",
      "            Genre Acc: 0.7315\n",
      "            Emotion Acc: 0.6552\n",
      "EarlyStopping counter: 1 out of 5\n",
      "Epoch 20/50\n",
      "------------------------------------------------------------------------------------------------------------------------\n"
     ]
    },
    {
     "name": "stderr",
     "output_type": "stream",
     "text": [
      "100%|████████████████████████████████████████████████████████████████████████████████| 408/408 [00:55<00:00,  7.39it/s]\n"
     ]
    },
    {
     "name": "stdout",
     "output_type": "stream",
     "text": [
      "train Loss: 0.8869 Style Acc: 0.6144\n",
      "            Genre Acc: 0.7476\n",
      "            Emotion Acc: 0.6624\n"
     ]
    },
    {
     "name": "stderr",
     "output_type": "stream",
     "text": [
      "100%|██████████████████████████████████████████████████████████████████████████████████| 51/51 [00:05<00:00,  9.26it/s]\n"
     ]
    },
    {
     "name": "stdout",
     "output_type": "stream",
     "text": [
      "val Loss: 0.9362 Style Acc: 0.5945\n",
      "            Genre Acc: 0.7312\n",
      "            Emotion Acc: 0.6578\n",
      "Validation loss decreased. Saving model...\n",
      "Epoch 21/50\n",
      "------------------------------------------------------------------------------------------------------------------------\n"
     ]
    },
    {
     "name": "stderr",
     "output_type": "stream",
     "text": [
      "100%|████████████████████████████████████████████████████████████████████████████████| 408/408 [00:55<00:00,  7.40it/s]\n"
     ]
    },
    {
     "name": "stdout",
     "output_type": "stream",
     "text": [
      "train Loss: 0.8776 Style Acc: 0.6210\n",
      "            Genre Acc: 0.7485\n",
      "            Emotion Acc: 0.6656\n"
     ]
    },
    {
     "name": "stderr",
     "output_type": "stream",
     "text": [
      "100%|██████████████████████████████████████████████████████████████████████████████████| 51/51 [00:05<00:00,  9.25it/s]\n"
     ]
    },
    {
     "name": "stdout",
     "output_type": "stream",
     "text": [
      "val Loss: 0.9315 Style Acc: 0.5980\n",
      "            Genre Acc: 0.7312\n",
      "            Emotion Acc: 0.6533\n",
      "Validation loss decreased. Saving model...\n",
      "Epoch 22/50\n",
      "------------------------------------------------------------------------------------------------------------------------\n"
     ]
    },
    {
     "name": "stderr",
     "output_type": "stream",
     "text": [
      "100%|████████████████████████████████████████████████████████████████████████████████| 408/408 [00:55<00:00,  7.39it/s]\n"
     ]
    },
    {
     "name": "stdout",
     "output_type": "stream",
     "text": [
      "train Loss: 0.8711 Style Acc: 0.6225\n",
      "            Genre Acc: 0.7511\n",
      "            Emotion Acc: 0.6633\n"
     ]
    },
    {
     "name": "stderr",
     "output_type": "stream",
     "text": [
      "100%|██████████████████████████████████████████████████████████████████████████████████| 51/51 [00:05<00:00,  9.26it/s]\n"
     ]
    },
    {
     "name": "stdout",
     "output_type": "stream",
     "text": [
      "val Loss: 0.9313 Style Acc: 0.5930\n",
      "            Genre Acc: 0.7328\n",
      "            Emotion Acc: 0.6561\n",
      "EarlyStopping counter: 1 out of 5\n",
      "Epoch 23/50\n",
      "------------------------------------------------------------------------------------------------------------------------\n"
     ]
    },
    {
     "name": "stderr",
     "output_type": "stream",
     "text": [
      "100%|████████████████████████████████████████████████████████████████████████████████| 408/408 [00:55<00:00,  7.40it/s]\n"
     ]
    },
    {
     "name": "stdout",
     "output_type": "stream",
     "text": [
      "train Loss: 0.8651 Style Acc: 0.6282\n",
      "            Genre Acc: 0.7535\n",
      "            Emotion Acc: 0.6632\n"
     ]
    },
    {
     "name": "stderr",
     "output_type": "stream",
     "text": [
      "100%|██████████████████████████████████████████████████████████████████████████████████| 51/51 [00:05<00:00,  9.26it/s]\n"
     ]
    },
    {
     "name": "stdout",
     "output_type": "stream",
     "text": [
      "val Loss: 0.9320 Style Acc: 0.5960\n",
      "            Genre Acc: 0.7302\n",
      "            Emotion Acc: 0.6566\n",
      "EarlyStopping counter: 2 out of 5\n",
      "Epoch 24/50\n",
      "------------------------------------------------------------------------------------------------------------------------\n"
     ]
    },
    {
     "name": "stderr",
     "output_type": "stream",
     "text": [
      "100%|████████████████████████████████████████████████████████████████████████████████| 408/408 [00:54<00:00,  7.42it/s]\n"
     ]
    },
    {
     "name": "stdout",
     "output_type": "stream",
     "text": [
      "train Loss: 0.8556 Style Acc: 0.6323\n",
      "            Genre Acc: 0.7552\n",
      "            Emotion Acc: 0.6644\n"
     ]
    },
    {
     "name": "stderr",
     "output_type": "stream",
     "text": [
      "100%|██████████████████████████████████████████████████████████████████████████████████| 51/51 [00:05<00:00,  9.29it/s]\n"
     ]
    },
    {
     "name": "stdout",
     "output_type": "stream",
     "text": [
      "val Loss: 0.9256 Style Acc: 0.5944\n",
      "            Genre Acc: 0.7324\n",
      "            Emotion Acc: 0.6572\n",
      "Validation loss decreased. Saving model...\n",
      "Epoch 25/50\n",
      "------------------------------------------------------------------------------------------------------------------------\n"
     ]
    },
    {
     "name": "stderr",
     "output_type": "stream",
     "text": [
      "100%|████████████████████████████████████████████████████████████████████████████████| 408/408 [00:54<00:00,  7.42it/s]\n"
     ]
    },
    {
     "name": "stdout",
     "output_type": "stream",
     "text": [
      "train Loss: 0.8495 Style Acc: 0.6375\n",
      "            Genre Acc: 0.7596\n",
      "            Emotion Acc: 0.6658\n"
     ]
    },
    {
     "name": "stderr",
     "output_type": "stream",
     "text": [
      "100%|██████████████████████████████████████████████████████████████████████████████████| 51/51 [00:05<00:00,  9.29it/s]\n"
     ]
    },
    {
     "name": "stdout",
     "output_type": "stream",
     "text": [
      "val Loss: 0.9217 Style Acc: 0.6002\n",
      "            Genre Acc: 0.7413\n",
      "            Emotion Acc: 0.6590\n",
      "Validation loss decreased. Saving model...\n",
      "Epoch 26/50\n",
      "------------------------------------------------------------------------------------------------------------------------\n"
     ]
    },
    {
     "name": "stderr",
     "output_type": "stream",
     "text": [
      "100%|████████████████████████████████████████████████████████████████████████████████| 408/408 [00:55<00:00,  7.39it/s]\n"
     ]
    },
    {
     "name": "stdout",
     "output_type": "stream",
     "text": [
      "train Loss: 0.8433 Style Acc: 0.6408\n",
      "            Genre Acc: 0.7597\n",
      "            Emotion Acc: 0.6656\n"
     ]
    },
    {
     "name": "stderr",
     "output_type": "stream",
     "text": [
      "100%|██████████████████████████████████████████████████████████████████████████████████| 51/51 [00:05<00:00,  9.28it/s]\n"
     ]
    },
    {
     "name": "stdout",
     "output_type": "stream",
     "text": [
      "val Loss: 0.9254 Style Acc: 0.6017\n",
      "            Genre Acc: 0.7359\n",
      "            Emotion Acc: 0.6584\n",
      "EarlyStopping counter: 1 out of 5\n",
      "Epoch 27/50\n",
      "------------------------------------------------------------------------------------------------------------------------\n"
     ]
    },
    {
     "name": "stderr",
     "output_type": "stream",
     "text": [
      "100%|████████████████████████████████████████████████████████████████████████████████| 408/408 [00:55<00:00,  7.40it/s]\n"
     ]
    },
    {
     "name": "stdout",
     "output_type": "stream",
     "text": [
      "train Loss: 0.8359 Style Acc: 0.6445\n",
      "            Genre Acc: 0.7633\n",
      "            Emotion Acc: 0.6660\n"
     ]
    },
    {
     "name": "stderr",
     "output_type": "stream",
     "text": [
      "100%|██████████████████████████████████████████████████████████████████████████████████| 51/51 [00:05<00:00,  9.25it/s]\n"
     ]
    },
    {
     "name": "stdout",
     "output_type": "stream",
     "text": [
      "val Loss: 0.9147 Style Acc: 0.6008\n",
      "            Genre Acc: 0.7408\n",
      "            Emotion Acc: 0.6558\n",
      "Validation loss decreased. Saving model...\n",
      "Epoch 28/50\n",
      "------------------------------------------------------------------------------------------------------------------------\n"
     ]
    },
    {
     "name": "stderr",
     "output_type": "stream",
     "text": [
      "100%|████████████████████████████████████████████████████████████████████████████████| 408/408 [00:55<00:00,  7.41it/s]\n"
     ]
    },
    {
     "name": "stdout",
     "output_type": "stream",
     "text": [
      "train Loss: 0.8283 Style Acc: 0.6470\n",
      "            Genre Acc: 0.7660\n",
      "            Emotion Acc: 0.6682\n"
     ]
    },
    {
     "name": "stderr",
     "output_type": "stream",
     "text": [
      "100%|██████████████████████████████████████████████████████████████████████████████████| 51/51 [00:05<00:00,  9.27it/s]\n"
     ]
    },
    {
     "name": "stdout",
     "output_type": "stream",
     "text": [
      "val Loss: 0.9233 Style Acc: 0.6054\n",
      "            Genre Acc: 0.7351\n",
      "            Emotion Acc: 0.6578\n",
      "EarlyStopping counter: 1 out of 5\n",
      "Epoch 29/50\n",
      "------------------------------------------------------------------------------------------------------------------------\n"
     ]
    },
    {
     "name": "stderr",
     "output_type": "stream",
     "text": [
      "100%|████████████████████████████████████████████████████████████████████████████████| 408/408 [00:55<00:00,  7.39it/s]\n"
     ]
    },
    {
     "name": "stdout",
     "output_type": "stream",
     "text": [
      "train Loss: 0.8224 Style Acc: 0.6518\n",
      "            Genre Acc: 0.7661\n",
      "            Emotion Acc: 0.6679\n"
     ]
    },
    {
     "name": "stderr",
     "output_type": "stream",
     "text": [
      "100%|██████████████████████████████████████████████████████████████████████████████████| 51/51 [00:05<00:00,  9.26it/s]\n"
     ]
    },
    {
     "name": "stdout",
     "output_type": "stream",
     "text": [
      "val Loss: 0.9118 Style Acc: 0.6060\n",
      "            Genre Acc: 0.7385\n",
      "            Emotion Acc: 0.6584\n",
      "Validation loss decreased. Saving model...\n",
      "Epoch 30/50\n",
      "------------------------------------------------------------------------------------------------------------------------\n"
     ]
    },
    {
     "name": "stderr",
     "output_type": "stream",
     "text": [
      "100%|████████████████████████████████████████████████████████████████████████████████| 408/408 [00:55<00:00,  7.39it/s]\n"
     ]
    },
    {
     "name": "stdout",
     "output_type": "stream",
     "text": [
      "train Loss: 0.8138 Style Acc: 0.6546\n",
      "            Genre Acc: 0.7710\n",
      "            Emotion Acc: 0.6693\n"
     ]
    },
    {
     "name": "stderr",
     "output_type": "stream",
     "text": [
      "100%|██████████████████████████████████████████████████████████████████████████████████| 51/51 [00:05<00:00,  9.18it/s]\n"
     ]
    },
    {
     "name": "stdout",
     "output_type": "stream",
     "text": [
      "val Loss: 0.9088 Style Acc: 0.6083\n",
      "            Genre Acc: 0.7377\n",
      "            Emotion Acc: 0.6584\n",
      "Validation loss decreased. Saving model...\n",
      "Epoch 31/50\n",
      "------------------------------------------------------------------------------------------------------------------------\n"
     ]
    },
    {
     "name": "stderr",
     "output_type": "stream",
     "text": [
      "100%|████████████████████████████████████████████████████████████████████████████████| 408/408 [00:55<00:00,  7.41it/s]\n"
     ]
    },
    {
     "name": "stdout",
     "output_type": "stream",
     "text": [
      "train Loss: 0.8067 Style Acc: 0.6618\n",
      "            Genre Acc: 0.7731\n",
      "            Emotion Acc: 0.6690\n"
     ]
    },
    {
     "name": "stderr",
     "output_type": "stream",
     "text": [
      "100%|██████████████████████████████████████████████████████████████████████████████████| 51/51 [00:05<00:00,  9.26it/s]\n"
     ]
    },
    {
     "name": "stdout",
     "output_type": "stream",
     "text": [
      "val Loss: 0.9110 Style Acc: 0.6080\n",
      "            Genre Acc: 0.7407\n",
      "            Emotion Acc: 0.6559\n",
      "EarlyStopping counter: 1 out of 5\n",
      "Epoch 32/50\n",
      "------------------------------------------------------------------------------------------------------------------------\n"
     ]
    },
    {
     "name": "stderr",
     "output_type": "stream",
     "text": [
      "100%|████████████████████████████████████████████████████████████████████████████████| 408/408 [00:55<00:00,  7.40it/s]\n"
     ]
    },
    {
     "name": "stdout",
     "output_type": "stream",
     "text": [
      "train Loss: 0.7983 Style Acc: 0.6641\n",
      "            Genre Acc: 0.7751\n",
      "            Emotion Acc: 0.6698\n"
     ]
    },
    {
     "name": "stderr",
     "output_type": "stream",
     "text": [
      "100%|██████████████████████████████████████████████████████████████████████████████████| 51/51 [00:05<00:00,  9.25it/s]\n"
     ]
    },
    {
     "name": "stdout",
     "output_type": "stream",
     "text": [
      "val Loss: 0.9116 Style Acc: 0.6080\n",
      "            Genre Acc: 0.7377\n",
      "            Emotion Acc: 0.6572\n",
      "Epoch 00032: reducing learning rate of group 0 to 2.5000e-05.\n",
      "EarlyStopping counter: 2 out of 5\n",
      "Epoch 33/50\n",
      "------------------------------------------------------------------------------------------------------------------------\n"
     ]
    },
    {
     "name": "stderr",
     "output_type": "stream",
     "text": [
      "100%|████████████████████████████████████████████████████████████████████████████████| 408/408 [00:55<00:00,  7.41it/s]\n"
     ]
    },
    {
     "name": "stdout",
     "output_type": "stream",
     "text": [
      "train Loss: 0.7770 Style Acc: 0.6767\n",
      "            Genre Acc: 0.7822\n",
      "            Emotion Acc: 0.6721\n"
     ]
    },
    {
     "name": "stderr",
     "output_type": "stream",
     "text": [
      "100%|██████████████████████████████████████████████████████████████████████████████████| 51/51 [00:05<00:00,  9.20it/s]\n"
     ]
    },
    {
     "name": "stdout",
     "output_type": "stream",
     "text": [
      "val Loss: 0.9019 Style Acc: 0.6170\n",
      "            Genre Acc: 0.7411\n",
      "            Emotion Acc: 0.6598\n",
      "Validation loss decreased. Saving model...\n",
      "Epoch 34/50\n",
      "------------------------------------------------------------------------------------------------------------------------\n"
     ]
    },
    {
     "name": "stderr",
     "output_type": "stream",
     "text": [
      "100%|████████████████████████████████████████████████████████████████████████████████| 408/408 [00:55<00:00,  7.40it/s]\n"
     ]
    },
    {
     "name": "stdout",
     "output_type": "stream",
     "text": [
      "train Loss: 0.7695 Style Acc: 0.6818\n",
      "            Genre Acc: 0.7831\n",
      "            Emotion Acc: 0.6734\n"
     ]
    },
    {
     "name": "stderr",
     "output_type": "stream",
     "text": [
      "100%|██████████████████████████████████████████████████████████████████████████████████| 51/51 [00:05<00:00,  9.27it/s]\n"
     ]
    },
    {
     "name": "stdout",
     "output_type": "stream",
     "text": [
      "val Loss: 0.8988 Style Acc: 0.6193\n",
      "            Genre Acc: 0.7437\n",
      "            Emotion Acc: 0.6579\n",
      "Validation loss decreased. Saving model...\n",
      "Epoch 35/50\n",
      "------------------------------------------------------------------------------------------------------------------------\n"
     ]
    },
    {
     "name": "stderr",
     "output_type": "stream",
     "text": [
      "100%|████████████████████████████████████████████████████████████████████████████████| 408/408 [00:55<00:00,  7.38it/s]\n"
     ]
    },
    {
     "name": "stdout",
     "output_type": "stream",
     "text": [
      "train Loss: 0.7650 Style Acc: 0.6844\n",
      "            Genre Acc: 0.7861\n",
      "            Emotion Acc: 0.6740\n"
     ]
    },
    {
     "name": "stderr",
     "output_type": "stream",
     "text": [
      "100%|██████████████████████████████████████████████████████████████████████████████████| 51/51 [00:05<00:00,  9.22it/s]\n"
     ]
    },
    {
     "name": "stdout",
     "output_type": "stream",
     "text": [
      "val Loss: 0.8995 Style Acc: 0.6189\n",
      "            Genre Acc: 0.7433\n",
      "            Emotion Acc: 0.6556\n",
      "EarlyStopping counter: 1 out of 5\n",
      "Epoch 36/50\n",
      "------------------------------------------------------------------------------------------------------------------------\n"
     ]
    },
    {
     "name": "stderr",
     "output_type": "stream",
     "text": [
      "100%|████████████████████████████████████████████████████████████████████████████████| 408/408 [00:55<00:00,  7.37it/s]\n"
     ]
    },
    {
     "name": "stdout",
     "output_type": "stream",
     "text": [
      "train Loss: 0.7594 Style Acc: 0.6894\n",
      "            Genre Acc: 0.7884\n",
      "            Emotion Acc: 0.6732\n"
     ]
    },
    {
     "name": "stderr",
     "output_type": "stream",
     "text": [
      "100%|██████████████████████████████████████████████████████████████████████████████████| 51/51 [00:05<00:00,  9.18it/s]\n"
     ]
    },
    {
     "name": "stdout",
     "output_type": "stream",
     "text": [
      "val Loss: 0.9007 Style Acc: 0.6175\n",
      "            Genre Acc: 0.7443\n",
      "            Emotion Acc: 0.6599\n",
      "Epoch 00036: reducing learning rate of group 0 to 1.2500e-05.\n",
      "EarlyStopping counter: 2 out of 5\n",
      "Epoch 37/50\n",
      "------------------------------------------------------------------------------------------------------------------------\n"
     ]
    },
    {
     "name": "stderr",
     "output_type": "stream",
     "text": [
      "100%|████████████████████████████████████████████████████████████████████████████████| 408/408 [00:56<00:00,  7.27it/s]\n"
     ]
    },
    {
     "name": "stdout",
     "output_type": "stream",
     "text": [
      "train Loss: 0.7446 Style Acc: 0.6965\n",
      "            Genre Acc: 0.7938\n",
      "            Emotion Acc: 0.6759\n"
     ]
    },
    {
     "name": "stderr",
     "output_type": "stream",
     "text": [
      "100%|██████████████████████████████████████████████████████████████████████████████████| 51/51 [00:05<00:00,  9.22it/s]\n"
     ]
    },
    {
     "name": "stdout",
     "output_type": "stream",
     "text": [
      "val Loss: 0.8960 Style Acc: 0.6207\n",
      "            Genre Acc: 0.7433\n",
      "            Emotion Acc: 0.6584\n",
      "Validation loss decreased. Saving model...\n",
      "Epoch 38/50\n",
      "------------------------------------------------------------------------------------------------------------------------\n"
     ]
    },
    {
     "name": "stderr",
     "output_type": "stream",
     "text": [
      "100%|████████████████████████████████████████████████████████████████████████████████| 408/408 [00:55<00:00,  7.41it/s]\n"
     ]
    },
    {
     "name": "stdout",
     "output_type": "stream",
     "text": [
      "train Loss: 0.7395 Style Acc: 0.6969\n",
      "            Genre Acc: 0.7965\n",
      "            Emotion Acc: 0.6759\n"
     ]
    },
    {
     "name": "stderr",
     "output_type": "stream",
     "text": [
      "100%|██████████████████████████████████████████████████████████████████████████████████| 51/51 [00:05<00:00,  9.29it/s]\n"
     ]
    },
    {
     "name": "stdout",
     "output_type": "stream",
     "text": [
      "val Loss: 0.8955 Style Acc: 0.6207\n",
      "            Genre Acc: 0.7425\n",
      "            Emotion Acc: 0.6598\n",
      "EarlyStopping counter: 1 out of 5\n",
      "Epoch 39/50\n",
      "------------------------------------------------------------------------------------------------------------------------\n"
     ]
    },
    {
     "name": "stderr",
     "output_type": "stream",
     "text": [
      "100%|████████████████████████████████████████████████████████████████████████████████| 408/408 [00:56<00:00,  7.24it/s]\n"
     ]
    },
    {
     "name": "stdout",
     "output_type": "stream",
     "text": [
      "train Loss: 0.7392 Style Acc: 0.7006\n",
      "            Genre Acc: 0.7951\n",
      "            Emotion Acc: 0.6768\n"
     ]
    },
    {
     "name": "stderr",
     "output_type": "stream",
     "text": [
      "100%|██████████████████████████████████████████████████████████████████████████████████| 51/51 [00:05<00:00,  9.35it/s]\n"
     ]
    },
    {
     "name": "stdout",
     "output_type": "stream",
     "text": [
      "val Loss: 0.8951 Style Acc: 0.6216\n",
      "            Genre Acc: 0.7454\n",
      "            Emotion Acc: 0.6579\n",
      "EarlyStopping counter: 2 out of 5\n",
      "Epoch 40/50\n",
      "------------------------------------------------------------------------------------------------------------------------\n"
     ]
    },
    {
     "name": "stderr",
     "output_type": "stream",
     "text": [
      "100%|████████████████████████████████████████████████████████████████████████████████| 408/408 [00:54<00:00,  7.45it/s]\n"
     ]
    },
    {
     "name": "stdout",
     "output_type": "stream",
     "text": [
      "train Loss: 0.7336 Style Acc: 0.7018\n",
      "            Genre Acc: 0.7988\n",
      "            Emotion Acc: 0.6787\n"
     ]
    },
    {
     "name": "stderr",
     "output_type": "stream",
     "text": [
      "100%|██████████████████████████████████████████████████████████████████████████████████| 51/51 [00:05<00:00,  9.34it/s]\n"
     ]
    },
    {
     "name": "stdout",
     "output_type": "stream",
     "text": [
      "val Loss: 0.8949 Style Acc: 0.6232\n",
      "            Genre Acc: 0.7428\n",
      "            Emotion Acc: 0.6607\n",
      "Validation loss decreased. Saving model...\n",
      "Epoch 41/50\n",
      "------------------------------------------------------------------------------------------------------------------------\n"
     ]
    },
    {
     "name": "stderr",
     "output_type": "stream",
     "text": [
      "100%|████████████████████████████████████████████████████████████████████████████████| 408/408 [00:55<00:00,  7.30it/s]\n"
     ]
    },
    {
     "name": "stdout",
     "output_type": "stream",
     "text": [
      "train Loss: 0.7329 Style Acc: 0.7012\n",
      "            Genre Acc: 0.7982\n",
      "            Emotion Acc: 0.6764\n"
     ]
    },
    {
     "name": "stderr",
     "output_type": "stream",
     "text": [
      "100%|██████████████████████████████████████████████████████████████████████████████████| 51/51 [00:05<00:00,  9.23it/s]\n"
     ]
    },
    {
     "name": "stdout",
     "output_type": "stream",
     "text": [
      "val Loss: 0.8958 Style Acc: 0.6198\n",
      "            Genre Acc: 0.7439\n",
      "            Emotion Acc: 0.6582\n",
      "EarlyStopping counter: 1 out of 5\n",
      "Epoch 42/50\n",
      "------------------------------------------------------------------------------------------------------------------------\n"
     ]
    },
    {
     "name": "stderr",
     "output_type": "stream",
     "text": [
      "100%|████████████████████████████████████████████████████████████████████████████████| 408/408 [00:54<00:00,  7.45it/s]\n"
     ]
    },
    {
     "name": "stdout",
     "output_type": "stream",
     "text": [
      "train Loss: 0.7286 Style Acc: 0.7048\n",
      "            Genre Acc: 0.7988\n",
      "            Emotion Acc: 0.6790\n"
     ]
    },
    {
     "name": "stderr",
     "output_type": "stream",
     "text": [
      "100%|██████████████████████████████████████████████████████████████████████████████████| 51/51 [00:05<00:00,  9.34it/s]\n"
     ]
    },
    {
     "name": "stdout",
     "output_type": "stream",
     "text": [
      "val Loss: 0.8941 Style Acc: 0.6238\n",
      "            Genre Acc: 0.7439\n",
      "            Emotion Acc: 0.6572\n",
      "EarlyStopping counter: 2 out of 5\n",
      "Epoch 43/50\n",
      "------------------------------------------------------------------------------------------------------------------------\n"
     ]
    },
    {
     "name": "stderr",
     "output_type": "stream",
     "text": [
      "100%|████████████████████████████████████████████████████████████████████████████████| 408/408 [00:55<00:00,  7.31it/s]\n"
     ]
    },
    {
     "name": "stdout",
     "output_type": "stream",
     "text": [
      "train Loss: 0.7268 Style Acc: 0.7050\n",
      "            Genre Acc: 0.7996\n",
      "            Emotion Acc: 0.6780\n"
     ]
    },
    {
     "name": "stderr",
     "output_type": "stream",
     "text": [
      "100%|██████████████████████████████████████████████████████████████████████████████████| 51/51 [00:05<00:00,  9.28it/s]\n"
     ]
    },
    {
     "name": "stdout",
     "output_type": "stream",
     "text": [
      "val Loss: 0.8962 Style Acc: 0.6221\n",
      "            Genre Acc: 0.7417\n",
      "            Emotion Acc: 0.6556\n",
      "EarlyStopping counter: 3 out of 5\n",
      "Epoch 44/50\n",
      "------------------------------------------------------------------------------------------------------------------------\n"
     ]
    },
    {
     "name": "stderr",
     "output_type": "stream",
     "text": [
      "100%|████████████████████████████████████████████████████████████████████████████████| 408/408 [00:54<00:00,  7.44it/s]\n"
     ]
    },
    {
     "name": "stdout",
     "output_type": "stream",
     "text": [
      "train Loss: 0.7231 Style Acc: 0.7078\n",
      "            Genre Acc: 0.8002\n",
      "            Emotion Acc: 0.6804\n"
     ]
    },
    {
     "name": "stderr",
     "output_type": "stream",
     "text": [
      "100%|██████████████████████████████████████████████████████████████████████████████████| 51/51 [00:05<00:00,  9.28it/s]\n"
     ]
    },
    {
     "name": "stdout",
     "output_type": "stream",
     "text": [
      "val Loss: 0.8975 Style Acc: 0.6242\n",
      "            Genre Acc: 0.7408\n",
      "            Emotion Acc: 0.6582\n",
      "Epoch 00044: reducing learning rate of group 0 to 6.2500e-06.\n",
      "EarlyStopping counter: 4 out of 5\n",
      "Epoch 45/50\n",
      "------------------------------------------------------------------------------------------------------------------------\n"
     ]
    },
    {
     "name": "stderr",
     "output_type": "stream",
     "text": [
      "100%|████████████████████████████████████████████████████████████████████████████████| 408/408 [00:56<00:00,  7.24it/s]\n"
     ]
    },
    {
     "name": "stdout",
     "output_type": "stream",
     "text": [
      "train Loss: 0.7184 Style Acc: 0.7106\n",
      "            Genre Acc: 0.8017\n",
      "            Emotion Acc: 0.6780\n"
     ]
    },
    {
     "name": "stderr",
     "output_type": "stream",
     "text": [
      "100%|██████████████████████████████████████████████████████████████████████████████████| 51/51 [00:05<00:00,  9.24it/s]"
     ]
    },
    {
     "name": "stdout",
     "output_type": "stream",
     "text": [
      "val Loss: 0.8939 Style Acc: 0.6236\n",
      "            Genre Acc: 0.7449\n",
      "            Emotion Acc: 0.6595\n",
      "EarlyStopping counter: 5 out of 5\n",
      "Best epoch: 0045\n",
      "Best loss: 0.8939\n"
     ]
    },
    {
     "name": "stderr",
     "output_type": "stream",
     "text": [
      "\n"
     ]
    }
   ],
   "source": [
    "batch_size = 128\n",
    "num_epochs = 50\n",
    "criterions = list(nn.CrossEntropyLoss() for _ in range(3))\n",
    "optimizer = optim.Adam(model.parameters(), lr=1e-4)\n",
    "early_stop= EarlyStopping(patience = 5, min_delta = 1e-3, checkpoint_path = 'best_multitask_model_ternary.pt')\n",
    "train_loader = DataLoader(train_dataset, batch_size = batch_size, shuffle = True, drop_last = False)\n",
    "val_loader = DataLoader(val_dataset, batch_size = batch_size, shuffle = True, drop_last = False)\n",
    "scheduler = lr_scheduler.ReduceLROnPlateau(optimizer, 'min', min_lr = 1e-7, verbose = True, factor = .5, patience = 1,\n",
    "                                               threshold = 1e-4)\n",
    "fine_tune(model, train, train_loader, val_loader, criterions, optimizer, early_stop, scheduler, num_epochs)"
   ]
  },
  {
   "cell_type": "code",
   "execution_count": 25,
   "id": "85fec95e",
   "metadata": {},
   "outputs": [
    {
     "name": "stderr",
     "output_type": "stream",
     "text": [
      "100%|██████████████████████████████████████████████████████████████████████████████████| 51/51 [00:05<00:00,  9.67it/s]\n"
     ]
    },
    {
     "data": {
      "image/png": "[encoded data removed]",
      "text/plain": [
       "<Figure size 864x864 with 2 Axes>"
      ]
     },
     "metadata": {},
     "output_type": "display_data"
    },
    {
     "data": {
      "image/png": "[encoded data removed]",
      "text/plain": [
       "<Figure size 864x864 with 2 Axes>"
      ]
     },
     "metadata": {},
     "output_type": "display_data"
    },
    {
     "data": {
      "image/png": "[encoded data removed]",
      "text/plain": [
       "<Figure size 864x864 with 2 Axes>"
      ]
     },
     "metadata": {},
     "output_type": "display_data"
    }
   ],
   "source": [
    "model = torch.load('best_multitask_model_ternary.pt').to('cuda:0')\n",
    "map_hop={'style':5,\n",
    "        'genre':3,\n",
    "        'emotion':2}\n",
    "results_df = pd.DataFrame(columns = ['Top1', 'Top2', 'Macro-F1'], index = ('style', 'genre', 'emotion'))\n",
    "with torch.no_grad():\n",
    "    pred, lab = test_func(model, test_loader, train)\n",
    "for task in ('style', 'genre', 'emotion'):\n",
    "    results_df['Top1'].loc[task] = compute_topk(lab[task], pred[task], k=1)\n",
    "    results_df['Top2'].loc[task] = compute_topk(lab[task], pred[task], k=2)\n",
    "    pred_lab = torch.max(torch.Tensor(pred[task]), 1)[1]\n",
    "    results_df['Macro-F1'].loc[task] = f1_score(lab[task], pred_lab, average = 'macro')\n",
    "    if task == 'emotion':\n",
    "        labels = ['positive', 'negative', 'emotion']\n",
    "    else:\n",
    "        labels = pd.read_csv(f'{root}/mapping/{task}_entidx2name.csv', names = ['idx','name'])['name'].tolist()\n",
    "    plot_confusion_matrix(lab[task], pred_lab, hop = map_hop[task], labels = labels)"
   ]
  },
  {
   "cell_type": "code",
   "execution_count": 26,
   "id": "d9ddba13",
   "metadata": {},
   "outputs": [
    {
     "data": {
      "text/html": [
       "<div>\n",
       "<style scoped>\n",
       "    .dataframe tbody tr th:only-of-type {\n",
       "        vertical-align: middle;\n",
       "    }\n",
       "\n",
       "    .dataframe tbody tr th {\n",
       "        vertical-align: top;\n",
       "    }\n",
       "\n",
       "    .dataframe thead th {\n",
       "        text-align: right;\n",
       "    }\n",
       "</style>\n",
       "<table border=\"1\" class=\"dataframe\">\n",
       "  <thead>\n",
       "    <tr style=\"text-align: right;\">\n",
       "      <th></th>\n",
       "      <th>Top1</th>\n",
       "      <th>Top2</th>\n",
       "      <th>Macro-F1</th>\n",
       "    </tr>\n",
       "  </thead>\n",
       "  <tbody>\n",
       "    <tr>\n",
       "      <th>style</th>\n",
       "      <td>0.630805</td>\n",
       "      <td>0.803678</td>\n",
       "      <td>0.470148</td>\n",
       "    </tr>\n",
       "    <tr>\n",
       "      <th>genre</th>\n",
       "      <td>0.753103</td>\n",
       "      <td>0.88567</td>\n",
       "      <td>0.633575</td>\n",
       "    </tr>\n",
       "    <tr>\n",
       "      <th>emotion</th>\n",
       "      <td>0.665747</td>\n",
       "      <td>0.881226</td>\n",
       "      <td>0.504197</td>\n",
       "    </tr>\n",
       "  </tbody>\n",
       "</table>\n",
       "</div>"
      ],
      "text/plain": [
       "             Top1      Top2  Macro-F1\n",
       "style    0.630805  0.803678  0.470148\n",
       "genre    0.753103   0.88567  0.633575\n",
       "emotion  0.665747  0.881226  0.504197"
      ]
     },
     "execution_count": 26,
     "metadata": {},
     "output_type": "execute_result"
    }
   ],
   "source": [
    "results_df"
   ]
  },
  {
   "cell_type": "code",
   "execution_count": 27,
   "id": "809487b2",
   "metadata": {},
   "outputs": [],
   "source": [
    "results_df.to_csv('resuls_multi_task_ternary_scratch.csv')"
   ]
  }
 ],
 "metadata": {
  "kernelspec": {
   "display_name": "Python [conda env:tesi]",
   "language": "python",
   "name": "conda-env-tesi-py"
  },
  "language_info": {
   "codemirror_mode": {
    "name": "ipython",
    "version": 3
   },
   "file_extension": ".py",
   "mimetype": "text/x-python",
   "name": "python",
   "nbconvert_exporter": "python",
   "pygments_lexer": "ipython3",
   "version": "3.9.7"
  }
 },
 "nbformat": 4,
 "nbformat_minor": 5
}
